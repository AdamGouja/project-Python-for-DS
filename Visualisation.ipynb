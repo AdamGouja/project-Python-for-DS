{
 "cells": [
  {
   "cell_type": "code",
   "execution_count": 222,
   "metadata": {},
   "outputs": [],
   "source": [
    "import pandas as pd\n",
    "import geopy\n",
    "from geopy.geocoders import Nominatim"
   ]
  },
  {
   "cell_type": "code",
   "execution_count": 223,
   "metadata": {},
   "outputs": [
    {
     "data": {
      "text/html": [
       "<div>\n",
       "<style scoped>\n",
       "    .dataframe tbody tr th:only-of-type {\n",
       "        vertical-align: middle;\n",
       "    }\n",
       "\n",
       "    .dataframe tbody tr th {\n",
       "        vertical-align: top;\n",
       "    }\n",
       "\n",
       "    .dataframe thead th {\n",
       "        text-align: right;\n",
       "    }\n",
       "</style>\n",
       "<table border=\"1\" class=\"dataframe\">\n",
       "  <thead>\n",
       "    <tr style=\"text-align: right;\">\n",
       "      <th></th>\n",
       "      <th>League</th>\n",
       "      <th>Year</th>\n",
       "      <th>Season</th>\n",
       "      <th>Type</th>\n",
       "      <th>blueTeamTag</th>\n",
       "      <th>bResult</th>\n",
       "      <th>rResult</th>\n",
       "      <th>redTeamTag</th>\n",
       "      <th>gamelength</th>\n",
       "      <th>golddiff</th>\n",
       "      <th>...</th>\n",
       "      <th>redMiddleChamp</th>\n",
       "      <th>goldredMiddle</th>\n",
       "      <th>redADC</th>\n",
       "      <th>redADCChamp</th>\n",
       "      <th>goldredADC</th>\n",
       "      <th>redSupport</th>\n",
       "      <th>redSupportChamp</th>\n",
       "      <th>goldredSupport</th>\n",
       "      <th>redBans</th>\n",
       "      <th>Address</th>\n",
       "    </tr>\n",
       "  </thead>\n",
       "  <tbody>\n",
       "    <tr>\n",
       "      <td>0</td>\n",
       "      <td>NALCS</td>\n",
       "      <td>2015</td>\n",
       "      <td>Spring</td>\n",
       "      <td>Season</td>\n",
       "      <td>TSM</td>\n",
       "      <td>1</td>\n",
       "      <td>0</td>\n",
       "      <td>C9</td>\n",
       "      <td>40</td>\n",
       "      <td>[0, 0, -14, -65, -268, -431, -488, -789, -494,...</td>\n",
       "      <td>...</td>\n",
       "      <td>Fizz</td>\n",
       "      <td>[475, 475, 552, 842, 1178, 1378, 1635, 1949, 2...</td>\n",
       "      <td>Sneaky</td>\n",
       "      <td>Sivir</td>\n",
       "      <td>[475, 475, 532, 762, 1097, 1469, 1726, 2112, 2...</td>\n",
       "      <td>LemonNation</td>\n",
       "      <td>Thresh</td>\n",
       "      <td>[515, 515, 577, 722, 911, 1042, 1194, 1370, 14...</td>\n",
       "      <td>['Tristana', 'Leblanc', 'Nidalee']</td>\n",
       "      <td>http://matchhistory.na.leagueoflegends.com/en/...</td>\n",
       "    </tr>\n",
       "    <tr>\n",
       "      <td>1</td>\n",
       "      <td>NALCS</td>\n",
       "      <td>2015</td>\n",
       "      <td>Spring</td>\n",
       "      <td>Season</td>\n",
       "      <td>CST</td>\n",
       "      <td>0</td>\n",
       "      <td>1</td>\n",
       "      <td>DIG</td>\n",
       "      <td>38</td>\n",
       "      <td>[0, 0, -26, -18, 147, 237, -152, 18, 88, -242,...</td>\n",
       "      <td>...</td>\n",
       "      <td>Azir</td>\n",
       "      <td>[475, 475, 552, 786, 1097, 1389, 1660, 1955, 2...</td>\n",
       "      <td>CoreJJ</td>\n",
       "      <td>Corki</td>\n",
       "      <td>[475, 475, 532, 868, 1220, 1445, 1732, 1979, 2...</td>\n",
       "      <td>KiWiKiD</td>\n",
       "      <td>Annie</td>\n",
       "      <td>[515, 515, 583, 752, 900, 1066, 1236, 1417, 15...</td>\n",
       "      <td>['RekSai', 'Janna', 'Leblanc']</td>\n",
       "      <td>http://matchhistory.na.leagueoflegends.com/en/...</td>\n",
       "    </tr>\n",
       "    <tr>\n",
       "      <td>2</td>\n",
       "      <td>NALCS</td>\n",
       "      <td>2015</td>\n",
       "      <td>Spring</td>\n",
       "      <td>Season</td>\n",
       "      <td>WFX</td>\n",
       "      <td>1</td>\n",
       "      <td>0</td>\n",
       "      <td>GV</td>\n",
       "      <td>40</td>\n",
       "      <td>[0, 0, 10, -60, 34, 37, 589, 1064, 1258, 913, ...</td>\n",
       "      <td>...</td>\n",
       "      <td>Azir</td>\n",
       "      <td>[475, 475, 533, 801, 1006, 1233, 1385, 1720, 1...</td>\n",
       "      <td>Cop</td>\n",
       "      <td>Corki</td>\n",
       "      <td>[475, 475, 533, 781, 1085, 1398, 1782, 1957, 2...</td>\n",
       "      <td>BunnyFuFuu</td>\n",
       "      <td>Janna</td>\n",
       "      <td>[515, 515, 584, 721, 858, 1002, 1168, 1303, 14...</td>\n",
       "      <td>['Leblanc', 'Zed', 'RekSai']</td>\n",
       "      <td>http://matchhistory.na.leagueoflegends.com/en/...</td>\n",
       "    </tr>\n",
       "    <tr>\n",
       "      <td>3</td>\n",
       "      <td>NALCS</td>\n",
       "      <td>2015</td>\n",
       "      <td>Spring</td>\n",
       "      <td>Season</td>\n",
       "      <td>TIP</td>\n",
       "      <td>0</td>\n",
       "      <td>1</td>\n",
       "      <td>TL</td>\n",
       "      <td>41</td>\n",
       "      <td>[0, 0, -15, 25, 228, -6, -243, 175, -346, 16, ...</td>\n",
       "      <td>...</td>\n",
       "      <td>Lulu</td>\n",
       "      <td>[475, 475, 532, 771, 1046, 1288, 1534, 1776, 2...</td>\n",
       "      <td>KEITH</td>\n",
       "      <td>KogMaw</td>\n",
       "      <td>[475, 475, 532, 766, 1161, 1438, 1776, 1936, 2...</td>\n",
       "      <td>Xpecial</td>\n",
       "      <td>Janna</td>\n",
       "      <td>[515, 515, 583, 721, 870, 1059, 1205, 1342, 15...</td>\n",
       "      <td>['RekSai', 'Rumble', 'LeeSin']</td>\n",
       "      <td>http://matchhistory.na.leagueoflegends.com/en/...</td>\n",
       "    </tr>\n",
       "    <tr>\n",
       "      <td>4</td>\n",
       "      <td>NALCS</td>\n",
       "      <td>2015</td>\n",
       "      <td>Spring</td>\n",
       "      <td>Season</td>\n",
       "      <td>CLG</td>\n",
       "      <td>1</td>\n",
       "      <td>0</td>\n",
       "      <td>T8</td>\n",
       "      <td>35</td>\n",
       "      <td>[40, 40, 44, -36, 113, 158, -121, -191, 23, 20...</td>\n",
       "      <td>...</td>\n",
       "      <td>Lulu</td>\n",
       "      <td>[475, 475, 532, 807, 1042, 1338, 1646, 1951, 2...</td>\n",
       "      <td>Maplestreet8</td>\n",
       "      <td>Corki</td>\n",
       "      <td>[475, 475, 532, 792, 1187, 1488, 1832, 2136, 2...</td>\n",
       "      <td>Dodo8</td>\n",
       "      <td>Annie</td>\n",
       "      <td>[475, 475, 538, 671, 817, 948, 1104, 1240, 136...</td>\n",
       "      <td>['Rumble', 'Sivir', 'Rengar']</td>\n",
       "      <td>http://matchhistory.na.leagueoflegends.com/en/...</td>\n",
       "    </tr>\n",
       "  </tbody>\n",
       "</table>\n",
       "<p>5 rows × 57 columns</p>\n",
       "</div>"
      ],
      "text/plain": [
       "  League  Year  Season    Type blueTeamTag  bResult  rResult redTeamTag  \\\n",
       "0  NALCS  2015  Spring  Season         TSM        1        0         C9   \n",
       "1  NALCS  2015  Spring  Season         CST        0        1        DIG   \n",
       "2  NALCS  2015  Spring  Season         WFX        1        0         GV   \n",
       "3  NALCS  2015  Spring  Season         TIP        0        1         TL   \n",
       "4  NALCS  2015  Spring  Season         CLG        1        0         T8   \n",
       "\n",
       "   gamelength                                           golddiff  ...  \\\n",
       "0          40  [0, 0, -14, -65, -268, -431, -488, -789, -494,...  ...   \n",
       "1          38  [0, 0, -26, -18, 147, 237, -152, 18, 88, -242,...  ...   \n",
       "2          40  [0, 0, 10, -60, 34, 37, 589, 1064, 1258, 913, ...  ...   \n",
       "3          41  [0, 0, -15, 25, 228, -6, -243, 175, -346, 16, ...  ...   \n",
       "4          35  [40, 40, 44, -36, 113, 158, -121, -191, 23, 20...  ...   \n",
       "\n",
       "  redMiddleChamp                                      goldredMiddle  \\\n",
       "0           Fizz  [475, 475, 552, 842, 1178, 1378, 1635, 1949, 2...   \n",
       "1           Azir  [475, 475, 552, 786, 1097, 1389, 1660, 1955, 2...   \n",
       "2           Azir  [475, 475, 533, 801, 1006, 1233, 1385, 1720, 1...   \n",
       "3           Lulu  [475, 475, 532, 771, 1046, 1288, 1534, 1776, 2...   \n",
       "4           Lulu  [475, 475, 532, 807, 1042, 1338, 1646, 1951, 2...   \n",
       "\n",
       "         redADC redADCChamp  \\\n",
       "0        Sneaky       Sivir   \n",
       "1        CoreJJ       Corki   \n",
       "2           Cop       Corki   \n",
       "3         KEITH      KogMaw   \n",
       "4  Maplestreet8       Corki   \n",
       "\n",
       "                                          goldredADC   redSupport  \\\n",
       "0  [475, 475, 532, 762, 1097, 1469, 1726, 2112, 2...  LemonNation   \n",
       "1  [475, 475, 532, 868, 1220, 1445, 1732, 1979, 2...      KiWiKiD   \n",
       "2  [475, 475, 533, 781, 1085, 1398, 1782, 1957, 2...   BunnyFuFuu   \n",
       "3  [475, 475, 532, 766, 1161, 1438, 1776, 1936, 2...      Xpecial   \n",
       "4  [475, 475, 532, 792, 1187, 1488, 1832, 2136, 2...        Dodo8   \n",
       "\n",
       "  redSupportChamp                                     goldredSupport  \\\n",
       "0          Thresh  [515, 515, 577, 722, 911, 1042, 1194, 1370, 14...   \n",
       "1           Annie  [515, 515, 583, 752, 900, 1066, 1236, 1417, 15...   \n",
       "2           Janna  [515, 515, 584, 721, 858, 1002, 1168, 1303, 14...   \n",
       "3           Janna  [515, 515, 583, 721, 870, 1059, 1205, 1342, 15...   \n",
       "4           Annie  [475, 475, 538, 671, 817, 948, 1104, 1240, 136...   \n",
       "\n",
       "                              redBans  \\\n",
       "0  ['Tristana', 'Leblanc', 'Nidalee']   \n",
       "1      ['RekSai', 'Janna', 'Leblanc']   \n",
       "2        ['Leblanc', 'Zed', 'RekSai']   \n",
       "3      ['RekSai', 'Rumble', 'LeeSin']   \n",
       "4       ['Rumble', 'Sivir', 'Rengar']   \n",
       "\n",
       "                                             Address  \n",
       "0  http://matchhistory.na.leagueoflegends.com/en/...  \n",
       "1  http://matchhistory.na.leagueoflegends.com/en/...  \n",
       "2  http://matchhistory.na.leagueoflegends.com/en/...  \n",
       "3  http://matchhistory.na.leagueoflegends.com/en/...  \n",
       "4  http://matchhistory.na.leagueoflegends.com/en/...  \n",
       "\n",
       "[5 rows x 57 columns]"
      ]
     },
     "execution_count": 223,
     "metadata": {},
     "output_type": "execute_result"
    }
   ],
   "source": [
    "df = pd.read_csv(\"Data/LeagueofLegends.csv\")\n",
    "df.head()"
   ]
  },
  {
   "cell_type": "code",
   "execution_count": 224,
   "metadata": {},
   "outputs": [
    {
     "data": {
      "text/plain": [
       "(7620, 57)"
      ]
     },
     "execution_count": 224,
     "metadata": {},
     "output_type": "execute_result"
    }
   ],
   "source": [
    "df.shape"
   ]
  },
  {
   "cell_type": "code",
   "execution_count": 225,
   "metadata": {},
   "outputs": [
    {
     "data": {
      "text/plain": [
       "array(['Spring', 'Summer'], dtype=object)"
      ]
     },
     "execution_count": 225,
     "metadata": {},
     "output_type": "execute_result"
    }
   ],
   "source": [
    "df['Season'].unique()"
   ]
  },
  {
   "cell_type": "code",
   "execution_count": 226,
   "metadata": {
    "scrolled": true
   },
   "outputs": [
    {
     "data": {
      "text/plain": [
       "array(['Season', 'Playoffs', 'Regional', 'International', 'Promotion'],\n",
       "      dtype=object)"
      ]
     },
     "execution_count": 226,
     "metadata": {},
     "output_type": "execute_result"
    }
   ],
   "source": [
    "df['Type'].unique()"
   ]
  },
  {
   "cell_type": "code",
   "execution_count": 227,
   "metadata": {},
   "outputs": [
    {
     "data": {
      "text/plain": [
       "LCK      1445\n",
       "NALCS    1272\n",
       "EULCS    1099\n",
       "LMS       778\n",
       "TCL       653\n",
       "OPL       458\n",
       "WC        308\n",
       "CBLoL     301\n",
       "LCL       281\n",
       "LJL       258\n",
       "LLN       242\n",
       "CLS       175\n",
       "IEM       138\n",
       "MSI       111\n",
       "RR        101\n",
       "Name: League, dtype: int64"
      ]
     },
     "execution_count": 227,
     "metadata": {},
     "output_type": "execute_result"
    }
   ],
   "source": [
    "df['League'].value_counts()"
   ]
  },
  {
   "cell_type": "code",
   "execution_count": 228,
   "metadata": {
    "scrolled": true
   },
   "outputs": [
    {
     "data": {
      "text/plain": [
       "Index(['League', 'Year', 'Season', 'Type', 'blueTeamTag', 'bResult', 'rResult',\n",
       "       'redTeamTag', 'gamelength', 'golddiff', 'goldblue', 'bKills', 'bTowers',\n",
       "       'bInhibs', 'bDragons', 'bBarons', 'bHeralds', 'goldred', 'rKills',\n",
       "       'rTowers', 'rInhibs', 'rDragons', 'rBarons', 'rHeralds', 'blueTop',\n",
       "       'blueTopChamp', 'goldblueTop', 'blueJungle', 'blueJungleChamp',\n",
       "       'goldblueJungle', 'blueMiddle', 'blueMiddleChamp', 'goldblueMiddle',\n",
       "       'blueADC', 'blueADCChamp', 'goldblueADC', 'blueSupport',\n",
       "       'blueSupportChamp', 'goldblueSupport', 'blueBans', 'redTop',\n",
       "       'redTopChamp', 'goldredTop', 'redJungle', 'redJungleChamp',\n",
       "       'goldredJungle', 'redMiddle', 'redMiddleChamp', 'goldredMiddle',\n",
       "       'redADC', 'redADCChamp', 'goldredADC', 'redSupport', 'redSupportChamp',\n",
       "       'goldredSupport', 'redBans', 'Address'],\n",
       "      dtype='object')"
      ]
     },
     "execution_count": 228,
     "metadata": {},
     "output_type": "execute_result"
    }
   ],
   "source": [
    "df.columns"
   ]
  },
  {
   "cell_type": "code",
   "execution_count": 229,
   "metadata": {},
   "outputs": [],
   "source": [
    "def new_df_gold_length(df):\n",
    "    \"\"\"\n",
    "    Crée un nouveau dataframe avec comme colonnes 'League', 'Type','blueTeamTag','bResult','rResult',\n",
    "    'redTeamTag','gamelength' et 'golddiff'.\n",
    "\n",
    "    Args:\n",
    "        df: dataframe initial\n",
    "\n",
    "    Returns:\n",
    "        Nouveau dataframe.\n",
    "    \"\"\"\n",
    "    \n",
    "    # NALCS : Amérique du Nord\n",
    "    # LCK : Corée\n",
    "    # EULCS : Europe\n",
    "    # LMS : Taiwan Hong-Kong Macao\n",
    "    # TCL : Turquie\n",
    "    # OPL : Océanie\n",
    "    # WC : World Cup\n",
    "    # CBLoL : Brésil\n",
    "    \n",
    "    df2 = df[['League', 'Type','blueTeamTag','bResult','rResult','redTeamTag','gamelength','golddiff']]\n",
    "\n",
    "    df2=df2[(df2['League'] == 'NALCS') | \n",
    "            (df2['League'] == 'LCK')   | \n",
    "            (df2['League'] == 'EULCS') |\n",
    "            (df2['League'] == 'TCL')   |\n",
    "            (df2['League'] == 'CBLoL') ]\n",
    "            \n",
    "    df2= df2[(df2['Type'] != 'Regional') & \n",
    "             (df2['Type'] != 'Promotion')]\n",
    "\n",
    "    return df2"
   ]
  },
  {
   "cell_type": "code",
   "execution_count": 230,
   "metadata": {},
   "outputs": [
    {
     "data": {
      "text/html": [
       "<div>\n",
       "<style scoped>\n",
       "    .dataframe tbody tr th:only-of-type {\n",
       "        vertical-align: middle;\n",
       "    }\n",
       "\n",
       "    .dataframe tbody tr th {\n",
       "        vertical-align: top;\n",
       "    }\n",
       "\n",
       "    .dataframe thead th {\n",
       "        text-align: right;\n",
       "    }\n",
       "</style>\n",
       "<table border=\"1\" class=\"dataframe\">\n",
       "  <thead>\n",
       "    <tr style=\"text-align: right;\">\n",
       "      <th></th>\n",
       "      <th>League</th>\n",
       "      <th>Type</th>\n",
       "      <th>blueTeamTag</th>\n",
       "      <th>bResult</th>\n",
       "      <th>rResult</th>\n",
       "      <th>redTeamTag</th>\n",
       "      <th>gamelength</th>\n",
       "      <th>golddiff</th>\n",
       "    </tr>\n",
       "  </thead>\n",
       "  <tbody>\n",
       "    <tr>\n",
       "      <td>0</td>\n",
       "      <td>NALCS</td>\n",
       "      <td>Season</td>\n",
       "      <td>TSM</td>\n",
       "      <td>1</td>\n",
       "      <td>0</td>\n",
       "      <td>C9</td>\n",
       "      <td>40</td>\n",
       "      <td>[0, 0, -14, -65, -268, -431, -488, -789, -494,...</td>\n",
       "    </tr>\n",
       "    <tr>\n",
       "      <td>1</td>\n",
       "      <td>NALCS</td>\n",
       "      <td>Season</td>\n",
       "      <td>CST</td>\n",
       "      <td>0</td>\n",
       "      <td>1</td>\n",
       "      <td>DIG</td>\n",
       "      <td>38</td>\n",
       "      <td>[0, 0, -26, -18, 147, 237, -152, 18, 88, -242,...</td>\n",
       "    </tr>\n",
       "    <tr>\n",
       "      <td>2</td>\n",
       "      <td>NALCS</td>\n",
       "      <td>Season</td>\n",
       "      <td>WFX</td>\n",
       "      <td>1</td>\n",
       "      <td>0</td>\n",
       "      <td>GV</td>\n",
       "      <td>40</td>\n",
       "      <td>[0, 0, 10, -60, 34, 37, 589, 1064, 1258, 913, ...</td>\n",
       "    </tr>\n",
       "    <tr>\n",
       "      <td>3</td>\n",
       "      <td>NALCS</td>\n",
       "      <td>Season</td>\n",
       "      <td>TIP</td>\n",
       "      <td>0</td>\n",
       "      <td>1</td>\n",
       "      <td>TL</td>\n",
       "      <td>41</td>\n",
       "      <td>[0, 0, -15, 25, 228, -6, -243, 175, -346, 16, ...</td>\n",
       "    </tr>\n",
       "    <tr>\n",
       "      <td>4</td>\n",
       "      <td>NALCS</td>\n",
       "      <td>Season</td>\n",
       "      <td>CLG</td>\n",
       "      <td>1</td>\n",
       "      <td>0</td>\n",
       "      <td>T8</td>\n",
       "      <td>35</td>\n",
       "      <td>[40, 40, 44, -36, 113, 158, -121, -191, 23, 20...</td>\n",
       "    </tr>\n",
       "  </tbody>\n",
       "</table>\n",
       "</div>"
      ],
      "text/plain": [
       "  League    Type blueTeamTag  bResult  rResult redTeamTag  gamelength  \\\n",
       "0  NALCS  Season         TSM        1        0         C9          40   \n",
       "1  NALCS  Season         CST        0        1        DIG          38   \n",
       "2  NALCS  Season         WFX        1        0         GV          40   \n",
       "3  NALCS  Season         TIP        0        1         TL          41   \n",
       "4  NALCS  Season         CLG        1        0         T8          35   \n",
       "\n",
       "                                            golddiff  \n",
       "0  [0, 0, -14, -65, -268, -431, -488, -789, -494,...  \n",
       "1  [0, 0, -26, -18, 147, 237, -152, 18, 88, -242,...  \n",
       "2  [0, 0, 10, -60, 34, 37, 589, 1064, 1258, 913, ...  \n",
       "3  [0, 0, -15, 25, 228, -6, -243, 175, -346, 16, ...  \n",
       "4  [40, 40, 44, -36, 113, 158, -121, -191, 23, 20...  "
      ]
     },
     "execution_count": 230,
     "metadata": {},
     "output_type": "execute_result"
    }
   ],
   "source": [
    "df2 = new_df_gold_length(df)\n",
    "df2.head()"
   ]
  },
  {
   "cell_type": "code",
   "execution_count": 231,
   "metadata": {},
   "outputs": [
    {
     "data": {
      "text/plain": [
       "(4315, 8)"
      ]
     },
     "execution_count": 231,
     "metadata": {},
     "output_type": "execute_result"
    }
   ],
   "source": [
    "df2.shape"
   ]
  },
  {
   "cell_type": "code",
   "execution_count": 232,
   "metadata": {
    "scrolled": true
   },
   "outputs": [
    {
     "data": {
      "text/plain": [
       "array(['NALCS', 'EULCS', 'LCK', 'CBLoL', 'TCL'], dtype=object)"
      ]
     },
     "execution_count": 232,
     "metadata": {},
     "output_type": "execute_result"
    }
   ],
   "source": [
    "df2['League'].unique()"
   ]
  },
  {
   "cell_type": "code",
   "execution_count": 233,
   "metadata": {},
   "outputs": [
    {
     "data": {
      "text/plain": [
       "array(['Season', 'Playoffs'], dtype=object)"
      ]
     },
     "execution_count": 233,
     "metadata": {},
     "output_type": "execute_result"
    }
   ],
   "source": [
    "df2['Type'].unique()"
   ]
  },
  {
   "cell_type": "code",
   "execution_count": 234,
   "metadata": {
    "scrolled": true
   },
   "outputs": [
    {
     "data": {
      "text/plain": [
       "League         object\n",
       "Type           object\n",
       "blueTeamTag    object\n",
       "bResult         int64\n",
       "rResult         int64\n",
       "redTeamTag     object\n",
       "gamelength      int64\n",
       "golddiff       object\n",
       "dtype: object"
      ]
     },
     "execution_count": 234,
     "metadata": {},
     "output_type": "execute_result"
    }
   ],
   "source": [
    "df2.dtypes"
   ]
  },
  {
   "cell_type": "code",
   "execution_count": 235,
   "metadata": {},
   "outputs": [
    {
     "data": {
      "text/plain": [
       "'['"
      ]
     },
     "execution_count": 235,
     "metadata": {},
     "output_type": "execute_result"
    }
   ],
   "source": [
    "df2[\"golddiff\"][0][0]"
   ]
  },
  {
   "cell_type": "code",
   "execution_count": 236,
   "metadata": {},
   "outputs": [],
   "source": [
    "def gold_to_list(df):\n",
    "    \"\"\"\n",
    "    Modifie la colonne \"golddiff\" en passant ses valeurs de string à list\n",
    "\n",
    "    Args:\n",
    "        df : dataframe où mettre la colonne\n",
    "    \"\"\"\n",
    "    new_gold_diff = []\n",
    "    for elements in df[\"golddiff\"]:\n",
    "        i=1\n",
    "        s=''\n",
    "        tab=[]\n",
    "        num = 0\n",
    "        for i in range (1,len(elements)):\n",
    "            if elements[i] == ',' or elements[i] == ']':\n",
    "                num = pd.to_numeric(s)\n",
    "                s='' \n",
    "                tab.append(num)   \n",
    "            else :\n",
    "                s=s+elements[i]            \n",
    "            i=i+1\n",
    "        new_gold_diff.append(tab)\n",
    "    position = df.columns.get_loc(\"golddiff\")\n",
    "    del df[\"golddiff\"]\n",
    "    df.insert(position, \"golddiff\", new_gold_diff)"
   ]
  },
  {
   "cell_type": "code",
   "execution_count": 237,
   "metadata": {
    "scrolled": true
   },
   "outputs": [
    {
     "data": {
      "text/html": [
       "<div>\n",
       "<style scoped>\n",
       "    .dataframe tbody tr th:only-of-type {\n",
       "        vertical-align: middle;\n",
       "    }\n",
       "\n",
       "    .dataframe tbody tr th {\n",
       "        vertical-align: top;\n",
       "    }\n",
       "\n",
       "    .dataframe thead th {\n",
       "        text-align: right;\n",
       "    }\n",
       "</style>\n",
       "<table border=\"1\" class=\"dataframe\">\n",
       "  <thead>\n",
       "    <tr style=\"text-align: right;\">\n",
       "      <th></th>\n",
       "      <th>League</th>\n",
       "      <th>Type</th>\n",
       "      <th>blueTeamTag</th>\n",
       "      <th>bResult</th>\n",
       "      <th>rResult</th>\n",
       "      <th>redTeamTag</th>\n",
       "      <th>gamelength</th>\n",
       "      <th>golddiff</th>\n",
       "    </tr>\n",
       "  </thead>\n",
       "  <tbody>\n",
       "    <tr>\n",
       "      <td>0</td>\n",
       "      <td>NALCS</td>\n",
       "      <td>Season</td>\n",
       "      <td>TSM</td>\n",
       "      <td>1</td>\n",
       "      <td>0</td>\n",
       "      <td>C9</td>\n",
       "      <td>40</td>\n",
       "      <td>[0, 0, -14, -65, -268, -431, -488, -789, -494,...</td>\n",
       "    </tr>\n",
       "    <tr>\n",
       "      <td>1</td>\n",
       "      <td>NALCS</td>\n",
       "      <td>Season</td>\n",
       "      <td>CST</td>\n",
       "      <td>0</td>\n",
       "      <td>1</td>\n",
       "      <td>DIG</td>\n",
       "      <td>38</td>\n",
       "      <td>[0, 0, -26, -18, 147, 237, -152, 18, 88, -242,...</td>\n",
       "    </tr>\n",
       "    <tr>\n",
       "      <td>2</td>\n",
       "      <td>NALCS</td>\n",
       "      <td>Season</td>\n",
       "      <td>WFX</td>\n",
       "      <td>1</td>\n",
       "      <td>0</td>\n",
       "      <td>GV</td>\n",
       "      <td>40</td>\n",
       "      <td>[0, 0, 10, -60, 34, 37, 589, 1064, 1258, 913, ...</td>\n",
       "    </tr>\n",
       "    <tr>\n",
       "      <td>3</td>\n",
       "      <td>NALCS</td>\n",
       "      <td>Season</td>\n",
       "      <td>TIP</td>\n",
       "      <td>0</td>\n",
       "      <td>1</td>\n",
       "      <td>TL</td>\n",
       "      <td>41</td>\n",
       "      <td>[0, 0, -15, 25, 228, -6, -243, 175, -346, 16, ...</td>\n",
       "    </tr>\n",
       "    <tr>\n",
       "      <td>4</td>\n",
       "      <td>NALCS</td>\n",
       "      <td>Season</td>\n",
       "      <td>CLG</td>\n",
       "      <td>1</td>\n",
       "      <td>0</td>\n",
       "      <td>T8</td>\n",
       "      <td>35</td>\n",
       "      <td>[40, 40, 44, -36, 113, 158, -121, -191, 23, 20...</td>\n",
       "    </tr>\n",
       "  </tbody>\n",
       "</table>\n",
       "</div>"
      ],
      "text/plain": [
       "  League    Type blueTeamTag  bResult  rResult redTeamTag  gamelength  \\\n",
       "0  NALCS  Season         TSM        1        0         C9          40   \n",
       "1  NALCS  Season         CST        0        1        DIG          38   \n",
       "2  NALCS  Season         WFX        1        0         GV          40   \n",
       "3  NALCS  Season         TIP        0        1         TL          41   \n",
       "4  NALCS  Season         CLG        1        0         T8          35   \n",
       "\n",
       "                                            golddiff  \n",
       "0  [0, 0, -14, -65, -268, -431, -488, -789, -494,...  \n",
       "1  [0, 0, -26, -18, 147, 237, -152, 18, 88, -242,...  \n",
       "2  [0, 0, 10, -60, 34, 37, 589, 1064, 1258, 913, ...  \n",
       "3  [0, 0, -15, 25, 228, -6, -243, 175, -346, 16, ...  \n",
       "4  [40, 40, 44, -36, 113, 158, -121, -191, 23, 20...  "
      ]
     },
     "execution_count": 237,
     "metadata": {},
     "output_type": "execute_result"
    }
   ],
   "source": [
    "gold_to_list(df2)\n",
    "df2.head()"
   ]
  },
  {
   "cell_type": "code",
   "execution_count": 238,
   "metadata": {
    "scrolled": true
   },
   "outputs": [
    {
     "data": {
      "text/plain": [
       "League         object\n",
       "Type           object\n",
       "blueTeamTag    object\n",
       "bResult         int64\n",
       "rResult         int64\n",
       "redTeamTag     object\n",
       "gamelength      int64\n",
       "golddiff       object\n",
       "dtype: object"
      ]
     },
     "execution_count": 238,
     "metadata": {},
     "output_type": "execute_result"
    }
   ],
   "source": [
    "df2.dtypes"
   ]
  },
  {
   "cell_type": "code",
   "execution_count": 239,
   "metadata": {},
   "outputs": [
    {
     "data": {
      "text/plain": [
       "0"
      ]
     },
     "execution_count": 239,
     "metadata": {},
     "output_type": "execute_result"
    }
   ],
   "source": [
    "df2[\"golddiff\"][0][0]"
   ]
  },
  {
   "cell_type": "code",
   "execution_count": 240,
   "metadata": {
    "scrolled": true
   },
   "outputs": [
    {
     "name": "stdout",
     "output_type": "stream",
     "text": [
      "51.0000002\n",
      "-109\n"
     ]
    }
   ],
   "source": [
    "location = app.geocode(\"North America\").raw\n",
    "            \n",
    "print(location[\"lat\"])\n",
    "print(location[\"lon\"])"
   ]
  },
  {
   "cell_type": "code",
   "execution_count": 241,
   "metadata": {},
   "outputs": [
    {
     "name": "stdout",
     "output_type": "stream",
     "text": [
      "51.0000002\n"
     ]
    }
   ],
   "source": [
    "print(app.geocode(\"North America\").raw[\"lat\"])"
   ]
  },
  {
   "cell_type": "code",
   "execution_count": 242,
   "metadata": {},
   "outputs": [],
   "source": [
    "def add_localisation(df, position):\n",
    "    \"\"\"\n",
    "    Ajoute une colonne \"Country\", \"Lattitude\" et \"Longitude\" au dataframe mis en argument selon la ligue du match en question.\n",
    "\n",
    "    Args:\n",
    "        df : dataframe où ajouter les colonnes\n",
    "        position : numéro de la colonne à partir de laquelle ajouter les colonnes\n",
    "    \"\"\"\n",
    "    \n",
    "    app = Nominatim(user_agent=\"Adam\")\n",
    "\n",
    "    loc_k  = app.geocode(\"Korea\").raw\n",
    "    loc_na = app.geocode(\"North America\").raw\n",
    "    loc_eu = app.geocode(\"Europe\").raw\n",
    "    loc_br = app.geocode(\"Brazil\").raw\n",
    "    loc_t  = app.geocode(\"Turkey\").raw\n",
    "\n",
    "    k  = [loc_k[\"lat\"] , loc_k[\"lon\"]]\n",
    "    na = [loc_na[\"lat\"], loc_na[\"lon\"]]\n",
    "    eu = [loc_eu[\"lat\"], loc_eu[\"lon\"]]\n",
    "    br = [loc_br[\"lat\"], loc_br[\"lon\"]]\n",
    "    t  = [loc_t[\"lat\"] , loc_t[\"lon\"]]\n",
    "\n",
    "    country = []\n",
    "    lattitude = []\n",
    "    longitude = []\n",
    "\n",
    "    for elements in df[\"League\"] :\n",
    "        if elements == \"LCK\" :\n",
    "            country.append(\"Korea\")\n",
    "            lattitude.append(k[0])\n",
    "            longitude.append(k[1])\n",
    "        elif elements == \"NALCS\" :\n",
    "            country.append(\"North America\")\n",
    "            lattitude.append(na[0])\n",
    "            longitude.append(na[1])\n",
    "        elif elements == \"EULCS\" :\n",
    "            country.append(\"Europe\")\n",
    "            lattitude.append(eu[0])\n",
    "            longitude.append(eu[1])\n",
    "        elif elements == \"CBLoL\" :\n",
    "            country.append(\"Brazil\")\n",
    "            lattitude.append(br[0])\n",
    "            longitude.append(br[1])\n",
    "        elif elements == \"TCL\" :\n",
    "            country.append(\"Turkey\")\n",
    "            lattitude.append(t[0])\n",
    "            longitude.append(t[1])\n",
    "        else :\n",
    "            country.append(\"not found\")\n",
    "            lattitude.append(\"not found\")\n",
    "            longitude.append(\"not found\")\n",
    "            \n",
    "    df.insert(position, \"Country\", country)\n",
    "    df.insert(position+1, \"Lattitude\", lattitude)\n",
    "    df.insert(position+2, \"Longitude\", longitude)\n",
    "    df[\"Lattitude\"]  = df[\"Lattitude\"].astype(\"float\")\n",
    "    df2[\"Longitude\"] = df[\"Longitude\"].astype(\"float\")"
   ]
  },
  {
   "cell_type": "code",
   "execution_count": 243,
   "metadata": {
    "scrolled": true
   },
   "outputs": [
    {
     "data": {
      "text/html": [
       "<div>\n",
       "<style scoped>\n",
       "    .dataframe tbody tr th:only-of-type {\n",
       "        vertical-align: middle;\n",
       "    }\n",
       "\n",
       "    .dataframe tbody tr th {\n",
       "        vertical-align: top;\n",
       "    }\n",
       "\n",
       "    .dataframe thead th {\n",
       "        text-align: right;\n",
       "    }\n",
       "</style>\n",
       "<table border=\"1\" class=\"dataframe\">\n",
       "  <thead>\n",
       "    <tr style=\"text-align: right;\">\n",
       "      <th></th>\n",
       "      <th>League</th>\n",
       "      <th>Country</th>\n",
       "      <th>Lattitude</th>\n",
       "      <th>Longitude</th>\n",
       "      <th>Type</th>\n",
       "      <th>blueTeamTag</th>\n",
       "      <th>bResult</th>\n",
       "      <th>rResult</th>\n",
       "      <th>redTeamTag</th>\n",
       "      <th>gamelength</th>\n",
       "      <th>golddiff</th>\n",
       "    </tr>\n",
       "  </thead>\n",
       "  <tbody>\n",
       "    <tr>\n",
       "      <td>0</td>\n",
       "      <td>NALCS</td>\n",
       "      <td>North America</td>\n",
       "      <td>51.0</td>\n",
       "      <td>-109.0</td>\n",
       "      <td>Season</td>\n",
       "      <td>TSM</td>\n",
       "      <td>1</td>\n",
       "      <td>0</td>\n",
       "      <td>C9</td>\n",
       "      <td>40</td>\n",
       "      <td>[0, 0, -14, -65, -268, -431, -488, -789, -494,...</td>\n",
       "    </tr>\n",
       "    <tr>\n",
       "      <td>1</td>\n",
       "      <td>NALCS</td>\n",
       "      <td>North America</td>\n",
       "      <td>51.0</td>\n",
       "      <td>-109.0</td>\n",
       "      <td>Season</td>\n",
       "      <td>CST</td>\n",
       "      <td>0</td>\n",
       "      <td>1</td>\n",
       "      <td>DIG</td>\n",
       "      <td>38</td>\n",
       "      <td>[0, 0, -26, -18, 147, 237, -152, 18, 88, -242,...</td>\n",
       "    </tr>\n",
       "    <tr>\n",
       "      <td>2</td>\n",
       "      <td>NALCS</td>\n",
       "      <td>North America</td>\n",
       "      <td>51.0</td>\n",
       "      <td>-109.0</td>\n",
       "      <td>Season</td>\n",
       "      <td>WFX</td>\n",
       "      <td>1</td>\n",
       "      <td>0</td>\n",
       "      <td>GV</td>\n",
       "      <td>40</td>\n",
       "      <td>[0, 0, 10, -60, 34, 37, 589, 1064, 1258, 913, ...</td>\n",
       "    </tr>\n",
       "    <tr>\n",
       "      <td>3</td>\n",
       "      <td>NALCS</td>\n",
       "      <td>North America</td>\n",
       "      <td>51.0</td>\n",
       "      <td>-109.0</td>\n",
       "      <td>Season</td>\n",
       "      <td>TIP</td>\n",
       "      <td>0</td>\n",
       "      <td>1</td>\n",
       "      <td>TL</td>\n",
       "      <td>41</td>\n",
       "      <td>[0, 0, -15, 25, 228, -6, -243, 175, -346, 16, ...</td>\n",
       "    </tr>\n",
       "    <tr>\n",
       "      <td>4</td>\n",
       "      <td>NALCS</td>\n",
       "      <td>North America</td>\n",
       "      <td>51.0</td>\n",
       "      <td>-109.0</td>\n",
       "      <td>Season</td>\n",
       "      <td>CLG</td>\n",
       "      <td>1</td>\n",
       "      <td>0</td>\n",
       "      <td>T8</td>\n",
       "      <td>35</td>\n",
       "      <td>[40, 40, 44, -36, 113, 158, -121, -191, 23, 20...</td>\n",
       "    </tr>\n",
       "  </tbody>\n",
       "</table>\n",
       "</div>"
      ],
      "text/plain": [
       "  League        Country  Lattitude  Longitude    Type blueTeamTag  bResult  \\\n",
       "0  NALCS  North America       51.0     -109.0  Season         TSM        1   \n",
       "1  NALCS  North America       51.0     -109.0  Season         CST        0   \n",
       "2  NALCS  North America       51.0     -109.0  Season         WFX        1   \n",
       "3  NALCS  North America       51.0     -109.0  Season         TIP        0   \n",
       "4  NALCS  North America       51.0     -109.0  Season         CLG        1   \n",
       "\n",
       "   rResult redTeamTag  gamelength  \\\n",
       "0        0         C9          40   \n",
       "1        1        DIG          38   \n",
       "2        0         GV          40   \n",
       "3        1         TL          41   \n",
       "4        0         T8          35   \n",
       "\n",
       "                                            golddiff  \n",
       "0  [0, 0, -14, -65, -268, -431, -488, -789, -494,...  \n",
       "1  [0, 0, -26, -18, 147, 237, -152, 18, 88, -242,...  \n",
       "2  [0, 0, 10, -60, 34, 37, 589, 1064, 1258, 913, ...  \n",
       "3  [0, 0, -15, 25, 228, -6, -243, 175, -346, 16, ...  \n",
       "4  [40, 40, 44, -36, 113, 158, -121, -191, 23, 20...  "
      ]
     },
     "execution_count": 243,
     "metadata": {},
     "output_type": "execute_result"
    }
   ],
   "source": [
    "add_localisation(df2,1)\n",
    "df2.head()"
   ]
  },
  {
   "cell_type": "code",
   "execution_count": 244,
   "metadata": {
    "scrolled": true
   },
   "outputs": [
    {
     "data": {
      "text/plain": [
       "League          object\n",
       "Country         object\n",
       "Lattitude      float64\n",
       "Longitude      float64\n",
       "Type            object\n",
       "blueTeamTag     object\n",
       "bResult          int64\n",
       "rResult          int64\n",
       "redTeamTag      object\n",
       "gamelength       int64\n",
       "golddiff        object\n",
       "dtype: object"
      ]
     },
     "execution_count": 244,
     "metadata": {},
     "output_type": "execute_result"
    }
   ],
   "source": [
    "df2.dtypes"
   ]
  }
 ],
 "metadata": {
  "interpreter": {
   "hash": "b3ba2566441a7c06988d0923437866b63cedc61552a5af99d1f4fb67d367b25f"
  },
  "kernelspec": {
   "display_name": "Python 3",
   "language": "python",
   "name": "python3"
  },
  "language_info": {
   "codemirror_mode": {
    "name": "ipython",
    "version": 3
   },
   "file_extension": ".py",
   "mimetype": "text/x-python",
   "name": "python",
   "nbconvert_exporter": "python",
   "pygments_lexer": "ipython3",
   "version": "3.7.4"
  }
 },
 "nbformat": 4,
 "nbformat_minor": 2
}
