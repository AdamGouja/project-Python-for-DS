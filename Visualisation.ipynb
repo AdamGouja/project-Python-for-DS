{
 "cells": [
  {
   "cell_type": "code",
   "execution_count": 284,
   "metadata": {},
   "outputs": [],
   "source": [
    "import pandas as pd\n",
    "import geopy\n",
    "from geopy.geocoders import Nominatim\n",
    "import plotly.express as px"
   ]
  },
  {
   "cell_type": "code",
   "execution_count": 285,
   "metadata": {},
   "outputs": [],
   "source": [
    "import os\n",
    "import kaggle\n",
    "import shutil\n",
    "\n",
    "def get_data_kaggle():\n",
    "    kaggle.api.authenticate()\n",
    "\n",
    "    if(\"leagueoflegends.zip\" not in os.listdir()):\n",
    "        kaggle.api.dataset_download_files(\"chuckephron/leagueoflegends\")\n",
    "    else : print(\"files already downloaded\")\n",
    "\n",
    "    shutil.unpack_archive(\"leagueoflegends.zip\", \"./data\")"
   ]
  },
  {
   "cell_type": "code",
   "execution_count": 286,
   "metadata": {},
   "outputs": [],
   "source": [
    "import folium"
   ]
  },
  {
   "cell_type": "code",
   "execution_count": 287,
   "metadata": {},
   "outputs": [
    {
     "name": "stdout",
     "output_type": "stream",
     "text": [
      "files already downloaded\n"
     ]
    }
   ],
   "source": [
    "get_data_kaggle()"
   ]
  },
  {
   "cell_type": "code",
   "execution_count": 288,
   "metadata": {},
   "outputs": [
    {
     "data": {
      "text/html": [
       "<div>\n",
       "<style scoped>\n",
       "    .dataframe tbody tr th:only-of-type {\n",
       "        vertical-align: middle;\n",
       "    }\n",
       "\n",
       "    .dataframe tbody tr th {\n",
       "        vertical-align: top;\n",
       "    }\n",
       "\n",
       "    .dataframe thead th {\n",
       "        text-align: right;\n",
       "    }\n",
       "</style>\n",
       "<table border=\"1\" class=\"dataframe\">\n",
       "  <thead>\n",
       "    <tr style=\"text-align: right;\">\n",
       "      <th></th>\n",
       "      <th>League</th>\n",
       "      <th>Year</th>\n",
       "      <th>Season</th>\n",
       "      <th>Type</th>\n",
       "      <th>blueTeamTag</th>\n",
       "      <th>bResult</th>\n",
       "      <th>rResult</th>\n",
       "      <th>redTeamTag</th>\n",
       "      <th>gamelength</th>\n",
       "      <th>golddiff</th>\n",
       "      <th>...</th>\n",
       "      <th>redMiddleChamp</th>\n",
       "      <th>goldredMiddle</th>\n",
       "      <th>redADC</th>\n",
       "      <th>redADCChamp</th>\n",
       "      <th>goldredADC</th>\n",
       "      <th>redSupport</th>\n",
       "      <th>redSupportChamp</th>\n",
       "      <th>goldredSupport</th>\n",
       "      <th>redBans</th>\n",
       "      <th>Address</th>\n",
       "    </tr>\n",
       "  </thead>\n",
       "  <tbody>\n",
       "    <tr>\n",
       "      <td>0</td>\n",
       "      <td>NALCS</td>\n",
       "      <td>2015</td>\n",
       "      <td>Spring</td>\n",
       "      <td>Season</td>\n",
       "      <td>TSM</td>\n",
       "      <td>1</td>\n",
       "      <td>0</td>\n",
       "      <td>C9</td>\n",
       "      <td>40</td>\n",
       "      <td>[0, 0, -14, -65, -268, -431, -488, -789, -494,...</td>\n",
       "      <td>...</td>\n",
       "      <td>Fizz</td>\n",
       "      <td>[475, 475, 552, 842, 1178, 1378, 1635, 1949, 2...</td>\n",
       "      <td>Sneaky</td>\n",
       "      <td>Sivir</td>\n",
       "      <td>[475, 475, 532, 762, 1097, 1469, 1726, 2112, 2...</td>\n",
       "      <td>LemonNation</td>\n",
       "      <td>Thresh</td>\n",
       "      <td>[515, 515, 577, 722, 911, 1042, 1194, 1370, 14...</td>\n",
       "      <td>['Tristana', 'Leblanc', 'Nidalee']</td>\n",
       "      <td>http://matchhistory.na.leagueoflegends.com/en/...</td>\n",
       "    </tr>\n",
       "    <tr>\n",
       "      <td>1</td>\n",
       "      <td>NALCS</td>\n",
       "      <td>2015</td>\n",
       "      <td>Spring</td>\n",
       "      <td>Season</td>\n",
       "      <td>CST</td>\n",
       "      <td>0</td>\n",
       "      <td>1</td>\n",
       "      <td>DIG</td>\n",
       "      <td>38</td>\n",
       "      <td>[0, 0, -26, -18, 147, 237, -152, 18, 88, -242,...</td>\n",
       "      <td>...</td>\n",
       "      <td>Azir</td>\n",
       "      <td>[475, 475, 552, 786, 1097, 1389, 1660, 1955, 2...</td>\n",
       "      <td>CoreJJ</td>\n",
       "      <td>Corki</td>\n",
       "      <td>[475, 475, 532, 868, 1220, 1445, 1732, 1979, 2...</td>\n",
       "      <td>KiWiKiD</td>\n",
       "      <td>Annie</td>\n",
       "      <td>[515, 515, 583, 752, 900, 1066, 1236, 1417, 15...</td>\n",
       "      <td>['RekSai', 'Janna', 'Leblanc']</td>\n",
       "      <td>http://matchhistory.na.leagueoflegends.com/en/...</td>\n",
       "    </tr>\n",
       "    <tr>\n",
       "      <td>2</td>\n",
       "      <td>NALCS</td>\n",
       "      <td>2015</td>\n",
       "      <td>Spring</td>\n",
       "      <td>Season</td>\n",
       "      <td>WFX</td>\n",
       "      <td>1</td>\n",
       "      <td>0</td>\n",
       "      <td>GV</td>\n",
       "      <td>40</td>\n",
       "      <td>[0, 0, 10, -60, 34, 37, 589, 1064, 1258, 913, ...</td>\n",
       "      <td>...</td>\n",
       "      <td>Azir</td>\n",
       "      <td>[475, 475, 533, 801, 1006, 1233, 1385, 1720, 1...</td>\n",
       "      <td>Cop</td>\n",
       "      <td>Corki</td>\n",
       "      <td>[475, 475, 533, 781, 1085, 1398, 1782, 1957, 2...</td>\n",
       "      <td>BunnyFuFuu</td>\n",
       "      <td>Janna</td>\n",
       "      <td>[515, 515, 584, 721, 858, 1002, 1168, 1303, 14...</td>\n",
       "      <td>['Leblanc', 'Zed', 'RekSai']</td>\n",
       "      <td>http://matchhistory.na.leagueoflegends.com/en/...</td>\n",
       "    </tr>\n",
       "    <tr>\n",
       "      <td>3</td>\n",
       "      <td>NALCS</td>\n",
       "      <td>2015</td>\n",
       "      <td>Spring</td>\n",
       "      <td>Season</td>\n",
       "      <td>TIP</td>\n",
       "      <td>0</td>\n",
       "      <td>1</td>\n",
       "      <td>TL</td>\n",
       "      <td>41</td>\n",
       "      <td>[0, 0, -15, 25, 228, -6, -243, 175, -346, 16, ...</td>\n",
       "      <td>...</td>\n",
       "      <td>Lulu</td>\n",
       "      <td>[475, 475, 532, 771, 1046, 1288, 1534, 1776, 2...</td>\n",
       "      <td>KEITH</td>\n",
       "      <td>KogMaw</td>\n",
       "      <td>[475, 475, 532, 766, 1161, 1438, 1776, 1936, 2...</td>\n",
       "      <td>Xpecial</td>\n",
       "      <td>Janna</td>\n",
       "      <td>[515, 515, 583, 721, 870, 1059, 1205, 1342, 15...</td>\n",
       "      <td>['RekSai', 'Rumble', 'LeeSin']</td>\n",
       "      <td>http://matchhistory.na.leagueoflegends.com/en/...</td>\n",
       "    </tr>\n",
       "    <tr>\n",
       "      <td>4</td>\n",
       "      <td>NALCS</td>\n",
       "      <td>2015</td>\n",
       "      <td>Spring</td>\n",
       "      <td>Season</td>\n",
       "      <td>CLG</td>\n",
       "      <td>1</td>\n",
       "      <td>0</td>\n",
       "      <td>T8</td>\n",
       "      <td>35</td>\n",
       "      <td>[40, 40, 44, -36, 113, 158, -121, -191, 23, 20...</td>\n",
       "      <td>...</td>\n",
       "      <td>Lulu</td>\n",
       "      <td>[475, 475, 532, 807, 1042, 1338, 1646, 1951, 2...</td>\n",
       "      <td>Maplestreet8</td>\n",
       "      <td>Corki</td>\n",
       "      <td>[475, 475, 532, 792, 1187, 1488, 1832, 2136, 2...</td>\n",
       "      <td>Dodo8</td>\n",
       "      <td>Annie</td>\n",
       "      <td>[475, 475, 538, 671, 817, 948, 1104, 1240, 136...</td>\n",
       "      <td>['Rumble', 'Sivir', 'Rengar']</td>\n",
       "      <td>http://matchhistory.na.leagueoflegends.com/en/...</td>\n",
       "    </tr>\n",
       "  </tbody>\n",
       "</table>\n",
       "<p>5 rows × 57 columns</p>\n",
       "</div>"
      ],
      "text/plain": [
       "  League  Year  Season    Type blueTeamTag  bResult  rResult redTeamTag  \\\n",
       "0  NALCS  2015  Spring  Season         TSM        1        0         C9   \n",
       "1  NALCS  2015  Spring  Season         CST        0        1        DIG   \n",
       "2  NALCS  2015  Spring  Season         WFX        1        0         GV   \n",
       "3  NALCS  2015  Spring  Season         TIP        0        1         TL   \n",
       "4  NALCS  2015  Spring  Season         CLG        1        0         T8   \n",
       "\n",
       "   gamelength                                           golddiff  ...  \\\n",
       "0          40  [0, 0, -14, -65, -268, -431, -488, -789, -494,...  ...   \n",
       "1          38  [0, 0, -26, -18, 147, 237, -152, 18, 88, -242,...  ...   \n",
       "2          40  [0, 0, 10, -60, 34, 37, 589, 1064, 1258, 913, ...  ...   \n",
       "3          41  [0, 0, -15, 25, 228, -6, -243, 175, -346, 16, ...  ...   \n",
       "4          35  [40, 40, 44, -36, 113, 158, -121, -191, 23, 20...  ...   \n",
       "\n",
       "  redMiddleChamp                                      goldredMiddle  \\\n",
       "0           Fizz  [475, 475, 552, 842, 1178, 1378, 1635, 1949, 2...   \n",
       "1           Azir  [475, 475, 552, 786, 1097, 1389, 1660, 1955, 2...   \n",
       "2           Azir  [475, 475, 533, 801, 1006, 1233, 1385, 1720, 1...   \n",
       "3           Lulu  [475, 475, 532, 771, 1046, 1288, 1534, 1776, 2...   \n",
       "4           Lulu  [475, 475, 532, 807, 1042, 1338, 1646, 1951, 2...   \n",
       "\n",
       "         redADC redADCChamp  \\\n",
       "0        Sneaky       Sivir   \n",
       "1        CoreJJ       Corki   \n",
       "2           Cop       Corki   \n",
       "3         KEITH      KogMaw   \n",
       "4  Maplestreet8       Corki   \n",
       "\n",
       "                                          goldredADC   redSupport  \\\n",
       "0  [475, 475, 532, 762, 1097, 1469, 1726, 2112, 2...  LemonNation   \n",
       "1  [475, 475, 532, 868, 1220, 1445, 1732, 1979, 2...      KiWiKiD   \n",
       "2  [475, 475, 533, 781, 1085, 1398, 1782, 1957, 2...   BunnyFuFuu   \n",
       "3  [475, 475, 532, 766, 1161, 1438, 1776, 1936, 2...      Xpecial   \n",
       "4  [475, 475, 532, 792, 1187, 1488, 1832, 2136, 2...        Dodo8   \n",
       "\n",
       "  redSupportChamp                                     goldredSupport  \\\n",
       "0          Thresh  [515, 515, 577, 722, 911, 1042, 1194, 1370, 14...   \n",
       "1           Annie  [515, 515, 583, 752, 900, 1066, 1236, 1417, 15...   \n",
       "2           Janna  [515, 515, 584, 721, 858, 1002, 1168, 1303, 14...   \n",
       "3           Janna  [515, 515, 583, 721, 870, 1059, 1205, 1342, 15...   \n",
       "4           Annie  [475, 475, 538, 671, 817, 948, 1104, 1240, 136...   \n",
       "\n",
       "                              redBans  \\\n",
       "0  ['Tristana', 'Leblanc', 'Nidalee']   \n",
       "1      ['RekSai', 'Janna', 'Leblanc']   \n",
       "2        ['Leblanc', 'Zed', 'RekSai']   \n",
       "3      ['RekSai', 'Rumble', 'LeeSin']   \n",
       "4       ['Rumble', 'Sivir', 'Rengar']   \n",
       "\n",
       "                                             Address  \n",
       "0  http://matchhistory.na.leagueoflegends.com/en/...  \n",
       "1  http://matchhistory.na.leagueoflegends.com/en/...  \n",
       "2  http://matchhistory.na.leagueoflegends.com/en/...  \n",
       "3  http://matchhistory.na.leagueoflegends.com/en/...  \n",
       "4  http://matchhistory.na.leagueoflegends.com/en/...  \n",
       "\n",
       "[5 rows x 57 columns]"
      ]
     },
     "execution_count": 288,
     "metadata": {},
     "output_type": "execute_result"
    }
   ],
   "source": [
    "df = pd.read_csv(\"Data/LeagueofLegends.csv\")\n",
    "df.head()"
   ]
  },
  {
   "cell_type": "code",
   "execution_count": 289,
   "metadata": {},
   "outputs": [
    {
     "data": {
      "text/plain": [
       "(7620, 57)"
      ]
     },
     "execution_count": 289,
     "metadata": {},
     "output_type": "execute_result"
    }
   ],
   "source": [
    "df.shape"
   ]
  },
  {
   "cell_type": "code",
   "execution_count": 292,
   "metadata": {},
   "outputs": [
    {
     "data": {
      "text/plain": [
       "array(['Spring', 'Summer'], dtype=object)"
      ]
     },
     "execution_count": 292,
     "metadata": {},
     "output_type": "execute_result"
    }
   ],
   "source": [
    "df['Season'].unique()"
   ]
  },
  {
   "cell_type": "code",
   "execution_count": 293,
   "metadata": {
    "scrolled": true
   },
   "outputs": [
    {
     "data": {
      "text/plain": [
       "array(['Season', 'Playoffs', 'Regional', 'International', 'Promotion'],\n",
       "      dtype=object)"
      ]
     },
     "execution_count": 293,
     "metadata": {},
     "output_type": "execute_result"
    }
   ],
   "source": [
    "df['Type'].unique()"
   ]
  },
  {
   "cell_type": "code",
   "execution_count": 294,
   "metadata": {},
   "outputs": [
    {
     "data": {
      "text/plain": [
       "LCK      1445\n",
       "NALCS    1272\n",
       "EULCS    1099\n",
       "LMS       778\n",
       "TCL       653\n",
       "OPL       458\n",
       "WC        308\n",
       "CBLoL     301\n",
       "LCL       281\n",
       "LJL       258\n",
       "LLN       242\n",
       "CLS       175\n",
       "IEM       138\n",
       "MSI       111\n",
       "RR        101\n",
       "Name: League, dtype: int64"
      ]
     },
     "execution_count": 294,
     "metadata": {},
     "output_type": "execute_result"
    }
   ],
   "source": [
    "df['League'].value_counts()"
   ]
  },
  {
   "cell_type": "code",
   "execution_count": 295,
   "metadata": {
    "scrolled": true
   },
   "outputs": [
    {
     "data": {
      "text/plain": [
       "Index(['League', 'Year', 'Season', 'Type', 'blueTeamTag', 'bResult', 'rResult',\n",
       "       'redTeamTag', 'gamelength', 'golddiff', 'goldblue', 'bKills', 'bTowers',\n",
       "       'bInhibs', 'bDragons', 'bBarons', 'bHeralds', 'goldred', 'rKills',\n",
       "       'rTowers', 'rInhibs', 'rDragons', 'rBarons', 'rHeralds', 'blueTop',\n",
       "       'blueTopChamp', 'goldblueTop', 'blueJungle', 'blueJungleChamp',\n",
       "       'goldblueJungle', 'blueMiddle', 'blueMiddleChamp', 'goldblueMiddle',\n",
       "       'blueADC', 'blueADCChamp', 'goldblueADC', 'blueSupport',\n",
       "       'blueSupportChamp', 'goldblueSupport', 'blueBans', 'redTop',\n",
       "       'redTopChamp', 'goldredTop', 'redJungle', 'redJungleChamp',\n",
       "       'goldredJungle', 'redMiddle', 'redMiddleChamp', 'goldredMiddle',\n",
       "       'redADC', 'redADCChamp', 'goldredADC', 'redSupport', 'redSupportChamp',\n",
       "       'goldredSupport', 'redBans', 'Address'],\n",
       "      dtype='object')"
      ]
     },
     "execution_count": 295,
     "metadata": {},
     "output_type": "execute_result"
    }
   ],
   "source": [
    "df.columns"
   ]
  },
  {
   "cell_type": "code",
   "execution_count": 296,
   "metadata": {},
   "outputs": [],
   "source": [
    "def new_df_length(df):\n",
    "    \"\"\"\n",
    "    Crée un nouveau dataframe avec comme colonnes 'Address', 'League', 'Type', 'blueTeamTag', 'bResult', \n",
    "    'rResult', 'redTeamTag' et 'gamelength'.\n",
    "\n",
    "    Args:\n",
    "        df : dataframe initial\n",
    "\n",
    "    Returns:\n",
    "        Nouveau dataframe.\n",
    "    \"\"\"\n",
    "    df2 = df[['Address', 'League', 'Type', 'Year', 'blueTeamTag','bResult','rResult','redTeamTag','gamelength']]\n",
    "\n",
    "    df2=df2[(df2['League'] == 'NALCS') | \n",
    "            (df2['League'] == 'LCK')   | \n",
    "            (df2['League'] == 'EULCS') |\n",
    "            (df2['League'] == 'TCL')   |\n",
    "            (df2['League'] == 'CBLoL') ]\n",
    "            \n",
    "    df2= df2[(df2['Type'] != 'Regional') & \n",
    "             (df2['Type'] != 'Promotion')]\n",
    "\n",
    "    return df2"
   ]
  },
  {
   "cell_type": "code",
   "execution_count": 297,
   "metadata": {},
   "outputs": [],
   "source": [
    "def new_df_wc(df):\n",
    "    \"\"\"\n",
    "    Crée un nouveau dataframe avec comme colonnes 'Address', 'Type', 'blueTeamTag', 'bResult', \n",
    "    'rResult', 'redTeamTag' et 'gamelength'.\n",
    "\n",
    "    Args:\n",
    "        df : dataframe initial\n",
    "\n",
    "    Returns:\n",
    "        Nouveau dataframe.\n",
    "    \"\"\"\n",
    "    df2 = df[['Address', 'League', 'Type', 'Year', 'blueTeamTag','bResult','rResult','redTeamTag','gamelength']]\n",
    "\n",
    "    df2=df2[df2['League'] == 'WC']\n",
    "            \n",
    "    df2= df2[(df2['Type'] != 'Regional') & \n",
    "             (df2['Type'] != 'Promotion')]\n",
    "\n",
    "    return df2"
   ]
  },
  {
   "cell_type": "code",
   "execution_count": 298,
   "metadata": {},
   "outputs": [
    {
     "data": {
      "text/html": [
       "<div>\n",
       "<style scoped>\n",
       "    .dataframe tbody tr th:only-of-type {\n",
       "        vertical-align: middle;\n",
       "    }\n",
       "\n",
       "    .dataframe tbody tr th {\n",
       "        vertical-align: top;\n",
       "    }\n",
       "\n",
       "    .dataframe thead th {\n",
       "        text-align: right;\n",
       "    }\n",
       "</style>\n",
       "<table border=\"1\" class=\"dataframe\">\n",
       "  <thead>\n",
       "    <tr style=\"text-align: right;\">\n",
       "      <th></th>\n",
       "      <th>Address</th>\n",
       "      <th>League</th>\n",
       "      <th>Type</th>\n",
       "      <th>Year</th>\n",
       "      <th>blueTeamTag</th>\n",
       "      <th>bResult</th>\n",
       "      <th>rResult</th>\n",
       "      <th>redTeamTag</th>\n",
       "      <th>gamelength</th>\n",
       "    </tr>\n",
       "  </thead>\n",
       "  <tbody>\n",
       "    <tr>\n",
       "      <td>0</td>\n",
       "      <td>http://matchhistory.na.leagueoflegends.com/en/...</td>\n",
       "      <td>NALCS</td>\n",
       "      <td>Season</td>\n",
       "      <td>2015</td>\n",
       "      <td>TSM</td>\n",
       "      <td>1</td>\n",
       "      <td>0</td>\n",
       "      <td>C9</td>\n",
       "      <td>40</td>\n",
       "    </tr>\n",
       "    <tr>\n",
       "      <td>1</td>\n",
       "      <td>http://matchhistory.na.leagueoflegends.com/en/...</td>\n",
       "      <td>NALCS</td>\n",
       "      <td>Season</td>\n",
       "      <td>2015</td>\n",
       "      <td>CST</td>\n",
       "      <td>0</td>\n",
       "      <td>1</td>\n",
       "      <td>DIG</td>\n",
       "      <td>38</td>\n",
       "    </tr>\n",
       "    <tr>\n",
       "      <td>2</td>\n",
       "      <td>http://matchhistory.na.leagueoflegends.com/en/...</td>\n",
       "      <td>NALCS</td>\n",
       "      <td>Season</td>\n",
       "      <td>2015</td>\n",
       "      <td>WFX</td>\n",
       "      <td>1</td>\n",
       "      <td>0</td>\n",
       "      <td>GV</td>\n",
       "      <td>40</td>\n",
       "    </tr>\n",
       "    <tr>\n",
       "      <td>3</td>\n",
       "      <td>http://matchhistory.na.leagueoflegends.com/en/...</td>\n",
       "      <td>NALCS</td>\n",
       "      <td>Season</td>\n",
       "      <td>2015</td>\n",
       "      <td>TIP</td>\n",
       "      <td>0</td>\n",
       "      <td>1</td>\n",
       "      <td>TL</td>\n",
       "      <td>41</td>\n",
       "    </tr>\n",
       "    <tr>\n",
       "      <td>4</td>\n",
       "      <td>http://matchhistory.na.leagueoflegends.com/en/...</td>\n",
       "      <td>NALCS</td>\n",
       "      <td>Season</td>\n",
       "      <td>2015</td>\n",
       "      <td>CLG</td>\n",
       "      <td>1</td>\n",
       "      <td>0</td>\n",
       "      <td>T8</td>\n",
       "      <td>35</td>\n",
       "    </tr>\n",
       "  </tbody>\n",
       "</table>\n",
       "</div>"
      ],
      "text/plain": [
       "                                             Address League    Type  Year  \\\n",
       "0  http://matchhistory.na.leagueoflegends.com/en/...  NALCS  Season  2015   \n",
       "1  http://matchhistory.na.leagueoflegends.com/en/...  NALCS  Season  2015   \n",
       "2  http://matchhistory.na.leagueoflegends.com/en/...  NALCS  Season  2015   \n",
       "3  http://matchhistory.na.leagueoflegends.com/en/...  NALCS  Season  2015   \n",
       "4  http://matchhistory.na.leagueoflegends.com/en/...  NALCS  Season  2015   \n",
       "\n",
       "  blueTeamTag  bResult  rResult redTeamTag  gamelength  \n",
       "0         TSM        1        0         C9          40  \n",
       "1         CST        0        1        DIG          38  \n",
       "2         WFX        1        0         GV          40  \n",
       "3         TIP        0        1         TL          41  \n",
       "4         CLG        1        0         T8          35  "
      ]
     },
     "execution_count": 298,
     "metadata": {},
     "output_type": "execute_result"
    }
   ],
   "source": [
    "df_length = new_df_length(df)\n",
    "df_length.head()"
   ]
  },
  {
   "cell_type": "code",
   "execution_count": 299,
   "metadata": {
    "scrolled": true
   },
   "outputs": [
    {
     "data": {
      "text/html": [
       "<div>\n",
       "<style scoped>\n",
       "    .dataframe tbody tr th:only-of-type {\n",
       "        vertical-align: middle;\n",
       "    }\n",
       "\n",
       "    .dataframe tbody tr th {\n",
       "        vertical-align: top;\n",
       "    }\n",
       "\n",
       "    .dataframe thead th {\n",
       "        text-align: right;\n",
       "    }\n",
       "</style>\n",
       "<table border=\"1\" class=\"dataframe\">\n",
       "  <thead>\n",
       "    <tr style=\"text-align: right;\">\n",
       "      <th></th>\n",
       "      <th>Address</th>\n",
       "      <th>League</th>\n",
       "      <th>Type</th>\n",
       "      <th>Year</th>\n",
       "      <th>blueTeamTag</th>\n",
       "      <th>bResult</th>\n",
       "      <th>rResult</th>\n",
       "      <th>redTeamTag</th>\n",
       "      <th>gamelength</th>\n",
       "    </tr>\n",
       "  </thead>\n",
       "  <tbody>\n",
       "    <tr>\n",
       "      <td>7612</td>\n",
       "      <td>https://matchhistory.br.leagueoflegends.com/pt...</td>\n",
       "      <td>CBLoL</td>\n",
       "      <td>Season</td>\n",
       "      <td>2018</td>\n",
       "      <td>PNG</td>\n",
       "      <td>1</td>\n",
       "      <td>0</td>\n",
       "      <td>KBM</td>\n",
       "      <td>34</td>\n",
       "    </tr>\n",
       "    <tr>\n",
       "      <td>7613</td>\n",
       "      <td>https://matchhistory.br.leagueoflegends.com/pt...</td>\n",
       "      <td>CBLoL</td>\n",
       "      <td>Season</td>\n",
       "      <td>2018</td>\n",
       "      <td>KBM</td>\n",
       "      <td>1</td>\n",
       "      <td>0</td>\n",
       "      <td>PNG</td>\n",
       "      <td>30</td>\n",
       "    </tr>\n",
       "    <tr>\n",
       "      <td>7614</td>\n",
       "      <td>https://matchhistory.euw.leagueoflegends.com/e...</td>\n",
       "      <td>TCL</td>\n",
       "      <td>Season</td>\n",
       "      <td>2018</td>\n",
       "      <td>AUR</td>\n",
       "      <td>0</td>\n",
       "      <td>1</td>\n",
       "      <td>RBE</td>\n",
       "      <td>36</td>\n",
       "    </tr>\n",
       "    <tr>\n",
       "      <td>7615</td>\n",
       "      <td>https://matchhistory.euw.leagueoflegends.com/e...</td>\n",
       "      <td>TCL</td>\n",
       "      <td>Season</td>\n",
       "      <td>2018</td>\n",
       "      <td>YC</td>\n",
       "      <td>0</td>\n",
       "      <td>1</td>\n",
       "      <td>SUP</td>\n",
       "      <td>34</td>\n",
       "    </tr>\n",
       "    <tr>\n",
       "      <td>7616</td>\n",
       "      <td>https://matchhistory.euw.leagueoflegends.com/e...</td>\n",
       "      <td>TCL</td>\n",
       "      <td>Season</td>\n",
       "      <td>2018</td>\n",
       "      <td>GAL</td>\n",
       "      <td>0</td>\n",
       "      <td>1</td>\n",
       "      <td>DP</td>\n",
       "      <td>39</td>\n",
       "    </tr>\n",
       "  </tbody>\n",
       "</table>\n",
       "</div>"
      ],
      "text/plain": [
       "                                                Address League    Type  Year  \\\n",
       "7612  https://matchhistory.br.leagueoflegends.com/pt...  CBLoL  Season  2018   \n",
       "7613  https://matchhistory.br.leagueoflegends.com/pt...  CBLoL  Season  2018   \n",
       "7614  https://matchhistory.euw.leagueoflegends.com/e...    TCL  Season  2018   \n",
       "7615  https://matchhistory.euw.leagueoflegends.com/e...    TCL  Season  2018   \n",
       "7616  https://matchhistory.euw.leagueoflegends.com/e...    TCL  Season  2018   \n",
       "\n",
       "     blueTeamTag  bResult  rResult redTeamTag  gamelength  \n",
       "7612         PNG        1        0        KBM          34  \n",
       "7613         KBM        1        0        PNG          30  \n",
       "7614         AUR        0        1        RBE          36  \n",
       "7615          YC        0        1        SUP          34  \n",
       "7616         GAL        0        1         DP          39  "
      ]
     },
     "execution_count": 299,
     "metadata": {},
     "output_type": "execute_result"
    }
   ],
   "source": [
    "df_length.tail()"
   ]
  },
  {
   "cell_type": "code",
   "execution_count": 300,
   "metadata": {
    "scrolled": true
   },
   "outputs": [
    {
     "data": {
      "text/plain": [
       "(4315, 9)"
      ]
     },
     "execution_count": 300,
     "metadata": {},
     "output_type": "execute_result"
    }
   ],
   "source": [
    "df_length.shape"
   ]
  },
  {
   "cell_type": "code",
   "execution_count": 301,
   "metadata": {},
   "outputs": [
    {
     "data": {
      "text/plain": [
       "array([0, 1], dtype=int64)"
      ]
     },
     "execution_count": 301,
     "metadata": {},
     "output_type": "execute_result"
    }
   ],
   "source": [
    "df_length['rResult'].unique()"
   ]
  },
  {
   "cell_type": "code",
   "execution_count": 302,
   "metadata": {
    "scrolled": true
   },
   "outputs": [
    {
     "data": {
      "text/plain": [
       "array(['NALCS', 'EULCS', 'LCK', 'CBLoL', 'TCL'], dtype=object)"
      ]
     },
     "execution_count": 302,
     "metadata": {},
     "output_type": "execute_result"
    }
   ],
   "source": [
    "df_length['League'].unique()"
   ]
  },
  {
   "cell_type": "code",
   "execution_count": 303,
   "metadata": {},
   "outputs": [
    {
     "data": {
      "text/plain": [
       "array(['Season', 'Playoffs'], dtype=object)"
      ]
     },
     "execution_count": 303,
     "metadata": {},
     "output_type": "execute_result"
    }
   ],
   "source": [
    "df_length['Type'].unique()"
   ]
  },
  {
   "cell_type": "code",
   "execution_count": 304,
   "metadata": {
    "scrolled": true
   },
   "outputs": [
    {
     "data": {
      "text/plain": [
       "Address        object\n",
       "League         object\n",
       "Type           object\n",
       "Year            int64\n",
       "blueTeamTag    object\n",
       "bResult         int64\n",
       "rResult         int64\n",
       "redTeamTag     object\n",
       "gamelength      int64\n",
       "dtype: object"
      ]
     },
     "execution_count": 304,
     "metadata": {},
     "output_type": "execute_result"
    }
   ],
   "source": [
    "df_length.dtypes"
   ]
  },
  {
   "cell_type": "code",
   "execution_count": 306,
   "metadata": {},
   "outputs": [],
   "source": [
    "def get_localisation():\n",
    "    \"\"\"\n",
    "    Récupère la lattitude et la longitude des pays suivants : Corée, Amérique du Nord, Europe, Brésil et Turquie. \n",
    "\n",
    "    Returns:\n",
    "        k : Lattitude et Longitude de la Corée.\n",
    "        na : Lattitude et Longitude de l'Amérique du Nord.\n",
    "        eu : Lattitude et Longitude de l'Europe.\n",
    "        br : Lattitude et Longitude du Brésil.\n",
    "        t : Lattitude et Longitude de la Turquie.\n",
    "    \"\"\"\n",
    "    app = Nominatim(user_agent=\"Adam\")\n",
    "\n",
    "    loc_k  = app.geocode(\"Korea\").raw\n",
    "    loc_na = app.geocode(\"North America\").raw\n",
    "    loc_eu = app.geocode(\"Europe\").raw\n",
    "    loc_br = app.geocode(\"Brazil\").raw\n",
    "    loc_t  = app.geocode(\"Turkey\").raw\n",
    "\n",
    "    k  = [float(loc_k[\"lat\"]) , float(loc_k[\"lon\"])]\n",
    "    na = [float(loc_na[\"lat\"]), float(loc_na[\"lon\"])]\n",
    "    eu = [float(loc_eu[\"lat\"]), float(loc_eu[\"lon\"])]\n",
    "    br = [float(loc_br[\"lat\"]), float(loc_br[\"lon\"])]\n",
    "    t  = [float(loc_t[\"lat\"]), float(loc_t[\"lon\"])]\n",
    "\n",
    "    return k,na,eu,br,t"
   ]
  },
  {
   "cell_type": "code",
   "execution_count": 307,
   "metadata": {},
   "outputs": [],
   "source": [
    "def add_localisation(df, position):\n",
    "    \"\"\"\n",
    "    Ajoute une colonne \"Country\", \"Lattitude\" et \"Longitude\" au dataframe mis en argument selon la ligue du match en question.\n",
    "\n",
    "    Args:\n",
    "        df : dataframe où ajouter les colonnes\n",
    "        position : numéro de la colonne à partir de laquelle ajouter les colonnes\n",
    "    \"\"\"\n",
    "    \n",
    "    k,na,eu,br,t = get_localisation()\n",
    "\n",
    "    country = []\n",
    "    lattitude = []\n",
    "    longitude = []\n",
    "\n",
    "    for elements in df[\"League\"] :\n",
    "        if elements == \"LCK\" :\n",
    "            country.append(\"Korea\")\n",
    "            lattitude.append(k[0])\n",
    "            longitude.append(k[1])\n",
    "        elif elements == \"NALCS\" :\n",
    "            country.append(\"North America\")\n",
    "            lattitude.append(na[0])\n",
    "            longitude.append(na[1])\n",
    "        elif elements == \"EULCS\" :\n",
    "            country.append(\"Europe\")\n",
    "            lattitude.append(eu[0])\n",
    "            longitude.append(eu[1])\n",
    "        elif elements == \"CBLoL\" :\n",
    "            country.append(\"Brazil\")\n",
    "            lattitude.append(br[0])\n",
    "            longitude.append(br[1])\n",
    "        elif elements == \"TCL\" :\n",
    "            country.append(\"Turkey\")\n",
    "            lattitude.append(t[0])\n",
    "            longitude.append(t[1])\n",
    "        else :\n",
    "            country.append(\"not found\")\n",
    "            lattitude.append(\"not found\")\n",
    "            longitude.append(\"not found\")\n",
    "            \n",
    "    df.insert(position, \"Country\", country)\n",
    "    df.insert(position+1, \"Lattitude\", lattitude)\n",
    "    df.insert(position+2, \"Longitude\", longitude)"
   ]
  },
  {
   "cell_type": "code",
   "execution_count": 308,
   "metadata": {
    "scrolled": true
   },
   "outputs": [
    {
     "data": {
      "text/html": [
       "<div>\n",
       "<style scoped>\n",
       "    .dataframe tbody tr th:only-of-type {\n",
       "        vertical-align: middle;\n",
       "    }\n",
       "\n",
       "    .dataframe tbody tr th {\n",
       "        vertical-align: top;\n",
       "    }\n",
       "\n",
       "    .dataframe thead th {\n",
       "        text-align: right;\n",
       "    }\n",
       "</style>\n",
       "<table border=\"1\" class=\"dataframe\">\n",
       "  <thead>\n",
       "    <tr style=\"text-align: right;\">\n",
       "      <th></th>\n",
       "      <th>Address</th>\n",
       "      <th>League</th>\n",
       "      <th>Country</th>\n",
       "      <th>Lattitude</th>\n",
       "      <th>Longitude</th>\n",
       "      <th>Type</th>\n",
       "      <th>Year</th>\n",
       "      <th>blueTeamTag</th>\n",
       "      <th>bResult</th>\n",
       "      <th>rResult</th>\n",
       "      <th>redTeamTag</th>\n",
       "      <th>gamelength</th>\n",
       "    </tr>\n",
       "  </thead>\n",
       "  <tbody>\n",
       "    <tr>\n",
       "      <td>0</td>\n",
       "      <td>http://matchhistory.na.leagueoflegends.com/en/...</td>\n",
       "      <td>NALCS</td>\n",
       "      <td>North America</td>\n",
       "      <td>51.0</td>\n",
       "      <td>-109.0</td>\n",
       "      <td>Season</td>\n",
       "      <td>2015</td>\n",
       "      <td>TSM</td>\n",
       "      <td>1</td>\n",
       "      <td>0</td>\n",
       "      <td>C9</td>\n",
       "      <td>40</td>\n",
       "    </tr>\n",
       "    <tr>\n",
       "      <td>1</td>\n",
       "      <td>http://matchhistory.na.leagueoflegends.com/en/...</td>\n",
       "      <td>NALCS</td>\n",
       "      <td>North America</td>\n",
       "      <td>51.0</td>\n",
       "      <td>-109.0</td>\n",
       "      <td>Season</td>\n",
       "      <td>2015</td>\n",
       "      <td>CST</td>\n",
       "      <td>0</td>\n",
       "      <td>1</td>\n",
       "      <td>DIG</td>\n",
       "      <td>38</td>\n",
       "    </tr>\n",
       "    <tr>\n",
       "      <td>2</td>\n",
       "      <td>http://matchhistory.na.leagueoflegends.com/en/...</td>\n",
       "      <td>NALCS</td>\n",
       "      <td>North America</td>\n",
       "      <td>51.0</td>\n",
       "      <td>-109.0</td>\n",
       "      <td>Season</td>\n",
       "      <td>2015</td>\n",
       "      <td>WFX</td>\n",
       "      <td>1</td>\n",
       "      <td>0</td>\n",
       "      <td>GV</td>\n",
       "      <td>40</td>\n",
       "    </tr>\n",
       "    <tr>\n",
       "      <td>3</td>\n",
       "      <td>http://matchhistory.na.leagueoflegends.com/en/...</td>\n",
       "      <td>NALCS</td>\n",
       "      <td>North America</td>\n",
       "      <td>51.0</td>\n",
       "      <td>-109.0</td>\n",
       "      <td>Season</td>\n",
       "      <td>2015</td>\n",
       "      <td>TIP</td>\n",
       "      <td>0</td>\n",
       "      <td>1</td>\n",
       "      <td>TL</td>\n",
       "      <td>41</td>\n",
       "    </tr>\n",
       "    <tr>\n",
       "      <td>4</td>\n",
       "      <td>http://matchhistory.na.leagueoflegends.com/en/...</td>\n",
       "      <td>NALCS</td>\n",
       "      <td>North America</td>\n",
       "      <td>51.0</td>\n",
       "      <td>-109.0</td>\n",
       "      <td>Season</td>\n",
       "      <td>2015</td>\n",
       "      <td>CLG</td>\n",
       "      <td>1</td>\n",
       "      <td>0</td>\n",
       "      <td>T8</td>\n",
       "      <td>35</td>\n",
       "    </tr>\n",
       "  </tbody>\n",
       "</table>\n",
       "</div>"
      ],
      "text/plain": [
       "                                             Address League        Country  \\\n",
       "0  http://matchhistory.na.leagueoflegends.com/en/...  NALCS  North America   \n",
       "1  http://matchhistory.na.leagueoflegends.com/en/...  NALCS  North America   \n",
       "2  http://matchhistory.na.leagueoflegends.com/en/...  NALCS  North America   \n",
       "3  http://matchhistory.na.leagueoflegends.com/en/...  NALCS  North America   \n",
       "4  http://matchhistory.na.leagueoflegends.com/en/...  NALCS  North America   \n",
       "\n",
       "   Lattitude  Longitude    Type  Year blueTeamTag  bResult  rResult  \\\n",
       "0       51.0     -109.0  Season  2015         TSM        1        0   \n",
       "1       51.0     -109.0  Season  2015         CST        0        1   \n",
       "2       51.0     -109.0  Season  2015         WFX        1        0   \n",
       "3       51.0     -109.0  Season  2015         TIP        0        1   \n",
       "4       51.0     -109.0  Season  2015         CLG        1        0   \n",
       "\n",
       "  redTeamTag  gamelength  \n",
       "0         C9          40  \n",
       "1        DIG          38  \n",
       "2         GV          40  \n",
       "3         TL          41  \n",
       "4         T8          35  "
      ]
     },
     "execution_count": 308,
     "metadata": {},
     "output_type": "execute_result"
    }
   ],
   "source": [
    "add_localisation(df_length,2)\n",
    "df_length.head()"
   ]
  },
  {
   "cell_type": "code",
   "execution_count": 309,
   "metadata": {
    "scrolled": false
   },
   "outputs": [
    {
     "data": {
      "text/plain": [
       "Address         object\n",
       "League          object\n",
       "Country         object\n",
       "Lattitude      float64\n",
       "Longitude      float64\n",
       "Type            object\n",
       "Year             int64\n",
       "blueTeamTag     object\n",
       "bResult          int64\n",
       "rResult          int64\n",
       "redTeamTag      object\n",
       "gamelength       int64\n",
       "dtype: object"
      ]
     },
     "execution_count": 309,
     "metadata": {},
     "output_type": "execute_result"
    }
   ],
   "source": [
    "df_length.dtypes"
   ]
  },
  {
   "cell_type": "code",
   "execution_count": 310,
   "metadata": {},
   "outputs": [
    {
     "data": {
      "text/html": [
       "<div>\n",
       "<style scoped>\n",
       "    .dataframe tbody tr th:only-of-type {\n",
       "        vertical-align: middle;\n",
       "    }\n",
       "\n",
       "    .dataframe tbody tr th {\n",
       "        vertical-align: top;\n",
       "    }\n",
       "\n",
       "    .dataframe thead th {\n",
       "        text-align: right;\n",
       "    }\n",
       "</style>\n",
       "<table border=\"1\" class=\"dataframe\">\n",
       "  <thead>\n",
       "    <tr style=\"text-align: right;\">\n",
       "      <th></th>\n",
       "      <th>Lattitude</th>\n",
       "      <th>Longitude</th>\n",
       "      <th>Year</th>\n",
       "      <th>bResult</th>\n",
       "      <th>rResult</th>\n",
       "      <th>gamelength</th>\n",
       "    </tr>\n",
       "    <tr>\n",
       "      <th>Country</th>\n",
       "      <th></th>\n",
       "      <th></th>\n",
       "      <th></th>\n",
       "      <th></th>\n",
       "      <th></th>\n",
       "      <th></th>\n",
       "    </tr>\n",
       "  </thead>\n",
       "  <tbody>\n",
       "    <tr>\n",
       "      <td>Brazil</td>\n",
       "      <td>-10.333333</td>\n",
       "      <td>-53.200000</td>\n",
       "      <td>2016.578073</td>\n",
       "      <td>0.544850</td>\n",
       "      <td>0.455150</td>\n",
       "      <td>39.777409</td>\n",
       "    </tr>\n",
       "    <tr>\n",
       "      <td>Europe</td>\n",
       "      <td>51.000000</td>\n",
       "      <td>10.000000</td>\n",
       "      <td>2016.175647</td>\n",
       "      <td>0.548491</td>\n",
       "      <td>0.451509</td>\n",
       "      <td>37.052802</td>\n",
       "    </tr>\n",
       "    <tr>\n",
       "      <td>Korea</td>\n",
       "      <td>36.638392</td>\n",
       "      <td>127.696119</td>\n",
       "      <td>2016.146287</td>\n",
       "      <td>0.554389</td>\n",
       "      <td>0.445611</td>\n",
       "      <td>38.670668</td>\n",
       "    </tr>\n",
       "    <tr>\n",
       "      <td>North America</td>\n",
       "      <td>51.000000</td>\n",
       "      <td>-109.000000</td>\n",
       "      <td>2016.275455</td>\n",
       "      <td>0.547273</td>\n",
       "      <td>0.452727</td>\n",
       "      <td>36.955455</td>\n",
       "    </tr>\n",
       "    <tr>\n",
       "      <td>Turkey</td>\n",
       "      <td>38.959759</td>\n",
       "      <td>34.924965</td>\n",
       "      <td>2016.237366</td>\n",
       "      <td>0.566616</td>\n",
       "      <td>0.433384</td>\n",
       "      <td>36.026034</td>\n",
       "    </tr>\n",
       "  </tbody>\n",
       "</table>\n",
       "</div>"
      ],
      "text/plain": [
       "               Lattitude   Longitude         Year   bResult   rResult  \\\n",
       "Country                                                                 \n",
       "Brazil        -10.333333  -53.200000  2016.578073  0.544850  0.455150   \n",
       "Europe         51.000000   10.000000  2016.175647  0.548491  0.451509   \n",
       "Korea          36.638392  127.696119  2016.146287  0.554389  0.445611   \n",
       "North America  51.000000 -109.000000  2016.275455  0.547273  0.452727   \n",
       "Turkey         38.959759   34.924965  2016.237366  0.566616  0.433384   \n",
       "\n",
       "               gamelength  \n",
       "Country                    \n",
       "Brazil          39.777409  \n",
       "Europe          37.052802  \n",
       "Korea           38.670668  \n",
       "North America   36.955455  \n",
       "Turkey          36.026034  "
      ]
     },
     "execution_count": 310,
     "metadata": {},
     "output_type": "execute_result"
    }
   ],
   "source": [
    "df_length.groupby(['Country']).mean()"
   ]
  },
  {
   "cell_type": "code",
   "execution_count": 311,
   "metadata": {
    "scrolled": true
   },
   "outputs": [
    {
     "data": {
      "application/vnd.plotly.v1+json": {
       "config": {
        "plotlyServerURL": "https://plot.ly"
       },
       "data": [
        {
         "alignmentgroup": "True",
         "hovertemplate": "Country=%{x}<br>gamelength=%{y}<extra></extra>",
         "legendgroup": "",
         "marker": {
          "color": "#636efa",
          "pattern": {
           "shape": ""
          }
         },
         "name": "",
         "offsetgroup": "",
         "orientation": "v",
         "showlegend": false,
         "textposition": "auto",
         "type": "bar",
         "x": [
          "Brazil",
          "Europe",
          "Korea",
          "North America",
          "Turkey"
         ],
         "xaxis": "x",
         "y": [
          39.777408637873755,
          37.05280172413793,
          38.67066766691673,
          36.95545454545454,
          36.0260336906585
         ],
         "yaxis": "y"
        }
       ],
       "layout": {
        "barmode": "relative",
        "legend": {
         "tracegroupgap": 0
        },
        "margin": {
         "t": 60
        },
        "template": {
         "data": {
          "bar": [
           {
            "error_x": {
             "color": "#2a3f5f"
            },
            "error_y": {
             "color": "#2a3f5f"
            },
            "marker": {
             "line": {
              "color": "#E5ECF6",
              "width": 0.5
             },
             "pattern": {
              "fillmode": "overlay",
              "size": 10,
              "solidity": 0.2
             }
            },
            "type": "bar"
           }
          ],
          "barpolar": [
           {
            "marker": {
             "line": {
              "color": "#E5ECF6",
              "width": 0.5
             },
             "pattern": {
              "fillmode": "overlay",
              "size": 10,
              "solidity": 0.2
             }
            },
            "type": "barpolar"
           }
          ],
          "carpet": [
           {
            "aaxis": {
             "endlinecolor": "#2a3f5f",
             "gridcolor": "white",
             "linecolor": "white",
             "minorgridcolor": "white",
             "startlinecolor": "#2a3f5f"
            },
            "baxis": {
             "endlinecolor": "#2a3f5f",
             "gridcolor": "white",
             "linecolor": "white",
             "minorgridcolor": "white",
             "startlinecolor": "#2a3f5f"
            },
            "type": "carpet"
           }
          ],
          "choropleth": [
           {
            "colorbar": {
             "outlinewidth": 0,
             "ticks": ""
            },
            "type": "choropleth"
           }
          ],
          "contour": [
           {
            "colorbar": {
             "outlinewidth": 0,
             "ticks": ""
            },
            "colorscale": [
             [
              0,
              "#0d0887"
             ],
             [
              0.1111111111111111,
              "#46039f"
             ],
             [
              0.2222222222222222,
              "#7201a8"
             ],
             [
              0.3333333333333333,
              "#9c179e"
             ],
             [
              0.4444444444444444,
              "#bd3786"
             ],
             [
              0.5555555555555556,
              "#d8576b"
             ],
             [
              0.6666666666666666,
              "#ed7953"
             ],
             [
              0.7777777777777778,
              "#fb9f3a"
             ],
             [
              0.8888888888888888,
              "#fdca26"
             ],
             [
              1,
              "#f0f921"
             ]
            ],
            "type": "contour"
           }
          ],
          "contourcarpet": [
           {
            "colorbar": {
             "outlinewidth": 0,
             "ticks": ""
            },
            "type": "contourcarpet"
           }
          ],
          "heatmap": [
           {
            "colorbar": {
             "outlinewidth": 0,
             "ticks": ""
            },
            "colorscale": [
             [
              0,
              "#0d0887"
             ],
             [
              0.1111111111111111,
              "#46039f"
             ],
             [
              0.2222222222222222,
              "#7201a8"
             ],
             [
              0.3333333333333333,
              "#9c179e"
             ],
             [
              0.4444444444444444,
              "#bd3786"
             ],
             [
              0.5555555555555556,
              "#d8576b"
             ],
             [
              0.6666666666666666,
              "#ed7953"
             ],
             [
              0.7777777777777778,
              "#fb9f3a"
             ],
             [
              0.8888888888888888,
              "#fdca26"
             ],
             [
              1,
              "#f0f921"
             ]
            ],
            "type": "heatmap"
           }
          ],
          "heatmapgl": [
           {
            "colorbar": {
             "outlinewidth": 0,
             "ticks": ""
            },
            "colorscale": [
             [
              0,
              "#0d0887"
             ],
             [
              0.1111111111111111,
              "#46039f"
             ],
             [
              0.2222222222222222,
              "#7201a8"
             ],
             [
              0.3333333333333333,
              "#9c179e"
             ],
             [
              0.4444444444444444,
              "#bd3786"
             ],
             [
              0.5555555555555556,
              "#d8576b"
             ],
             [
              0.6666666666666666,
              "#ed7953"
             ],
             [
              0.7777777777777778,
              "#fb9f3a"
             ],
             [
              0.8888888888888888,
              "#fdca26"
             ],
             [
              1,
              "#f0f921"
             ]
            ],
            "type": "heatmapgl"
           }
          ],
          "histogram": [
           {
            "marker": {
             "pattern": {
              "fillmode": "overlay",
              "size": 10,
              "solidity": 0.2
             }
            },
            "type": "histogram"
           }
          ],
          "histogram2d": [
           {
            "colorbar": {
             "outlinewidth": 0,
             "ticks": ""
            },
            "colorscale": [
             [
              0,
              "#0d0887"
             ],
             [
              0.1111111111111111,
              "#46039f"
             ],
             [
              0.2222222222222222,
              "#7201a8"
             ],
             [
              0.3333333333333333,
              "#9c179e"
             ],
             [
              0.4444444444444444,
              "#bd3786"
             ],
             [
              0.5555555555555556,
              "#d8576b"
             ],
             [
              0.6666666666666666,
              "#ed7953"
             ],
             [
              0.7777777777777778,
              "#fb9f3a"
             ],
             [
              0.8888888888888888,
              "#fdca26"
             ],
             [
              1,
              "#f0f921"
             ]
            ],
            "type": "histogram2d"
           }
          ],
          "histogram2dcontour": [
           {
            "colorbar": {
             "outlinewidth": 0,
             "ticks": ""
            },
            "colorscale": [
             [
              0,
              "#0d0887"
             ],
             [
              0.1111111111111111,
              "#46039f"
             ],
             [
              0.2222222222222222,
              "#7201a8"
             ],
             [
              0.3333333333333333,
              "#9c179e"
             ],
             [
              0.4444444444444444,
              "#bd3786"
             ],
             [
              0.5555555555555556,
              "#d8576b"
             ],
             [
              0.6666666666666666,
              "#ed7953"
             ],
             [
              0.7777777777777778,
              "#fb9f3a"
             ],
             [
              0.8888888888888888,
              "#fdca26"
             ],
             [
              1,
              "#f0f921"
             ]
            ],
            "type": "histogram2dcontour"
           }
          ],
          "mesh3d": [
           {
            "colorbar": {
             "outlinewidth": 0,
             "ticks": ""
            },
            "type": "mesh3d"
           }
          ],
          "parcoords": [
           {
            "line": {
             "colorbar": {
              "outlinewidth": 0,
              "ticks": ""
             }
            },
            "type": "parcoords"
           }
          ],
          "pie": [
           {
            "automargin": true,
            "type": "pie"
           }
          ],
          "scatter": [
           {
            "marker": {
             "colorbar": {
              "outlinewidth": 0,
              "ticks": ""
             }
            },
            "type": "scatter"
           }
          ],
          "scatter3d": [
           {
            "line": {
             "colorbar": {
              "outlinewidth": 0,
              "ticks": ""
             }
            },
            "marker": {
             "colorbar": {
              "outlinewidth": 0,
              "ticks": ""
             }
            },
            "type": "scatter3d"
           }
          ],
          "scattercarpet": [
           {
            "marker": {
             "colorbar": {
              "outlinewidth": 0,
              "ticks": ""
             }
            },
            "type": "scattercarpet"
           }
          ],
          "scattergeo": [
           {
            "marker": {
             "colorbar": {
              "outlinewidth": 0,
              "ticks": ""
             }
            },
            "type": "scattergeo"
           }
          ],
          "scattergl": [
           {
            "marker": {
             "colorbar": {
              "outlinewidth": 0,
              "ticks": ""
             }
            },
            "type": "scattergl"
           }
          ],
          "scattermapbox": [
           {
            "marker": {
             "colorbar": {
              "outlinewidth": 0,
              "ticks": ""
             }
            },
            "type": "scattermapbox"
           }
          ],
          "scatterpolar": [
           {
            "marker": {
             "colorbar": {
              "outlinewidth": 0,
              "ticks": ""
             }
            },
            "type": "scatterpolar"
           }
          ],
          "scatterpolargl": [
           {
            "marker": {
             "colorbar": {
              "outlinewidth": 0,
              "ticks": ""
             }
            },
            "type": "scatterpolargl"
           }
          ],
          "scatterternary": [
           {
            "marker": {
             "colorbar": {
              "outlinewidth": 0,
              "ticks": ""
             }
            },
            "type": "scatterternary"
           }
          ],
          "surface": [
           {
            "colorbar": {
             "outlinewidth": 0,
             "ticks": ""
            },
            "colorscale": [
             [
              0,
              "#0d0887"
             ],
             [
              0.1111111111111111,
              "#46039f"
             ],
             [
              0.2222222222222222,
              "#7201a8"
             ],
             [
              0.3333333333333333,
              "#9c179e"
             ],
             [
              0.4444444444444444,
              "#bd3786"
             ],
             [
              0.5555555555555556,
              "#d8576b"
             ],
             [
              0.6666666666666666,
              "#ed7953"
             ],
             [
              0.7777777777777778,
              "#fb9f3a"
             ],
             [
              0.8888888888888888,
              "#fdca26"
             ],
             [
              1,
              "#f0f921"
             ]
            ],
            "type": "surface"
           }
          ],
          "table": [
           {
            "cells": {
             "fill": {
              "color": "#EBF0F8"
             },
             "line": {
              "color": "white"
             }
            },
            "header": {
             "fill": {
              "color": "#C8D4E3"
             },
             "line": {
              "color": "white"
             }
            },
            "type": "table"
           }
          ]
         },
         "layout": {
          "annotationdefaults": {
           "arrowcolor": "#2a3f5f",
           "arrowhead": 0,
           "arrowwidth": 1
          },
          "autotypenumbers": "strict",
          "coloraxis": {
           "colorbar": {
            "outlinewidth": 0,
            "ticks": ""
           }
          },
          "colorscale": {
           "diverging": [
            [
             0,
             "#8e0152"
            ],
            [
             0.1,
             "#c51b7d"
            ],
            [
             0.2,
             "#de77ae"
            ],
            [
             0.3,
             "#f1b6da"
            ],
            [
             0.4,
             "#fde0ef"
            ],
            [
             0.5,
             "#f7f7f7"
            ],
            [
             0.6,
             "#e6f5d0"
            ],
            [
             0.7,
             "#b8e186"
            ],
            [
             0.8,
             "#7fbc41"
            ],
            [
             0.9,
             "#4d9221"
            ],
            [
             1,
             "#276419"
            ]
           ],
           "sequential": [
            [
             0,
             "#0d0887"
            ],
            [
             0.1111111111111111,
             "#46039f"
            ],
            [
             0.2222222222222222,
             "#7201a8"
            ],
            [
             0.3333333333333333,
             "#9c179e"
            ],
            [
             0.4444444444444444,
             "#bd3786"
            ],
            [
             0.5555555555555556,
             "#d8576b"
            ],
            [
             0.6666666666666666,
             "#ed7953"
            ],
            [
             0.7777777777777778,
             "#fb9f3a"
            ],
            [
             0.8888888888888888,
             "#fdca26"
            ],
            [
             1,
             "#f0f921"
            ]
           ],
           "sequentialminus": [
            [
             0,
             "#0d0887"
            ],
            [
             0.1111111111111111,
             "#46039f"
            ],
            [
             0.2222222222222222,
             "#7201a8"
            ],
            [
             0.3333333333333333,
             "#9c179e"
            ],
            [
             0.4444444444444444,
             "#bd3786"
            ],
            [
             0.5555555555555556,
             "#d8576b"
            ],
            [
             0.6666666666666666,
             "#ed7953"
            ],
            [
             0.7777777777777778,
             "#fb9f3a"
            ],
            [
             0.8888888888888888,
             "#fdca26"
            ],
            [
             1,
             "#f0f921"
            ]
           ]
          },
          "colorway": [
           "#636efa",
           "#EF553B",
           "#00cc96",
           "#ab63fa",
           "#FFA15A",
           "#19d3f3",
           "#FF6692",
           "#B6E880",
           "#FF97FF",
           "#FECB52"
          ],
          "font": {
           "color": "#2a3f5f"
          },
          "geo": {
           "bgcolor": "white",
           "lakecolor": "white",
           "landcolor": "#E5ECF6",
           "showlakes": true,
           "showland": true,
           "subunitcolor": "white"
          },
          "hoverlabel": {
           "align": "left"
          },
          "hovermode": "closest",
          "mapbox": {
           "style": "light"
          },
          "paper_bgcolor": "white",
          "plot_bgcolor": "#E5ECF6",
          "polar": {
           "angularaxis": {
            "gridcolor": "white",
            "linecolor": "white",
            "ticks": ""
           },
           "bgcolor": "#E5ECF6",
           "radialaxis": {
            "gridcolor": "white",
            "linecolor": "white",
            "ticks": ""
           }
          },
          "scene": {
           "xaxis": {
            "backgroundcolor": "#E5ECF6",
            "gridcolor": "white",
            "gridwidth": 2,
            "linecolor": "white",
            "showbackground": true,
            "ticks": "",
            "zerolinecolor": "white"
           },
           "yaxis": {
            "backgroundcolor": "#E5ECF6",
            "gridcolor": "white",
            "gridwidth": 2,
            "linecolor": "white",
            "showbackground": true,
            "ticks": "",
            "zerolinecolor": "white"
           },
           "zaxis": {
            "backgroundcolor": "#E5ECF6",
            "gridcolor": "white",
            "gridwidth": 2,
            "linecolor": "white",
            "showbackground": true,
            "ticks": "",
            "zerolinecolor": "white"
           }
          },
          "shapedefaults": {
           "line": {
            "color": "#2a3f5f"
           }
          },
          "ternary": {
           "aaxis": {
            "gridcolor": "white",
            "linecolor": "white",
            "ticks": ""
           },
           "baxis": {
            "gridcolor": "white",
            "linecolor": "white",
            "ticks": ""
           },
           "bgcolor": "#E5ECF6",
           "caxis": {
            "gridcolor": "white",
            "linecolor": "white",
            "ticks": ""
           }
          },
          "title": {
           "x": 0.05
          },
          "xaxis": {
           "automargin": true,
           "gridcolor": "white",
           "linecolor": "white",
           "ticks": "",
           "title": {
            "standoff": 15
           },
           "zerolinecolor": "white",
           "zerolinewidth": 2
          },
          "yaxis": {
           "automargin": true,
           "gridcolor": "white",
           "linecolor": "white",
           "ticks": "",
           "title": {
            "standoff": 15
           },
           "zerolinecolor": "white",
           "zerolinewidth": 2
          }
         }
        },
        "xaxis": {
         "anchor": "y",
         "domain": [
          0,
          1
         ],
         "title": {
          "text": "Country"
         }
        },
        "yaxis": {
         "anchor": "x",
         "domain": [
          0,
          1
         ],
         "title": {
          "text": "gamelength"
         }
        }
       }
      },
      "text/html": [
       "<div>                            <div id=\"0e9c79bc-1912-42fb-a8e7-23765f67a805\" class=\"plotly-graph-div\" style=\"height:525px; width:100%;\"></div>            <script type=\"text/javascript\">                require([\"plotly\"], function(Plotly) {                    window.PLOTLYENV=window.PLOTLYENV || {};                                    if (document.getElementById(\"0e9c79bc-1912-42fb-a8e7-23765f67a805\")) {                    Plotly.newPlot(                        \"0e9c79bc-1912-42fb-a8e7-23765f67a805\",                        [{\"alignmentgroup\":\"True\",\"hovertemplate\":\"Country=%{x}<br>gamelength=%{y}<extra></extra>\",\"legendgroup\":\"\",\"marker\":{\"color\":\"#636efa\",\"pattern\":{\"shape\":\"\"}},\"name\":\"\",\"offsetgroup\":\"\",\"orientation\":\"v\",\"showlegend\":false,\"textposition\":\"auto\",\"type\":\"bar\",\"x\":[\"Brazil\",\"Europe\",\"Korea\",\"North America\",\"Turkey\"],\"xaxis\":\"x\",\"y\":[39.777408637873755,37.05280172413793,38.67066766691673,36.95545454545454,36.0260336906585],\"yaxis\":\"y\"}],                        {\"barmode\":\"relative\",\"legend\":{\"tracegroupgap\":0},\"margin\":{\"t\":60},\"template\":{\"data\":{\"bar\":[{\"error_x\":{\"color\":\"#2a3f5f\"},\"error_y\":{\"color\":\"#2a3f5f\"},\"marker\":{\"line\":{\"color\":\"#E5ECF6\",\"width\":0.5},\"pattern\":{\"fillmode\":\"overlay\",\"size\":10,\"solidity\":0.2}},\"type\":\"bar\"}],\"barpolar\":[{\"marker\":{\"line\":{\"color\":\"#E5ECF6\",\"width\":0.5},\"pattern\":{\"fillmode\":\"overlay\",\"size\":10,\"solidity\":0.2}},\"type\":\"barpolar\"}],\"carpet\":[{\"aaxis\":{\"endlinecolor\":\"#2a3f5f\",\"gridcolor\":\"white\",\"linecolor\":\"white\",\"minorgridcolor\":\"white\",\"startlinecolor\":\"#2a3f5f\"},\"baxis\":{\"endlinecolor\":\"#2a3f5f\",\"gridcolor\":\"white\",\"linecolor\":\"white\",\"minorgridcolor\":\"white\",\"startlinecolor\":\"#2a3f5f\"},\"type\":\"carpet\"}],\"choropleth\":[{\"colorbar\":{\"outlinewidth\":0,\"ticks\":\"\"},\"type\":\"choropleth\"}],\"contour\":[{\"colorbar\":{\"outlinewidth\":0,\"ticks\":\"\"},\"colorscale\":[[0.0,\"#0d0887\"],[0.1111111111111111,\"#46039f\"],[0.2222222222222222,\"#7201a8\"],[0.3333333333333333,\"#9c179e\"],[0.4444444444444444,\"#bd3786\"],[0.5555555555555556,\"#d8576b\"],[0.6666666666666666,\"#ed7953\"],[0.7777777777777778,\"#fb9f3a\"],[0.8888888888888888,\"#fdca26\"],[1.0,\"#f0f921\"]],\"type\":\"contour\"}],\"contourcarpet\":[{\"colorbar\":{\"outlinewidth\":0,\"ticks\":\"\"},\"type\":\"contourcarpet\"}],\"heatmap\":[{\"colorbar\":{\"outlinewidth\":0,\"ticks\":\"\"},\"colorscale\":[[0.0,\"#0d0887\"],[0.1111111111111111,\"#46039f\"],[0.2222222222222222,\"#7201a8\"],[0.3333333333333333,\"#9c179e\"],[0.4444444444444444,\"#bd3786\"],[0.5555555555555556,\"#d8576b\"],[0.6666666666666666,\"#ed7953\"],[0.7777777777777778,\"#fb9f3a\"],[0.8888888888888888,\"#fdca26\"],[1.0,\"#f0f921\"]],\"type\":\"heatmap\"}],\"heatmapgl\":[{\"colorbar\":{\"outlinewidth\":0,\"ticks\":\"\"},\"colorscale\":[[0.0,\"#0d0887\"],[0.1111111111111111,\"#46039f\"],[0.2222222222222222,\"#7201a8\"],[0.3333333333333333,\"#9c179e\"],[0.4444444444444444,\"#bd3786\"],[0.5555555555555556,\"#d8576b\"],[0.6666666666666666,\"#ed7953\"],[0.7777777777777778,\"#fb9f3a\"],[0.8888888888888888,\"#fdca26\"],[1.0,\"#f0f921\"]],\"type\":\"heatmapgl\"}],\"histogram\":[{\"marker\":{\"pattern\":{\"fillmode\":\"overlay\",\"size\":10,\"solidity\":0.2}},\"type\":\"histogram\"}],\"histogram2d\":[{\"colorbar\":{\"outlinewidth\":0,\"ticks\":\"\"},\"colorscale\":[[0.0,\"#0d0887\"],[0.1111111111111111,\"#46039f\"],[0.2222222222222222,\"#7201a8\"],[0.3333333333333333,\"#9c179e\"],[0.4444444444444444,\"#bd3786\"],[0.5555555555555556,\"#d8576b\"],[0.6666666666666666,\"#ed7953\"],[0.7777777777777778,\"#fb9f3a\"],[0.8888888888888888,\"#fdca26\"],[1.0,\"#f0f921\"]],\"type\":\"histogram2d\"}],\"histogram2dcontour\":[{\"colorbar\":{\"outlinewidth\":0,\"ticks\":\"\"},\"colorscale\":[[0.0,\"#0d0887\"],[0.1111111111111111,\"#46039f\"],[0.2222222222222222,\"#7201a8\"],[0.3333333333333333,\"#9c179e\"],[0.4444444444444444,\"#bd3786\"],[0.5555555555555556,\"#d8576b\"],[0.6666666666666666,\"#ed7953\"],[0.7777777777777778,\"#fb9f3a\"],[0.8888888888888888,\"#fdca26\"],[1.0,\"#f0f921\"]],\"type\":\"histogram2dcontour\"}],\"mesh3d\":[{\"colorbar\":{\"outlinewidth\":0,\"ticks\":\"\"},\"type\":\"mesh3d\"}],\"parcoords\":[{\"line\":{\"colorbar\":{\"outlinewidth\":0,\"ticks\":\"\"}},\"type\":\"parcoords\"}],\"pie\":[{\"automargin\":true,\"type\":\"pie\"}],\"scatter\":[{\"marker\":{\"colorbar\":{\"outlinewidth\":0,\"ticks\":\"\"}},\"type\":\"scatter\"}],\"scatter3d\":[{\"line\":{\"colorbar\":{\"outlinewidth\":0,\"ticks\":\"\"}},\"marker\":{\"colorbar\":{\"outlinewidth\":0,\"ticks\":\"\"}},\"type\":\"scatter3d\"}],\"scattercarpet\":[{\"marker\":{\"colorbar\":{\"outlinewidth\":0,\"ticks\":\"\"}},\"type\":\"scattercarpet\"}],\"scattergeo\":[{\"marker\":{\"colorbar\":{\"outlinewidth\":0,\"ticks\":\"\"}},\"type\":\"scattergeo\"}],\"scattergl\":[{\"marker\":{\"colorbar\":{\"outlinewidth\":0,\"ticks\":\"\"}},\"type\":\"scattergl\"}],\"scattermapbox\":[{\"marker\":{\"colorbar\":{\"outlinewidth\":0,\"ticks\":\"\"}},\"type\":\"scattermapbox\"}],\"scatterpolar\":[{\"marker\":{\"colorbar\":{\"outlinewidth\":0,\"ticks\":\"\"}},\"type\":\"scatterpolar\"}],\"scatterpolargl\":[{\"marker\":{\"colorbar\":{\"outlinewidth\":0,\"ticks\":\"\"}},\"type\":\"scatterpolargl\"}],\"scatterternary\":[{\"marker\":{\"colorbar\":{\"outlinewidth\":0,\"ticks\":\"\"}},\"type\":\"scatterternary\"}],\"surface\":[{\"colorbar\":{\"outlinewidth\":0,\"ticks\":\"\"},\"colorscale\":[[0.0,\"#0d0887\"],[0.1111111111111111,\"#46039f\"],[0.2222222222222222,\"#7201a8\"],[0.3333333333333333,\"#9c179e\"],[0.4444444444444444,\"#bd3786\"],[0.5555555555555556,\"#d8576b\"],[0.6666666666666666,\"#ed7953\"],[0.7777777777777778,\"#fb9f3a\"],[0.8888888888888888,\"#fdca26\"],[1.0,\"#f0f921\"]],\"type\":\"surface\"}],\"table\":[{\"cells\":{\"fill\":{\"color\":\"#EBF0F8\"},\"line\":{\"color\":\"white\"}},\"header\":{\"fill\":{\"color\":\"#C8D4E3\"},\"line\":{\"color\":\"white\"}},\"type\":\"table\"}]},\"layout\":{\"annotationdefaults\":{\"arrowcolor\":\"#2a3f5f\",\"arrowhead\":0,\"arrowwidth\":1},\"autotypenumbers\":\"strict\",\"coloraxis\":{\"colorbar\":{\"outlinewidth\":0,\"ticks\":\"\"}},\"colorscale\":{\"diverging\":[[0,\"#8e0152\"],[0.1,\"#c51b7d\"],[0.2,\"#de77ae\"],[0.3,\"#f1b6da\"],[0.4,\"#fde0ef\"],[0.5,\"#f7f7f7\"],[0.6,\"#e6f5d0\"],[0.7,\"#b8e186\"],[0.8,\"#7fbc41\"],[0.9,\"#4d9221\"],[1,\"#276419\"]],\"sequential\":[[0.0,\"#0d0887\"],[0.1111111111111111,\"#46039f\"],[0.2222222222222222,\"#7201a8\"],[0.3333333333333333,\"#9c179e\"],[0.4444444444444444,\"#bd3786\"],[0.5555555555555556,\"#d8576b\"],[0.6666666666666666,\"#ed7953\"],[0.7777777777777778,\"#fb9f3a\"],[0.8888888888888888,\"#fdca26\"],[1.0,\"#f0f921\"]],\"sequentialminus\":[[0.0,\"#0d0887\"],[0.1111111111111111,\"#46039f\"],[0.2222222222222222,\"#7201a8\"],[0.3333333333333333,\"#9c179e\"],[0.4444444444444444,\"#bd3786\"],[0.5555555555555556,\"#d8576b\"],[0.6666666666666666,\"#ed7953\"],[0.7777777777777778,\"#fb9f3a\"],[0.8888888888888888,\"#fdca26\"],[1.0,\"#f0f921\"]]},\"colorway\":[\"#636efa\",\"#EF553B\",\"#00cc96\",\"#ab63fa\",\"#FFA15A\",\"#19d3f3\",\"#FF6692\",\"#B6E880\",\"#FF97FF\",\"#FECB52\"],\"font\":{\"color\":\"#2a3f5f\"},\"geo\":{\"bgcolor\":\"white\",\"lakecolor\":\"white\",\"landcolor\":\"#E5ECF6\",\"showlakes\":true,\"showland\":true,\"subunitcolor\":\"white\"},\"hoverlabel\":{\"align\":\"left\"},\"hovermode\":\"closest\",\"mapbox\":{\"style\":\"light\"},\"paper_bgcolor\":\"white\",\"plot_bgcolor\":\"#E5ECF6\",\"polar\":{\"angularaxis\":{\"gridcolor\":\"white\",\"linecolor\":\"white\",\"ticks\":\"\"},\"bgcolor\":\"#E5ECF6\",\"radialaxis\":{\"gridcolor\":\"white\",\"linecolor\":\"white\",\"ticks\":\"\"}},\"scene\":{\"xaxis\":{\"backgroundcolor\":\"#E5ECF6\",\"gridcolor\":\"white\",\"gridwidth\":2,\"linecolor\":\"white\",\"showbackground\":true,\"ticks\":\"\",\"zerolinecolor\":\"white\"},\"yaxis\":{\"backgroundcolor\":\"#E5ECF6\",\"gridcolor\":\"white\",\"gridwidth\":2,\"linecolor\":\"white\",\"showbackground\":true,\"ticks\":\"\",\"zerolinecolor\":\"white\"},\"zaxis\":{\"backgroundcolor\":\"#E5ECF6\",\"gridcolor\":\"white\",\"gridwidth\":2,\"linecolor\":\"white\",\"showbackground\":true,\"ticks\":\"\",\"zerolinecolor\":\"white\"}},\"shapedefaults\":{\"line\":{\"color\":\"#2a3f5f\"}},\"ternary\":{\"aaxis\":{\"gridcolor\":\"white\",\"linecolor\":\"white\",\"ticks\":\"\"},\"baxis\":{\"gridcolor\":\"white\",\"linecolor\":\"white\",\"ticks\":\"\"},\"bgcolor\":\"#E5ECF6\",\"caxis\":{\"gridcolor\":\"white\",\"linecolor\":\"white\",\"ticks\":\"\"}},\"title\":{\"x\":0.05},\"xaxis\":{\"automargin\":true,\"gridcolor\":\"white\",\"linecolor\":\"white\",\"ticks\":\"\",\"title\":{\"standoff\":15},\"zerolinecolor\":\"white\",\"zerolinewidth\":2},\"yaxis\":{\"automargin\":true,\"gridcolor\":\"white\",\"linecolor\":\"white\",\"ticks\":\"\",\"title\":{\"standoff\":15},\"zerolinecolor\":\"white\",\"zerolinewidth\":2}}},\"xaxis\":{\"anchor\":\"y\",\"domain\":[0.0,1.0],\"title\":{\"text\":\"Country\"}},\"yaxis\":{\"anchor\":\"x\",\"domain\":[0.0,1.0],\"title\":{\"text\":\"gamelength\"}}},                        {\"responsive\": true}                    ).then(function(){\n",
       "                            \n",
       "var gd = document.getElementById('0e9c79bc-1912-42fb-a8e7-23765f67a805');\n",
       "var x = new MutationObserver(function (mutations, observer) {{\n",
       "        var display = window.getComputedStyle(gd).display;\n",
       "        if (!display || display === 'none') {{\n",
       "            console.log([gd, 'removed!']);\n",
       "            Plotly.purge(gd);\n",
       "            observer.disconnect();\n",
       "        }}\n",
       "}});\n",
       "\n",
       "// Listen for the removal of the full notebook cells\n",
       "var notebookContainer = gd.closest('#notebook-container');\n",
       "if (notebookContainer) {{\n",
       "    x.observe(notebookContainer, {childList: true});\n",
       "}}\n",
       "\n",
       "// Listen for the clearing of the current output cell\n",
       "var outputEl = gd.closest('.output');\n",
       "if (outputEl) {{\n",
       "    x.observe(outputEl, {childList: true});\n",
       "}}\n",
       "\n",
       "                        })                };                });            </script>        </div>"
      ]
     },
     "metadata": {},
     "output_type": "display_data"
    }
   ],
   "source": [
    "fig = px.bar(df_length.groupby(['Country']).mean(), y=\"gamelength\",)\n",
    "fig.show()"
   ]
  },
  {
   "cell_type": "code",
   "execution_count": 312,
   "metadata": {},
   "outputs": [
    {
     "data": {
      "text/html": [
       "<div>\n",
       "<style scoped>\n",
       "    .dataframe tbody tr th:only-of-type {\n",
       "        vertical-align: middle;\n",
       "    }\n",
       "\n",
       "    .dataframe tbody tr th {\n",
       "        vertical-align: top;\n",
       "    }\n",
       "\n",
       "    .dataframe thead th {\n",
       "        text-align: right;\n",
       "    }\n",
       "</style>\n",
       "<table border=\"1\" class=\"dataframe\">\n",
       "  <thead>\n",
       "    <tr style=\"text-align: right;\">\n",
       "      <th></th>\n",
       "      <th>Country</th>\n",
       "      <th>min_1</th>\n",
       "      <th>min_2</th>\n",
       "      <th>min_3</th>\n",
       "      <th>min_4</th>\n",
       "      <th>min_5</th>\n",
       "      <th>min_6</th>\n",
       "      <th>min_7</th>\n",
       "      <th>min_8</th>\n",
       "      <th>min_9</th>\n",
       "      <th>...</th>\n",
       "      <th>min_31</th>\n",
       "      <th>min_32</th>\n",
       "      <th>min_33</th>\n",
       "      <th>min_34</th>\n",
       "      <th>min_35</th>\n",
       "      <th>min_36</th>\n",
       "      <th>min_37</th>\n",
       "      <th>min_38</th>\n",
       "      <th>min_39</th>\n",
       "      <th>min_40</th>\n",
       "    </tr>\n",
       "  </thead>\n",
       "  <tbody>\n",
       "    <tr>\n",
       "      <td>0</td>\n",
       "      <td>North America</td>\n",
       "      <td>0</td>\n",
       "      <td>0</td>\n",
       "      <td>-14</td>\n",
       "      <td>-65</td>\n",
       "      <td>-268</td>\n",
       "      <td>-431</td>\n",
       "      <td>-488</td>\n",
       "      <td>-789</td>\n",
       "      <td>-494</td>\n",
       "      <td>...</td>\n",
       "      <td>3561.0</td>\n",
       "      <td>3367.0</td>\n",
       "      <td>2886.0</td>\n",
       "      <td>2906.0</td>\n",
       "      <td>4411.0</td>\n",
       "      <td>4473.0</td>\n",
       "      <td>4639.0</td>\n",
       "      <td>4762.0</td>\n",
       "      <td>4686.0</td>\n",
       "      <td>6057.0</td>\n",
       "    </tr>\n",
       "    <tr>\n",
       "      <td>1</td>\n",
       "      <td>North America</td>\n",
       "      <td>0</td>\n",
       "      <td>0</td>\n",
       "      <td>-26</td>\n",
       "      <td>-18</td>\n",
       "      <td>147</td>\n",
       "      <td>237</td>\n",
       "      <td>-152</td>\n",
       "      <td>18</td>\n",
       "      <td>88</td>\n",
       "      <td>...</td>\n",
       "      <td>680.0</td>\n",
       "      <td>1520.0</td>\n",
       "      <td>949.0</td>\n",
       "      <td>1894.0</td>\n",
       "      <td>2644.0</td>\n",
       "      <td>3394.0</td>\n",
       "      <td>3726.0</td>\n",
       "      <td>1165.0</td>\n",
       "      <td>NaN</td>\n",
       "      <td>NaN</td>\n",
       "    </tr>\n",
       "    <tr>\n",
       "      <td>2</td>\n",
       "      <td>North America</td>\n",
       "      <td>0</td>\n",
       "      <td>0</td>\n",
       "      <td>10</td>\n",
       "      <td>-60</td>\n",
       "      <td>34</td>\n",
       "      <td>37</td>\n",
       "      <td>589</td>\n",
       "      <td>1064</td>\n",
       "      <td>1258</td>\n",
       "      <td>...</td>\n",
       "      <td>7160.0</td>\n",
       "      <td>7081.0</td>\n",
       "      <td>7582.0</td>\n",
       "      <td>9917.0</td>\n",
       "      <td>10337.0</td>\n",
       "      <td>9823.0</td>\n",
       "      <td>12307.0</td>\n",
       "      <td>13201.0</td>\n",
       "      <td>13924.0</td>\n",
       "      <td>13915.0</td>\n",
       "    </tr>\n",
       "    <tr>\n",
       "      <td>3</td>\n",
       "      <td>North America</td>\n",
       "      <td>0</td>\n",
       "      <td>0</td>\n",
       "      <td>-15</td>\n",
       "      <td>25</td>\n",
       "      <td>228</td>\n",
       "      <td>-6</td>\n",
       "      <td>-243</td>\n",
       "      <td>175</td>\n",
       "      <td>-346</td>\n",
       "      <td>...</td>\n",
       "      <td>-2161.0</td>\n",
       "      <td>-2504.0</td>\n",
       "      <td>-3873.0</td>\n",
       "      <td>-3688.0</td>\n",
       "      <td>-3801.0</td>\n",
       "      <td>-3668.0</td>\n",
       "      <td>-3612.0</td>\n",
       "      <td>-5071.0</td>\n",
       "      <td>-2825.0</td>\n",
       "      <td>-1464.0</td>\n",
       "    </tr>\n",
       "    <tr>\n",
       "      <td>4</td>\n",
       "      <td>North America</td>\n",
       "      <td>40</td>\n",
       "      <td>40</td>\n",
       "      <td>44</td>\n",
       "      <td>-36</td>\n",
       "      <td>113</td>\n",
       "      <td>158</td>\n",
       "      <td>-121</td>\n",
       "      <td>-191</td>\n",
       "      <td>23</td>\n",
       "      <td>...</td>\n",
       "      <td>5140.0</td>\n",
       "      <td>5141.0</td>\n",
       "      <td>6866.0</td>\n",
       "      <td>9517.0</td>\n",
       "      <td>11322.0</td>\n",
       "      <td>NaN</td>\n",
       "      <td>NaN</td>\n",
       "      <td>NaN</td>\n",
       "      <td>NaN</td>\n",
       "      <td>NaN</td>\n",
       "    </tr>\n",
       "    <tr>\n",
       "      <td>...</td>\n",
       "      <td>...</td>\n",
       "      <td>...</td>\n",
       "      <td>...</td>\n",
       "      <td>...</td>\n",
       "      <td>...</td>\n",
       "      <td>...</td>\n",
       "      <td>...</td>\n",
       "      <td>...</td>\n",
       "      <td>...</td>\n",
       "      <td>...</td>\n",
       "      <td>...</td>\n",
       "      <td>...</td>\n",
       "      <td>...</td>\n",
       "      <td>...</td>\n",
       "      <td>...</td>\n",
       "      <td>...</td>\n",
       "      <td>...</td>\n",
       "      <td>...</td>\n",
       "      <td>...</td>\n",
       "      <td>...</td>\n",
       "      <td>...</td>\n",
       "    </tr>\n",
       "    <tr>\n",
       "      <td>4310</td>\n",
       "      <td>Brazil</td>\n",
       "      <td>0</td>\n",
       "      <td>0</td>\n",
       "      <td>34</td>\n",
       "      <td>-152</td>\n",
       "      <td>-422</td>\n",
       "      <td>-182</td>\n",
       "      <td>-367</td>\n",
       "      <td>-123</td>\n",
       "      <td>165</td>\n",
       "      <td>...</td>\n",
       "      <td>260.0</td>\n",
       "      <td>1953.0</td>\n",
       "      <td>2858.0</td>\n",
       "      <td>3222.0</td>\n",
       "      <td>NaN</td>\n",
       "      <td>NaN</td>\n",
       "      <td>NaN</td>\n",
       "      <td>NaN</td>\n",
       "      <td>NaN</td>\n",
       "      <td>NaN</td>\n",
       "    </tr>\n",
       "    <tr>\n",
       "      <td>4311</td>\n",
       "      <td>Brazil</td>\n",
       "      <td>0</td>\n",
       "      <td>0</td>\n",
       "      <td>37</td>\n",
       "      <td>305</td>\n",
       "      <td>716</td>\n",
       "      <td>529</td>\n",
       "      <td>739</td>\n",
       "      <td>646</td>\n",
       "      <td>1005</td>\n",
       "      <td>...</td>\n",
       "      <td>NaN</td>\n",
       "      <td>NaN</td>\n",
       "      <td>NaN</td>\n",
       "      <td>NaN</td>\n",
       "      <td>NaN</td>\n",
       "      <td>NaN</td>\n",
       "      <td>NaN</td>\n",
       "      <td>NaN</td>\n",
       "      <td>NaN</td>\n",
       "      <td>NaN</td>\n",
       "    </tr>\n",
       "    <tr>\n",
       "      <td>4312</td>\n",
       "      <td>Turkey</td>\n",
       "      <td>0</td>\n",
       "      <td>-8</td>\n",
       "      <td>-187</td>\n",
       "      <td>-37</td>\n",
       "      <td>-92</td>\n",
       "      <td>-164</td>\n",
       "      <td>-229</td>\n",
       "      <td>-424</td>\n",
       "      <td>-256</td>\n",
       "      <td>...</td>\n",
       "      <td>-9800.0</td>\n",
       "      <td>-10242.0</td>\n",
       "      <td>-13347.0</td>\n",
       "      <td>-14576.0</td>\n",
       "      <td>-15628.0</td>\n",
       "      <td>-17337.0</td>\n",
       "      <td>NaN</td>\n",
       "      <td>NaN</td>\n",
       "      <td>NaN</td>\n",
       "      <td>NaN</td>\n",
       "    </tr>\n",
       "    <tr>\n",
       "      <td>4313</td>\n",
       "      <td>Turkey</td>\n",
       "      <td>0</td>\n",
       "      <td>0</td>\n",
       "      <td>-18</td>\n",
       "      <td>-95</td>\n",
       "      <td>45</td>\n",
       "      <td>-87</td>\n",
       "      <td>-117</td>\n",
       "      <td>199</td>\n",
       "      <td>126</td>\n",
       "      <td>...</td>\n",
       "      <td>-4876.0</td>\n",
       "      <td>-5953.0</td>\n",
       "      <td>-5944.0</td>\n",
       "      <td>-8038.0</td>\n",
       "      <td>NaN</td>\n",
       "      <td>NaN</td>\n",
       "      <td>NaN</td>\n",
       "      <td>NaN</td>\n",
       "      <td>NaN</td>\n",
       "      <td>NaN</td>\n",
       "    </tr>\n",
       "    <tr>\n",
       "      <td>4314</td>\n",
       "      <td>Turkey</td>\n",
       "      <td>0</td>\n",
       "      <td>0</td>\n",
       "      <td>-86</td>\n",
       "      <td>-39</td>\n",
       "      <td>-207</td>\n",
       "      <td>-349</td>\n",
       "      <td>-60</td>\n",
       "      <td>-140</td>\n",
       "      <td>187</td>\n",
       "      <td>...</td>\n",
       "      <td>902.0</td>\n",
       "      <td>1371.0</td>\n",
       "      <td>687.0</td>\n",
       "      <td>1655.0</td>\n",
       "      <td>613.0</td>\n",
       "      <td>1262.0</td>\n",
       "      <td>934.0</td>\n",
       "      <td>1327.0</td>\n",
       "      <td>-717.0</td>\n",
       "      <td>NaN</td>\n",
       "    </tr>\n",
       "  </tbody>\n",
       "</table>\n",
       "<p>4315 rows × 41 columns</p>\n",
       "</div>"
      ],
      "text/plain": [
       "            Country  min_1  min_2  min_3  min_4  min_5  min_6  min_7  min_8  \\\n",
       "0     North America      0      0    -14    -65   -268   -431   -488   -789   \n",
       "1     North America      0      0    -26    -18    147    237   -152     18   \n",
       "2     North America      0      0     10    -60     34     37    589   1064   \n",
       "3     North America      0      0    -15     25    228     -6   -243    175   \n",
       "4     North America     40     40     44    -36    113    158   -121   -191   \n",
       "...             ...    ...    ...    ...    ...    ...    ...    ...    ...   \n",
       "4310         Brazil      0      0     34   -152   -422   -182   -367   -123   \n",
       "4311         Brazil      0      0     37    305    716    529    739    646   \n",
       "4312         Turkey      0     -8   -187    -37    -92   -164   -229   -424   \n",
       "4313         Turkey      0      0    -18    -95     45    -87   -117    199   \n",
       "4314         Turkey      0      0    -86    -39   -207   -349    -60   -140   \n",
       "\n",
       "      min_9  ...  min_31   min_32   min_33   min_34   min_35   min_36  \\\n",
       "0      -494  ...  3561.0   3367.0   2886.0   2906.0   4411.0   4473.0   \n",
       "1        88  ...   680.0   1520.0    949.0   1894.0   2644.0   3394.0   \n",
       "2      1258  ...  7160.0   7081.0   7582.0   9917.0  10337.0   9823.0   \n",
       "3      -346  ... -2161.0  -2504.0  -3873.0  -3688.0  -3801.0  -3668.0   \n",
       "4        23  ...  5140.0   5141.0   6866.0   9517.0  11322.0      NaN   \n",
       "...     ...  ...     ...      ...      ...      ...      ...      ...   \n",
       "4310    165  ...   260.0   1953.0   2858.0   3222.0      NaN      NaN   \n",
       "4311   1005  ...     NaN      NaN      NaN      NaN      NaN      NaN   \n",
       "4312   -256  ... -9800.0 -10242.0 -13347.0 -14576.0 -15628.0 -17337.0   \n",
       "4313    126  ... -4876.0  -5953.0  -5944.0  -8038.0      NaN      NaN   \n",
       "4314    187  ...   902.0   1371.0    687.0   1655.0    613.0   1262.0   \n",
       "\n",
       "       min_37   min_38   min_39   min_40  \n",
       "0      4639.0   4762.0   4686.0   6057.0  \n",
       "1      3726.0   1165.0      NaN      NaN  \n",
       "2     12307.0  13201.0  13924.0  13915.0  \n",
       "3     -3612.0  -5071.0  -2825.0  -1464.0  \n",
       "4         NaN      NaN      NaN      NaN  \n",
       "...       ...      ...      ...      ...  \n",
       "4310      NaN      NaN      NaN      NaN  \n",
       "4311      NaN      NaN      NaN      NaN  \n",
       "4312      NaN      NaN      NaN      NaN  \n",
       "4313      NaN      NaN      NaN      NaN  \n",
       "4314    934.0   1327.0   -717.0      NaN  \n",
       "\n",
       "[4315 rows x 41 columns]"
      ]
     },
     "execution_count": 312,
     "metadata": {},
     "output_type": "execute_result"
    }
   ],
   "source": [
    "gold = pd.read_csv(\"data/gold.csv\").query(\"Type=='golddiff'\")\n",
    "#gold = gold\n",
    "gold.drop(['Type'], axis=1, inplace=True)\n",
    "gold.drop(gold.iloc[:,gold.columns.get_loc(\"min_41\"):],1,inplace=True)\n",
    "\n",
    "\n",
    "\n",
    "# concaténation des deux tableaux\n",
    "df_gold = pd.merge(df_length[['Address', 'Country']], gold)\n",
    "df_gold = df_gold.drop([\"Address\"], axis = 1)\n",
    "\n",
    "df_gold"
   ]
  },
  {
   "cell_type": "code",
   "execution_count": 364,
   "metadata": {},
   "outputs": [
    {
     "data": {
      "text/html": [
       "<div>\n",
       "<style scoped>\n",
       "    .dataframe tbody tr th:only-of-type {\n",
       "        vertical-align: middle;\n",
       "    }\n",
       "\n",
       "    .dataframe tbody tr th {\n",
       "        vertical-align: top;\n",
       "    }\n",
       "\n",
       "    .dataframe thead th {\n",
       "        text-align: right;\n",
       "    }\n",
       "</style>\n",
       "<table border=\"1\" class=\"dataframe\">\n",
       "  <thead>\n",
       "    <tr style=\"text-align: right;\">\n",
       "      <th></th>\n",
       "      <th>Address</th>\n",
       "      <th>rResult</th>\n",
       "      <th>min_1</th>\n",
       "      <th>min_2</th>\n",
       "      <th>min_3</th>\n",
       "      <th>min_4</th>\n",
       "      <th>min_5</th>\n",
       "      <th>min_6</th>\n",
       "      <th>min_7</th>\n",
       "      <th>min_8</th>\n",
       "      <th>...</th>\n",
       "      <th>min_31</th>\n",
       "      <th>min_32</th>\n",
       "      <th>min_33</th>\n",
       "      <th>min_34</th>\n",
       "      <th>min_35</th>\n",
       "      <th>min_36</th>\n",
       "      <th>min_37</th>\n",
       "      <th>min_38</th>\n",
       "      <th>min_39</th>\n",
       "      <th>min_40</th>\n",
       "    </tr>\n",
       "  </thead>\n",
       "  <tbody>\n",
       "    <tr>\n",
       "      <td>0</td>\n",
       "      <td>http://matchhistory.na.leagueoflegends.com/en/...</td>\n",
       "      <td>0</td>\n",
       "      <td>0</td>\n",
       "      <td>0</td>\n",
       "      <td>-14</td>\n",
       "      <td>-65</td>\n",
       "      <td>-268</td>\n",
       "      <td>-431</td>\n",
       "      <td>-488</td>\n",
       "      <td>-789</td>\n",
       "      <td>...</td>\n",
       "      <td>3561.0</td>\n",
       "      <td>3367.0</td>\n",
       "      <td>2886.0</td>\n",
       "      <td>2906.0</td>\n",
       "      <td>4411.0</td>\n",
       "      <td>4473.0</td>\n",
       "      <td>4639.0</td>\n",
       "      <td>4762.0</td>\n",
       "      <td>4686.0</td>\n",
       "      <td>6057.0</td>\n",
       "    </tr>\n",
       "    <tr>\n",
       "      <td>1</td>\n",
       "      <td>http://matchhistory.na.leagueoflegends.com/en/...</td>\n",
       "      <td>1</td>\n",
       "      <td>0</td>\n",
       "      <td>0</td>\n",
       "      <td>-26</td>\n",
       "      <td>-18</td>\n",
       "      <td>147</td>\n",
       "      <td>237</td>\n",
       "      <td>-152</td>\n",
       "      <td>18</td>\n",
       "      <td>...</td>\n",
       "      <td>680.0</td>\n",
       "      <td>1520.0</td>\n",
       "      <td>949.0</td>\n",
       "      <td>1894.0</td>\n",
       "      <td>2644.0</td>\n",
       "      <td>3394.0</td>\n",
       "      <td>3726.0</td>\n",
       "      <td>1165.0</td>\n",
       "      <td>NaN</td>\n",
       "      <td>NaN</td>\n",
       "    </tr>\n",
       "    <tr>\n",
       "      <td>2</td>\n",
       "      <td>http://matchhistory.na.leagueoflegends.com/en/...</td>\n",
       "      <td>0</td>\n",
       "      <td>0</td>\n",
       "      <td>0</td>\n",
       "      <td>10</td>\n",
       "      <td>-60</td>\n",
       "      <td>34</td>\n",
       "      <td>37</td>\n",
       "      <td>589</td>\n",
       "      <td>1064</td>\n",
       "      <td>...</td>\n",
       "      <td>7160.0</td>\n",
       "      <td>7081.0</td>\n",
       "      <td>7582.0</td>\n",
       "      <td>9917.0</td>\n",
       "      <td>10337.0</td>\n",
       "      <td>9823.0</td>\n",
       "      <td>12307.0</td>\n",
       "      <td>13201.0</td>\n",
       "      <td>13924.0</td>\n",
       "      <td>13915.0</td>\n",
       "    </tr>\n",
       "    <tr>\n",
       "      <td>3</td>\n",
       "      <td>http://matchhistory.na.leagueoflegends.com/en/...</td>\n",
       "      <td>1</td>\n",
       "      <td>0</td>\n",
       "      <td>0</td>\n",
       "      <td>-15</td>\n",
       "      <td>25</td>\n",
       "      <td>228</td>\n",
       "      <td>-6</td>\n",
       "      <td>-243</td>\n",
       "      <td>175</td>\n",
       "      <td>...</td>\n",
       "      <td>-2161.0</td>\n",
       "      <td>-2504.0</td>\n",
       "      <td>-3873.0</td>\n",
       "      <td>-3688.0</td>\n",
       "      <td>-3801.0</td>\n",
       "      <td>-3668.0</td>\n",
       "      <td>-3612.0</td>\n",
       "      <td>-5071.0</td>\n",
       "      <td>-2825.0</td>\n",
       "      <td>-1464.0</td>\n",
       "    </tr>\n",
       "    <tr>\n",
       "      <td>4</td>\n",
       "      <td>http://matchhistory.na.leagueoflegends.com/en/...</td>\n",
       "      <td>0</td>\n",
       "      <td>40</td>\n",
       "      <td>40</td>\n",
       "      <td>44</td>\n",
       "      <td>-36</td>\n",
       "      <td>113</td>\n",
       "      <td>158</td>\n",
       "      <td>-121</td>\n",
       "      <td>-191</td>\n",
       "      <td>...</td>\n",
       "      <td>5140.0</td>\n",
       "      <td>5141.0</td>\n",
       "      <td>6866.0</td>\n",
       "      <td>9517.0</td>\n",
       "      <td>11322.0</td>\n",
       "      <td>NaN</td>\n",
       "      <td>NaN</td>\n",
       "      <td>NaN</td>\n",
       "      <td>NaN</td>\n",
       "      <td>NaN</td>\n",
       "    </tr>\n",
       "    <tr>\n",
       "      <td>...</td>\n",
       "      <td>...</td>\n",
       "      <td>...</td>\n",
       "      <td>...</td>\n",
       "      <td>...</td>\n",
       "      <td>...</td>\n",
       "      <td>...</td>\n",
       "      <td>...</td>\n",
       "      <td>...</td>\n",
       "      <td>...</td>\n",
       "      <td>...</td>\n",
       "      <td>...</td>\n",
       "      <td>...</td>\n",
       "      <td>...</td>\n",
       "      <td>...</td>\n",
       "      <td>...</td>\n",
       "      <td>...</td>\n",
       "      <td>...</td>\n",
       "      <td>...</td>\n",
       "      <td>...</td>\n",
       "      <td>...</td>\n",
       "      <td>...</td>\n",
       "    </tr>\n",
       "    <tr>\n",
       "      <td>4310</td>\n",
       "      <td>https://matchhistory.br.leagueoflegends.com/pt...</td>\n",
       "      <td>0</td>\n",
       "      <td>0</td>\n",
       "      <td>0</td>\n",
       "      <td>34</td>\n",
       "      <td>-152</td>\n",
       "      <td>-422</td>\n",
       "      <td>-182</td>\n",
       "      <td>-367</td>\n",
       "      <td>-123</td>\n",
       "      <td>...</td>\n",
       "      <td>260.0</td>\n",
       "      <td>1953.0</td>\n",
       "      <td>2858.0</td>\n",
       "      <td>3222.0</td>\n",
       "      <td>NaN</td>\n",
       "      <td>NaN</td>\n",
       "      <td>NaN</td>\n",
       "      <td>NaN</td>\n",
       "      <td>NaN</td>\n",
       "      <td>NaN</td>\n",
       "    </tr>\n",
       "    <tr>\n",
       "      <td>4311</td>\n",
       "      <td>https://matchhistory.br.leagueoflegends.com/pt...</td>\n",
       "      <td>0</td>\n",
       "      <td>0</td>\n",
       "      <td>0</td>\n",
       "      <td>37</td>\n",
       "      <td>305</td>\n",
       "      <td>716</td>\n",
       "      <td>529</td>\n",
       "      <td>739</td>\n",
       "      <td>646</td>\n",
       "      <td>...</td>\n",
       "      <td>NaN</td>\n",
       "      <td>NaN</td>\n",
       "      <td>NaN</td>\n",
       "      <td>NaN</td>\n",
       "      <td>NaN</td>\n",
       "      <td>NaN</td>\n",
       "      <td>NaN</td>\n",
       "      <td>NaN</td>\n",
       "      <td>NaN</td>\n",
       "      <td>NaN</td>\n",
       "    </tr>\n",
       "    <tr>\n",
       "      <td>4312</td>\n",
       "      <td>https://matchhistory.euw.leagueoflegends.com/e...</td>\n",
       "      <td>1</td>\n",
       "      <td>0</td>\n",
       "      <td>-8</td>\n",
       "      <td>-187</td>\n",
       "      <td>-37</td>\n",
       "      <td>-92</td>\n",
       "      <td>-164</td>\n",
       "      <td>-229</td>\n",
       "      <td>-424</td>\n",
       "      <td>...</td>\n",
       "      <td>-9800.0</td>\n",
       "      <td>-10242.0</td>\n",
       "      <td>-13347.0</td>\n",
       "      <td>-14576.0</td>\n",
       "      <td>-15628.0</td>\n",
       "      <td>-17337.0</td>\n",
       "      <td>NaN</td>\n",
       "      <td>NaN</td>\n",
       "      <td>NaN</td>\n",
       "      <td>NaN</td>\n",
       "    </tr>\n",
       "    <tr>\n",
       "      <td>4313</td>\n",
       "      <td>https://matchhistory.euw.leagueoflegends.com/e...</td>\n",
       "      <td>1</td>\n",
       "      <td>0</td>\n",
       "      <td>0</td>\n",
       "      <td>-18</td>\n",
       "      <td>-95</td>\n",
       "      <td>45</td>\n",
       "      <td>-87</td>\n",
       "      <td>-117</td>\n",
       "      <td>199</td>\n",
       "      <td>...</td>\n",
       "      <td>-4876.0</td>\n",
       "      <td>-5953.0</td>\n",
       "      <td>-5944.0</td>\n",
       "      <td>-8038.0</td>\n",
       "      <td>NaN</td>\n",
       "      <td>NaN</td>\n",
       "      <td>NaN</td>\n",
       "      <td>NaN</td>\n",
       "      <td>NaN</td>\n",
       "      <td>NaN</td>\n",
       "    </tr>\n",
       "    <tr>\n",
       "      <td>4314</td>\n",
       "      <td>https://matchhistory.euw.leagueoflegends.com/e...</td>\n",
       "      <td>1</td>\n",
       "      <td>0</td>\n",
       "      <td>0</td>\n",
       "      <td>-86</td>\n",
       "      <td>-39</td>\n",
       "      <td>-207</td>\n",
       "      <td>-349</td>\n",
       "      <td>-60</td>\n",
       "      <td>-140</td>\n",
       "      <td>...</td>\n",
       "      <td>902.0</td>\n",
       "      <td>1371.0</td>\n",
       "      <td>687.0</td>\n",
       "      <td>1655.0</td>\n",
       "      <td>613.0</td>\n",
       "      <td>1262.0</td>\n",
       "      <td>934.0</td>\n",
       "      <td>1327.0</td>\n",
       "      <td>-717.0</td>\n",
       "      <td>NaN</td>\n",
       "    </tr>\n",
       "  </tbody>\n",
       "</table>\n",
       "<p>4315 rows × 42 columns</p>\n",
       "</div>"
      ],
      "text/plain": [
       "                                                Address  rResult  min_1  \\\n",
       "0     http://matchhistory.na.leagueoflegends.com/en/...        0      0   \n",
       "1     http://matchhistory.na.leagueoflegends.com/en/...        1      0   \n",
       "2     http://matchhistory.na.leagueoflegends.com/en/...        0      0   \n",
       "3     http://matchhistory.na.leagueoflegends.com/en/...        1      0   \n",
       "4     http://matchhistory.na.leagueoflegends.com/en/...        0     40   \n",
       "...                                                 ...      ...    ...   \n",
       "4310  https://matchhistory.br.leagueoflegends.com/pt...        0      0   \n",
       "4311  https://matchhistory.br.leagueoflegends.com/pt...        0      0   \n",
       "4312  https://matchhistory.euw.leagueoflegends.com/e...        1      0   \n",
       "4313  https://matchhistory.euw.leagueoflegends.com/e...        1      0   \n",
       "4314  https://matchhistory.euw.leagueoflegends.com/e...        1      0   \n",
       "\n",
       "      min_2  min_3  min_4  min_5  min_6  min_7  min_8  ...  min_31   min_32  \\\n",
       "0         0    -14    -65   -268   -431   -488   -789  ...  3561.0   3367.0   \n",
       "1         0    -26    -18    147    237   -152     18  ...   680.0   1520.0   \n",
       "2         0     10    -60     34     37    589   1064  ...  7160.0   7081.0   \n",
       "3         0    -15     25    228     -6   -243    175  ... -2161.0  -2504.0   \n",
       "4        40     44    -36    113    158   -121   -191  ...  5140.0   5141.0   \n",
       "...     ...    ...    ...    ...    ...    ...    ...  ...     ...      ...   \n",
       "4310      0     34   -152   -422   -182   -367   -123  ...   260.0   1953.0   \n",
       "4311      0     37    305    716    529    739    646  ...     NaN      NaN   \n",
       "4312     -8   -187    -37    -92   -164   -229   -424  ... -9800.0 -10242.0   \n",
       "4313      0    -18    -95     45    -87   -117    199  ... -4876.0  -5953.0   \n",
       "4314      0    -86    -39   -207   -349    -60   -140  ...   902.0   1371.0   \n",
       "\n",
       "       min_33   min_34   min_35   min_36   min_37   min_38   min_39   min_40  \n",
       "0      2886.0   2906.0   4411.0   4473.0   4639.0   4762.0   4686.0   6057.0  \n",
       "1       949.0   1894.0   2644.0   3394.0   3726.0   1165.0      NaN      NaN  \n",
       "2      7582.0   9917.0  10337.0   9823.0  12307.0  13201.0  13924.0  13915.0  \n",
       "3     -3873.0  -3688.0  -3801.0  -3668.0  -3612.0  -5071.0  -2825.0  -1464.0  \n",
       "4      6866.0   9517.0  11322.0      NaN      NaN      NaN      NaN      NaN  \n",
       "...       ...      ...      ...      ...      ...      ...      ...      ...  \n",
       "4310   2858.0   3222.0      NaN      NaN      NaN      NaN      NaN      NaN  \n",
       "4311      NaN      NaN      NaN      NaN      NaN      NaN      NaN      NaN  \n",
       "4312 -13347.0 -14576.0 -15628.0 -17337.0      NaN      NaN      NaN      NaN  \n",
       "4313  -5944.0  -8038.0      NaN      NaN      NaN      NaN      NaN      NaN  \n",
       "4314    687.0   1655.0    613.0   1262.0    934.0   1327.0   -717.0      NaN  \n",
       "\n",
       "[4315 rows x 42 columns]"
      ]
     },
     "execution_count": 364,
     "metadata": {},
     "output_type": "execute_result"
    }
   ],
   "source": [
    "df_gold_winside = pd.merge(df_length[['Address','rResult']], gold)\n",
    "old = df_gold_winside\n",
    "df_gold_winside = df_gold_winside.drop([\"Address\"], axis = 1)\n",
    "old"
   ]
  },
  {
   "cell_type": "code",
   "execution_count": 365,
   "metadata": {
    "scrolled": false
   },
   "outputs": [
    {
     "data": {
      "text/html": [
       "<div>\n",
       "<style scoped>\n",
       "    .dataframe tbody tr th:only-of-type {\n",
       "        vertical-align: middle;\n",
       "    }\n",
       "\n",
       "    .dataframe tbody tr th {\n",
       "        vertical-align: top;\n",
       "    }\n",
       "\n",
       "    .dataframe thead th {\n",
       "        text-align: right;\n",
       "    }\n",
       "</style>\n",
       "<table border=\"1\" class=\"dataframe\">\n",
       "  <thead>\n",
       "    <tr style=\"text-align: right;\">\n",
       "      <th></th>\n",
       "      <th>Address</th>\n",
       "      <th>Country</th>\n",
       "      <th>Year</th>\n",
       "      <th>min_1</th>\n",
       "      <th>min_2</th>\n",
       "      <th>min_3</th>\n",
       "      <th>min_4</th>\n",
       "      <th>min_5</th>\n",
       "      <th>min_6</th>\n",
       "      <th>min_7</th>\n",
       "      <th>...</th>\n",
       "      <th>min_31</th>\n",
       "      <th>min_32</th>\n",
       "      <th>min_33</th>\n",
       "      <th>min_34</th>\n",
       "      <th>min_35</th>\n",
       "      <th>min_36</th>\n",
       "      <th>min_37</th>\n",
       "      <th>min_38</th>\n",
       "      <th>min_39</th>\n",
       "      <th>min_40</th>\n",
       "    </tr>\n",
       "  </thead>\n",
       "  <tbody>\n",
       "    <tr>\n",
       "      <td>4310</td>\n",
       "      <td>https://matchhistory.br.leagueoflegends.com/pt...</td>\n",
       "      <td>Brazil</td>\n",
       "      <td>2018</td>\n",
       "      <td>0.0</td>\n",
       "      <td>0.0</td>\n",
       "      <td>34.0</td>\n",
       "      <td>-152.0</td>\n",
       "      <td>-422.0</td>\n",
       "      <td>-182.0</td>\n",
       "      <td>-367.0</td>\n",
       "      <td>...</td>\n",
       "      <td>260.0</td>\n",
       "      <td>1953.0</td>\n",
       "      <td>2858.0</td>\n",
       "      <td>3222.0</td>\n",
       "      <td>NaN</td>\n",
       "      <td>NaN</td>\n",
       "      <td>NaN</td>\n",
       "      <td>NaN</td>\n",
       "      <td>NaN</td>\n",
       "      <td>NaN</td>\n",
       "    </tr>\n",
       "    <tr>\n",
       "      <td>4311</td>\n",
       "      <td>https://matchhistory.br.leagueoflegends.com/pt...</td>\n",
       "      <td>Brazil</td>\n",
       "      <td>2018</td>\n",
       "      <td>0.0</td>\n",
       "      <td>0.0</td>\n",
       "      <td>37.0</td>\n",
       "      <td>305.0</td>\n",
       "      <td>716.0</td>\n",
       "      <td>529.0</td>\n",
       "      <td>739.0</td>\n",
       "      <td>...</td>\n",
       "      <td>NaN</td>\n",
       "      <td>NaN</td>\n",
       "      <td>NaN</td>\n",
       "      <td>NaN</td>\n",
       "      <td>NaN</td>\n",
       "      <td>NaN</td>\n",
       "      <td>NaN</td>\n",
       "      <td>NaN</td>\n",
       "      <td>NaN</td>\n",
       "      <td>NaN</td>\n",
       "    </tr>\n",
       "    <tr>\n",
       "      <td>4312</td>\n",
       "      <td>https://matchhistory.euw.leagueoflegends.com/e...</td>\n",
       "      <td>Turkey</td>\n",
       "      <td>2018</td>\n",
       "      <td>-0.0</td>\n",
       "      <td>8.0</td>\n",
       "      <td>187.0</td>\n",
       "      <td>37.0</td>\n",
       "      <td>92.0</td>\n",
       "      <td>164.0</td>\n",
       "      <td>229.0</td>\n",
       "      <td>...</td>\n",
       "      <td>9800.0</td>\n",
       "      <td>10242.0</td>\n",
       "      <td>13347.0</td>\n",
       "      <td>14576.0</td>\n",
       "      <td>15628.0</td>\n",
       "      <td>17337.0</td>\n",
       "      <td>NaN</td>\n",
       "      <td>NaN</td>\n",
       "      <td>NaN</td>\n",
       "      <td>NaN</td>\n",
       "    </tr>\n",
       "    <tr>\n",
       "      <td>4313</td>\n",
       "      <td>https://matchhistory.euw.leagueoflegends.com/e...</td>\n",
       "      <td>Turkey</td>\n",
       "      <td>2018</td>\n",
       "      <td>-0.0</td>\n",
       "      <td>-0.0</td>\n",
       "      <td>18.0</td>\n",
       "      <td>95.0</td>\n",
       "      <td>-45.0</td>\n",
       "      <td>87.0</td>\n",
       "      <td>117.0</td>\n",
       "      <td>...</td>\n",
       "      <td>4876.0</td>\n",
       "      <td>5953.0</td>\n",
       "      <td>5944.0</td>\n",
       "      <td>8038.0</td>\n",
       "      <td>NaN</td>\n",
       "      <td>NaN</td>\n",
       "      <td>NaN</td>\n",
       "      <td>NaN</td>\n",
       "      <td>NaN</td>\n",
       "      <td>NaN</td>\n",
       "    </tr>\n",
       "    <tr>\n",
       "      <td>4314</td>\n",
       "      <td>https://matchhistory.euw.leagueoflegends.com/e...</td>\n",
       "      <td>Turkey</td>\n",
       "      <td>2018</td>\n",
       "      <td>-0.0</td>\n",
       "      <td>-0.0</td>\n",
       "      <td>86.0</td>\n",
       "      <td>39.0</td>\n",
       "      <td>207.0</td>\n",
       "      <td>349.0</td>\n",
       "      <td>60.0</td>\n",
       "      <td>...</td>\n",
       "      <td>-902.0</td>\n",
       "      <td>-1371.0</td>\n",
       "      <td>-687.0</td>\n",
       "      <td>-1655.0</td>\n",
       "      <td>-613.0</td>\n",
       "      <td>-1262.0</td>\n",
       "      <td>-934.0</td>\n",
       "      <td>-1327.0</td>\n",
       "      <td>717.0</td>\n",
       "      <td>NaN</td>\n",
       "    </tr>\n",
       "  </tbody>\n",
       "</table>\n",
       "<p>5 rows × 43 columns</p>\n",
       "</div>"
      ],
      "text/plain": [
       "                                                Address Country  Year  min_1  \\\n",
       "4310  https://matchhistory.br.leagueoflegends.com/pt...  Brazil  2018    0.0   \n",
       "4311  https://matchhistory.br.leagueoflegends.com/pt...  Brazil  2018    0.0   \n",
       "4312  https://matchhistory.euw.leagueoflegends.com/e...  Turkey  2018   -0.0   \n",
       "4313  https://matchhistory.euw.leagueoflegends.com/e...  Turkey  2018   -0.0   \n",
       "4314  https://matchhistory.euw.leagueoflegends.com/e...  Turkey  2018   -0.0   \n",
       "\n",
       "      min_2  min_3  min_4  min_5  min_6  min_7  ...  min_31   min_32   min_33  \\\n",
       "4310    0.0   34.0 -152.0 -422.0 -182.0 -367.0  ...   260.0   1953.0   2858.0   \n",
       "4311    0.0   37.0  305.0  716.0  529.0  739.0  ...     NaN      NaN      NaN   \n",
       "4312    8.0  187.0   37.0   92.0  164.0  229.0  ...  9800.0  10242.0  13347.0   \n",
       "4313   -0.0   18.0   95.0  -45.0   87.0  117.0  ...  4876.0   5953.0   5944.0   \n",
       "4314   -0.0   86.0   39.0  207.0  349.0   60.0  ...  -902.0  -1371.0   -687.0   \n",
       "\n",
       "       min_34   min_35   min_36  min_37  min_38  min_39  min_40  \n",
       "4310   3222.0      NaN      NaN     NaN     NaN     NaN     NaN  \n",
       "4311      NaN      NaN      NaN     NaN     NaN     NaN     NaN  \n",
       "4312  14576.0  15628.0  17337.0     NaN     NaN     NaN     NaN  \n",
       "4313   8038.0      NaN      NaN     NaN     NaN     NaN     NaN  \n",
       "4314  -1655.0   -613.0  -1262.0  -934.0 -1327.0   717.0     NaN  \n",
       "\n",
       "[5 rows x 43 columns]"
      ]
     },
     "execution_count": 365,
     "metadata": {},
     "output_type": "execute_result"
    }
   ],
   "source": [
    "i=-1\n",
    "for elements in df_gold_winside['rResult']:\n",
    "    i+=1\n",
    "    if elements == 1:   \n",
    "        df_gold_winside.loc[i] = (-1)*df_gold_winside.loc[i]\n",
    "\n",
    "\n",
    "df_gold_winside = pd.concat([old['Address'], df_gold_winside], axis = 1)\n",
    "df_gold_winside = pd.merge(df_length[['Address', 'Country','Year']], df_gold_winside)\n",
    "df_gold_winside = df_gold_winside.drop(['rResult'], axis=1)\n",
    "df_gold_winside.tail()"
   ]
  },
  {
   "cell_type": "code",
   "execution_count": 359,
   "metadata": {},
   "outputs": [
    {
     "data": {
      "application/vnd.plotly.v1+json": {
       "config": {
        "plotlyServerURL": "https://plot.ly"
       },
       "data": [
        {
         "hovertemplate": "Country=Brazil<br>index=%{x}<br>value=%{y}<extra></extra>",
         "legendgroup": "Brazil",
         "line": {
          "color": "#636efa",
          "dash": "solid"
         },
         "marker": {
          "symbol": "circle"
         },
         "mode": "lines",
         "name": "Brazil",
         "orientation": "v",
         "showlegend": true,
         "type": "scatter",
         "x": [
          "min_1",
          "min_2",
          "min_3",
          "min_4",
          "min_5",
          "min_6",
          "min_7",
          "min_8",
          "min_9",
          "min_10",
          "min_11",
          "min_12",
          "min_13",
          "min_14",
          "min_15",
          "min_16",
          "min_17",
          "min_18",
          "min_19",
          "min_20",
          "min_21",
          "min_22",
          "min_23",
          "min_24",
          "min_25",
          "min_26",
          "min_27",
          "min_28",
          "min_29",
          "min_30",
          "min_31",
          "min_32",
          "min_33",
          "min_34",
          "min_35",
          "min_36",
          "min_37",
          "min_38",
          "min_39",
          "min_40"
         ],
         "xaxis": "x",
         "y": [
          0,
          -4.631578947368421,
          -4.2631578947368425,
          58.78947368421053,
          63.36842105263158,
          64.6842105263158,
          45.89473684210526,
          158,
          225.1578947368421,
          378.57894736842104,
          445.63157894736844,
          420.5263157894737,
          699.8421052631579,
          653.9473684210526,
          629.0526315789474,
          1150.5263157894738,
          1586.3157894736842,
          1580.6315789473683,
          1747.9473684210527,
          1965.157894736842,
          2069.0526315789475,
          2376.5263157894738,
          3276.315789473684,
          3426.8947368421054,
          3805.684210526316,
          4806.578947368421,
          5458.8421052631575,
          6173.1578947368425,
          6397.882352941177,
          6077.4,
          6026.428571428572,
          5246.333333333333,
          5578,
          5237.8,
          5069.125,
          5015,
          4552.25,
          6818,
          4744,
          5173
         ],
         "yaxis": "y"
        },
        {
         "hovertemplate": "Country=Europe<br>index=%{x}<br>value=%{y}<extra></extra>",
         "legendgroup": "Europe",
         "line": {
          "color": "#EF553B",
          "dash": "solid"
         },
         "marker": {
          "symbol": "circle"
         },
         "mode": "lines",
         "name": "Europe",
         "orientation": "v",
         "showlegend": true,
         "type": "scatter",
         "x": [
          "min_1",
          "min_2",
          "min_3",
          "min_4",
          "min_5",
          "min_6",
          "min_7",
          "min_8",
          "min_9",
          "min_10",
          "min_11",
          "min_12",
          "min_13",
          "min_14",
          "min_15",
          "min_16",
          "min_17",
          "min_18",
          "min_19",
          "min_20",
          "min_21",
          "min_22",
          "min_23",
          "min_24",
          "min_25",
          "min_26",
          "min_27",
          "min_28",
          "min_29",
          "min_30",
          "min_31",
          "min_32",
          "min_33",
          "min_34",
          "min_35",
          "min_36",
          "min_37",
          "min_38",
          "min_39",
          "min_40"
         ],
         "xaxis": "x",
         "y": [
          0,
          -1.2,
          -9,
          -15.45,
          -19.1,
          59.3,
          70.15,
          116,
          132.25,
          -15.75,
          -92.45,
          -138.05,
          1.95,
          -95.5,
          54.85,
          57.65,
          133.8,
          10.5,
          57.4,
          -106.8,
          -48.75,
          43.5,
          220.5,
          479.45,
          687.4,
          918.65,
          1483.4,
          1639.7,
          2403.2,
          2716.6,
          3496.35,
          3807.5,
          3229.3333333333335,
          3722.4,
          2325,
          2675.3846153846152,
          2643.4166666666665,
          2487.5833333333335,
          2908.6666666666665,
          3696.9166666666665
         ],
         "yaxis": "y"
        },
        {
         "hovertemplate": "Country=Korea<br>index=%{x}<br>value=%{y}<extra></extra>",
         "legendgroup": "Korea",
         "line": {
          "color": "#00cc96",
          "dash": "solid"
         },
         "marker": {
          "symbol": "circle"
         },
         "mode": "lines",
         "name": "Korea",
         "orientation": "v",
         "showlegend": true,
         "type": "scatter",
         "x": [
          "min_1",
          "min_2",
          "min_3",
          "min_4",
          "min_5",
          "min_6",
          "min_7",
          "min_8",
          "min_9",
          "min_10",
          "min_11",
          "min_12",
          "min_13",
          "min_14",
          "min_15",
          "min_16",
          "min_17",
          "min_18",
          "min_19",
          "min_20",
          "min_21",
          "min_22",
          "min_23",
          "min_24",
          "min_25",
          "min_26",
          "min_27",
          "min_28",
          "min_29",
          "min_30",
          "min_31",
          "min_32",
          "min_33",
          "min_34",
          "min_35",
          "min_36",
          "min_37",
          "min_38",
          "min_39",
          "min_40"
         ],
         "xaxis": "x",
         "y": [
          0,
          2.693877551020408,
          27.591836734693878,
          -8.510204081632653,
          23,
          37.795918367346935,
          85.71428571428571,
          125.6938775510204,
          115.44897959183673,
          233.42857142857142,
          259.51020408163265,
          378.42857142857144,
          457.40816326530614,
          541.8367346938776,
          637.3469387755102,
          670.3469387755102,
          771.4897959183673,
          999.6734693877551,
          1190.530612244898,
          1317.3061224489795,
          1648.1836734693877,
          1923.469387755102,
          2142.2448979591836,
          2589.734693877551,
          2630.0416666666665,
          2916.7291666666665,
          3400.8333333333335,
          3887.625,
          4260.468085106383,
          4172.933333333333,
          4537.7441860465115,
          4683.285714285715,
          4161.184210526316,
          4050.4166666666665,
          4257.4857142857145,
          3905.939393939394,
          2732.8214285714284,
          2524.5185185185187,
          1416.4166666666667,
          1832.6666666666667
         ],
         "yaxis": "y"
        },
        {
         "hovertemplate": "Country=North America<br>index=%{x}<br>value=%{y}<extra></extra>",
         "legendgroup": "North America",
         "line": {
          "color": "#ab63fa",
          "dash": "solid"
         },
         "marker": {
          "symbol": "circle"
         },
         "mode": "lines",
         "name": "North America",
         "orientation": "v",
         "showlegend": true,
         "type": "scatter",
         "x": [
          "min_1",
          "min_2",
          "min_3",
          "min_4",
          "min_5",
          "min_6",
          "min_7",
          "min_8",
          "min_9",
          "min_10",
          "min_11",
          "min_12",
          "min_13",
          "min_14",
          "min_15",
          "min_16",
          "min_17",
          "min_18",
          "min_19",
          "min_20",
          "min_21",
          "min_22",
          "min_23",
          "min_24",
          "min_25",
          "min_26",
          "min_27",
          "min_28",
          "min_29",
          "min_30",
          "min_31",
          "min_32",
          "min_33",
          "min_34",
          "min_35",
          "min_36",
          "min_37",
          "min_38",
          "min_39",
          "min_40"
         ],
         "xaxis": "x",
         "y": [
          0,
          1.35,
          -22.85,
          2.85,
          -30.5,
          8.5,
          60.4,
          77.95,
          119,
          170.75,
          234.5,
          198.6,
          75.8,
          301.8,
          409.35,
          331.1,
          588.2,
          681.3,
          777.2,
          1108.65,
          1278.55,
          1298.95,
          1592.15,
          1761.4,
          2376.7,
          2748.95,
          3252.85,
          3615.55,
          3571.4736842105262,
          3814.3333333333335,
          3360.235294117647,
          4071.5882352941176,
          4393.5,
          4333.8,
          4916.933333333333,
          4718.384615384615,
          4891.384615384615,
          4542.5,
          5642.833333333333,
          4351.9
         ],
         "yaxis": "y"
        },
        {
         "hovertemplate": "Country=Turkey<br>index=%{x}<br>value=%{y}<extra></extra>",
         "legendgroup": "Turkey",
         "line": {
          "color": "#FFA15A",
          "dash": "solid"
         },
         "marker": {
          "symbol": "circle"
         },
         "mode": "lines",
         "name": "Turkey",
         "orientation": "v",
         "showlegend": true,
         "type": "scatter",
         "x": [
          "min_1",
          "min_2",
          "min_3",
          "min_4",
          "min_5",
          "min_6",
          "min_7",
          "min_8",
          "min_9",
          "min_10",
          "min_11",
          "min_12",
          "min_13",
          "min_14",
          "min_15",
          "min_16",
          "min_17",
          "min_18",
          "min_19",
          "min_20",
          "min_21",
          "min_22",
          "min_23",
          "min_24",
          "min_25",
          "min_26",
          "min_27",
          "min_28",
          "min_29",
          "min_30",
          "min_31",
          "min_32",
          "min_33",
          "min_34",
          "min_35",
          "min_36",
          "min_37",
          "min_38",
          "min_39",
          "min_40"
         ],
         "xaxis": "x",
         "y": [
          0,
          1.894736842105263,
          40.89473684210526,
          64.36842105263158,
          93.42105263157895,
          155.68421052631578,
          150.1578947368421,
          193.78947368421052,
          298.63157894736844,
          336.2631578947368,
          579.7368421052631,
          885.3684210526316,
          1087.421052631579,
          1262.2631578947369,
          1492.1052631578948,
          1628.842105263158,
          1671.578947368421,
          1989.7894736842106,
          2158.842105263158,
          2405.2105263157896,
          2492.5789473684213,
          3092.0526315789475,
          3670.315789473684,
          3917.315789473684,
          3957.0526315789475,
          4091.7894736842104,
          4581.736842105263,
          4972.421052631579,
          5447.315789473684,
          6279.894736842105,
          6004.64705882353,
          6925.75,
          6361,
          6430.4,
          6161.5,
          5477.857142857143,
          3912,
          146.5,
          489.75,
          667
         ],
         "yaxis": "y"
        }
       ],
       "layout": {
        "legend": {
         "title": {
          "text": "Country"
         },
         "tracegroupgap": 0
        },
        "margin": {
         "t": 60
        },
        "template": {
         "data": {
          "bar": [
           {
            "error_x": {
             "color": "#2a3f5f"
            },
            "error_y": {
             "color": "#2a3f5f"
            },
            "marker": {
             "line": {
              "color": "#E5ECF6",
              "width": 0.5
             },
             "pattern": {
              "fillmode": "overlay",
              "size": 10,
              "solidity": 0.2
             }
            },
            "type": "bar"
           }
          ],
          "barpolar": [
           {
            "marker": {
             "line": {
              "color": "#E5ECF6",
              "width": 0.5
             },
             "pattern": {
              "fillmode": "overlay",
              "size": 10,
              "solidity": 0.2
             }
            },
            "type": "barpolar"
           }
          ],
          "carpet": [
           {
            "aaxis": {
             "endlinecolor": "#2a3f5f",
             "gridcolor": "white",
             "linecolor": "white",
             "minorgridcolor": "white",
             "startlinecolor": "#2a3f5f"
            },
            "baxis": {
             "endlinecolor": "#2a3f5f",
             "gridcolor": "white",
             "linecolor": "white",
             "minorgridcolor": "white",
             "startlinecolor": "#2a3f5f"
            },
            "type": "carpet"
           }
          ],
          "choropleth": [
           {
            "colorbar": {
             "outlinewidth": 0,
             "ticks": ""
            },
            "type": "choropleth"
           }
          ],
          "contour": [
           {
            "colorbar": {
             "outlinewidth": 0,
             "ticks": ""
            },
            "colorscale": [
             [
              0,
              "#0d0887"
             ],
             [
              0.1111111111111111,
              "#46039f"
             ],
             [
              0.2222222222222222,
              "#7201a8"
             ],
             [
              0.3333333333333333,
              "#9c179e"
             ],
             [
              0.4444444444444444,
              "#bd3786"
             ],
             [
              0.5555555555555556,
              "#d8576b"
             ],
             [
              0.6666666666666666,
              "#ed7953"
             ],
             [
              0.7777777777777778,
              "#fb9f3a"
             ],
             [
              0.8888888888888888,
              "#fdca26"
             ],
             [
              1,
              "#f0f921"
             ]
            ],
            "type": "contour"
           }
          ],
          "contourcarpet": [
           {
            "colorbar": {
             "outlinewidth": 0,
             "ticks": ""
            },
            "type": "contourcarpet"
           }
          ],
          "heatmap": [
           {
            "colorbar": {
             "outlinewidth": 0,
             "ticks": ""
            },
            "colorscale": [
             [
              0,
              "#0d0887"
             ],
             [
              0.1111111111111111,
              "#46039f"
             ],
             [
              0.2222222222222222,
              "#7201a8"
             ],
             [
              0.3333333333333333,
              "#9c179e"
             ],
             [
              0.4444444444444444,
              "#bd3786"
             ],
             [
              0.5555555555555556,
              "#d8576b"
             ],
             [
              0.6666666666666666,
              "#ed7953"
             ],
             [
              0.7777777777777778,
              "#fb9f3a"
             ],
             [
              0.8888888888888888,
              "#fdca26"
             ],
             [
              1,
              "#f0f921"
             ]
            ],
            "type": "heatmap"
           }
          ],
          "heatmapgl": [
           {
            "colorbar": {
             "outlinewidth": 0,
             "ticks": ""
            },
            "colorscale": [
             [
              0,
              "#0d0887"
             ],
             [
              0.1111111111111111,
              "#46039f"
             ],
             [
              0.2222222222222222,
              "#7201a8"
             ],
             [
              0.3333333333333333,
              "#9c179e"
             ],
             [
              0.4444444444444444,
              "#bd3786"
             ],
             [
              0.5555555555555556,
              "#d8576b"
             ],
             [
              0.6666666666666666,
              "#ed7953"
             ],
             [
              0.7777777777777778,
              "#fb9f3a"
             ],
             [
              0.8888888888888888,
              "#fdca26"
             ],
             [
              1,
              "#f0f921"
             ]
            ],
            "type": "heatmapgl"
           }
          ],
          "histogram": [
           {
            "marker": {
             "pattern": {
              "fillmode": "overlay",
              "size": 10,
              "solidity": 0.2
             }
            },
            "type": "histogram"
           }
          ],
          "histogram2d": [
           {
            "colorbar": {
             "outlinewidth": 0,
             "ticks": ""
            },
            "colorscale": [
             [
              0,
              "#0d0887"
             ],
             [
              0.1111111111111111,
              "#46039f"
             ],
             [
              0.2222222222222222,
              "#7201a8"
             ],
             [
              0.3333333333333333,
              "#9c179e"
             ],
             [
              0.4444444444444444,
              "#bd3786"
             ],
             [
              0.5555555555555556,
              "#d8576b"
             ],
             [
              0.6666666666666666,
              "#ed7953"
             ],
             [
              0.7777777777777778,
              "#fb9f3a"
             ],
             [
              0.8888888888888888,
              "#fdca26"
             ],
             [
              1,
              "#f0f921"
             ]
            ],
            "type": "histogram2d"
           }
          ],
          "histogram2dcontour": [
           {
            "colorbar": {
             "outlinewidth": 0,
             "ticks": ""
            },
            "colorscale": [
             [
              0,
              "#0d0887"
             ],
             [
              0.1111111111111111,
              "#46039f"
             ],
             [
              0.2222222222222222,
              "#7201a8"
             ],
             [
              0.3333333333333333,
              "#9c179e"
             ],
             [
              0.4444444444444444,
              "#bd3786"
             ],
             [
              0.5555555555555556,
              "#d8576b"
             ],
             [
              0.6666666666666666,
              "#ed7953"
             ],
             [
              0.7777777777777778,
              "#fb9f3a"
             ],
             [
              0.8888888888888888,
              "#fdca26"
             ],
             [
              1,
              "#f0f921"
             ]
            ],
            "type": "histogram2dcontour"
           }
          ],
          "mesh3d": [
           {
            "colorbar": {
             "outlinewidth": 0,
             "ticks": ""
            },
            "type": "mesh3d"
           }
          ],
          "parcoords": [
           {
            "line": {
             "colorbar": {
              "outlinewidth": 0,
              "ticks": ""
             }
            },
            "type": "parcoords"
           }
          ],
          "pie": [
           {
            "automargin": true,
            "type": "pie"
           }
          ],
          "scatter": [
           {
            "marker": {
             "colorbar": {
              "outlinewidth": 0,
              "ticks": ""
             }
            },
            "type": "scatter"
           }
          ],
          "scatter3d": [
           {
            "line": {
             "colorbar": {
              "outlinewidth": 0,
              "ticks": ""
             }
            },
            "marker": {
             "colorbar": {
              "outlinewidth": 0,
              "ticks": ""
             }
            },
            "type": "scatter3d"
           }
          ],
          "scattercarpet": [
           {
            "marker": {
             "colorbar": {
              "outlinewidth": 0,
              "ticks": ""
             }
            },
            "type": "scattercarpet"
           }
          ],
          "scattergeo": [
           {
            "marker": {
             "colorbar": {
              "outlinewidth": 0,
              "ticks": ""
             }
            },
            "type": "scattergeo"
           }
          ],
          "scattergl": [
           {
            "marker": {
             "colorbar": {
              "outlinewidth": 0,
              "ticks": ""
             }
            },
            "type": "scattergl"
           }
          ],
          "scattermapbox": [
           {
            "marker": {
             "colorbar": {
              "outlinewidth": 0,
              "ticks": ""
             }
            },
            "type": "scattermapbox"
           }
          ],
          "scatterpolar": [
           {
            "marker": {
             "colorbar": {
              "outlinewidth": 0,
              "ticks": ""
             }
            },
            "type": "scatterpolar"
           }
          ],
          "scatterpolargl": [
           {
            "marker": {
             "colorbar": {
              "outlinewidth": 0,
              "ticks": ""
             }
            },
            "type": "scatterpolargl"
           }
          ],
          "scatterternary": [
           {
            "marker": {
             "colorbar": {
              "outlinewidth": 0,
              "ticks": ""
             }
            },
            "type": "scatterternary"
           }
          ],
          "surface": [
           {
            "colorbar": {
             "outlinewidth": 0,
             "ticks": ""
            },
            "colorscale": [
             [
              0,
              "#0d0887"
             ],
             [
              0.1111111111111111,
              "#46039f"
             ],
             [
              0.2222222222222222,
              "#7201a8"
             ],
             [
              0.3333333333333333,
              "#9c179e"
             ],
             [
              0.4444444444444444,
              "#bd3786"
             ],
             [
              0.5555555555555556,
              "#d8576b"
             ],
             [
              0.6666666666666666,
              "#ed7953"
             ],
             [
              0.7777777777777778,
              "#fb9f3a"
             ],
             [
              0.8888888888888888,
              "#fdca26"
             ],
             [
              1,
              "#f0f921"
             ]
            ],
            "type": "surface"
           }
          ],
          "table": [
           {
            "cells": {
             "fill": {
              "color": "#EBF0F8"
             },
             "line": {
              "color": "white"
             }
            },
            "header": {
             "fill": {
              "color": "#C8D4E3"
             },
             "line": {
              "color": "white"
             }
            },
            "type": "table"
           }
          ]
         },
         "layout": {
          "annotationdefaults": {
           "arrowcolor": "#2a3f5f",
           "arrowhead": 0,
           "arrowwidth": 1
          },
          "autotypenumbers": "strict",
          "coloraxis": {
           "colorbar": {
            "outlinewidth": 0,
            "ticks": ""
           }
          },
          "colorscale": {
           "diverging": [
            [
             0,
             "#8e0152"
            ],
            [
             0.1,
             "#c51b7d"
            ],
            [
             0.2,
             "#de77ae"
            ],
            [
             0.3,
             "#f1b6da"
            ],
            [
             0.4,
             "#fde0ef"
            ],
            [
             0.5,
             "#f7f7f7"
            ],
            [
             0.6,
             "#e6f5d0"
            ],
            [
             0.7,
             "#b8e186"
            ],
            [
             0.8,
             "#7fbc41"
            ],
            [
             0.9,
             "#4d9221"
            ],
            [
             1,
             "#276419"
            ]
           ],
           "sequential": [
            [
             0,
             "#0d0887"
            ],
            [
             0.1111111111111111,
             "#46039f"
            ],
            [
             0.2222222222222222,
             "#7201a8"
            ],
            [
             0.3333333333333333,
             "#9c179e"
            ],
            [
             0.4444444444444444,
             "#bd3786"
            ],
            [
             0.5555555555555556,
             "#d8576b"
            ],
            [
             0.6666666666666666,
             "#ed7953"
            ],
            [
             0.7777777777777778,
             "#fb9f3a"
            ],
            [
             0.8888888888888888,
             "#fdca26"
            ],
            [
             1,
             "#f0f921"
            ]
           ],
           "sequentialminus": [
            [
             0,
             "#0d0887"
            ],
            [
             0.1111111111111111,
             "#46039f"
            ],
            [
             0.2222222222222222,
             "#7201a8"
            ],
            [
             0.3333333333333333,
             "#9c179e"
            ],
            [
             0.4444444444444444,
             "#bd3786"
            ],
            [
             0.5555555555555556,
             "#d8576b"
            ],
            [
             0.6666666666666666,
             "#ed7953"
            ],
            [
             0.7777777777777778,
             "#fb9f3a"
            ],
            [
             0.8888888888888888,
             "#fdca26"
            ],
            [
             1,
             "#f0f921"
            ]
           ]
          },
          "colorway": [
           "#636efa",
           "#EF553B",
           "#00cc96",
           "#ab63fa",
           "#FFA15A",
           "#19d3f3",
           "#FF6692",
           "#B6E880",
           "#FF97FF",
           "#FECB52"
          ],
          "font": {
           "color": "#2a3f5f"
          },
          "geo": {
           "bgcolor": "white",
           "lakecolor": "white",
           "landcolor": "#E5ECF6",
           "showlakes": true,
           "showland": true,
           "subunitcolor": "white"
          },
          "hoverlabel": {
           "align": "left"
          },
          "hovermode": "closest",
          "mapbox": {
           "style": "light"
          },
          "paper_bgcolor": "white",
          "plot_bgcolor": "#E5ECF6",
          "polar": {
           "angularaxis": {
            "gridcolor": "white",
            "linecolor": "white",
            "ticks": ""
           },
           "bgcolor": "#E5ECF6",
           "radialaxis": {
            "gridcolor": "white",
            "linecolor": "white",
            "ticks": ""
           }
          },
          "scene": {
           "xaxis": {
            "backgroundcolor": "#E5ECF6",
            "gridcolor": "white",
            "gridwidth": 2,
            "linecolor": "white",
            "showbackground": true,
            "ticks": "",
            "zerolinecolor": "white"
           },
           "yaxis": {
            "backgroundcolor": "#E5ECF6",
            "gridcolor": "white",
            "gridwidth": 2,
            "linecolor": "white",
            "showbackground": true,
            "ticks": "",
            "zerolinecolor": "white"
           },
           "zaxis": {
            "backgroundcolor": "#E5ECF6",
            "gridcolor": "white",
            "gridwidth": 2,
            "linecolor": "white",
            "showbackground": true,
            "ticks": "",
            "zerolinecolor": "white"
           }
          },
          "shapedefaults": {
           "line": {
            "color": "#2a3f5f"
           }
          },
          "ternary": {
           "aaxis": {
            "gridcolor": "white",
            "linecolor": "white",
            "ticks": ""
           },
           "baxis": {
            "gridcolor": "white",
            "linecolor": "white",
            "ticks": ""
           },
           "bgcolor": "#E5ECF6",
           "caxis": {
            "gridcolor": "white",
            "linecolor": "white",
            "ticks": ""
           }
          },
          "title": {
           "x": 0.05
          },
          "xaxis": {
           "automargin": true,
           "gridcolor": "white",
           "linecolor": "white",
           "ticks": "",
           "title": {
            "standoff": 15
           },
           "zerolinecolor": "white",
           "zerolinewidth": 2
          },
          "yaxis": {
           "automargin": true,
           "gridcolor": "white",
           "linecolor": "white",
           "ticks": "",
           "title": {
            "standoff": 15
           },
           "zerolinecolor": "white",
           "zerolinewidth": 2
          }
         }
        },
        "xaxis": {
         "anchor": "y",
         "domain": [
          0,
          1
         ],
         "title": {
          "text": "index"
         }
        },
        "yaxis": {
         "anchor": "x",
         "domain": [
          0,
          1
         ],
         "title": {
          "text": "value"
         }
        }
       }
      },
      "text/html": [
       "<div>                            <div id=\"8262bda8-008c-40de-8871-591de8856747\" class=\"plotly-graph-div\" style=\"height:525px; width:100%;\"></div>            <script type=\"text/javascript\">                require([\"plotly\"], function(Plotly) {                    window.PLOTLYENV=window.PLOTLYENV || {};                                    if (document.getElementById(\"8262bda8-008c-40de-8871-591de8856747\")) {                    Plotly.newPlot(                        \"8262bda8-008c-40de-8871-591de8856747\",                        [{\"hovertemplate\":\"Country=Brazil<br>index=%{x}<br>value=%{y}<extra></extra>\",\"legendgroup\":\"Brazil\",\"line\":{\"color\":\"#636efa\",\"dash\":\"solid\"},\"marker\":{\"symbol\":\"circle\"},\"mode\":\"lines\",\"name\":\"Brazil\",\"orientation\":\"v\",\"showlegend\":true,\"type\":\"scatter\",\"x\":[\"min_1\",\"min_2\",\"min_3\",\"min_4\",\"min_5\",\"min_6\",\"min_7\",\"min_8\",\"min_9\",\"min_10\",\"min_11\",\"min_12\",\"min_13\",\"min_14\",\"min_15\",\"min_16\",\"min_17\",\"min_18\",\"min_19\",\"min_20\",\"min_21\",\"min_22\",\"min_23\",\"min_24\",\"min_25\",\"min_26\",\"min_27\",\"min_28\",\"min_29\",\"min_30\",\"min_31\",\"min_32\",\"min_33\",\"min_34\",\"min_35\",\"min_36\",\"min_37\",\"min_38\",\"min_39\",\"min_40\"],\"xaxis\":\"x\",\"y\":[0.0,-4.631578947368421,-4.2631578947368425,58.78947368421053,63.36842105263158,64.6842105263158,45.89473684210526,158.0,225.1578947368421,378.57894736842104,445.63157894736844,420.5263157894737,699.8421052631579,653.9473684210526,629.0526315789474,1150.5263157894738,1586.3157894736842,1580.6315789473683,1747.9473684210527,1965.157894736842,2069.0526315789475,2376.5263157894738,3276.315789473684,3426.8947368421054,3805.684210526316,4806.578947368421,5458.8421052631575,6173.1578947368425,6397.882352941177,6077.4,6026.428571428572,5246.333333333333,5578.0,5237.8,5069.125,5015.0,4552.25,6818.0,4744.0,5173.0],\"yaxis\":\"y\"},{\"hovertemplate\":\"Country=Europe<br>index=%{x}<br>value=%{y}<extra></extra>\",\"legendgroup\":\"Europe\",\"line\":{\"color\":\"#EF553B\",\"dash\":\"solid\"},\"marker\":{\"symbol\":\"circle\"},\"mode\":\"lines\",\"name\":\"Europe\",\"orientation\":\"v\",\"showlegend\":true,\"type\":\"scatter\",\"x\":[\"min_1\",\"min_2\",\"min_3\",\"min_4\",\"min_5\",\"min_6\",\"min_7\",\"min_8\",\"min_9\",\"min_10\",\"min_11\",\"min_12\",\"min_13\",\"min_14\",\"min_15\",\"min_16\",\"min_17\",\"min_18\",\"min_19\",\"min_20\",\"min_21\",\"min_22\",\"min_23\",\"min_24\",\"min_25\",\"min_26\",\"min_27\",\"min_28\",\"min_29\",\"min_30\",\"min_31\",\"min_32\",\"min_33\",\"min_34\",\"min_35\",\"min_36\",\"min_37\",\"min_38\",\"min_39\",\"min_40\"],\"xaxis\":\"x\",\"y\":[0.0,-1.2,-9.0,-15.45,-19.1,59.3,70.15,116.0,132.25,-15.75,-92.45,-138.05,1.95,-95.5,54.85,57.65,133.8,10.5,57.4,-106.8,-48.75,43.5,220.5,479.45,687.4,918.65,1483.4,1639.7,2403.2,2716.6,3496.35,3807.5,3229.3333333333335,3722.4,2325.0,2675.3846153846152,2643.4166666666665,2487.5833333333335,2908.6666666666665,3696.9166666666665],\"yaxis\":\"y\"},{\"hovertemplate\":\"Country=Korea<br>index=%{x}<br>value=%{y}<extra></extra>\",\"legendgroup\":\"Korea\",\"line\":{\"color\":\"#00cc96\",\"dash\":\"solid\"},\"marker\":{\"symbol\":\"circle\"},\"mode\":\"lines\",\"name\":\"Korea\",\"orientation\":\"v\",\"showlegend\":true,\"type\":\"scatter\",\"x\":[\"min_1\",\"min_2\",\"min_3\",\"min_4\",\"min_5\",\"min_6\",\"min_7\",\"min_8\",\"min_9\",\"min_10\",\"min_11\",\"min_12\",\"min_13\",\"min_14\",\"min_15\",\"min_16\",\"min_17\",\"min_18\",\"min_19\",\"min_20\",\"min_21\",\"min_22\",\"min_23\",\"min_24\",\"min_25\",\"min_26\",\"min_27\",\"min_28\",\"min_29\",\"min_30\",\"min_31\",\"min_32\",\"min_33\",\"min_34\",\"min_35\",\"min_36\",\"min_37\",\"min_38\",\"min_39\",\"min_40\"],\"xaxis\":\"x\",\"y\":[0.0,2.693877551020408,27.591836734693878,-8.510204081632653,23.0,37.795918367346935,85.71428571428571,125.6938775510204,115.44897959183673,233.42857142857142,259.51020408163265,378.42857142857144,457.40816326530614,541.8367346938776,637.3469387755102,670.3469387755102,771.4897959183673,999.6734693877551,1190.530612244898,1317.3061224489795,1648.1836734693877,1923.469387755102,2142.2448979591836,2589.734693877551,2630.0416666666665,2916.7291666666665,3400.8333333333335,3887.625,4260.468085106383,4172.933333333333,4537.7441860465115,4683.285714285715,4161.184210526316,4050.4166666666665,4257.4857142857145,3905.939393939394,2732.8214285714284,2524.5185185185187,1416.4166666666667,1832.6666666666667],\"yaxis\":\"y\"},{\"hovertemplate\":\"Country=North America<br>index=%{x}<br>value=%{y}<extra></extra>\",\"legendgroup\":\"North America\",\"line\":{\"color\":\"#ab63fa\",\"dash\":\"solid\"},\"marker\":{\"symbol\":\"circle\"},\"mode\":\"lines\",\"name\":\"North America\",\"orientation\":\"v\",\"showlegend\":true,\"type\":\"scatter\",\"x\":[\"min_1\",\"min_2\",\"min_3\",\"min_4\",\"min_5\",\"min_6\",\"min_7\",\"min_8\",\"min_9\",\"min_10\",\"min_11\",\"min_12\",\"min_13\",\"min_14\",\"min_15\",\"min_16\",\"min_17\",\"min_18\",\"min_19\",\"min_20\",\"min_21\",\"min_22\",\"min_23\",\"min_24\",\"min_25\",\"min_26\",\"min_27\",\"min_28\",\"min_29\",\"min_30\",\"min_31\",\"min_32\",\"min_33\",\"min_34\",\"min_35\",\"min_36\",\"min_37\",\"min_38\",\"min_39\",\"min_40\"],\"xaxis\":\"x\",\"y\":[0.0,1.35,-22.85,2.85,-30.5,8.5,60.4,77.95,119.0,170.75,234.5,198.6,75.8,301.8,409.35,331.1,588.2,681.3,777.2,1108.65,1278.55,1298.95,1592.15,1761.4,2376.7,2748.95,3252.85,3615.55,3571.4736842105262,3814.3333333333335,3360.235294117647,4071.5882352941176,4393.5,4333.8,4916.933333333333,4718.384615384615,4891.384615384615,4542.5,5642.833333333333,4351.9],\"yaxis\":\"y\"},{\"hovertemplate\":\"Country=Turkey<br>index=%{x}<br>value=%{y}<extra></extra>\",\"legendgroup\":\"Turkey\",\"line\":{\"color\":\"#FFA15A\",\"dash\":\"solid\"},\"marker\":{\"symbol\":\"circle\"},\"mode\":\"lines\",\"name\":\"Turkey\",\"orientation\":\"v\",\"showlegend\":true,\"type\":\"scatter\",\"x\":[\"min_1\",\"min_2\",\"min_3\",\"min_4\",\"min_5\",\"min_6\",\"min_7\",\"min_8\",\"min_9\",\"min_10\",\"min_11\",\"min_12\",\"min_13\",\"min_14\",\"min_15\",\"min_16\",\"min_17\",\"min_18\",\"min_19\",\"min_20\",\"min_21\",\"min_22\",\"min_23\",\"min_24\",\"min_25\",\"min_26\",\"min_27\",\"min_28\",\"min_29\",\"min_30\",\"min_31\",\"min_32\",\"min_33\",\"min_34\",\"min_35\",\"min_36\",\"min_37\",\"min_38\",\"min_39\",\"min_40\"],\"xaxis\":\"x\",\"y\":[0.0,1.894736842105263,40.89473684210526,64.36842105263158,93.42105263157895,155.68421052631578,150.1578947368421,193.78947368421052,298.63157894736844,336.2631578947368,579.7368421052631,885.3684210526316,1087.421052631579,1262.2631578947369,1492.1052631578948,1628.842105263158,1671.578947368421,1989.7894736842106,2158.842105263158,2405.2105263157896,2492.5789473684213,3092.0526315789475,3670.315789473684,3917.315789473684,3957.0526315789475,4091.7894736842104,4581.736842105263,4972.421052631579,5447.315789473684,6279.894736842105,6004.64705882353,6925.75,6361.0,6430.4,6161.5,5477.857142857143,3912.0,146.5,489.75,667.0],\"yaxis\":\"y\"}],                        {\"legend\":{\"title\":{\"text\":\"Country\"},\"tracegroupgap\":0},\"margin\":{\"t\":60},\"template\":{\"data\":{\"bar\":[{\"error_x\":{\"color\":\"#2a3f5f\"},\"error_y\":{\"color\":\"#2a3f5f\"},\"marker\":{\"line\":{\"color\":\"#E5ECF6\",\"width\":0.5},\"pattern\":{\"fillmode\":\"overlay\",\"size\":10,\"solidity\":0.2}},\"type\":\"bar\"}],\"barpolar\":[{\"marker\":{\"line\":{\"color\":\"#E5ECF6\",\"width\":0.5},\"pattern\":{\"fillmode\":\"overlay\",\"size\":10,\"solidity\":0.2}},\"type\":\"barpolar\"}],\"carpet\":[{\"aaxis\":{\"endlinecolor\":\"#2a3f5f\",\"gridcolor\":\"white\",\"linecolor\":\"white\",\"minorgridcolor\":\"white\",\"startlinecolor\":\"#2a3f5f\"},\"baxis\":{\"endlinecolor\":\"#2a3f5f\",\"gridcolor\":\"white\",\"linecolor\":\"white\",\"minorgridcolor\":\"white\",\"startlinecolor\":\"#2a3f5f\"},\"type\":\"carpet\"}],\"choropleth\":[{\"colorbar\":{\"outlinewidth\":0,\"ticks\":\"\"},\"type\":\"choropleth\"}],\"contour\":[{\"colorbar\":{\"outlinewidth\":0,\"ticks\":\"\"},\"colorscale\":[[0.0,\"#0d0887\"],[0.1111111111111111,\"#46039f\"],[0.2222222222222222,\"#7201a8\"],[0.3333333333333333,\"#9c179e\"],[0.4444444444444444,\"#bd3786\"],[0.5555555555555556,\"#d8576b\"],[0.6666666666666666,\"#ed7953\"],[0.7777777777777778,\"#fb9f3a\"],[0.8888888888888888,\"#fdca26\"],[1.0,\"#f0f921\"]],\"type\":\"contour\"}],\"contourcarpet\":[{\"colorbar\":{\"outlinewidth\":0,\"ticks\":\"\"},\"type\":\"contourcarpet\"}],\"heatmap\":[{\"colorbar\":{\"outlinewidth\":0,\"ticks\":\"\"},\"colorscale\":[[0.0,\"#0d0887\"],[0.1111111111111111,\"#46039f\"],[0.2222222222222222,\"#7201a8\"],[0.3333333333333333,\"#9c179e\"],[0.4444444444444444,\"#bd3786\"],[0.5555555555555556,\"#d8576b\"],[0.6666666666666666,\"#ed7953\"],[0.7777777777777778,\"#fb9f3a\"],[0.8888888888888888,\"#fdca26\"],[1.0,\"#f0f921\"]],\"type\":\"heatmap\"}],\"heatmapgl\":[{\"colorbar\":{\"outlinewidth\":0,\"ticks\":\"\"},\"colorscale\":[[0.0,\"#0d0887\"],[0.1111111111111111,\"#46039f\"],[0.2222222222222222,\"#7201a8\"],[0.3333333333333333,\"#9c179e\"],[0.4444444444444444,\"#bd3786\"],[0.5555555555555556,\"#d8576b\"],[0.6666666666666666,\"#ed7953\"],[0.7777777777777778,\"#fb9f3a\"],[0.8888888888888888,\"#fdca26\"],[1.0,\"#f0f921\"]],\"type\":\"heatmapgl\"}],\"histogram\":[{\"marker\":{\"pattern\":{\"fillmode\":\"overlay\",\"size\":10,\"solidity\":0.2}},\"type\":\"histogram\"}],\"histogram2d\":[{\"colorbar\":{\"outlinewidth\":0,\"ticks\":\"\"},\"colorscale\":[[0.0,\"#0d0887\"],[0.1111111111111111,\"#46039f\"],[0.2222222222222222,\"#7201a8\"],[0.3333333333333333,\"#9c179e\"],[0.4444444444444444,\"#bd3786\"],[0.5555555555555556,\"#d8576b\"],[0.6666666666666666,\"#ed7953\"],[0.7777777777777778,\"#fb9f3a\"],[0.8888888888888888,\"#fdca26\"],[1.0,\"#f0f921\"]],\"type\":\"histogram2d\"}],\"histogram2dcontour\":[{\"colorbar\":{\"outlinewidth\":0,\"ticks\":\"\"},\"colorscale\":[[0.0,\"#0d0887\"],[0.1111111111111111,\"#46039f\"],[0.2222222222222222,\"#7201a8\"],[0.3333333333333333,\"#9c179e\"],[0.4444444444444444,\"#bd3786\"],[0.5555555555555556,\"#d8576b\"],[0.6666666666666666,\"#ed7953\"],[0.7777777777777778,\"#fb9f3a\"],[0.8888888888888888,\"#fdca26\"],[1.0,\"#f0f921\"]],\"type\":\"histogram2dcontour\"}],\"mesh3d\":[{\"colorbar\":{\"outlinewidth\":0,\"ticks\":\"\"},\"type\":\"mesh3d\"}],\"parcoords\":[{\"line\":{\"colorbar\":{\"outlinewidth\":0,\"ticks\":\"\"}},\"type\":\"parcoords\"}],\"pie\":[{\"automargin\":true,\"type\":\"pie\"}],\"scatter\":[{\"marker\":{\"colorbar\":{\"outlinewidth\":0,\"ticks\":\"\"}},\"type\":\"scatter\"}],\"scatter3d\":[{\"line\":{\"colorbar\":{\"outlinewidth\":0,\"ticks\":\"\"}},\"marker\":{\"colorbar\":{\"outlinewidth\":0,\"ticks\":\"\"}},\"type\":\"scatter3d\"}],\"scattercarpet\":[{\"marker\":{\"colorbar\":{\"outlinewidth\":0,\"ticks\":\"\"}},\"type\":\"scattercarpet\"}],\"scattergeo\":[{\"marker\":{\"colorbar\":{\"outlinewidth\":0,\"ticks\":\"\"}},\"type\":\"scattergeo\"}],\"scattergl\":[{\"marker\":{\"colorbar\":{\"outlinewidth\":0,\"ticks\":\"\"}},\"type\":\"scattergl\"}],\"scattermapbox\":[{\"marker\":{\"colorbar\":{\"outlinewidth\":0,\"ticks\":\"\"}},\"type\":\"scattermapbox\"}],\"scatterpolar\":[{\"marker\":{\"colorbar\":{\"outlinewidth\":0,\"ticks\":\"\"}},\"type\":\"scatterpolar\"}],\"scatterpolargl\":[{\"marker\":{\"colorbar\":{\"outlinewidth\":0,\"ticks\":\"\"}},\"type\":\"scatterpolargl\"}],\"scatterternary\":[{\"marker\":{\"colorbar\":{\"outlinewidth\":0,\"ticks\":\"\"}},\"type\":\"scatterternary\"}],\"surface\":[{\"colorbar\":{\"outlinewidth\":0,\"ticks\":\"\"},\"colorscale\":[[0.0,\"#0d0887\"],[0.1111111111111111,\"#46039f\"],[0.2222222222222222,\"#7201a8\"],[0.3333333333333333,\"#9c179e\"],[0.4444444444444444,\"#bd3786\"],[0.5555555555555556,\"#d8576b\"],[0.6666666666666666,\"#ed7953\"],[0.7777777777777778,\"#fb9f3a\"],[0.8888888888888888,\"#fdca26\"],[1.0,\"#f0f921\"]],\"type\":\"surface\"}],\"table\":[{\"cells\":{\"fill\":{\"color\":\"#EBF0F8\"},\"line\":{\"color\":\"white\"}},\"header\":{\"fill\":{\"color\":\"#C8D4E3\"},\"line\":{\"color\":\"white\"}},\"type\":\"table\"}]},\"layout\":{\"annotationdefaults\":{\"arrowcolor\":\"#2a3f5f\",\"arrowhead\":0,\"arrowwidth\":1},\"autotypenumbers\":\"strict\",\"coloraxis\":{\"colorbar\":{\"outlinewidth\":0,\"ticks\":\"\"}},\"colorscale\":{\"diverging\":[[0,\"#8e0152\"],[0.1,\"#c51b7d\"],[0.2,\"#de77ae\"],[0.3,\"#f1b6da\"],[0.4,\"#fde0ef\"],[0.5,\"#f7f7f7\"],[0.6,\"#e6f5d0\"],[0.7,\"#b8e186\"],[0.8,\"#7fbc41\"],[0.9,\"#4d9221\"],[1,\"#276419\"]],\"sequential\":[[0.0,\"#0d0887\"],[0.1111111111111111,\"#46039f\"],[0.2222222222222222,\"#7201a8\"],[0.3333333333333333,\"#9c179e\"],[0.4444444444444444,\"#bd3786\"],[0.5555555555555556,\"#d8576b\"],[0.6666666666666666,\"#ed7953\"],[0.7777777777777778,\"#fb9f3a\"],[0.8888888888888888,\"#fdca26\"],[1.0,\"#f0f921\"]],\"sequentialminus\":[[0.0,\"#0d0887\"],[0.1111111111111111,\"#46039f\"],[0.2222222222222222,\"#7201a8\"],[0.3333333333333333,\"#9c179e\"],[0.4444444444444444,\"#bd3786\"],[0.5555555555555556,\"#d8576b\"],[0.6666666666666666,\"#ed7953\"],[0.7777777777777778,\"#fb9f3a\"],[0.8888888888888888,\"#fdca26\"],[1.0,\"#f0f921\"]]},\"colorway\":[\"#636efa\",\"#EF553B\",\"#00cc96\",\"#ab63fa\",\"#FFA15A\",\"#19d3f3\",\"#FF6692\",\"#B6E880\",\"#FF97FF\",\"#FECB52\"],\"font\":{\"color\":\"#2a3f5f\"},\"geo\":{\"bgcolor\":\"white\",\"lakecolor\":\"white\",\"landcolor\":\"#E5ECF6\",\"showlakes\":true,\"showland\":true,\"subunitcolor\":\"white\"},\"hoverlabel\":{\"align\":\"left\"},\"hovermode\":\"closest\",\"mapbox\":{\"style\":\"light\"},\"paper_bgcolor\":\"white\",\"plot_bgcolor\":\"#E5ECF6\",\"polar\":{\"angularaxis\":{\"gridcolor\":\"white\",\"linecolor\":\"white\",\"ticks\":\"\"},\"bgcolor\":\"#E5ECF6\",\"radialaxis\":{\"gridcolor\":\"white\",\"linecolor\":\"white\",\"ticks\":\"\"}},\"scene\":{\"xaxis\":{\"backgroundcolor\":\"#E5ECF6\",\"gridcolor\":\"white\",\"gridwidth\":2,\"linecolor\":\"white\",\"showbackground\":true,\"ticks\":\"\",\"zerolinecolor\":\"white\"},\"yaxis\":{\"backgroundcolor\":\"#E5ECF6\",\"gridcolor\":\"white\",\"gridwidth\":2,\"linecolor\":\"white\",\"showbackground\":true,\"ticks\":\"\",\"zerolinecolor\":\"white\"},\"zaxis\":{\"backgroundcolor\":\"#E5ECF6\",\"gridcolor\":\"white\",\"gridwidth\":2,\"linecolor\":\"white\",\"showbackground\":true,\"ticks\":\"\",\"zerolinecolor\":\"white\"}},\"shapedefaults\":{\"line\":{\"color\":\"#2a3f5f\"}},\"ternary\":{\"aaxis\":{\"gridcolor\":\"white\",\"linecolor\":\"white\",\"ticks\":\"\"},\"baxis\":{\"gridcolor\":\"white\",\"linecolor\":\"white\",\"ticks\":\"\"},\"bgcolor\":\"#E5ECF6\",\"caxis\":{\"gridcolor\":\"white\",\"linecolor\":\"white\",\"ticks\":\"\"}},\"title\":{\"x\":0.05},\"xaxis\":{\"automargin\":true,\"gridcolor\":\"white\",\"linecolor\":\"white\",\"ticks\":\"\",\"title\":{\"standoff\":15},\"zerolinecolor\":\"white\",\"zerolinewidth\":2},\"yaxis\":{\"automargin\":true,\"gridcolor\":\"white\",\"linecolor\":\"white\",\"ticks\":\"\",\"title\":{\"standoff\":15},\"zerolinecolor\":\"white\",\"zerolinewidth\":2}}},\"xaxis\":{\"anchor\":\"y\",\"domain\":[0.0,1.0],\"title\":{\"text\":\"index\"}},\"yaxis\":{\"anchor\":\"x\",\"domain\":[0.0,1.0],\"title\":{\"text\":\"value\"}}},                        {\"responsive\": true}                    ).then(function(){\n",
       "                            \n",
       "var gd = document.getElementById('8262bda8-008c-40de-8871-591de8856747');\n",
       "var x = new MutationObserver(function (mutations, observer) {{\n",
       "        var display = window.getComputedStyle(gd).display;\n",
       "        if (!display || display === 'none') {{\n",
       "            console.log([gd, 'removed!']);\n",
       "            Plotly.purge(gd);\n",
       "            observer.disconnect();\n",
       "        }}\n",
       "}});\n",
       "\n",
       "// Listen for the removal of the full notebook cells\n",
       "var notebookContainer = gd.closest('#notebook-container');\n",
       "if (notebookContainer) {{\n",
       "    x.observe(notebookContainer, {childList: true});\n",
       "}}\n",
       "\n",
       "// Listen for the clearing of the current output cell\n",
       "var outputEl = gd.closest('.output');\n",
       "if (outputEl) {{\n",
       "    x.observe(outputEl, {childList: true});\n",
       "}}\n",
       "\n",
       "                        })                };                });            </script>        </div>"
      ]
     },
     "metadata": {},
     "output_type": "display_data"
    }
   ],
   "source": [
    "df_gold_winside.groupby(['Country']).mean().T\n",
    "fig = px.line(df_gold_winside.query(\"Year=='2018'\").groupby(['Country']).mean().T.drop([\"Year\"], axis = 0), color = 'Country')\n",
    "fig.show()"
   ]
  },
  {
   "cell_type": "code",
   "execution_count": 367,
   "metadata": {},
   "outputs": [
    {
     "data": {
      "application/vnd.plotly.v1+json": {
       "config": {
        "plotlyServerURL": "https://plot.ly"
       },
       "data": [
        {
         "alignmentgroup": "True",
         "bingroup": "x",
         "hovertemplate": "Country=North America<br>value=%{x}<br>count=%{y}<extra></extra>",
         "legendgroup": "North America",
         "marker": {
          "color": "#636efa",
          "pattern": {
           "shape": ""
          }
         },
         "name": "North America",
         "offsetgroup": "North America",
         "orientation": "v",
         "showlegend": true,
         "type": "histogram",
         "x": [
          40,
          38,
          40,
          41,
          35,
          24,
          39,
          43,
          41,
          32,
          52,
          46,
          38,
          31,
          33,
          38,
          40,
          39,
          40,
          39,
          49,
          35,
          36,
          43,
          32,
          31,
          36,
          41,
          31,
          30,
          45,
          42,
          27,
          35,
          43,
          37,
          40,
          46,
          48,
          39,
          40,
          49,
          37,
          35,
          24,
          44,
          54,
          47,
          33,
          30,
          34,
          49,
          29,
          33,
          29,
          33,
          30,
          42,
          55,
          38,
          51,
          36,
          46,
          40,
          46,
          46,
          37,
          29,
          45,
          31,
          31,
          33,
          37,
          38,
          45,
          40,
          42,
          47,
          42,
          37,
          45,
          34,
          36,
          36,
          42,
          35,
          40,
          33,
          34,
          34,
          46,
          28,
          46,
          44,
          33,
          34,
          43,
          42,
          35,
          40,
          35,
          43,
          33,
          36,
          43,
          38,
          50,
          37,
          33,
          40,
          48,
          44,
          39,
          44,
          40,
          30,
          31,
          31,
          48,
          36,
          36,
          49,
          40,
          39,
          42,
          34,
          36,
          51,
          48,
          48,
          36,
          54,
          44,
          37,
          41,
          38,
          30,
          49,
          29,
          39,
          36,
          49,
          32,
          55,
          42,
          28,
          38,
          43,
          40,
          41,
          29,
          40,
          43,
          29,
          40,
          40,
          34,
          39,
          25,
          45,
          40,
          41,
          29,
          40,
          38,
          57,
          52,
          27,
          51,
          36,
          37,
          49,
          42,
          30,
          35,
          58,
          38,
          32,
          28,
          32,
          33,
          60,
          33,
          29,
          36,
          40,
          35,
          33,
          26,
          43,
          32,
          26,
          41,
          33,
          39,
          42,
          32,
          39,
          42,
          30,
          30,
          38,
          42,
          41,
          30,
          37,
          34,
          43,
          35,
          33,
          41,
          38,
          38,
          40,
          47,
          32,
          30,
          44,
          40,
          28,
          54,
          56,
          44,
          38,
          41,
          38,
          33,
          37,
          40,
          32,
          35,
          45,
          28,
          41,
          62,
          37,
          36,
          32,
          44,
          29,
          19,
          36,
          39,
          32,
          48,
          29,
          34,
          33,
          49,
          42,
          27,
          29,
          35,
          33,
          30,
          31,
          32,
          31,
          20,
          42,
          31,
          20,
          33,
          39,
          41,
          29,
          30,
          39,
          24,
          44,
          32,
          43,
          30,
          32,
          27,
          34,
          29,
          30,
          33,
          46,
          28,
          33,
          47,
          26,
          58,
          31,
          37,
          39,
          33,
          28,
          28,
          31,
          43,
          30,
          29,
          40,
          41,
          30,
          46,
          26,
          57,
          38,
          38,
          30,
          68,
          30,
          35,
          30,
          49,
          41,
          38,
          25,
          29,
          35,
          34,
          44,
          34,
          30,
          26,
          45,
          39,
          33,
          39,
          32,
          65,
          43,
          42,
          44,
          44,
          51,
          35,
          57,
          32,
          41,
          30,
          34,
          29,
          48,
          43,
          39,
          43,
          32,
          33,
          34,
          27,
          43,
          35,
          35,
          36,
          36,
          30,
          28,
          27,
          32,
          32,
          58,
          30,
          27,
          27,
          44,
          44,
          41,
          49,
          33,
          34,
          30,
          41,
          28,
          35,
          42,
          31,
          27,
          38,
          29,
          27,
          43,
          55,
          37,
          33,
          28,
          36,
          29,
          30,
          39,
          25,
          29,
          41,
          37,
          30,
          40,
          60,
          37,
          44,
          35,
          32,
          35,
          27,
          32,
          37,
          33,
          39,
          24,
          28,
          27,
          36,
          30,
          38,
          47,
          32,
          37,
          44,
          55,
          41,
          36,
          31,
          36,
          42,
          45,
          36,
          34,
          43,
          41,
          41,
          25,
          26,
          28,
          28,
          28,
          33,
          35,
          39,
          28,
          31,
          25,
          42,
          31,
          42,
          41,
          30,
          33,
          31,
          40,
          31,
          32,
          48,
          38,
          34,
          33,
          35,
          32,
          39,
          41,
          28,
          25,
          37,
          38,
          36,
          42,
          48,
          33,
          46,
          28,
          36,
          32,
          36,
          32,
          40,
          40,
          32,
          38,
          29,
          38,
          62,
          31,
          28,
          30,
          34,
          30,
          40,
          26,
          41,
          38,
          34,
          28,
          21,
          46,
          35,
          27,
          34,
          35,
          57,
          36,
          37,
          36,
          32,
          41,
          26,
          28,
          31,
          29,
          28,
          43,
          29,
          43,
          35,
          34,
          22,
          28,
          30,
          37,
          28,
          39,
          34,
          55,
          39,
          48,
          28,
          36,
          44,
          43,
          36,
          28,
          27,
          30,
          31,
          36,
          36,
          33,
          38,
          39,
          26,
          26,
          52,
          37,
          41,
          34,
          31,
          26,
          35,
          31,
          30,
          29,
          32,
          38,
          35,
          33,
          31,
          25,
          44,
          44,
          30,
          44,
          33,
          29,
          31,
          44,
          29,
          42,
          35,
          47,
          48,
          39,
          26,
          27,
          35,
          40,
          34,
          27,
          34,
          40,
          47,
          38,
          48,
          34,
          45,
          44,
          43,
          34,
          51,
          52,
          33,
          40,
          38,
          30,
          44,
          41,
          37,
          39,
          25,
          35,
          44,
          31,
          37,
          49,
          44,
          49,
          39,
          53,
          37,
          53,
          51,
          39,
          45,
          52,
          42,
          34,
          39,
          45,
          36,
          26,
          43,
          33,
          49,
          40,
          30,
          28,
          40,
          42,
          28,
          42,
          43,
          46,
          31,
          50,
          25,
          32,
          32,
          30,
          31,
          41,
          39,
          34,
          38,
          37,
          33,
          50,
          55,
          43,
          39,
          34,
          28,
          26,
          33,
          32,
          34,
          36,
          59,
          40,
          34,
          45,
          33,
          49,
          44,
          51,
          41,
          35,
          30,
          46,
          30,
          45,
          32,
          41,
          51,
          35,
          40,
          31,
          57,
          28,
          25,
          40,
          30,
          43,
          46,
          36,
          45,
          31,
          37,
          35,
          37,
          46,
          34,
          43,
          31,
          35,
          57,
          30,
          27,
          50,
          35,
          42,
          36,
          32,
          33,
          41,
          40,
          35,
          41,
          31,
          43,
          35,
          40,
          28,
          44,
          28,
          35,
          30,
          29,
          40,
          35,
          32,
          25,
          27,
          39,
          47,
          27,
          38,
          35,
          31,
          47,
          27,
          35,
          27,
          29,
          43,
          28,
          34,
          50,
          29,
          40,
          47,
          41,
          47,
          36,
          36,
          35,
          34,
          47,
          29,
          40,
          33,
          28,
          39,
          34,
          26,
          28,
          42,
          49,
          36,
          41,
          57,
          40,
          38,
          30,
          37,
          39,
          39,
          27,
          41,
          28,
          34,
          43,
          39,
          34,
          34,
          26,
          39,
          44,
          47,
          27,
          38,
          26,
          35,
          39,
          29,
          30,
          26,
          39,
          33,
          38,
          38,
          43,
          55,
          46,
          41,
          40,
          29,
          36,
          28,
          30,
          30,
          32,
          36,
          35,
          36,
          37,
          43,
          32,
          36,
          65,
          45,
          41,
          35,
          36,
          37,
          37,
          67,
          48,
          35,
          39,
          26,
          40,
          45,
          36,
          38,
          35,
          34,
          26,
          34,
          34,
          32,
          32,
          34,
          36,
          33,
          45,
          29,
          23,
          48,
          32,
          43,
          38,
          42,
          54,
          45,
          42,
          31,
          27,
          42,
          33,
          44,
          43,
          38,
          35,
          41,
          53,
          38,
          33,
          43,
          40,
          37,
          36,
          35,
          43,
          28,
          30,
          36,
          34,
          34,
          37,
          46,
          37,
          38,
          41,
          34,
          47,
          33,
          34,
          37,
          41,
          43,
          62,
          24,
          34,
          47,
          41,
          39,
          30,
          41,
          34,
          26,
          27,
          33,
          47,
          43,
          42,
          32,
          32,
          39,
          50,
          36,
          47,
          42,
          38,
          26,
          44,
          28,
          41,
          36,
          39,
          44,
          30,
          34,
          51,
          40,
          29,
          34,
          29,
          47,
          37,
          30,
          30,
          35,
          32,
          35,
          34,
          38,
          34,
          28,
          24,
          32,
          36,
          34,
          51,
          29,
          38,
          31,
          29,
          51,
          32,
          28,
          33,
          34,
          30,
          37,
          50,
          58,
          42,
          35,
          36,
          31,
          32,
          39,
          35,
          40,
          34,
          29,
          38,
          34,
          32,
          32,
          49,
          38,
          32,
          41,
          27,
          32,
          35,
          30,
          44,
          37,
          35,
          39,
          30,
          34,
          39,
          30,
          35,
          39,
          55,
          35,
          37,
          38,
          39,
          24,
          25,
          31,
          34,
          39,
          32,
          35,
          41,
          27,
          34,
          31,
          34,
          35,
          40,
          34,
          36,
          29,
          30,
          42,
          28,
          30,
          34,
          29,
          24,
          41,
          33,
          29,
          30,
          32,
          36,
          35,
          34,
          37,
          42,
          43,
          43,
          39,
          41,
          30,
          33,
          31,
          27,
          31,
          39,
          38,
          27,
          35,
          28,
          32,
          31,
          24,
          29,
          27,
          28,
          46,
          55,
          44,
          29,
          38,
          28,
          24,
          28,
          30,
          31,
          29,
          27,
          35,
          25,
          36,
          35,
          24,
          37,
          38,
          44,
          29,
          22,
          32,
          31,
          26,
          31,
          53,
          29,
          41,
          40,
          39,
          31,
          51,
          35,
          37,
          41,
          36,
          39,
          47,
          42,
          28,
          35,
          29,
          37,
          46,
          29,
          36,
          39,
          38,
          34,
          46,
          43,
          46,
          29,
          65,
          40,
          30,
          35,
          37,
          51,
          35,
          39,
          33,
          32,
          63,
          47,
          47,
          48,
          56,
          41,
          39,
          43,
          28
         ],
         "xaxis": "x",
         "yaxis": "y"
        },
        {
         "alignmentgroup": "True",
         "bingroup": "x",
         "hovertemplate": "Country=Europe<br>value=%{x}<br>count=%{y}<extra></extra>",
         "legendgroup": "Europe",
         "marker": {
          "color": "#EF553B",
          "pattern": {
           "shape": ""
          }
         },
         "name": "Europe",
         "offsetgroup": "Europe",
         "orientation": "v",
         "showlegend": true,
         "type": "histogram",
         "x": [
          36,
          28,
          50,
          40,
          27,
          38,
          38,
          46,
          34,
          34,
          30,
          30,
          53,
          38,
          38,
          43,
          28,
          64,
          38,
          44,
          40,
          45,
          36,
          41,
          60,
          33,
          52,
          45,
          43,
          36,
          51,
          31,
          38,
          32,
          37,
          31,
          42,
          47,
          49,
          46,
          43,
          43,
          44,
          43,
          41,
          39,
          31,
          49,
          41,
          39,
          31,
          30,
          35,
          36,
          34,
          42,
          38,
          33,
          53,
          49,
          47,
          39,
          68,
          39,
          32,
          43,
          49,
          28,
          24,
          41,
          42,
          27,
          35,
          47,
          38,
          45,
          39,
          37,
          30,
          27,
          59,
          32,
          38,
          38,
          34,
          41,
          33,
          43,
          42,
          31,
          47,
          37,
          37,
          37,
          34,
          33,
          28,
          39,
          41,
          44,
          29,
          38,
          41,
          31,
          40,
          28,
          43,
          36,
          55,
          28,
          29,
          28,
          40,
          42,
          37,
          48,
          29,
          32,
          26,
          36,
          35,
          30,
          39,
          42,
          42,
          27,
          40,
          31,
          31,
          30,
          49,
          39,
          43,
          36,
          36,
          56,
          37,
          35,
          32,
          44,
          46,
          35,
          54,
          46,
          50,
          39,
          44,
          40,
          33,
          36,
          45,
          38,
          44,
          29,
          38,
          30,
          40,
          41,
          38,
          40,
          29,
          33,
          40,
          26,
          40,
          37,
          47,
          49,
          41,
          35,
          32,
          42,
          42,
          30,
          44,
          64,
          47,
          37,
          48,
          39,
          24,
          48,
          35,
          48,
          33,
          38,
          32,
          40,
          36,
          32,
          36,
          40,
          33,
          26,
          35,
          39,
          30,
          38,
          54,
          30,
          45,
          39,
          37,
          28,
          29,
          43,
          37,
          29,
          40,
          30,
          29,
          31,
          43,
          48,
          47,
          60,
          49,
          36,
          42,
          33,
          31,
          27,
          32,
          28,
          48,
          39,
          31,
          32,
          33,
          35,
          53,
          45,
          36,
          27,
          26,
          27,
          36,
          39,
          32,
          28,
          29,
          24,
          35,
          49,
          26,
          42,
          42,
          33,
          41,
          50,
          36,
          35,
          33,
          36,
          27,
          27,
          38,
          34,
          27,
          33,
          40,
          38,
          36,
          25,
          37,
          27,
          29,
          25,
          36,
          49,
          26,
          48,
          50,
          30,
          42,
          33,
          36,
          33,
          48,
          39,
          34,
          31,
          38,
          33,
          47,
          38,
          63,
          38,
          31,
          43,
          34,
          27,
          37,
          35,
          37,
          43,
          38,
          41,
          49,
          35,
          37,
          41,
          26,
          29,
          39,
          44,
          48,
          21,
          44,
          42,
          26,
          51,
          23,
          37,
          36,
          42,
          39,
          35,
          28,
          36,
          27,
          38,
          35,
          51,
          39,
          26,
          36,
          30,
          42,
          39,
          32,
          33,
          30,
          34,
          35,
          35,
          28,
          34,
          29,
          33,
          51,
          26,
          43,
          33,
          39,
          26,
          36,
          32,
          38,
          27,
          27,
          44,
          36,
          46,
          45,
          49,
          31,
          49,
          50,
          33,
          33,
          35,
          41,
          35,
          44,
          40,
          52,
          35,
          42,
          31,
          39,
          35,
          54,
          47,
          40,
          54,
          34,
          26,
          40,
          37,
          41,
          37,
          46,
          36,
          31,
          81,
          43,
          29,
          26,
          47,
          29,
          49,
          41,
          43,
          27,
          41,
          37,
          33,
          45,
          32,
          33,
          32,
          34,
          34,
          39,
          35,
          40,
          31,
          32,
          45,
          40,
          30,
          37,
          28,
          37,
          37,
          49,
          44,
          27,
          37,
          68,
          38,
          39,
          34,
          34,
          36,
          40,
          27,
          39,
          33,
          29,
          33,
          35,
          30,
          34,
          43,
          43,
          33,
          41,
          31,
          31,
          43,
          31,
          31,
          29,
          43,
          34,
          32,
          44,
          44,
          46,
          25,
          39,
          51,
          44,
          32,
          41,
          41,
          46,
          31,
          50,
          40,
          36,
          31,
          32,
          36,
          40,
          36,
          24,
          32,
          28,
          40,
          33,
          38,
          34,
          27,
          35,
          32,
          35,
          28,
          34,
          36,
          34,
          33,
          29,
          36,
          50,
          46,
          37,
          34,
          34,
          28,
          39,
          37,
          38,
          31,
          38,
          41,
          28,
          44,
          25,
          42,
          34,
          42,
          34,
          33,
          35,
          33,
          43,
          38,
          56,
          37,
          31,
          51,
          40,
          33,
          33,
          30,
          33,
          38,
          26,
          29,
          33,
          32,
          36,
          37,
          31,
          41,
          34,
          32,
          41,
          29,
          37,
          35,
          35,
          37,
          42,
          43,
          39,
          34,
          38,
          41,
          35,
          27,
          42,
          40,
          30,
          34,
          42,
          41,
          29,
          35,
          36,
          43,
          43,
          50,
          46,
          47,
          27,
          37,
          28,
          33,
          39,
          36,
          30,
          28,
          34,
          26,
          33,
          50,
          41,
          28,
          38,
          41,
          28,
          42,
          33,
          42,
          44,
          43,
          37,
          31,
          44,
          35,
          40,
          41,
          46,
          37,
          32,
          41,
          34,
          35,
          30,
          45,
          34,
          45,
          26,
          42,
          26,
          45,
          29,
          28,
          29,
          44,
          31,
          46,
          39,
          35,
          31,
          40,
          41,
          34,
          48,
          26,
          34,
          40,
          41,
          27,
          44,
          46,
          44,
          33,
          38,
          35,
          38,
          37,
          38,
          31,
          39,
          40,
          43,
          28,
          29,
          38,
          34,
          27,
          31,
          31,
          42,
          33,
          26,
          42,
          29,
          42,
          78,
          55,
          31,
          33,
          35,
          35,
          49,
          36,
          41,
          42,
          50,
          40,
          35,
          29,
          53,
          36,
          47,
          41,
          43,
          55,
          38,
          40,
          44,
          32,
          37,
          43,
          34,
          40,
          32,
          34,
          24,
          36,
          37,
          35,
          40,
          35,
          26,
          31,
          37,
          30,
          44,
          25,
          54,
          26,
          35,
          30,
          37,
          40,
          31,
          48,
          33,
          33,
          38,
          40,
          28,
          28,
          40,
          41,
          28,
          28,
          30,
          37,
          26,
          31,
          40,
          42,
          49,
          43,
          40,
          40,
          39,
          30,
          32,
          47,
          43,
          34,
          53,
          42,
          50,
          27,
          36,
          27,
          30,
          47,
          31,
          40,
          38,
          45,
          25,
          42,
          24,
          41,
          36,
          42,
          30,
          29,
          37,
          28,
          34,
          46,
          29,
          49,
          34,
          40,
          31,
          36,
          28,
          27,
          41,
          34,
          30,
          25,
          44,
          38,
          34,
          28,
          39,
          27,
          33,
          30,
          36,
          41,
          46,
          34,
          36,
          25,
          37,
          33,
          34,
          27,
          32,
          30,
          35,
          26,
          34,
          55,
          38,
          31,
          31,
          40,
          41,
          25,
          27,
          28,
          30,
          44,
          31,
          37,
          44,
          38,
          37,
          38,
          46,
          36,
          35,
          51,
          39,
          34,
          39,
          37,
          31,
          39,
          35,
          40,
          28,
          27,
          22,
          44,
          24,
          29,
          47,
          40,
          46,
          44,
          30,
          32,
          36,
          39,
          34,
          32,
          36,
          24,
          35,
          32,
          32,
          31,
          33,
          49,
          28,
          30,
          39,
          31,
          34,
          30,
          43,
          31,
          35,
          30,
          33,
          28,
          27,
          42,
          37,
          26,
          35,
          32,
          34,
          34,
          35,
          38,
          29,
          39,
          29,
          32,
          26,
          38,
          49,
          36,
          31,
          25,
          41,
          35,
          39,
          32,
          33,
          47,
          58,
          26,
          37,
          28,
          37,
          30,
          27,
          41,
          36,
          34,
          32,
          30,
          40,
          40,
          37,
          34,
          32,
          51,
          35,
          45,
          47,
          53,
          45,
          33,
          35,
          36,
          39,
          32,
          29,
          32,
          31,
          33,
          43,
          26,
          39,
          33,
          34,
          34,
          43,
          34,
          34,
          31,
          41,
          41,
          69,
          44,
          46,
          43,
          40,
          45,
          32,
          42,
          36,
          31,
          32,
          32,
          48,
          44
         ],
         "xaxis": "x2",
         "yaxis": "y2"
        },
        {
         "alignmentgroup": "True",
         "bingroup": "x",
         "hovertemplate": "Country=Korea<br>value=%{x}<br>count=%{y}<extra></extra>",
         "legendgroup": "Korea",
         "marker": {
          "color": "#00cc96",
          "pattern": {
           "shape": ""
          }
         },
         "name": "Korea",
         "offsetgroup": "Korea",
         "orientation": "v",
         "showlegend": true,
         "type": "histogram",
         "x": [
          27,
          33,
          35,
          44,
          32,
          31,
          72,
          35,
          36,
          31,
          54,
          34,
          36,
          31,
          44,
          40,
          46,
          45,
          41,
          41,
          44,
          46,
          32,
          37,
          37,
          41,
          40,
          34,
          41,
          57,
          34,
          41,
          56,
          43,
          38,
          52,
          34,
          30,
          35,
          30,
          65,
          49,
          46,
          35,
          38,
          30,
          31,
          52,
          62,
          34,
          42,
          36,
          38,
          51,
          47,
          40,
          56,
          33,
          49,
          39,
          34,
          81,
          49,
          41,
          30,
          38,
          47,
          37,
          62,
          47,
          38,
          49,
          48,
          47,
          44,
          39,
          50,
          38,
          40,
          37,
          59,
          59,
          49,
          36,
          36,
          39,
          45,
          48,
          51,
          36,
          61,
          36,
          41,
          41,
          39,
          54,
          38,
          45,
          50,
          37,
          34,
          36,
          52,
          39,
          34,
          40,
          34,
          34,
          58,
          47,
          37,
          47,
          42,
          43,
          48,
          32,
          32,
          40,
          43,
          41,
          26,
          26,
          31,
          26,
          35,
          35,
          34,
          28,
          58,
          34,
          31,
          32,
          33,
          48,
          35,
          40,
          36,
          48,
          43,
          36,
          34,
          36,
          37,
          26,
          38,
          39,
          36,
          41,
          49,
          58,
          26,
          39,
          54,
          53,
          34,
          39,
          31,
          34,
          49,
          43,
          45,
          36,
          37,
          31,
          44,
          44,
          33,
          30,
          49,
          38,
          39,
          36,
          35,
          39,
          49,
          36,
          38,
          44,
          33,
          44,
          35,
          47,
          42,
          56,
          43,
          26,
          36,
          57,
          44,
          36,
          33,
          42,
          40,
          32,
          31,
          34,
          48,
          42,
          38,
          40,
          29,
          36,
          48,
          37,
          38,
          40,
          37,
          51,
          34,
          46,
          41,
          35,
          40,
          32,
          48,
          40,
          48,
          35,
          34,
          40,
          48,
          42,
          30,
          46,
          33,
          35,
          33,
          41,
          35,
          40,
          32,
          46,
          41,
          36,
          38,
          37,
          56,
          37,
          45,
          45,
          34,
          36,
          48,
          29,
          48,
          48,
          38,
          35,
          37,
          40,
          60,
          50,
          37,
          46,
          55,
          40,
          52,
          58,
          50,
          23,
          36,
          41,
          37,
          32,
          46,
          55,
          43,
          35,
          36,
          39,
          33,
          44,
          41,
          40,
          35,
          50,
          47,
          53,
          52,
          30,
          35,
          34,
          39,
          39,
          40,
          47,
          45,
          30,
          52,
          40,
          34,
          31,
          37,
          45,
          30,
          33,
          43,
          42,
          46,
          33,
          41,
          30,
          32,
          33,
          35,
          44,
          28,
          30,
          34,
          44,
          37,
          45,
          38,
          36,
          43,
          44,
          42,
          27,
          36,
          52,
          45,
          51,
          42,
          30,
          43,
          47,
          50,
          45,
          37,
          44,
          41,
          42,
          37,
          41,
          50,
          46,
          53,
          41,
          34,
          38,
          32,
          36,
          55,
          37,
          32,
          41,
          38,
          42,
          50,
          35,
          37,
          26,
          33,
          36,
          34,
          51,
          28,
          44,
          28,
          47,
          51,
          38,
          35,
          33,
          32,
          42,
          30,
          43,
          40,
          39,
          45,
          32,
          37,
          33,
          42,
          36,
          31,
          22,
          44,
          51,
          51,
          42,
          34,
          52,
          37,
          39,
          32,
          40,
          44,
          24,
          44,
          34,
          40,
          48,
          33,
          34,
          40,
          62,
          35,
          36,
          57,
          34,
          28,
          41,
          41,
          43,
          49,
          29,
          38,
          43,
          26,
          36,
          48,
          33,
          50,
          46,
          44,
          30,
          29,
          52,
          48,
          30,
          40,
          52,
          26,
          44,
          36,
          30,
          32,
          34,
          30,
          58,
          36,
          44,
          56,
          29,
          52,
          39,
          32,
          36,
          26,
          43,
          31,
          34,
          48,
          33,
          56,
          40,
          38,
          33,
          57,
          28,
          38,
          30,
          36,
          31,
          37,
          47,
          57,
          38,
          35,
          34,
          36,
          33,
          30,
          31,
          25,
          25,
          33,
          24,
          43,
          36,
          45,
          30,
          41,
          40,
          50,
          41,
          58,
          51,
          31,
          38,
          26,
          36,
          40,
          47,
          39,
          35,
          35,
          35,
          33,
          50,
          27,
          30,
          36,
          37,
          31,
          36,
          32,
          29,
          54,
          37,
          39,
          30,
          31,
          31,
          39,
          35,
          35,
          50,
          71,
          57,
          36,
          40,
          42,
          28,
          29,
          34,
          34,
          37,
          50,
          63,
          58,
          30,
          29,
          38,
          44,
          27,
          33,
          33,
          45,
          39,
          28,
          27,
          48,
          38,
          44,
          36,
          46,
          34,
          30,
          38,
          43,
          26,
          43,
          54,
          32,
          34,
          30,
          38,
          23,
          41,
          44,
          35,
          32,
          39,
          35,
          30,
          38,
          41,
          30,
          40,
          28,
          29,
          46,
          44,
          31,
          39,
          38,
          33,
          41,
          33,
          27,
          34,
          29,
          31,
          40,
          42,
          41,
          57,
          42,
          36,
          57,
          39,
          32,
          47,
          45,
          33,
          52,
          34,
          35,
          36,
          28,
          59,
          43,
          33,
          31,
          40,
          29,
          40,
          32,
          41,
          27,
          36,
          29,
          29,
          50,
          30,
          35,
          42,
          51,
          34,
          35,
          41,
          61,
          47,
          40,
          50,
          46,
          36,
          43,
          35,
          39,
          32,
          42,
          43,
          34,
          34,
          48,
          36,
          32,
          39,
          22,
          30,
          45,
          41,
          40,
          42,
          28,
          70,
          38,
          60,
          37,
          35,
          33,
          41,
          43,
          29,
          33,
          30,
          45,
          42,
          40,
          36,
          39,
          37,
          56,
          27,
          36,
          32,
          32,
          31,
          38,
          43,
          46,
          44,
          43,
          43,
          35,
          38,
          53,
          35,
          38,
          59,
          45,
          70,
          40,
          53,
          31,
          28,
          29,
          39,
          34,
          40,
          43,
          38,
          34,
          36,
          29,
          39,
          34,
          47,
          46,
          44,
          44,
          47,
          35,
          45,
          25,
          29,
          32,
          39,
          29,
          37,
          27,
          42,
          31,
          37,
          40,
          39,
          40,
          33,
          31,
          38,
          31,
          31,
          34,
          33,
          55,
          39,
          38,
          43,
          33,
          32,
          35,
          35,
          38,
          43,
          31,
          35,
          31,
          39,
          40,
          40,
          38,
          38,
          31,
          29,
          43,
          56,
          42,
          36,
          40,
          42,
          35,
          40,
          32,
          34,
          43,
          30,
          32,
          43,
          45,
          56,
          43,
          53,
          42,
          29,
          40,
          29,
          33,
          44,
          30,
          38,
          41,
          51,
          39,
          34,
          54,
          43,
          29,
          37,
          39,
          30,
          41,
          27,
          33,
          69,
          58,
          39,
          32,
          32,
          39,
          39,
          33,
          41,
          41,
          30,
          56,
          40,
          35,
          44,
          35,
          36,
          46,
          46,
          61,
          45,
          30,
          28,
          29,
          39,
          38,
          50,
          37,
          35,
          46,
          35,
          43,
          42,
          26,
          34,
          41,
          48,
          29,
          40,
          34,
          38,
          42,
          47,
          45,
          34,
          35,
          42,
          45,
          40,
          40,
          30,
          34,
          31,
          43,
          36,
          42,
          33,
          39,
          32,
          30,
          41,
          40,
          68,
          36,
          39,
          34,
          34,
          27,
          32,
          27,
          44,
          30,
          38,
          37,
          38,
          38,
          33,
          32,
          35,
          41,
          33,
          40,
          48,
          64,
          35,
          30,
          52,
          42,
          28,
          41,
          37,
          41,
          35,
          42,
          33,
          45,
          34,
          45,
          38,
          39,
          32,
          38,
          46,
          34,
          31,
          25,
          49,
          38,
          39,
          28,
          34,
          31,
          64,
          36,
          39,
          50,
          35,
          31,
          40,
          45,
          50,
          34,
          34,
          40,
          43,
          42,
          33,
          33,
          49,
          39,
          53,
          51,
          34,
          28,
          24,
          33,
          44,
          32,
          46,
          45,
          34,
          31,
          36,
          26,
          45,
          42,
          38,
          54,
          54,
          32,
          47,
          28,
          36,
          39,
          47,
          36,
          39,
          49,
          33,
          28,
          34,
          40,
          51,
          40,
          27,
          49,
          32,
          43,
          44,
          36,
          42,
          35,
          46,
          41,
          38,
          29,
          35,
          29,
          32,
          26,
          33,
          30,
          41,
          32,
          37,
          27,
          42,
          36,
          36,
          30,
          44,
          28,
          33,
          41,
          31,
          33,
          21,
          34,
          27,
          38,
          36,
          45,
          51,
          44,
          29,
          39,
          35,
          39,
          35,
          38,
          43,
          39,
          39,
          27,
          47,
          32,
          38,
          44,
          33,
          36,
          44,
          32,
          39,
          26,
          40,
          37,
          34,
          31,
          38,
          34,
          26,
          30,
          50,
          35,
          38,
          30,
          40,
          36,
          62,
          30,
          31,
          33,
          33,
          39,
          37,
          28,
          36,
          33,
          42,
          40,
          44,
          43,
          32,
          37,
          31,
          32,
          33,
          43,
          29,
          59,
          32,
          30,
          43,
          29,
          30,
          37,
          42,
          26,
          31,
          35,
          37,
          32,
          30,
          41,
          30,
          40,
          39,
          33,
          43,
          50,
          37,
          31,
          30,
          37,
          33,
          38,
          38,
          29,
          41,
          30,
          30,
          29,
          36,
          27,
          29,
          25,
          32,
          34,
          38,
          44,
          38,
          34,
          41,
          40,
          30,
          37,
          35,
          55,
          37,
          38,
          27,
          57,
          40,
          41,
          33,
          37,
          43,
          23,
          35,
          31,
          28,
          41,
          30,
          37,
          31,
          26,
          40,
          35,
          48,
          31,
          52,
          40,
          40,
          37,
          35,
          33,
          30,
          38,
          37,
          39,
          43,
          45,
          33,
          45,
          43,
          36,
          28,
          36,
          27,
          32,
          29,
          30,
          39,
          41,
          31,
          48,
          42,
          50,
          53,
          30,
          44,
          28,
          29,
          53,
          47,
          38,
          37,
          42,
          24,
          45,
          26,
          45,
          45,
          38,
          57,
          32,
          45,
          27,
          43,
          30,
          33,
          28,
          38,
          42,
          34,
          39,
          31,
          45,
          29,
          42,
          29,
          39,
          42,
          29,
          29,
          45,
          30,
          30,
          40,
          37,
          39,
          60,
          30,
          37,
          31,
          41,
          26,
          41,
          37,
          34,
          41,
          51,
          32,
          29,
          47,
          30,
          29,
          36,
          42,
          38,
          26,
          53,
          33,
          39,
          40,
          33,
          29,
          32,
          33,
          48,
          43,
          37,
          29,
          28,
          32,
          40,
          28,
          29,
          56,
          34,
          27,
          29,
          34,
          26,
          33,
          38,
          38,
          38,
          30,
          30,
          34,
          30,
          48,
          33,
          36,
          57,
          30,
          40,
          36,
          42,
          45,
          48,
          28,
          27,
          56,
          28,
          41,
          41,
          28,
          41,
          41,
          35,
          36,
          32,
          33,
          27,
          34,
          37,
          31,
          53,
          33,
          42,
          50,
          44,
          27,
          40,
          37,
          45,
          38,
          34,
          36,
          34,
          50,
          33,
          35,
          32,
          27,
          34,
          36,
          32,
          37,
          30,
          26,
          45,
          45,
          28,
          35,
          36,
          33,
          30,
          44,
          47,
          40,
          38,
          45,
          32,
          29,
          34,
          46,
          40,
          51,
          28,
          38,
          60,
          47,
          53,
          95,
          38,
          37,
          36,
          51,
          35,
          32,
          40,
          36,
          32,
          43,
          36,
          49,
          54,
          48,
          72,
          30,
          52,
          29,
          33,
          41,
          36,
          31,
          47,
          35,
          54,
          44,
          42,
          32,
          24
         ],
         "xaxis": "x3",
         "yaxis": "y3"
        },
        {
         "alignmentgroup": "True",
         "bingroup": "x",
         "hovertemplate": "Country=Brazil<br>value=%{x}<br>count=%{y}<extra></extra>",
         "legendgroup": "Brazil",
         "marker": {
          "color": "#ab63fa",
          "pattern": {
           "shape": ""
          }
         },
         "name": "Brazil",
         "offsetgroup": "Brazil",
         "orientation": "v",
         "showlegend": true,
         "type": "histogram",
         "x": [
          32,
          29,
          74,
          43,
          45,
          45,
          25,
          45,
          41,
          47,
          34,
          33,
          55,
          50,
          57,
          32,
          28,
          45,
          23,
          44,
          49,
          44,
          47,
          50,
          42,
          42,
          32,
          57,
          38,
          29,
          48,
          40,
          58,
          61,
          32,
          48,
          40,
          52,
          31,
          52,
          43,
          34,
          23,
          45,
          43,
          51,
          32,
          46,
          39,
          29,
          52,
          42,
          44,
          45,
          44,
          35,
          30,
          38,
          23,
          30,
          59,
          31,
          43,
          28,
          45,
          36,
          45,
          30,
          50,
          39,
          27,
          48,
          49,
          34,
          35,
          45,
          38,
          35,
          33,
          53,
          37,
          30,
          45,
          62,
          57,
          46,
          35,
          48,
          25,
          47,
          50,
          31,
          30,
          47,
          40,
          40,
          41,
          29,
          49,
          41,
          52,
          37,
          37,
          31,
          56,
          43,
          37,
          33,
          44,
          37,
          40,
          54,
          50,
          35,
          63,
          41,
          39,
          44,
          41,
          34,
          43,
          39,
          32,
          29,
          35,
          51,
          42,
          35,
          37,
          43,
          44,
          62,
          36,
          52,
          30,
          35,
          39,
          33,
          52,
          50,
          31,
          38,
          32,
          46,
          43,
          40,
          49,
          32,
          32,
          54,
          36,
          58,
          29,
          33,
          28,
          40,
          35,
          35,
          45,
          63,
          28,
          44,
          48,
          46,
          39,
          34,
          22,
          57,
          41,
          35,
          42,
          41,
          40,
          50,
          32,
          35,
          32,
          29,
          53,
          51,
          31,
          24,
          47,
          33,
          36,
          50,
          34,
          36,
          37,
          34,
          47,
          47,
          23,
          31,
          47,
          33,
          57,
          30,
          40,
          71,
          37,
          52,
          45,
          29,
          34,
          32,
          34,
          35,
          39,
          36,
          40,
          42,
          34,
          26,
          31,
          56,
          48,
          46,
          31,
          34,
          40,
          39,
          41,
          29,
          30,
          47,
          42,
          47,
          37,
          33,
          32,
          48,
          46,
          40,
          29,
          33,
          35,
          37,
          36,
          32,
          27,
          54,
          46,
          37,
          37,
          44,
          31,
          27,
          24,
          31,
          40,
          50,
          35,
          32,
          33,
          50,
          34,
          40,
          39,
          39,
          56,
          55,
          47,
          45,
          33,
          42,
          35,
          34,
          42,
          45,
          42,
          27,
          34,
          37,
          30,
          37,
          41,
          31,
          36,
          42,
          47,
          32,
          36,
          29,
          33,
          31,
          47,
          35,
          31,
          35,
          45,
          38,
          28,
          28,
          54,
          36,
          33,
          29,
          34,
          34,
          30
         ],
         "xaxis": "x4",
         "yaxis": "y4"
        },
        {
         "alignmentgroup": "True",
         "bingroup": "x",
         "hovertemplate": "Country=Turkey<br>value=%{x}<br>count=%{y}<extra></extra>",
         "legendgroup": "Turkey",
         "marker": {
          "color": "#FFA15A",
          "pattern": {
           "shape": ""
          }
         },
         "name": "Turkey",
         "offsetgroup": "Turkey",
         "orientation": "v",
         "showlegend": true,
         "type": "histogram",
         "x": [
          48,
          25,
          34,
          48,
          34,
          26,
          41,
          42,
          39,
          25,
          32,
          32,
          42,
          24,
          26,
          32,
          34,
          25,
          43,
          23,
          24,
          33,
          30,
          42,
          42,
          32,
          37,
          43,
          25,
          54,
          32,
          31,
          25,
          35,
          40,
          43,
          39,
          28,
          49,
          33,
          34,
          29,
          41,
          35,
          32,
          25,
          33,
          28,
          43,
          28,
          34,
          28,
          42,
          43,
          45,
          48,
          42,
          39,
          50,
          29,
          28,
          44,
          30,
          42,
          34,
          32,
          30,
          28,
          27,
          31,
          48,
          27,
          40,
          41,
          47,
          35,
          42,
          36,
          41,
          41,
          44,
          33,
          38,
          32,
          42,
          52,
          37,
          24,
          33,
          36,
          35,
          42,
          31,
          29,
          36,
          56,
          30,
          36,
          37,
          44,
          33,
          33,
          38,
          40,
          35,
          41,
          32,
          48,
          45,
          38,
          44,
          29,
          34,
          36,
          38,
          34,
          42,
          29,
          32,
          57,
          35,
          33,
          46,
          33,
          34,
          29,
          35,
          25,
          30,
          29,
          35,
          46,
          32,
          33,
          40,
          27,
          39,
          44,
          49,
          41,
          45,
          41,
          38,
          48,
          43,
          35,
          41,
          31,
          42,
          38,
          41,
          34,
          39,
          44,
          36,
          39,
          42,
          26,
          36,
          36,
          30,
          45,
          42,
          25,
          34,
          31,
          43,
          31,
          41,
          45,
          33,
          34,
          37,
          28,
          33,
          32,
          31,
          47,
          46,
          41,
          45,
          37,
          31,
          42,
          32,
          33,
          45,
          33,
          29,
          28,
          35,
          42,
          38,
          33,
          40,
          35,
          34,
          35,
          25,
          46,
          42,
          29,
          28,
          30,
          47,
          49,
          32,
          40,
          26,
          37,
          42,
          38,
          37,
          31,
          30,
          52,
          28,
          30,
          31,
          33,
          48,
          27,
          43,
          34,
          49,
          38,
          34,
          70,
          35,
          36,
          34,
          38,
          26,
          36,
          55,
          37,
          36,
          40,
          32,
          32,
          32,
          50,
          36,
          31,
          29,
          31,
          31,
          26,
          35,
          37,
          30,
          47,
          39,
          39,
          38,
          39,
          34,
          36,
          32,
          32,
          38,
          32,
          32,
          33,
          33,
          34,
          21,
          31,
          33,
          40,
          39,
          24,
          37,
          44,
          43,
          30,
          31,
          33,
          54,
          43,
          39,
          30,
          38,
          27,
          34,
          31,
          42,
          31,
          29,
          29,
          40,
          33,
          50,
          44,
          52,
          51,
          29,
          41,
          40,
          41,
          50,
          39,
          34,
          54,
          45,
          28,
          34,
          36,
          22,
          27,
          38,
          34,
          51,
          53,
          42,
          50,
          42,
          29,
          43,
          44,
          47,
          31,
          46,
          36,
          31,
          31,
          37,
          31,
          39,
          50,
          46,
          32,
          35,
          44,
          41,
          55,
          38,
          40,
          43,
          30,
          38,
          32,
          31,
          26,
          41,
          39,
          44,
          35,
          38,
          31,
          36,
          32,
          31,
          75,
          39,
          33,
          24,
          42,
          43,
          28,
          25,
          27,
          41,
          46,
          27,
          31,
          39,
          38,
          28,
          28,
          40,
          28,
          34,
          49,
          41,
          33,
          34,
          28,
          47,
          35,
          27,
          32,
          30,
          24,
          38,
          40,
          31,
          38,
          42,
          47,
          30,
          45,
          28,
          36,
          50,
          47,
          35,
          28,
          37,
          33,
          37,
          32,
          36,
          64,
          39,
          51,
          41,
          31,
          37,
          43,
          31,
          55,
          35,
          31,
          43,
          36,
          33,
          56,
          32,
          33,
          35,
          41,
          36,
          30,
          33,
          24,
          22,
          33,
          46,
          49,
          35,
          29,
          30,
          37,
          38,
          37,
          32,
          37,
          42,
          26,
          39,
          22,
          40,
          31,
          24,
          40,
          39,
          32,
          31,
          38,
          38,
          57,
          29,
          25,
          36,
          43,
          35,
          44,
          22,
          26,
          25,
          31,
          29,
          34,
          28,
          38,
          31,
          41,
          47,
          36,
          22,
          29,
          26,
          29,
          28,
          30,
          26,
          28,
          31,
          32,
          38,
          34,
          52,
          38,
          37,
          31,
          37,
          21,
          48,
          32,
          37,
          35,
          39,
          35,
          43,
          27,
          36,
          30,
          42,
          29,
          34,
          44,
          29,
          33,
          40,
          39,
          52,
          34,
          31,
          36,
          26,
          29,
          40,
          45,
          37,
          32,
          30,
          35,
          44,
          33,
          34,
          33,
          35,
          33,
          32,
          28,
          30,
          34,
          35,
          52,
          34,
          50,
          37,
          30,
          25,
          33,
          27,
          32,
          66,
          33,
          35,
          56,
          27,
          27,
          32,
          45,
          39,
          31,
          31,
          45,
          34,
          37,
          46,
          43,
          25,
          26,
          35,
          37,
          33,
          34,
          43,
          34,
          47,
          40,
          32,
          23,
          33,
          29,
          28,
          38,
          30,
          30,
          30,
          31,
          39,
          31,
          17,
          36,
          31,
          36,
          27,
          38,
          29,
          53,
          35,
          31,
          33,
          37,
          27,
          36,
          32,
          41,
          36,
          26,
          37,
          32,
          28,
          32,
          25,
          28,
          34,
          34,
          21,
          34,
          34,
          38,
          48,
          40,
          34,
          42,
          48,
          45,
          23,
          47,
          27,
          44,
          38,
          24,
          35,
          28,
          30,
          39,
          38,
          24,
          42,
          32,
          44,
          23,
          36,
          28,
          27,
          33,
          40,
          31,
          49,
          34,
          40,
          37,
          33,
          37,
          31,
          32,
          33,
          30,
          35,
          33,
          30,
          32,
          32,
          46,
          36,
          34,
          39
         ],
         "xaxis": "x5",
         "yaxis": "y5"
        }
       ],
       "layout": {
        "annotations": [
         {
          "font": {},
          "showarrow": false,
          "text": "Country=North America",
          "x": 0.09200000000000001,
          "xanchor": "center",
          "xref": "paper",
          "y": 1,
          "yanchor": "bottom",
          "yref": "paper"
         },
         {
          "font": {},
          "showarrow": false,
          "text": "Country=Europe",
          "x": 0.29600000000000004,
          "xanchor": "center",
          "xref": "paper",
          "y": 1,
          "yanchor": "bottom",
          "yref": "paper"
         },
         {
          "font": {},
          "showarrow": false,
          "text": "Country=Korea",
          "x": 0.5,
          "xanchor": "center",
          "xref": "paper",
          "y": 1,
          "yanchor": "bottom",
          "yref": "paper"
         },
         {
          "font": {},
          "showarrow": false,
          "text": "Country=Brazil",
          "x": 0.7040000000000002,
          "xanchor": "center",
          "xref": "paper",
          "y": 1,
          "yanchor": "bottom",
          "yref": "paper"
         },
         {
          "font": {},
          "showarrow": false,
          "text": "Country=Turkey",
          "x": 0.908,
          "xanchor": "center",
          "xref": "paper",
          "y": 1,
          "yanchor": "bottom",
          "yref": "paper"
         }
        ],
        "barmode": "relative",
        "legend": {
         "title": {
          "text": "Country"
         },
         "tracegroupgap": 0
        },
        "margin": {
         "t": 60
        },
        "template": {
         "data": {
          "bar": [
           {
            "error_x": {
             "color": "#2a3f5f"
            },
            "error_y": {
             "color": "#2a3f5f"
            },
            "marker": {
             "line": {
              "color": "#E5ECF6",
              "width": 0.5
             },
             "pattern": {
              "fillmode": "overlay",
              "size": 10,
              "solidity": 0.2
             }
            },
            "type": "bar"
           }
          ],
          "barpolar": [
           {
            "marker": {
             "line": {
              "color": "#E5ECF6",
              "width": 0.5
             },
             "pattern": {
              "fillmode": "overlay",
              "size": 10,
              "solidity": 0.2
             }
            },
            "type": "barpolar"
           }
          ],
          "carpet": [
           {
            "aaxis": {
             "endlinecolor": "#2a3f5f",
             "gridcolor": "white",
             "linecolor": "white",
             "minorgridcolor": "white",
             "startlinecolor": "#2a3f5f"
            },
            "baxis": {
             "endlinecolor": "#2a3f5f",
             "gridcolor": "white",
             "linecolor": "white",
             "minorgridcolor": "white",
             "startlinecolor": "#2a3f5f"
            },
            "type": "carpet"
           }
          ],
          "choropleth": [
           {
            "colorbar": {
             "outlinewidth": 0,
             "ticks": ""
            },
            "type": "choropleth"
           }
          ],
          "contour": [
           {
            "colorbar": {
             "outlinewidth": 0,
             "ticks": ""
            },
            "colorscale": [
             [
              0,
              "#0d0887"
             ],
             [
              0.1111111111111111,
              "#46039f"
             ],
             [
              0.2222222222222222,
              "#7201a8"
             ],
             [
              0.3333333333333333,
              "#9c179e"
             ],
             [
              0.4444444444444444,
              "#bd3786"
             ],
             [
              0.5555555555555556,
              "#d8576b"
             ],
             [
              0.6666666666666666,
              "#ed7953"
             ],
             [
              0.7777777777777778,
              "#fb9f3a"
             ],
             [
              0.8888888888888888,
              "#fdca26"
             ],
             [
              1,
              "#f0f921"
             ]
            ],
            "type": "contour"
           }
          ],
          "contourcarpet": [
           {
            "colorbar": {
             "outlinewidth": 0,
             "ticks": ""
            },
            "type": "contourcarpet"
           }
          ],
          "heatmap": [
           {
            "colorbar": {
             "outlinewidth": 0,
             "ticks": ""
            },
            "colorscale": [
             [
              0,
              "#0d0887"
             ],
             [
              0.1111111111111111,
              "#46039f"
             ],
             [
              0.2222222222222222,
              "#7201a8"
             ],
             [
              0.3333333333333333,
              "#9c179e"
             ],
             [
              0.4444444444444444,
              "#bd3786"
             ],
             [
              0.5555555555555556,
              "#d8576b"
             ],
             [
              0.6666666666666666,
              "#ed7953"
             ],
             [
              0.7777777777777778,
              "#fb9f3a"
             ],
             [
              0.8888888888888888,
              "#fdca26"
             ],
             [
              1,
              "#f0f921"
             ]
            ],
            "type": "heatmap"
           }
          ],
          "heatmapgl": [
           {
            "colorbar": {
             "outlinewidth": 0,
             "ticks": ""
            },
            "colorscale": [
             [
              0,
              "#0d0887"
             ],
             [
              0.1111111111111111,
              "#46039f"
             ],
             [
              0.2222222222222222,
              "#7201a8"
             ],
             [
              0.3333333333333333,
              "#9c179e"
             ],
             [
              0.4444444444444444,
              "#bd3786"
             ],
             [
              0.5555555555555556,
              "#d8576b"
             ],
             [
              0.6666666666666666,
              "#ed7953"
             ],
             [
              0.7777777777777778,
              "#fb9f3a"
             ],
             [
              0.8888888888888888,
              "#fdca26"
             ],
             [
              1,
              "#f0f921"
             ]
            ],
            "type": "heatmapgl"
           }
          ],
          "histogram": [
           {
            "marker": {
             "pattern": {
              "fillmode": "overlay",
              "size": 10,
              "solidity": 0.2
             }
            },
            "type": "histogram"
           }
          ],
          "histogram2d": [
           {
            "colorbar": {
             "outlinewidth": 0,
             "ticks": ""
            },
            "colorscale": [
             [
              0,
              "#0d0887"
             ],
             [
              0.1111111111111111,
              "#46039f"
             ],
             [
              0.2222222222222222,
              "#7201a8"
             ],
             [
              0.3333333333333333,
              "#9c179e"
             ],
             [
              0.4444444444444444,
              "#bd3786"
             ],
             [
              0.5555555555555556,
              "#d8576b"
             ],
             [
              0.6666666666666666,
              "#ed7953"
             ],
             [
              0.7777777777777778,
              "#fb9f3a"
             ],
             [
              0.8888888888888888,
              "#fdca26"
             ],
             [
              1,
              "#f0f921"
             ]
            ],
            "type": "histogram2d"
           }
          ],
          "histogram2dcontour": [
           {
            "colorbar": {
             "outlinewidth": 0,
             "ticks": ""
            },
            "colorscale": [
             [
              0,
              "#0d0887"
             ],
             [
              0.1111111111111111,
              "#46039f"
             ],
             [
              0.2222222222222222,
              "#7201a8"
             ],
             [
              0.3333333333333333,
              "#9c179e"
             ],
             [
              0.4444444444444444,
              "#bd3786"
             ],
             [
              0.5555555555555556,
              "#d8576b"
             ],
             [
              0.6666666666666666,
              "#ed7953"
             ],
             [
              0.7777777777777778,
              "#fb9f3a"
             ],
             [
              0.8888888888888888,
              "#fdca26"
             ],
             [
              1,
              "#f0f921"
             ]
            ],
            "type": "histogram2dcontour"
           }
          ],
          "mesh3d": [
           {
            "colorbar": {
             "outlinewidth": 0,
             "ticks": ""
            },
            "type": "mesh3d"
           }
          ],
          "parcoords": [
           {
            "line": {
             "colorbar": {
              "outlinewidth": 0,
              "ticks": ""
             }
            },
            "type": "parcoords"
           }
          ],
          "pie": [
           {
            "automargin": true,
            "type": "pie"
           }
          ],
          "scatter": [
           {
            "marker": {
             "colorbar": {
              "outlinewidth": 0,
              "ticks": ""
             }
            },
            "type": "scatter"
           }
          ],
          "scatter3d": [
           {
            "line": {
             "colorbar": {
              "outlinewidth": 0,
              "ticks": ""
             }
            },
            "marker": {
             "colorbar": {
              "outlinewidth": 0,
              "ticks": ""
             }
            },
            "type": "scatter3d"
           }
          ],
          "scattercarpet": [
           {
            "marker": {
             "colorbar": {
              "outlinewidth": 0,
              "ticks": ""
             }
            },
            "type": "scattercarpet"
           }
          ],
          "scattergeo": [
           {
            "marker": {
             "colorbar": {
              "outlinewidth": 0,
              "ticks": ""
             }
            },
            "type": "scattergeo"
           }
          ],
          "scattergl": [
           {
            "marker": {
             "colorbar": {
              "outlinewidth": 0,
              "ticks": ""
             }
            },
            "type": "scattergl"
           }
          ],
          "scattermapbox": [
           {
            "marker": {
             "colorbar": {
              "outlinewidth": 0,
              "ticks": ""
             }
            },
            "type": "scattermapbox"
           }
          ],
          "scatterpolar": [
           {
            "marker": {
             "colorbar": {
              "outlinewidth": 0,
              "ticks": ""
             }
            },
            "type": "scatterpolar"
           }
          ],
          "scatterpolargl": [
           {
            "marker": {
             "colorbar": {
              "outlinewidth": 0,
              "ticks": ""
             }
            },
            "type": "scatterpolargl"
           }
          ],
          "scatterternary": [
           {
            "marker": {
             "colorbar": {
              "outlinewidth": 0,
              "ticks": ""
             }
            },
            "type": "scatterternary"
           }
          ],
          "surface": [
           {
            "colorbar": {
             "outlinewidth": 0,
             "ticks": ""
            },
            "colorscale": [
             [
              0,
              "#0d0887"
             ],
             [
              0.1111111111111111,
              "#46039f"
             ],
             [
              0.2222222222222222,
              "#7201a8"
             ],
             [
              0.3333333333333333,
              "#9c179e"
             ],
             [
              0.4444444444444444,
              "#bd3786"
             ],
             [
              0.5555555555555556,
              "#d8576b"
             ],
             [
              0.6666666666666666,
              "#ed7953"
             ],
             [
              0.7777777777777778,
              "#fb9f3a"
             ],
             [
              0.8888888888888888,
              "#fdca26"
             ],
             [
              1,
              "#f0f921"
             ]
            ],
            "type": "surface"
           }
          ],
          "table": [
           {
            "cells": {
             "fill": {
              "color": "#EBF0F8"
             },
             "line": {
              "color": "white"
             }
            },
            "header": {
             "fill": {
              "color": "#C8D4E3"
             },
             "line": {
              "color": "white"
             }
            },
            "type": "table"
           }
          ]
         },
         "layout": {
          "annotationdefaults": {
           "arrowcolor": "#2a3f5f",
           "arrowhead": 0,
           "arrowwidth": 1
          },
          "autotypenumbers": "strict",
          "coloraxis": {
           "colorbar": {
            "outlinewidth": 0,
            "ticks": ""
           }
          },
          "colorscale": {
           "diverging": [
            [
             0,
             "#8e0152"
            ],
            [
             0.1,
             "#c51b7d"
            ],
            [
             0.2,
             "#de77ae"
            ],
            [
             0.3,
             "#f1b6da"
            ],
            [
             0.4,
             "#fde0ef"
            ],
            [
             0.5,
             "#f7f7f7"
            ],
            [
             0.6,
             "#e6f5d0"
            ],
            [
             0.7,
             "#b8e186"
            ],
            [
             0.8,
             "#7fbc41"
            ],
            [
             0.9,
             "#4d9221"
            ],
            [
             1,
             "#276419"
            ]
           ],
           "sequential": [
            [
             0,
             "#0d0887"
            ],
            [
             0.1111111111111111,
             "#46039f"
            ],
            [
             0.2222222222222222,
             "#7201a8"
            ],
            [
             0.3333333333333333,
             "#9c179e"
            ],
            [
             0.4444444444444444,
             "#bd3786"
            ],
            [
             0.5555555555555556,
             "#d8576b"
            ],
            [
             0.6666666666666666,
             "#ed7953"
            ],
            [
             0.7777777777777778,
             "#fb9f3a"
            ],
            [
             0.8888888888888888,
             "#fdca26"
            ],
            [
             1,
             "#f0f921"
            ]
           ],
           "sequentialminus": [
            [
             0,
             "#0d0887"
            ],
            [
             0.1111111111111111,
             "#46039f"
            ],
            [
             0.2222222222222222,
             "#7201a8"
            ],
            [
             0.3333333333333333,
             "#9c179e"
            ],
            [
             0.4444444444444444,
             "#bd3786"
            ],
            [
             0.5555555555555556,
             "#d8576b"
            ],
            [
             0.6666666666666666,
             "#ed7953"
            ],
            [
             0.7777777777777778,
             "#fb9f3a"
            ],
            [
             0.8888888888888888,
             "#fdca26"
            ],
            [
             1,
             "#f0f921"
            ]
           ]
          },
          "colorway": [
           "#636efa",
           "#EF553B",
           "#00cc96",
           "#ab63fa",
           "#FFA15A",
           "#19d3f3",
           "#FF6692",
           "#B6E880",
           "#FF97FF",
           "#FECB52"
          ],
          "font": {
           "color": "#2a3f5f"
          },
          "geo": {
           "bgcolor": "white",
           "lakecolor": "white",
           "landcolor": "#E5ECF6",
           "showlakes": true,
           "showland": true,
           "subunitcolor": "white"
          },
          "hoverlabel": {
           "align": "left"
          },
          "hovermode": "closest",
          "mapbox": {
           "style": "light"
          },
          "paper_bgcolor": "white",
          "plot_bgcolor": "#E5ECF6",
          "polar": {
           "angularaxis": {
            "gridcolor": "white",
            "linecolor": "white",
            "ticks": ""
           },
           "bgcolor": "#E5ECF6",
           "radialaxis": {
            "gridcolor": "white",
            "linecolor": "white",
            "ticks": ""
           }
          },
          "scene": {
           "xaxis": {
            "backgroundcolor": "#E5ECF6",
            "gridcolor": "white",
            "gridwidth": 2,
            "linecolor": "white",
            "showbackground": true,
            "ticks": "",
            "zerolinecolor": "white"
           },
           "yaxis": {
            "backgroundcolor": "#E5ECF6",
            "gridcolor": "white",
            "gridwidth": 2,
            "linecolor": "white",
            "showbackground": true,
            "ticks": "",
            "zerolinecolor": "white"
           },
           "zaxis": {
            "backgroundcolor": "#E5ECF6",
            "gridcolor": "white",
            "gridwidth": 2,
            "linecolor": "white",
            "showbackground": true,
            "ticks": "",
            "zerolinecolor": "white"
           }
          },
          "shapedefaults": {
           "line": {
            "color": "#2a3f5f"
           }
          },
          "ternary": {
           "aaxis": {
            "gridcolor": "white",
            "linecolor": "white",
            "ticks": ""
           },
           "baxis": {
            "gridcolor": "white",
            "linecolor": "white",
            "ticks": ""
           },
           "bgcolor": "#E5ECF6",
           "caxis": {
            "gridcolor": "white",
            "linecolor": "white",
            "ticks": ""
           }
          },
          "title": {
           "x": 0.05
          },
          "xaxis": {
           "automargin": true,
           "gridcolor": "white",
           "linecolor": "white",
           "ticks": "",
           "title": {
            "standoff": 15
           },
           "zerolinecolor": "white",
           "zerolinewidth": 2
          },
          "yaxis": {
           "automargin": true,
           "gridcolor": "white",
           "linecolor": "white",
           "ticks": "",
           "title": {
            "standoff": 15
           },
           "zerolinecolor": "white",
           "zerolinewidth": 2
          }
         }
        },
        "xaxis": {
         "anchor": "y",
         "domain": [
          0,
          0.18400000000000002
         ],
         "title": {
          "text": "value"
         }
        },
        "xaxis2": {
         "anchor": "y2",
         "domain": [
          0.20400000000000001,
          0.388
         ],
         "matches": "x",
         "title": {
          "text": "value"
         }
        },
        "xaxis3": {
         "anchor": "y3",
         "domain": [
          0.40800000000000003,
          0.5920000000000001
         ],
         "matches": "x",
         "title": {
          "text": "value"
         }
        },
        "xaxis4": {
         "anchor": "y4",
         "domain": [
          0.6120000000000001,
          0.7960000000000002
         ],
         "matches": "x",
         "title": {
          "text": "value"
         }
        },
        "xaxis5": {
         "anchor": "y5",
         "domain": [
          0.8160000000000001,
          1
         ],
         "matches": "x",
         "title": {
          "text": "value"
         }
        },
        "yaxis": {
         "anchor": "x",
         "domain": [
          0,
          1
         ],
         "title": {
          "text": "count"
         }
        },
        "yaxis2": {
         "anchor": "x2",
         "domain": [
          0,
          1
         ],
         "matches": "y",
         "showticklabels": false
        },
        "yaxis3": {
         "anchor": "x3",
         "domain": [
          0,
          1
         ],
         "matches": "y",
         "showticklabels": false
        },
        "yaxis4": {
         "anchor": "x4",
         "domain": [
          0,
          1
         ],
         "matches": "y",
         "showticklabels": false
        },
        "yaxis5": {
         "anchor": "x5",
         "domain": [
          0,
          1
         ],
         "matches": "y",
         "showticklabels": false
        }
       }
      },
      "text/html": [
       "<div>                            <div id=\"4b29989f-8b45-4b92-b462-e2ef01b18881\" class=\"plotly-graph-div\" style=\"height:525px; width:100%;\"></div>            <script type=\"text/javascript\">                require([\"plotly\"], function(Plotly) {                    window.PLOTLYENV=window.PLOTLYENV || {};                                    if (document.getElementById(\"4b29989f-8b45-4b92-b462-e2ef01b18881\")) {                    Plotly.newPlot(                        \"4b29989f-8b45-4b92-b462-e2ef01b18881\",                        [{\"alignmentgroup\":\"True\",\"bingroup\":\"x\",\"hovertemplate\":\"Country=North America<br>value=%{x}<br>count=%{y}<extra></extra>\",\"legendgroup\":\"North America\",\"marker\":{\"color\":\"#636efa\",\"pattern\":{\"shape\":\"\"}},\"name\":\"North America\",\"offsetgroup\":\"North America\",\"orientation\":\"v\",\"showlegend\":true,\"type\":\"histogram\",\"x\":[40,38,40,41,35,24,39,43,41,32,52,46,38,31,33,38,40,39,40,39,49,35,36,43,32,31,36,41,31,30,45,42,27,35,43,37,40,46,48,39,40,49,37,35,24,44,54,47,33,30,34,49,29,33,29,33,30,42,55,38,51,36,46,40,46,46,37,29,45,31,31,33,37,38,45,40,42,47,42,37,45,34,36,36,42,35,40,33,34,34,46,28,46,44,33,34,43,42,35,40,35,43,33,36,43,38,50,37,33,40,48,44,39,44,40,30,31,31,48,36,36,49,40,39,42,34,36,51,48,48,36,54,44,37,41,38,30,49,29,39,36,49,32,55,42,28,38,43,40,41,29,40,43,29,40,40,34,39,25,45,40,41,29,40,38,57,52,27,51,36,37,49,42,30,35,58,38,32,28,32,33,60,33,29,36,40,35,33,26,43,32,26,41,33,39,42,32,39,42,30,30,38,42,41,30,37,34,43,35,33,41,38,38,40,47,32,30,44,40,28,54,56,44,38,41,38,33,37,40,32,35,45,28,41,62,37,36,32,44,29,19,36,39,32,48,29,34,33,49,42,27,29,35,33,30,31,32,31,20,42,31,20,33,39,41,29,30,39,24,44,32,43,30,32,27,34,29,30,33,46,28,33,47,26,58,31,37,39,33,28,28,31,43,30,29,40,41,30,46,26,57,38,38,30,68,30,35,30,49,41,38,25,29,35,34,44,34,30,26,45,39,33,39,32,65,43,42,44,44,51,35,57,32,41,30,34,29,48,43,39,43,32,33,34,27,43,35,35,36,36,30,28,27,32,32,58,30,27,27,44,44,41,49,33,34,30,41,28,35,42,31,27,38,29,27,43,55,37,33,28,36,29,30,39,25,29,41,37,30,40,60,37,44,35,32,35,27,32,37,33,39,24,28,27,36,30,38,47,32,37,44,55,41,36,31,36,42,45,36,34,43,41,41,25,26,28,28,28,33,35,39,28,31,25,42,31,42,41,30,33,31,40,31,32,48,38,34,33,35,32,39,41,28,25,37,38,36,42,48,33,46,28,36,32,36,32,40,40,32,38,29,38,62,31,28,30,34,30,40,26,41,38,34,28,21,46,35,27,34,35,57,36,37,36,32,41,26,28,31,29,28,43,29,43,35,34,22,28,30,37,28,39,34,55,39,48,28,36,44,43,36,28,27,30,31,36,36,33,38,39,26,26,52,37,41,34,31,26,35,31,30,29,32,38,35,33,31,25,44,44,30,44,33,29,31,44,29,42,35,47,48,39,26,27,35,40,34,27,34,40,47,38,48,34,45,44,43,34,51,52,33,40,38,30,44,41,37,39,25,35,44,31,37,49,44,49,39,53,37,53,51,39,45,52,42,34,39,45,36,26,43,33,49,40,30,28,40,42,28,42,43,46,31,50,25,32,32,30,31,41,39,34,38,37,33,50,55,43,39,34,28,26,33,32,34,36,59,40,34,45,33,49,44,51,41,35,30,46,30,45,32,41,51,35,40,31,57,28,25,40,30,43,46,36,45,31,37,35,37,46,34,43,31,35,57,30,27,50,35,42,36,32,33,41,40,35,41,31,43,35,40,28,44,28,35,30,29,40,35,32,25,27,39,47,27,38,35,31,47,27,35,27,29,43,28,34,50,29,40,47,41,47,36,36,35,34,47,29,40,33,28,39,34,26,28,42,49,36,41,57,40,38,30,37,39,39,27,41,28,34,43,39,34,34,26,39,44,47,27,38,26,35,39,29,30,26,39,33,38,38,43,55,46,41,40,29,36,28,30,30,32,36,35,36,37,43,32,36,65,45,41,35,36,37,37,67,48,35,39,26,40,45,36,38,35,34,26,34,34,32,32,34,36,33,45,29,23,48,32,43,38,42,54,45,42,31,27,42,33,44,43,38,35,41,53,38,33,43,40,37,36,35,43,28,30,36,34,34,37,46,37,38,41,34,47,33,34,37,41,43,62,24,34,47,41,39,30,41,34,26,27,33,47,43,42,32,32,39,50,36,47,42,38,26,44,28,41,36,39,44,30,34,51,40,29,34,29,47,37,30,30,35,32,35,34,38,34,28,24,32,36,34,51,29,38,31,29,51,32,28,33,34,30,37,50,58,42,35,36,31,32,39,35,40,34,29,38,34,32,32,49,38,32,41,27,32,35,30,44,37,35,39,30,34,39,30,35,39,55,35,37,38,39,24,25,31,34,39,32,35,41,27,34,31,34,35,40,34,36,29,30,42,28,30,34,29,24,41,33,29,30,32,36,35,34,37,42,43,43,39,41,30,33,31,27,31,39,38,27,35,28,32,31,24,29,27,28,46,55,44,29,38,28,24,28,30,31,29,27,35,25,36,35,24,37,38,44,29,22,32,31,26,31,53,29,41,40,39,31,51,35,37,41,36,39,47,42,28,35,29,37,46,29,36,39,38,34,46,43,46,29,65,40,30,35,37,51,35,39,33,32,63,47,47,48,56,41,39,43,28],\"xaxis\":\"x\",\"yaxis\":\"y\"},{\"alignmentgroup\":\"True\",\"bingroup\":\"x\",\"hovertemplate\":\"Country=Europe<br>value=%{x}<br>count=%{y}<extra></extra>\",\"legendgroup\":\"Europe\",\"marker\":{\"color\":\"#EF553B\",\"pattern\":{\"shape\":\"\"}},\"name\":\"Europe\",\"offsetgroup\":\"Europe\",\"orientation\":\"v\",\"showlegend\":true,\"type\":\"histogram\",\"x\":[36,28,50,40,27,38,38,46,34,34,30,30,53,38,38,43,28,64,38,44,40,45,36,41,60,33,52,45,43,36,51,31,38,32,37,31,42,47,49,46,43,43,44,43,41,39,31,49,41,39,31,30,35,36,34,42,38,33,53,49,47,39,68,39,32,43,49,28,24,41,42,27,35,47,38,45,39,37,30,27,59,32,38,38,34,41,33,43,42,31,47,37,37,37,34,33,28,39,41,44,29,38,41,31,40,28,43,36,55,28,29,28,40,42,37,48,29,32,26,36,35,30,39,42,42,27,40,31,31,30,49,39,43,36,36,56,37,35,32,44,46,35,54,46,50,39,44,40,33,36,45,38,44,29,38,30,40,41,38,40,29,33,40,26,40,37,47,49,41,35,32,42,42,30,44,64,47,37,48,39,24,48,35,48,33,38,32,40,36,32,36,40,33,26,35,39,30,38,54,30,45,39,37,28,29,43,37,29,40,30,29,31,43,48,47,60,49,36,42,33,31,27,32,28,48,39,31,32,33,35,53,45,36,27,26,27,36,39,32,28,29,24,35,49,26,42,42,33,41,50,36,35,33,36,27,27,38,34,27,33,40,38,36,25,37,27,29,25,36,49,26,48,50,30,42,33,36,33,48,39,34,31,38,33,47,38,63,38,31,43,34,27,37,35,37,43,38,41,49,35,37,41,26,29,39,44,48,21,44,42,26,51,23,37,36,42,39,35,28,36,27,38,35,51,39,26,36,30,42,39,32,33,30,34,35,35,28,34,29,33,51,26,43,33,39,26,36,32,38,27,27,44,36,46,45,49,31,49,50,33,33,35,41,35,44,40,52,35,42,31,39,35,54,47,40,54,34,26,40,37,41,37,46,36,31,81,43,29,26,47,29,49,41,43,27,41,37,33,45,32,33,32,34,34,39,35,40,31,32,45,40,30,37,28,37,37,49,44,27,37,68,38,39,34,34,36,40,27,39,33,29,33,35,30,34,43,43,33,41,31,31,43,31,31,29,43,34,32,44,44,46,25,39,51,44,32,41,41,46,31,50,40,36,31,32,36,40,36,24,32,28,40,33,38,34,27,35,32,35,28,34,36,34,33,29,36,50,46,37,34,34,28,39,37,38,31,38,41,28,44,25,42,34,42,34,33,35,33,43,38,56,37,31,51,40,33,33,30,33,38,26,29,33,32,36,37,31,41,34,32,41,29,37,35,35,37,42,43,39,34,38,41,35,27,42,40,30,34,42,41,29,35,36,43,43,50,46,47,27,37,28,33,39,36,30,28,34,26,33,50,41,28,38,41,28,42,33,42,44,43,37,31,44,35,40,41,46,37,32,41,34,35,30,45,34,45,26,42,26,45,29,28,29,44,31,46,39,35,31,40,41,34,48,26,34,40,41,27,44,46,44,33,38,35,38,37,38,31,39,40,43,28,29,38,34,27,31,31,42,33,26,42,29,42,78,55,31,33,35,35,49,36,41,42,50,40,35,29,53,36,47,41,43,55,38,40,44,32,37,43,34,40,32,34,24,36,37,35,40,35,26,31,37,30,44,25,54,26,35,30,37,40,31,48,33,33,38,40,28,28,40,41,28,28,30,37,26,31,40,42,49,43,40,40,39,30,32,47,43,34,53,42,50,27,36,27,30,47,31,40,38,45,25,42,24,41,36,42,30,29,37,28,34,46,29,49,34,40,31,36,28,27,41,34,30,25,44,38,34,28,39,27,33,30,36,41,46,34,36,25,37,33,34,27,32,30,35,26,34,55,38,31,31,40,41,25,27,28,30,44,31,37,44,38,37,38,46,36,35,51,39,34,39,37,31,39,35,40,28,27,22,44,24,29,47,40,46,44,30,32,36,39,34,32,36,24,35,32,32,31,33,49,28,30,39,31,34,30,43,31,35,30,33,28,27,42,37,26,35,32,34,34,35,38,29,39,29,32,26,38,49,36,31,25,41,35,39,32,33,47,58,26,37,28,37,30,27,41,36,34,32,30,40,40,37,34,32,51,35,45,47,53,45,33,35,36,39,32,29,32,31,33,43,26,39,33,34,34,43,34,34,31,41,41,69,44,46,43,40,45,32,42,36,31,32,32,48,44],\"xaxis\":\"x2\",\"yaxis\":\"y2\"},{\"alignmentgroup\":\"True\",\"bingroup\":\"x\",\"hovertemplate\":\"Country=Korea<br>value=%{x}<br>count=%{y}<extra></extra>\",\"legendgroup\":\"Korea\",\"marker\":{\"color\":\"#00cc96\",\"pattern\":{\"shape\":\"\"}},\"name\":\"Korea\",\"offsetgroup\":\"Korea\",\"orientation\":\"v\",\"showlegend\":true,\"type\":\"histogram\",\"x\":[27,33,35,44,32,31,72,35,36,31,54,34,36,31,44,40,46,45,41,41,44,46,32,37,37,41,40,34,41,57,34,41,56,43,38,52,34,30,35,30,65,49,46,35,38,30,31,52,62,34,42,36,38,51,47,40,56,33,49,39,34,81,49,41,30,38,47,37,62,47,38,49,48,47,44,39,50,38,40,37,59,59,49,36,36,39,45,48,51,36,61,36,41,41,39,54,38,45,50,37,34,36,52,39,34,40,34,34,58,47,37,47,42,43,48,32,32,40,43,41,26,26,31,26,35,35,34,28,58,34,31,32,33,48,35,40,36,48,43,36,34,36,37,26,38,39,36,41,49,58,26,39,54,53,34,39,31,34,49,43,45,36,37,31,44,44,33,30,49,38,39,36,35,39,49,36,38,44,33,44,35,47,42,56,43,26,36,57,44,36,33,42,40,32,31,34,48,42,38,40,29,36,48,37,38,40,37,51,34,46,41,35,40,32,48,40,48,35,34,40,48,42,30,46,33,35,33,41,35,40,32,46,41,36,38,37,56,37,45,45,34,36,48,29,48,48,38,35,37,40,60,50,37,46,55,40,52,58,50,23,36,41,37,32,46,55,43,35,36,39,33,44,41,40,35,50,47,53,52,30,35,34,39,39,40,47,45,30,52,40,34,31,37,45,30,33,43,42,46,33,41,30,32,33,35,44,28,30,34,44,37,45,38,36,43,44,42,27,36,52,45,51,42,30,43,47,50,45,37,44,41,42,37,41,50,46,53,41,34,38,32,36,55,37,32,41,38,42,50,35,37,26,33,36,34,51,28,44,28,47,51,38,35,33,32,42,30,43,40,39,45,32,37,33,42,36,31,22,44,51,51,42,34,52,37,39,32,40,44,24,44,34,40,48,33,34,40,62,35,36,57,34,28,41,41,43,49,29,38,43,26,36,48,33,50,46,44,30,29,52,48,30,40,52,26,44,36,30,32,34,30,58,36,44,56,29,52,39,32,36,26,43,31,34,48,33,56,40,38,33,57,28,38,30,36,31,37,47,57,38,35,34,36,33,30,31,25,25,33,24,43,36,45,30,41,40,50,41,58,51,31,38,26,36,40,47,39,35,35,35,33,50,27,30,36,37,31,36,32,29,54,37,39,30,31,31,39,35,35,50,71,57,36,40,42,28,29,34,34,37,50,63,58,30,29,38,44,27,33,33,45,39,28,27,48,38,44,36,46,34,30,38,43,26,43,54,32,34,30,38,23,41,44,35,32,39,35,30,38,41,30,40,28,29,46,44,31,39,38,33,41,33,27,34,29,31,40,42,41,57,42,36,57,39,32,47,45,33,52,34,35,36,28,59,43,33,31,40,29,40,32,41,27,36,29,29,50,30,35,42,51,34,35,41,61,47,40,50,46,36,43,35,39,32,42,43,34,34,48,36,32,39,22,30,45,41,40,42,28,70,38,60,37,35,33,41,43,29,33,30,45,42,40,36,39,37,56,27,36,32,32,31,38,43,46,44,43,43,35,38,53,35,38,59,45,70,40,53,31,28,29,39,34,40,43,38,34,36,29,39,34,47,46,44,44,47,35,45,25,29,32,39,29,37,27,42,31,37,40,39,40,33,31,38,31,31,34,33,55,39,38,43,33,32,35,35,38,43,31,35,31,39,40,40,38,38,31,29,43,56,42,36,40,42,35,40,32,34,43,30,32,43,45,56,43,53,42,29,40,29,33,44,30,38,41,51,39,34,54,43,29,37,39,30,41,27,33,69,58,39,32,32,39,39,33,41,41,30,56,40,35,44,35,36,46,46,61,45,30,28,29,39,38,50,37,35,46,35,43,42,26,34,41,48,29,40,34,38,42,47,45,34,35,42,45,40,40,30,34,31,43,36,42,33,39,32,30,41,40,68,36,39,34,34,27,32,27,44,30,38,37,38,38,33,32,35,41,33,40,48,64,35,30,52,42,28,41,37,41,35,42,33,45,34,45,38,39,32,38,46,34,31,25,49,38,39,28,34,31,64,36,39,50,35,31,40,45,50,34,34,40,43,42,33,33,49,39,53,51,34,28,24,33,44,32,46,45,34,31,36,26,45,42,38,54,54,32,47,28,36,39,47,36,39,49,33,28,34,40,51,40,27,49,32,43,44,36,42,35,46,41,38,29,35,29,32,26,33,30,41,32,37,27,42,36,36,30,44,28,33,41,31,33,21,34,27,38,36,45,51,44,29,39,35,39,35,38,43,39,39,27,47,32,38,44,33,36,44,32,39,26,40,37,34,31,38,34,26,30,50,35,38,30,40,36,62,30,31,33,33,39,37,28,36,33,42,40,44,43,32,37,31,32,33,43,29,59,32,30,43,29,30,37,42,26,31,35,37,32,30,41,30,40,39,33,43,50,37,31,30,37,33,38,38,29,41,30,30,29,36,27,29,25,32,34,38,44,38,34,41,40,30,37,35,55,37,38,27,57,40,41,33,37,43,23,35,31,28,41,30,37,31,26,40,35,48,31,52,40,40,37,35,33,30,38,37,39,43,45,33,45,43,36,28,36,27,32,29,30,39,41,31,48,42,50,53,30,44,28,29,53,47,38,37,42,24,45,26,45,45,38,57,32,45,27,43,30,33,28,38,42,34,39,31,45,29,42,29,39,42,29,29,45,30,30,40,37,39,60,30,37,31,41,26,41,37,34,41,51,32,29,47,30,29,36,42,38,26,53,33,39,40,33,29,32,33,48,43,37,29,28,32,40,28,29,56,34,27,29,34,26,33,38,38,38,30,30,34,30,48,33,36,57,30,40,36,42,45,48,28,27,56,28,41,41,28,41,41,35,36,32,33,27,34,37,31,53,33,42,50,44,27,40,37,45,38,34,36,34,50,33,35,32,27,34,36,32,37,30,26,45,45,28,35,36,33,30,44,47,40,38,45,32,29,34,46,40,51,28,38,60,47,53,95,38,37,36,51,35,32,40,36,32,43,36,49,54,48,72,30,52,29,33,41,36,31,47,35,54,44,42,32,24],\"xaxis\":\"x3\",\"yaxis\":\"y3\"},{\"alignmentgroup\":\"True\",\"bingroup\":\"x\",\"hovertemplate\":\"Country=Brazil<br>value=%{x}<br>count=%{y}<extra></extra>\",\"legendgroup\":\"Brazil\",\"marker\":{\"color\":\"#ab63fa\",\"pattern\":{\"shape\":\"\"}},\"name\":\"Brazil\",\"offsetgroup\":\"Brazil\",\"orientation\":\"v\",\"showlegend\":true,\"type\":\"histogram\",\"x\":[32,29,74,43,45,45,25,45,41,47,34,33,55,50,57,32,28,45,23,44,49,44,47,50,42,42,32,57,38,29,48,40,58,61,32,48,40,52,31,52,43,34,23,45,43,51,32,46,39,29,52,42,44,45,44,35,30,38,23,30,59,31,43,28,45,36,45,30,50,39,27,48,49,34,35,45,38,35,33,53,37,30,45,62,57,46,35,48,25,47,50,31,30,47,40,40,41,29,49,41,52,37,37,31,56,43,37,33,44,37,40,54,50,35,63,41,39,44,41,34,43,39,32,29,35,51,42,35,37,43,44,62,36,52,30,35,39,33,52,50,31,38,32,46,43,40,49,32,32,54,36,58,29,33,28,40,35,35,45,63,28,44,48,46,39,34,22,57,41,35,42,41,40,50,32,35,32,29,53,51,31,24,47,33,36,50,34,36,37,34,47,47,23,31,47,33,57,30,40,71,37,52,45,29,34,32,34,35,39,36,40,42,34,26,31,56,48,46,31,34,40,39,41,29,30,47,42,47,37,33,32,48,46,40,29,33,35,37,36,32,27,54,46,37,37,44,31,27,24,31,40,50,35,32,33,50,34,40,39,39,56,55,47,45,33,42,35,34,42,45,42,27,34,37,30,37,41,31,36,42,47,32,36,29,33,31,47,35,31,35,45,38,28,28,54,36,33,29,34,34,30],\"xaxis\":\"x4\",\"yaxis\":\"y4\"},{\"alignmentgroup\":\"True\",\"bingroup\":\"x\",\"hovertemplate\":\"Country=Turkey<br>value=%{x}<br>count=%{y}<extra></extra>\",\"legendgroup\":\"Turkey\",\"marker\":{\"color\":\"#FFA15A\",\"pattern\":{\"shape\":\"\"}},\"name\":\"Turkey\",\"offsetgroup\":\"Turkey\",\"orientation\":\"v\",\"showlegend\":true,\"type\":\"histogram\",\"x\":[48,25,34,48,34,26,41,42,39,25,32,32,42,24,26,32,34,25,43,23,24,33,30,42,42,32,37,43,25,54,32,31,25,35,40,43,39,28,49,33,34,29,41,35,32,25,33,28,43,28,34,28,42,43,45,48,42,39,50,29,28,44,30,42,34,32,30,28,27,31,48,27,40,41,47,35,42,36,41,41,44,33,38,32,42,52,37,24,33,36,35,42,31,29,36,56,30,36,37,44,33,33,38,40,35,41,32,48,45,38,44,29,34,36,38,34,42,29,32,57,35,33,46,33,34,29,35,25,30,29,35,46,32,33,40,27,39,44,49,41,45,41,38,48,43,35,41,31,42,38,41,34,39,44,36,39,42,26,36,36,30,45,42,25,34,31,43,31,41,45,33,34,37,28,33,32,31,47,46,41,45,37,31,42,32,33,45,33,29,28,35,42,38,33,40,35,34,35,25,46,42,29,28,30,47,49,32,40,26,37,42,38,37,31,30,52,28,30,31,33,48,27,43,34,49,38,34,70,35,36,34,38,26,36,55,37,36,40,32,32,32,50,36,31,29,31,31,26,35,37,30,47,39,39,38,39,34,36,32,32,38,32,32,33,33,34,21,31,33,40,39,24,37,44,43,30,31,33,54,43,39,30,38,27,34,31,42,31,29,29,40,33,50,44,52,51,29,41,40,41,50,39,34,54,45,28,34,36,22,27,38,34,51,53,42,50,42,29,43,44,47,31,46,36,31,31,37,31,39,50,46,32,35,44,41,55,38,40,43,30,38,32,31,26,41,39,44,35,38,31,36,32,31,75,39,33,24,42,43,28,25,27,41,46,27,31,39,38,28,28,40,28,34,49,41,33,34,28,47,35,27,32,30,24,38,40,31,38,42,47,30,45,28,36,50,47,35,28,37,33,37,32,36,64,39,51,41,31,37,43,31,55,35,31,43,36,33,56,32,33,35,41,36,30,33,24,22,33,46,49,35,29,30,37,38,37,32,37,42,26,39,22,40,31,24,40,39,32,31,38,38,57,29,25,36,43,35,44,22,26,25,31,29,34,28,38,31,41,47,36,22,29,26,29,28,30,26,28,31,32,38,34,52,38,37,31,37,21,48,32,37,35,39,35,43,27,36,30,42,29,34,44,29,33,40,39,52,34,31,36,26,29,40,45,37,32,30,35,44,33,34,33,35,33,32,28,30,34,35,52,34,50,37,30,25,33,27,32,66,33,35,56,27,27,32,45,39,31,31,45,34,37,46,43,25,26,35,37,33,34,43,34,47,40,32,23,33,29,28,38,30,30,30,31,39,31,17,36,31,36,27,38,29,53,35,31,33,37,27,36,32,41,36,26,37,32,28,32,25,28,34,34,21,34,34,38,48,40,34,42,48,45,23,47,27,44,38,24,35,28,30,39,38,24,42,32,44,23,36,28,27,33,40,31,49,34,40,37,33,37,31,32,33,30,35,33,30,32,32,46,36,34,39],\"xaxis\":\"x5\",\"yaxis\":\"y5\"}],                        {\"annotations\":[{\"font\":{},\"showarrow\":false,\"text\":\"Country=North America\",\"x\":0.09200000000000001,\"xanchor\":\"center\",\"xref\":\"paper\",\"y\":1.0,\"yanchor\":\"bottom\",\"yref\":\"paper\"},{\"font\":{},\"showarrow\":false,\"text\":\"Country=Europe\",\"x\":0.29600000000000004,\"xanchor\":\"center\",\"xref\":\"paper\",\"y\":1.0,\"yanchor\":\"bottom\",\"yref\":\"paper\"},{\"font\":{},\"showarrow\":false,\"text\":\"Country=Korea\",\"x\":0.5,\"xanchor\":\"center\",\"xref\":\"paper\",\"y\":1.0,\"yanchor\":\"bottom\",\"yref\":\"paper\"},{\"font\":{},\"showarrow\":false,\"text\":\"Country=Brazil\",\"x\":0.7040000000000002,\"xanchor\":\"center\",\"xref\":\"paper\",\"y\":1.0,\"yanchor\":\"bottom\",\"yref\":\"paper\"},{\"font\":{},\"showarrow\":false,\"text\":\"Country=Turkey\",\"x\":0.908,\"xanchor\":\"center\",\"xref\":\"paper\",\"y\":1.0,\"yanchor\":\"bottom\",\"yref\":\"paper\"}],\"barmode\":\"relative\",\"legend\":{\"title\":{\"text\":\"Country\"},\"tracegroupgap\":0},\"margin\":{\"t\":60},\"template\":{\"data\":{\"bar\":[{\"error_x\":{\"color\":\"#2a3f5f\"},\"error_y\":{\"color\":\"#2a3f5f\"},\"marker\":{\"line\":{\"color\":\"#E5ECF6\",\"width\":0.5},\"pattern\":{\"fillmode\":\"overlay\",\"size\":10,\"solidity\":0.2}},\"type\":\"bar\"}],\"barpolar\":[{\"marker\":{\"line\":{\"color\":\"#E5ECF6\",\"width\":0.5},\"pattern\":{\"fillmode\":\"overlay\",\"size\":10,\"solidity\":0.2}},\"type\":\"barpolar\"}],\"carpet\":[{\"aaxis\":{\"endlinecolor\":\"#2a3f5f\",\"gridcolor\":\"white\",\"linecolor\":\"white\",\"minorgridcolor\":\"white\",\"startlinecolor\":\"#2a3f5f\"},\"baxis\":{\"endlinecolor\":\"#2a3f5f\",\"gridcolor\":\"white\",\"linecolor\":\"white\",\"minorgridcolor\":\"white\",\"startlinecolor\":\"#2a3f5f\"},\"type\":\"carpet\"}],\"choropleth\":[{\"colorbar\":{\"outlinewidth\":0,\"ticks\":\"\"},\"type\":\"choropleth\"}],\"contour\":[{\"colorbar\":{\"outlinewidth\":0,\"ticks\":\"\"},\"colorscale\":[[0.0,\"#0d0887\"],[0.1111111111111111,\"#46039f\"],[0.2222222222222222,\"#7201a8\"],[0.3333333333333333,\"#9c179e\"],[0.4444444444444444,\"#bd3786\"],[0.5555555555555556,\"#d8576b\"],[0.6666666666666666,\"#ed7953\"],[0.7777777777777778,\"#fb9f3a\"],[0.8888888888888888,\"#fdca26\"],[1.0,\"#f0f921\"]],\"type\":\"contour\"}],\"contourcarpet\":[{\"colorbar\":{\"outlinewidth\":0,\"ticks\":\"\"},\"type\":\"contourcarpet\"}],\"heatmap\":[{\"colorbar\":{\"outlinewidth\":0,\"ticks\":\"\"},\"colorscale\":[[0.0,\"#0d0887\"],[0.1111111111111111,\"#46039f\"],[0.2222222222222222,\"#7201a8\"],[0.3333333333333333,\"#9c179e\"],[0.4444444444444444,\"#bd3786\"],[0.5555555555555556,\"#d8576b\"],[0.6666666666666666,\"#ed7953\"],[0.7777777777777778,\"#fb9f3a\"],[0.8888888888888888,\"#fdca26\"],[1.0,\"#f0f921\"]],\"type\":\"heatmap\"}],\"heatmapgl\":[{\"colorbar\":{\"outlinewidth\":0,\"ticks\":\"\"},\"colorscale\":[[0.0,\"#0d0887\"],[0.1111111111111111,\"#46039f\"],[0.2222222222222222,\"#7201a8\"],[0.3333333333333333,\"#9c179e\"],[0.4444444444444444,\"#bd3786\"],[0.5555555555555556,\"#d8576b\"],[0.6666666666666666,\"#ed7953\"],[0.7777777777777778,\"#fb9f3a\"],[0.8888888888888888,\"#fdca26\"],[1.0,\"#f0f921\"]],\"type\":\"heatmapgl\"}],\"histogram\":[{\"marker\":{\"pattern\":{\"fillmode\":\"overlay\",\"size\":10,\"solidity\":0.2}},\"type\":\"histogram\"}],\"histogram2d\":[{\"colorbar\":{\"outlinewidth\":0,\"ticks\":\"\"},\"colorscale\":[[0.0,\"#0d0887\"],[0.1111111111111111,\"#46039f\"],[0.2222222222222222,\"#7201a8\"],[0.3333333333333333,\"#9c179e\"],[0.4444444444444444,\"#bd3786\"],[0.5555555555555556,\"#d8576b\"],[0.6666666666666666,\"#ed7953\"],[0.7777777777777778,\"#fb9f3a\"],[0.8888888888888888,\"#fdca26\"],[1.0,\"#f0f921\"]],\"type\":\"histogram2d\"}],\"histogram2dcontour\":[{\"colorbar\":{\"outlinewidth\":0,\"ticks\":\"\"},\"colorscale\":[[0.0,\"#0d0887\"],[0.1111111111111111,\"#46039f\"],[0.2222222222222222,\"#7201a8\"],[0.3333333333333333,\"#9c179e\"],[0.4444444444444444,\"#bd3786\"],[0.5555555555555556,\"#d8576b\"],[0.6666666666666666,\"#ed7953\"],[0.7777777777777778,\"#fb9f3a\"],[0.8888888888888888,\"#fdca26\"],[1.0,\"#f0f921\"]],\"type\":\"histogram2dcontour\"}],\"mesh3d\":[{\"colorbar\":{\"outlinewidth\":0,\"ticks\":\"\"},\"type\":\"mesh3d\"}],\"parcoords\":[{\"line\":{\"colorbar\":{\"outlinewidth\":0,\"ticks\":\"\"}},\"type\":\"parcoords\"}],\"pie\":[{\"automargin\":true,\"type\":\"pie\"}],\"scatter\":[{\"marker\":{\"colorbar\":{\"outlinewidth\":0,\"ticks\":\"\"}},\"type\":\"scatter\"}],\"scatter3d\":[{\"line\":{\"colorbar\":{\"outlinewidth\":0,\"ticks\":\"\"}},\"marker\":{\"colorbar\":{\"outlinewidth\":0,\"ticks\":\"\"}},\"type\":\"scatter3d\"}],\"scattercarpet\":[{\"marker\":{\"colorbar\":{\"outlinewidth\":0,\"ticks\":\"\"}},\"type\":\"scattercarpet\"}],\"scattergeo\":[{\"marker\":{\"colorbar\":{\"outlinewidth\":0,\"ticks\":\"\"}},\"type\":\"scattergeo\"}],\"scattergl\":[{\"marker\":{\"colorbar\":{\"outlinewidth\":0,\"ticks\":\"\"}},\"type\":\"scattergl\"}],\"scattermapbox\":[{\"marker\":{\"colorbar\":{\"outlinewidth\":0,\"ticks\":\"\"}},\"type\":\"scattermapbox\"}],\"scatterpolar\":[{\"marker\":{\"colorbar\":{\"outlinewidth\":0,\"ticks\":\"\"}},\"type\":\"scatterpolar\"}],\"scatterpolargl\":[{\"marker\":{\"colorbar\":{\"outlinewidth\":0,\"ticks\":\"\"}},\"type\":\"scatterpolargl\"}],\"scatterternary\":[{\"marker\":{\"colorbar\":{\"outlinewidth\":0,\"ticks\":\"\"}},\"type\":\"scatterternary\"}],\"surface\":[{\"colorbar\":{\"outlinewidth\":0,\"ticks\":\"\"},\"colorscale\":[[0.0,\"#0d0887\"],[0.1111111111111111,\"#46039f\"],[0.2222222222222222,\"#7201a8\"],[0.3333333333333333,\"#9c179e\"],[0.4444444444444444,\"#bd3786\"],[0.5555555555555556,\"#d8576b\"],[0.6666666666666666,\"#ed7953\"],[0.7777777777777778,\"#fb9f3a\"],[0.8888888888888888,\"#fdca26\"],[1.0,\"#f0f921\"]],\"type\":\"surface\"}],\"table\":[{\"cells\":{\"fill\":{\"color\":\"#EBF0F8\"},\"line\":{\"color\":\"white\"}},\"header\":{\"fill\":{\"color\":\"#C8D4E3\"},\"line\":{\"color\":\"white\"}},\"type\":\"table\"}]},\"layout\":{\"annotationdefaults\":{\"arrowcolor\":\"#2a3f5f\",\"arrowhead\":0,\"arrowwidth\":1},\"autotypenumbers\":\"strict\",\"coloraxis\":{\"colorbar\":{\"outlinewidth\":0,\"ticks\":\"\"}},\"colorscale\":{\"diverging\":[[0,\"#8e0152\"],[0.1,\"#c51b7d\"],[0.2,\"#de77ae\"],[0.3,\"#f1b6da\"],[0.4,\"#fde0ef\"],[0.5,\"#f7f7f7\"],[0.6,\"#e6f5d0\"],[0.7,\"#b8e186\"],[0.8,\"#7fbc41\"],[0.9,\"#4d9221\"],[1,\"#276419\"]],\"sequential\":[[0.0,\"#0d0887\"],[0.1111111111111111,\"#46039f\"],[0.2222222222222222,\"#7201a8\"],[0.3333333333333333,\"#9c179e\"],[0.4444444444444444,\"#bd3786\"],[0.5555555555555556,\"#d8576b\"],[0.6666666666666666,\"#ed7953\"],[0.7777777777777778,\"#fb9f3a\"],[0.8888888888888888,\"#fdca26\"],[1.0,\"#f0f921\"]],\"sequentialminus\":[[0.0,\"#0d0887\"],[0.1111111111111111,\"#46039f\"],[0.2222222222222222,\"#7201a8\"],[0.3333333333333333,\"#9c179e\"],[0.4444444444444444,\"#bd3786\"],[0.5555555555555556,\"#d8576b\"],[0.6666666666666666,\"#ed7953\"],[0.7777777777777778,\"#fb9f3a\"],[0.8888888888888888,\"#fdca26\"],[1.0,\"#f0f921\"]]},\"colorway\":[\"#636efa\",\"#EF553B\",\"#00cc96\",\"#ab63fa\",\"#FFA15A\",\"#19d3f3\",\"#FF6692\",\"#B6E880\",\"#FF97FF\",\"#FECB52\"],\"font\":{\"color\":\"#2a3f5f\"},\"geo\":{\"bgcolor\":\"white\",\"lakecolor\":\"white\",\"landcolor\":\"#E5ECF6\",\"showlakes\":true,\"showland\":true,\"subunitcolor\":\"white\"},\"hoverlabel\":{\"align\":\"left\"},\"hovermode\":\"closest\",\"mapbox\":{\"style\":\"light\"},\"paper_bgcolor\":\"white\",\"plot_bgcolor\":\"#E5ECF6\",\"polar\":{\"angularaxis\":{\"gridcolor\":\"white\",\"linecolor\":\"white\",\"ticks\":\"\"},\"bgcolor\":\"#E5ECF6\",\"radialaxis\":{\"gridcolor\":\"white\",\"linecolor\":\"white\",\"ticks\":\"\"}},\"scene\":{\"xaxis\":{\"backgroundcolor\":\"#E5ECF6\",\"gridcolor\":\"white\",\"gridwidth\":2,\"linecolor\":\"white\",\"showbackground\":true,\"ticks\":\"\",\"zerolinecolor\":\"white\"},\"yaxis\":{\"backgroundcolor\":\"#E5ECF6\",\"gridcolor\":\"white\",\"gridwidth\":2,\"linecolor\":\"white\",\"showbackground\":true,\"ticks\":\"\",\"zerolinecolor\":\"white\"},\"zaxis\":{\"backgroundcolor\":\"#E5ECF6\",\"gridcolor\":\"white\",\"gridwidth\":2,\"linecolor\":\"white\",\"showbackground\":true,\"ticks\":\"\",\"zerolinecolor\":\"white\"}},\"shapedefaults\":{\"line\":{\"color\":\"#2a3f5f\"}},\"ternary\":{\"aaxis\":{\"gridcolor\":\"white\",\"linecolor\":\"white\",\"ticks\":\"\"},\"baxis\":{\"gridcolor\":\"white\",\"linecolor\":\"white\",\"ticks\":\"\"},\"bgcolor\":\"#E5ECF6\",\"caxis\":{\"gridcolor\":\"white\",\"linecolor\":\"white\",\"ticks\":\"\"}},\"title\":{\"x\":0.05},\"xaxis\":{\"automargin\":true,\"gridcolor\":\"white\",\"linecolor\":\"white\",\"ticks\":\"\",\"title\":{\"standoff\":15},\"zerolinecolor\":\"white\",\"zerolinewidth\":2},\"yaxis\":{\"automargin\":true,\"gridcolor\":\"white\",\"linecolor\":\"white\",\"ticks\":\"\",\"title\":{\"standoff\":15},\"zerolinecolor\":\"white\",\"zerolinewidth\":2}}},\"xaxis\":{\"anchor\":\"y\",\"domain\":[0.0,0.18400000000000002],\"title\":{\"text\":\"value\"}},\"xaxis2\":{\"anchor\":\"y2\",\"domain\":[0.20400000000000001,0.388],\"matches\":\"x\",\"title\":{\"text\":\"value\"}},\"xaxis3\":{\"anchor\":\"y3\",\"domain\":[0.40800000000000003,0.5920000000000001],\"matches\":\"x\",\"title\":{\"text\":\"value\"}},\"xaxis4\":{\"anchor\":\"y4\",\"domain\":[0.6120000000000001,0.7960000000000002],\"matches\":\"x\",\"title\":{\"text\":\"value\"}},\"xaxis5\":{\"anchor\":\"y5\",\"domain\":[0.8160000000000001,1.0],\"matches\":\"x\",\"title\":{\"text\":\"value\"}},\"yaxis\":{\"anchor\":\"x\",\"domain\":[0.0,1.0],\"title\":{\"text\":\"count\"}},\"yaxis2\":{\"anchor\":\"x2\",\"domain\":[0.0,1.0],\"matches\":\"y\",\"showticklabels\":false},\"yaxis3\":{\"anchor\":\"x3\",\"domain\":[0.0,1.0],\"matches\":\"y\",\"showticklabels\":false},\"yaxis4\":{\"anchor\":\"x4\",\"domain\":[0.0,1.0],\"matches\":\"y\",\"showticklabels\":false},\"yaxis5\":{\"anchor\":\"x5\",\"domain\":[0.0,1.0],\"matches\":\"y\",\"showticklabels\":false}},                        {\"responsive\": true}                    ).then(function(){\n",
       "                            \n",
       "var gd = document.getElementById('4b29989f-8b45-4b92-b462-e2ef01b18881');\n",
       "var x = new MutationObserver(function (mutations, observer) {{\n",
       "        var display = window.getComputedStyle(gd).display;\n",
       "        if (!display || display === 'none') {{\n",
       "            console.log([gd, 'removed!']);\n",
       "            Plotly.purge(gd);\n",
       "            observer.disconnect();\n",
       "        }}\n",
       "}});\n",
       "\n",
       "// Listen for the removal of the full notebook cells\n",
       "var notebookContainer = gd.closest('#notebook-container');\n",
       "if (notebookContainer) {{\n",
       "    x.observe(notebookContainer, {childList: true});\n",
       "}}\n",
       "\n",
       "// Listen for the clearing of the current output cell\n",
       "var outputEl = gd.closest('.output');\n",
       "if (outputEl) {{\n",
       "    x.observe(outputEl, {childList: true});\n",
       "}}\n",
       "\n",
       "                        })                };                });            </script>        </div>"
      ]
     },
     "metadata": {},
     "output_type": "display_data"
    }
   ],
   "source": [
    "px.histogram(df_length, x=['gamelength'],facet_col=\"Country\", color = \"Country\")"
   ]
  },
  {
   "cell_type": "code",
   "execution_count": 369,
   "metadata": {},
   "outputs": [
    {
     "data": {
      "application/vnd.plotly.v1+json": {
       "config": {
        "plotlyServerURL": "https://plot.ly"
       },
       "data": [
        {
         "alignmentgroup": "True",
         "bingroup": "x",
         "hovertemplate": "Country=North America<br>value=%{x}<br>count=%{y}<extra></extra>",
         "legendgroup": "North America",
         "marker": {
          "color": "#636efa",
          "pattern": {
           "shape": ""
          }
         },
         "name": "North America",
         "offsetgroup": "North America",
         "orientation": "v",
         "showlegend": true,
         "type": "histogram",
         "x": [
          45,
          28,
          41,
          62,
          37,
          36,
          32,
          44,
          29,
          19,
          36,
          39,
          32,
          48,
          29,
          34,
          33,
          49,
          42,
          27,
          29,
          35,
          33,
          30,
          31,
          32,
          31,
          20,
          42,
          31,
          20,
          33,
          39,
          41,
          29,
          30,
          39,
          24,
          44,
          32,
          43,
          30,
          32,
          27,
          34,
          29,
          30,
          33,
          46,
          28,
          33,
          47,
          26,
          58,
          31,
          37,
          39,
          33,
          28,
          28,
          31,
          43,
          30,
          29,
          40,
          41,
          30,
          46,
          26,
          57,
          38,
          38,
          30,
          68,
          30,
          35,
          30,
          49,
          41,
          38,
          25,
          29,
          35,
          34,
          44,
          34,
          30,
          26,
          45,
          39,
          33,
          39,
          32,
          65,
          43,
          42,
          44,
          44,
          51,
          35,
          57,
          32,
          41,
          30,
          34,
          29,
          48,
          43,
          39,
          43,
          32,
          33,
          34,
          27,
          43,
          35,
          35,
          36,
          36,
          30,
          28,
          27,
          32,
          32,
          58,
          30,
          27,
          27,
          44,
          44,
          41,
          49,
          33,
          34,
          30,
          41,
          28,
          35,
          42,
          31,
          27,
          38,
          29,
          27,
          43,
          55,
          37,
          33,
          28,
          36,
          29,
          30,
          39,
          25,
          29,
          41,
          37,
          30,
          40,
          60,
          37,
          44,
          35,
          32,
          35,
          27,
          32,
          37,
          33,
          39,
          24,
          28,
          27,
          36,
          30,
          38,
          47,
          32,
          37,
          44,
          55,
          41,
          36,
          31,
          36,
          42,
          45,
          36,
          34,
          43,
          41,
          41,
          25,
          26,
          28,
          28,
          28,
          33,
          35,
          39,
          28,
          31,
          25,
          42,
          31,
          42,
          41,
          30,
          33,
          31,
          40,
          31,
          32,
          48,
          38,
          34,
          33,
          35,
          32,
          39,
          41,
          28,
          25,
          37,
          38,
          36,
          42,
          48,
          33,
          46,
          28,
          36,
          32,
          36,
          32,
          40,
          40,
          32,
          38,
          29,
          38,
          62,
          31,
          28,
          30,
          34,
          30,
          40,
          26,
          41,
          38,
          34,
          28,
          21,
          46,
          35,
          27,
          34,
          35,
          57,
          36,
          37,
          36,
          32,
          41,
          26,
          28,
          31,
          29,
          28,
          43,
          29,
          43,
          35,
          34,
          22,
          28,
          30,
          37,
          28,
          39,
          34,
          55,
          39,
          48,
          28,
          36,
          44,
          43,
          36,
          28,
          27,
          30,
          31,
          36,
          36,
          33,
          38,
          39,
          26,
          26,
          52,
          37,
          41,
          34,
          31,
          26,
          35,
          31,
          30,
          29,
          32,
          38,
          35,
          33,
          31,
          25,
          44,
          44,
          30,
          44,
          33,
          29,
          31,
          44,
          29,
          42,
          35,
          47,
          48,
          39,
          26,
          27,
          35,
          40,
          34,
          27,
          34,
          40,
          47,
          38,
          48,
          34,
          45,
          44,
          43,
          34,
          51,
          52,
          33,
          40,
          38,
          30,
          44,
          46
         ],
         "xaxis": "x",
         "yaxis": "y"
        },
        {
         "alignmentgroup": "True",
         "bingroup": "x",
         "hovertemplate": "Country=Europe<br>value=%{x}<br>count=%{y}<extra></extra>",
         "legendgroup": "Europe",
         "marker": {
          "color": "#EF553B",
          "pattern": {
           "shape": ""
          }
         },
         "name": "Europe",
         "offsetgroup": "Europe",
         "orientation": "v",
         "showlegend": true,
         "type": "histogram",
         "x": [
          36,
          27,
          26,
          27,
          36,
          39,
          32,
          28,
          29,
          24,
          35,
          49,
          26,
          42,
          42,
          33,
          41,
          50,
          36,
          35,
          33,
          36,
          27,
          27,
          38,
          34,
          27,
          33,
          40,
          38,
          36,
          25,
          37,
          27,
          29,
          25,
          36,
          49,
          26,
          48,
          50,
          30,
          42,
          33,
          36,
          33,
          48,
          39,
          34,
          31,
          38,
          33,
          47,
          38,
          63,
          38,
          31,
          43,
          34,
          27,
          37,
          35,
          37,
          43,
          38,
          41,
          49,
          35,
          37,
          41,
          26,
          29,
          39,
          44,
          48,
          21,
          44,
          42,
          26,
          51,
          23,
          37,
          36,
          42,
          39,
          35,
          28,
          36,
          27,
          38,
          35,
          51,
          39,
          26,
          36,
          30,
          42,
          39,
          32,
          33,
          30,
          34,
          35,
          35,
          28,
          34,
          29,
          33,
          51,
          26,
          43,
          33,
          39,
          26,
          36,
          32,
          38,
          27,
          27,
          44,
          36,
          46,
          45,
          49,
          31,
          49,
          50,
          33,
          33,
          35,
          41,
          35,
          44,
          40,
          52,
          35,
          42,
          31,
          39,
          35,
          54,
          47,
          40,
          54,
          34,
          26,
          40,
          37,
          41,
          37,
          46,
          36,
          31,
          81,
          43,
          29,
          26,
          47,
          29,
          49,
          41,
          43,
          27,
          41,
          37,
          33,
          45,
          32,
          33,
          32,
          34,
          34,
          39,
          35,
          40,
          31,
          32,
          45,
          40,
          30,
          37,
          28,
          37,
          37,
          49,
          44,
          27,
          37,
          68,
          38,
          39,
          34,
          34,
          36,
          40,
          27,
          39,
          33,
          29,
          33,
          35,
          30,
          34,
          43,
          43,
          33,
          41,
          31,
          31,
          43,
          31,
          31,
          29,
          43,
          34,
          32,
          44,
          44,
          46,
          25,
          39,
          51,
          44,
          32,
          41,
          41,
          46,
          31,
          50,
          40,
          36,
          31,
          32,
          36,
          40,
          36,
          24,
          32,
          28,
          40,
          33,
          38,
          34,
          27,
          35,
          32,
          35,
          28,
          34,
          36,
          34,
          33,
          29,
          36,
          50,
          46,
          37,
          34,
          34,
          28,
          39,
          37,
          38,
          31,
          38,
          41,
          28,
          44,
          25,
          42,
          34,
          42,
          34,
          33,
          35,
          33,
          43,
          38,
          56,
          37,
          31,
          51,
          40,
          33,
          33,
          30,
          33,
          38,
          26,
          29,
          33,
          32,
          36,
          37,
          31,
          41,
          34,
          32,
          41,
          29,
          37,
          35,
          35,
          37,
          42,
          43,
          39,
          34,
          38,
          41,
          35,
          27,
          42,
          40,
          30,
          34,
          42,
          41,
          29,
          35,
          34
         ],
         "xaxis": "x2",
         "yaxis": "y2"
        },
        {
         "alignmentgroup": "True",
         "bingroup": "x",
         "hovertemplate": "Country=Korea<br>value=%{x}<br>count=%{y}<extra></extra>",
         "legendgroup": "Korea",
         "marker": {
          "color": "#00cc96",
          "pattern": {
           "shape": ""
          }
         },
         "name": "Korea",
         "offsetgroup": "Korea",
         "orientation": "v",
         "showlegend": true,
         "type": "histogram",
         "x": [
          30,
          43,
          40,
          39,
          45,
          32,
          37,
          33,
          42,
          36,
          31,
          22,
          44,
          51,
          51,
          42,
          34,
          52,
          37,
          39,
          32,
          40,
          44,
          24,
          44,
          34,
          40,
          48,
          33,
          34,
          40,
          62,
          35,
          36,
          57,
          34,
          28,
          41,
          41,
          43,
          49,
          29,
          38,
          43,
          26,
          36,
          48,
          33,
          50,
          46,
          44,
          30,
          29,
          52,
          48,
          30,
          40,
          52,
          26,
          44,
          36,
          30,
          32,
          34,
          30,
          58,
          36,
          44,
          56,
          29,
          52,
          39,
          32,
          36,
          26,
          43,
          31,
          34,
          48,
          33,
          56,
          40,
          38,
          33,
          57,
          28,
          38,
          30,
          36,
          31,
          37,
          47,
          57,
          38,
          35,
          34,
          36,
          33,
          30,
          31,
          25,
          25,
          33,
          24,
          43,
          36,
          45,
          30,
          41,
          40,
          50,
          41,
          58,
          51,
          31,
          38,
          26,
          36,
          40,
          47,
          39,
          35,
          35,
          35,
          33,
          50,
          27,
          30,
          36,
          37,
          31,
          36,
          32,
          29,
          54,
          37,
          39,
          30,
          31,
          31,
          39,
          35,
          35,
          50,
          71,
          57,
          36,
          40,
          42,
          28,
          29,
          34,
          34,
          37,
          50,
          63,
          58,
          30,
          29,
          38,
          44,
          27,
          33,
          33,
          45,
          39,
          28,
          27,
          48,
          38,
          44,
          36,
          46,
          34,
          30,
          38,
          43,
          26,
          43,
          54,
          32,
          34,
          30,
          38,
          23,
          41,
          44,
          35,
          32,
          39,
          35,
          30,
          38,
          41,
          30,
          40,
          28,
          29,
          46,
          44,
          31,
          39,
          38,
          33,
          41,
          33,
          27,
          34,
          29,
          31,
          40,
          42,
          41,
          57,
          42,
          36,
          57,
          39,
          32,
          47,
          45,
          33,
          52,
          34,
          35,
          36,
          28,
          59,
          43,
          33,
          31,
          40,
          29,
          40,
          32,
          41,
          27,
          36,
          29,
          29,
          50,
          30,
          35,
          42,
          51,
          34,
          35,
          41,
          61,
          47,
          40,
          50,
          46,
          36,
          43,
          35,
          39,
          32,
          42,
          43,
          34,
          34,
          48,
          36,
          32,
          39,
          22,
          30,
          45,
          41,
          40,
          42,
          28,
          70,
          38,
          60,
          37,
          35,
          33,
          41,
          43,
          29,
          33,
          30,
          45,
          42,
          40,
          36,
          39,
          37,
          56,
          27,
          36,
          32,
          32,
          31,
          38,
          43,
          46,
          44,
          43,
          43,
          35,
          38,
          53,
          35,
          38,
          59,
          45,
          70,
          40,
          53,
          31,
          28,
          29,
          39,
          34,
          40,
          43,
          38,
          34,
          36,
          29,
          39,
          34,
          47,
          46,
          44,
          44,
          47,
          35,
          45,
          25,
          29,
          32,
          39,
          29,
          37,
          27,
          42,
          31,
          37,
          40,
          39,
          40,
          33,
          31,
          38,
          31,
          31,
          34,
          33,
          55,
          39,
          38,
          43,
          33,
          32,
          35,
          35,
          38,
          43,
          31,
          35,
          31,
          39,
          40,
          40,
          38,
          38,
          31,
          29,
          43,
          56,
          42,
          36,
          40,
          42,
          35,
          40,
          32,
          34,
          43,
          30,
          32,
          43,
          45,
          56,
          43,
          53,
          42,
          29,
          40,
          29,
          33,
          44,
          30,
          38,
          41,
          51,
          39,
          34,
          54,
          43,
          29,
          37,
          39,
          30,
          41,
          27,
          33,
          69,
          58,
          39,
          32,
          32,
          39,
          39,
          33,
          41,
          41,
          30,
          56,
          40,
          35,
          44,
          35,
          36,
          46,
          46,
          61,
          45,
          30,
          28,
          29,
          39,
          38,
          50,
          37,
          35,
          46,
          35,
          43,
          42,
          26,
          34,
          41,
          48,
          29,
          40,
          34,
          38,
          42
         ],
         "xaxis": "x3",
         "yaxis": "y3"
        },
        {
         "alignmentgroup": "True",
         "bingroup": "x",
         "hovertemplate": "Country=Brazil<br>value=%{x}<br>count=%{y}<extra></extra>",
         "legendgroup": "Brazil",
         "marker": {
          "color": "#ab63fa",
          "pattern": {
           "shape": ""
          }
         },
         "name": "Brazil",
         "offsetgroup": "Brazil",
         "orientation": "v",
         "showlegend": true,
         "type": "histogram",
         "x": [
          32,
          29,
          74,
          43,
          45,
          45,
          25,
          45,
          41,
          47,
          34,
          33,
          55,
          50,
          57,
          32,
          28,
          45,
          23,
          44,
          49,
          44,
          47,
          50,
          42,
          42,
          32,
          57,
          38,
          29,
          48,
          40,
          58,
          61,
          32,
          48,
          40,
          52,
          31,
          52,
          43,
          34,
          23,
          45,
          43,
          51,
          32,
          46,
          39,
          29,
          52,
          42,
          44,
          45,
          44,
          35,
          30,
          38,
          23,
          30,
          59,
          31,
          43,
          28,
          45,
          36,
          45,
          30,
          50,
          39,
          27,
          48,
          49,
          34,
          35,
          45,
          38,
          35,
          33,
          53,
          37,
          30,
          45,
          62,
          57,
          46,
          35,
          48,
          25,
          47,
          50,
          31,
          30,
          47,
          40,
          40,
          41,
          29,
          49,
          41,
          52,
          37,
          37,
          31,
          56,
          43,
          37,
          33,
          44,
          37,
          40,
          54,
          50,
          35,
          63,
          41,
          39,
          44,
          41,
          34,
          43,
          39,
          32,
          29,
          35,
          51,
          42,
          35,
          37,
          43,
          44,
          62,
          36,
          52,
          30,
          35,
          39,
          33,
          52,
          50,
          31,
          38,
          32,
          46,
          43,
          47
         ],
         "xaxis": "x4",
         "yaxis": "y4"
        },
        {
         "alignmentgroup": "True",
         "bingroup": "x",
         "hovertemplate": "Country=Turkey<br>value=%{x}<br>count=%{y}<extra></extra>",
         "legendgroup": "Turkey",
         "marker": {
          "color": "#FFA15A",
          "pattern": {
           "shape": ""
          }
         },
         "name": "Turkey",
         "offsetgroup": "Turkey",
         "orientation": "v",
         "showlegend": true,
         "type": "histogram",
         "x": [
          39,
          44,
          36,
          39,
          42,
          26,
          36,
          36,
          30,
          45,
          42,
          25,
          34,
          31,
          43,
          31,
          41,
          45,
          33,
          34,
          37,
          28,
          33,
          32,
          31,
          47,
          46,
          41,
          45,
          37,
          31,
          42,
          32,
          33,
          45,
          33,
          29,
          28,
          35,
          42,
          38,
          33,
          40,
          35,
          34,
          35,
          25,
          46,
          42,
          29,
          28,
          30,
          47,
          49,
          32,
          40,
          26,
          37,
          42,
          38,
          37,
          31,
          30,
          52,
          28,
          30,
          31,
          33,
          48,
          27,
          43,
          34,
          49,
          38,
          34,
          70,
          35,
          36,
          34,
          38,
          26,
          36,
          55,
          37,
          36,
          40,
          32,
          32,
          32,
          50,
          36,
          31,
          29,
          31,
          31,
          26,
          35,
          37,
          30,
          47,
          39,
          39,
          38,
          39,
          34,
          36,
          32,
          32,
          38,
          32,
          32,
          33,
          33,
          34,
          21,
          31,
          33,
          40,
          39,
          24,
          37,
          44,
          43,
          30,
          31,
          33,
          54,
          43,
          39,
          30,
          38,
          27,
          34,
          31,
          42,
          31,
          29,
          29,
          40,
          33,
          50,
          44,
          52,
          51,
          29,
          41,
          40,
          41,
          50,
          39,
          34,
          54,
          45,
          28,
          34,
          36,
          22,
          27,
          38,
          34,
          51,
          53,
          42,
          50,
          42,
          29,
          43,
          44,
          47,
          31,
          46,
          36,
          31,
          31,
          37,
          31,
          39,
          50,
          46,
          32,
          35,
          44,
          41,
          55,
          38,
          40,
          43,
          30,
          38,
          32,
          31,
          26,
          41,
          39,
          44,
          35,
          38,
          31,
          36,
          32,
          31,
          75,
          39,
          33,
          24,
          42,
          43,
          28,
          25,
          27,
          41,
          46,
          27
         ],
         "xaxis": "x5",
         "yaxis": "y5"
        }
       ],
       "layout": {
        "annotations": [
         {
          "font": {},
          "showarrow": false,
          "text": "Country=North America",
          "x": 0.09200000000000001,
          "xanchor": "center",
          "xref": "paper",
          "y": 1,
          "yanchor": "bottom",
          "yref": "paper"
         },
         {
          "font": {},
          "showarrow": false,
          "text": "Country=Europe",
          "x": 0.29600000000000004,
          "xanchor": "center",
          "xref": "paper",
          "y": 1,
          "yanchor": "bottom",
          "yref": "paper"
         },
         {
          "font": {},
          "showarrow": false,
          "text": "Country=Korea",
          "x": 0.5,
          "xanchor": "center",
          "xref": "paper",
          "y": 1,
          "yanchor": "bottom",
          "yref": "paper"
         },
         {
          "font": {},
          "showarrow": false,
          "text": "Country=Brazil",
          "x": 0.7040000000000002,
          "xanchor": "center",
          "xref": "paper",
          "y": 1,
          "yanchor": "bottom",
          "yref": "paper"
         },
         {
          "font": {},
          "showarrow": false,
          "text": "Country=Turkey",
          "x": 0.908,
          "xanchor": "center",
          "xref": "paper",
          "y": 1,
          "yanchor": "bottom",
          "yref": "paper"
         }
        ],
        "barmode": "relative",
        "legend": {
         "title": {
          "text": "Country"
         },
         "tracegroupgap": 0
        },
        "margin": {
         "t": 60
        },
        "template": {
         "data": {
          "bar": [
           {
            "error_x": {
             "color": "#2a3f5f"
            },
            "error_y": {
             "color": "#2a3f5f"
            },
            "marker": {
             "line": {
              "color": "#E5ECF6",
              "width": 0.5
             },
             "pattern": {
              "fillmode": "overlay",
              "size": 10,
              "solidity": 0.2
             }
            },
            "type": "bar"
           }
          ],
          "barpolar": [
           {
            "marker": {
             "line": {
              "color": "#E5ECF6",
              "width": 0.5
             },
             "pattern": {
              "fillmode": "overlay",
              "size": 10,
              "solidity": 0.2
             }
            },
            "type": "barpolar"
           }
          ],
          "carpet": [
           {
            "aaxis": {
             "endlinecolor": "#2a3f5f",
             "gridcolor": "white",
             "linecolor": "white",
             "minorgridcolor": "white",
             "startlinecolor": "#2a3f5f"
            },
            "baxis": {
             "endlinecolor": "#2a3f5f",
             "gridcolor": "white",
             "linecolor": "white",
             "minorgridcolor": "white",
             "startlinecolor": "#2a3f5f"
            },
            "type": "carpet"
           }
          ],
          "choropleth": [
           {
            "colorbar": {
             "outlinewidth": 0,
             "ticks": ""
            },
            "type": "choropleth"
           }
          ],
          "contour": [
           {
            "colorbar": {
             "outlinewidth": 0,
             "ticks": ""
            },
            "colorscale": [
             [
              0,
              "#0d0887"
             ],
             [
              0.1111111111111111,
              "#46039f"
             ],
             [
              0.2222222222222222,
              "#7201a8"
             ],
             [
              0.3333333333333333,
              "#9c179e"
             ],
             [
              0.4444444444444444,
              "#bd3786"
             ],
             [
              0.5555555555555556,
              "#d8576b"
             ],
             [
              0.6666666666666666,
              "#ed7953"
             ],
             [
              0.7777777777777778,
              "#fb9f3a"
             ],
             [
              0.8888888888888888,
              "#fdca26"
             ],
             [
              1,
              "#f0f921"
             ]
            ],
            "type": "contour"
           }
          ],
          "contourcarpet": [
           {
            "colorbar": {
             "outlinewidth": 0,
             "ticks": ""
            },
            "type": "contourcarpet"
           }
          ],
          "heatmap": [
           {
            "colorbar": {
             "outlinewidth": 0,
             "ticks": ""
            },
            "colorscale": [
             [
              0,
              "#0d0887"
             ],
             [
              0.1111111111111111,
              "#46039f"
             ],
             [
              0.2222222222222222,
              "#7201a8"
             ],
             [
              0.3333333333333333,
              "#9c179e"
             ],
             [
              0.4444444444444444,
              "#bd3786"
             ],
             [
              0.5555555555555556,
              "#d8576b"
             ],
             [
              0.6666666666666666,
              "#ed7953"
             ],
             [
              0.7777777777777778,
              "#fb9f3a"
             ],
             [
              0.8888888888888888,
              "#fdca26"
             ],
             [
              1,
              "#f0f921"
             ]
            ],
            "type": "heatmap"
           }
          ],
          "heatmapgl": [
           {
            "colorbar": {
             "outlinewidth": 0,
             "ticks": ""
            },
            "colorscale": [
             [
              0,
              "#0d0887"
             ],
             [
              0.1111111111111111,
              "#46039f"
             ],
             [
              0.2222222222222222,
              "#7201a8"
             ],
             [
              0.3333333333333333,
              "#9c179e"
             ],
             [
              0.4444444444444444,
              "#bd3786"
             ],
             [
              0.5555555555555556,
              "#d8576b"
             ],
             [
              0.6666666666666666,
              "#ed7953"
             ],
             [
              0.7777777777777778,
              "#fb9f3a"
             ],
             [
              0.8888888888888888,
              "#fdca26"
             ],
             [
              1,
              "#f0f921"
             ]
            ],
            "type": "heatmapgl"
           }
          ],
          "histogram": [
           {
            "marker": {
             "pattern": {
              "fillmode": "overlay",
              "size": 10,
              "solidity": 0.2
             }
            },
            "type": "histogram"
           }
          ],
          "histogram2d": [
           {
            "colorbar": {
             "outlinewidth": 0,
             "ticks": ""
            },
            "colorscale": [
             [
              0,
              "#0d0887"
             ],
             [
              0.1111111111111111,
              "#46039f"
             ],
             [
              0.2222222222222222,
              "#7201a8"
             ],
             [
              0.3333333333333333,
              "#9c179e"
             ],
             [
              0.4444444444444444,
              "#bd3786"
             ],
             [
              0.5555555555555556,
              "#d8576b"
             ],
             [
              0.6666666666666666,
              "#ed7953"
             ],
             [
              0.7777777777777778,
              "#fb9f3a"
             ],
             [
              0.8888888888888888,
              "#fdca26"
             ],
             [
              1,
              "#f0f921"
             ]
            ],
            "type": "histogram2d"
           }
          ],
          "histogram2dcontour": [
           {
            "colorbar": {
             "outlinewidth": 0,
             "ticks": ""
            },
            "colorscale": [
             [
              0,
              "#0d0887"
             ],
             [
              0.1111111111111111,
              "#46039f"
             ],
             [
              0.2222222222222222,
              "#7201a8"
             ],
             [
              0.3333333333333333,
              "#9c179e"
             ],
             [
              0.4444444444444444,
              "#bd3786"
             ],
             [
              0.5555555555555556,
              "#d8576b"
             ],
             [
              0.6666666666666666,
              "#ed7953"
             ],
             [
              0.7777777777777778,
              "#fb9f3a"
             ],
             [
              0.8888888888888888,
              "#fdca26"
             ],
             [
              1,
              "#f0f921"
             ]
            ],
            "type": "histogram2dcontour"
           }
          ],
          "mesh3d": [
           {
            "colorbar": {
             "outlinewidth": 0,
             "ticks": ""
            },
            "type": "mesh3d"
           }
          ],
          "parcoords": [
           {
            "line": {
             "colorbar": {
              "outlinewidth": 0,
              "ticks": ""
             }
            },
            "type": "parcoords"
           }
          ],
          "pie": [
           {
            "automargin": true,
            "type": "pie"
           }
          ],
          "scatter": [
           {
            "marker": {
             "colorbar": {
              "outlinewidth": 0,
              "ticks": ""
             }
            },
            "type": "scatter"
           }
          ],
          "scatter3d": [
           {
            "line": {
             "colorbar": {
              "outlinewidth": 0,
              "ticks": ""
             }
            },
            "marker": {
             "colorbar": {
              "outlinewidth": 0,
              "ticks": ""
             }
            },
            "type": "scatter3d"
           }
          ],
          "scattercarpet": [
           {
            "marker": {
             "colorbar": {
              "outlinewidth": 0,
              "ticks": ""
             }
            },
            "type": "scattercarpet"
           }
          ],
          "scattergeo": [
           {
            "marker": {
             "colorbar": {
              "outlinewidth": 0,
              "ticks": ""
             }
            },
            "type": "scattergeo"
           }
          ],
          "scattergl": [
           {
            "marker": {
             "colorbar": {
              "outlinewidth": 0,
              "ticks": ""
             }
            },
            "type": "scattergl"
           }
          ],
          "scattermapbox": [
           {
            "marker": {
             "colorbar": {
              "outlinewidth": 0,
              "ticks": ""
             }
            },
            "type": "scattermapbox"
           }
          ],
          "scatterpolar": [
           {
            "marker": {
             "colorbar": {
              "outlinewidth": 0,
              "ticks": ""
             }
            },
            "type": "scatterpolar"
           }
          ],
          "scatterpolargl": [
           {
            "marker": {
             "colorbar": {
              "outlinewidth": 0,
              "ticks": ""
             }
            },
            "type": "scatterpolargl"
           }
          ],
          "scatterternary": [
           {
            "marker": {
             "colorbar": {
              "outlinewidth": 0,
              "ticks": ""
             }
            },
            "type": "scatterternary"
           }
          ],
          "surface": [
           {
            "colorbar": {
             "outlinewidth": 0,
             "ticks": ""
            },
            "colorscale": [
             [
              0,
              "#0d0887"
             ],
             [
              0.1111111111111111,
              "#46039f"
             ],
             [
              0.2222222222222222,
              "#7201a8"
             ],
             [
              0.3333333333333333,
              "#9c179e"
             ],
             [
              0.4444444444444444,
              "#bd3786"
             ],
             [
              0.5555555555555556,
              "#d8576b"
             ],
             [
              0.6666666666666666,
              "#ed7953"
             ],
             [
              0.7777777777777778,
              "#fb9f3a"
             ],
             [
              0.8888888888888888,
              "#fdca26"
             ],
             [
              1,
              "#f0f921"
             ]
            ],
            "type": "surface"
           }
          ],
          "table": [
           {
            "cells": {
             "fill": {
              "color": "#EBF0F8"
             },
             "line": {
              "color": "white"
             }
            },
            "header": {
             "fill": {
              "color": "#C8D4E3"
             },
             "line": {
              "color": "white"
             }
            },
            "type": "table"
           }
          ]
         },
         "layout": {
          "annotationdefaults": {
           "arrowcolor": "#2a3f5f",
           "arrowhead": 0,
           "arrowwidth": 1
          },
          "autotypenumbers": "strict",
          "coloraxis": {
           "colorbar": {
            "outlinewidth": 0,
            "ticks": ""
           }
          },
          "colorscale": {
           "diverging": [
            [
             0,
             "#8e0152"
            ],
            [
             0.1,
             "#c51b7d"
            ],
            [
             0.2,
             "#de77ae"
            ],
            [
             0.3,
             "#f1b6da"
            ],
            [
             0.4,
             "#fde0ef"
            ],
            [
             0.5,
             "#f7f7f7"
            ],
            [
             0.6,
             "#e6f5d0"
            ],
            [
             0.7,
             "#b8e186"
            ],
            [
             0.8,
             "#7fbc41"
            ],
            [
             0.9,
             "#4d9221"
            ],
            [
             1,
             "#276419"
            ]
           ],
           "sequential": [
            [
             0,
             "#0d0887"
            ],
            [
             0.1111111111111111,
             "#46039f"
            ],
            [
             0.2222222222222222,
             "#7201a8"
            ],
            [
             0.3333333333333333,
             "#9c179e"
            ],
            [
             0.4444444444444444,
             "#bd3786"
            ],
            [
             0.5555555555555556,
             "#d8576b"
            ],
            [
             0.6666666666666666,
             "#ed7953"
            ],
            [
             0.7777777777777778,
             "#fb9f3a"
            ],
            [
             0.8888888888888888,
             "#fdca26"
            ],
            [
             1,
             "#f0f921"
            ]
           ],
           "sequentialminus": [
            [
             0,
             "#0d0887"
            ],
            [
             0.1111111111111111,
             "#46039f"
            ],
            [
             0.2222222222222222,
             "#7201a8"
            ],
            [
             0.3333333333333333,
             "#9c179e"
            ],
            [
             0.4444444444444444,
             "#bd3786"
            ],
            [
             0.5555555555555556,
             "#d8576b"
            ],
            [
             0.6666666666666666,
             "#ed7953"
            ],
            [
             0.7777777777777778,
             "#fb9f3a"
            ],
            [
             0.8888888888888888,
             "#fdca26"
            ],
            [
             1,
             "#f0f921"
            ]
           ]
          },
          "colorway": [
           "#636efa",
           "#EF553B",
           "#00cc96",
           "#ab63fa",
           "#FFA15A",
           "#19d3f3",
           "#FF6692",
           "#B6E880",
           "#FF97FF",
           "#FECB52"
          ],
          "font": {
           "color": "#2a3f5f"
          },
          "geo": {
           "bgcolor": "white",
           "lakecolor": "white",
           "landcolor": "#E5ECF6",
           "showlakes": true,
           "showland": true,
           "subunitcolor": "white"
          },
          "hoverlabel": {
           "align": "left"
          },
          "hovermode": "closest",
          "mapbox": {
           "style": "light"
          },
          "paper_bgcolor": "white",
          "plot_bgcolor": "#E5ECF6",
          "polar": {
           "angularaxis": {
            "gridcolor": "white",
            "linecolor": "white",
            "ticks": ""
           },
           "bgcolor": "#E5ECF6",
           "radialaxis": {
            "gridcolor": "white",
            "linecolor": "white",
            "ticks": ""
           }
          },
          "scene": {
           "xaxis": {
            "backgroundcolor": "#E5ECF6",
            "gridcolor": "white",
            "gridwidth": 2,
            "linecolor": "white",
            "showbackground": true,
            "ticks": "",
            "zerolinecolor": "white"
           },
           "yaxis": {
            "backgroundcolor": "#E5ECF6",
            "gridcolor": "white",
            "gridwidth": 2,
            "linecolor": "white",
            "showbackground": true,
            "ticks": "",
            "zerolinecolor": "white"
           },
           "zaxis": {
            "backgroundcolor": "#E5ECF6",
            "gridcolor": "white",
            "gridwidth": 2,
            "linecolor": "white",
            "showbackground": true,
            "ticks": "",
            "zerolinecolor": "white"
           }
          },
          "shapedefaults": {
           "line": {
            "color": "#2a3f5f"
           }
          },
          "ternary": {
           "aaxis": {
            "gridcolor": "white",
            "linecolor": "white",
            "ticks": ""
           },
           "baxis": {
            "gridcolor": "white",
            "linecolor": "white",
            "ticks": ""
           },
           "bgcolor": "#E5ECF6",
           "caxis": {
            "gridcolor": "white",
            "linecolor": "white",
            "ticks": ""
           }
          },
          "title": {
           "x": 0.05
          },
          "xaxis": {
           "automargin": true,
           "gridcolor": "white",
           "linecolor": "white",
           "ticks": "",
           "title": {
            "standoff": 15
           },
           "zerolinecolor": "white",
           "zerolinewidth": 2
          },
          "yaxis": {
           "automargin": true,
           "gridcolor": "white",
           "linecolor": "white",
           "ticks": "",
           "title": {
            "standoff": 15
           },
           "zerolinecolor": "white",
           "zerolinewidth": 2
          }
         }
        },
        "xaxis": {
         "anchor": "y",
         "domain": [
          0,
          0.18400000000000002
         ],
         "title": {
          "text": "value"
         }
        },
        "xaxis2": {
         "anchor": "y2",
         "domain": [
          0.20400000000000001,
          0.388
         ],
         "matches": "x",
         "title": {
          "text": "value"
         }
        },
        "xaxis3": {
         "anchor": "y3",
         "domain": [
          0.40800000000000003,
          0.5920000000000001
         ],
         "matches": "x",
         "title": {
          "text": "value"
         }
        },
        "xaxis4": {
         "anchor": "y4",
         "domain": [
          0.6120000000000001,
          0.7960000000000002
         ],
         "matches": "x",
         "title": {
          "text": "value"
         }
        },
        "xaxis5": {
         "anchor": "y5",
         "domain": [
          0.8160000000000001,
          1
         ],
         "matches": "x",
         "title": {
          "text": "value"
         }
        },
        "yaxis": {
         "anchor": "x",
         "domain": [
          0,
          1
         ],
         "title": {
          "text": "count"
         }
        },
        "yaxis2": {
         "anchor": "x2",
         "domain": [
          0,
          1
         ],
         "matches": "y",
         "showticklabels": false
        },
        "yaxis3": {
         "anchor": "x3",
         "domain": [
          0,
          1
         ],
         "matches": "y",
         "showticklabels": false
        },
        "yaxis4": {
         "anchor": "x4",
         "domain": [
          0,
          1
         ],
         "matches": "y",
         "showticklabels": false
        },
        "yaxis5": {
         "anchor": "x5",
         "domain": [
          0,
          1
         ],
         "matches": "y",
         "showticklabels": false
        }
       }
      },
      "text/html": [
       "<div>                            <div id=\"2ac06bef-7f2f-460f-b560-7b57f68b624a\" class=\"plotly-graph-div\" style=\"height:525px; width:100%;\"></div>            <script type=\"text/javascript\">                require([\"plotly\"], function(Plotly) {                    window.PLOTLYENV=window.PLOTLYENV || {};                                    if (document.getElementById(\"2ac06bef-7f2f-460f-b560-7b57f68b624a\")) {                    Plotly.newPlot(                        \"2ac06bef-7f2f-460f-b560-7b57f68b624a\",                        [{\"alignmentgroup\":\"True\",\"bingroup\":\"x\",\"hovertemplate\":\"Country=North America<br>value=%{x}<br>count=%{y}<extra></extra>\",\"legendgroup\":\"North America\",\"marker\":{\"color\":\"#636efa\",\"pattern\":{\"shape\":\"\"}},\"name\":\"North America\",\"offsetgroup\":\"North America\",\"orientation\":\"v\",\"showlegend\":true,\"type\":\"histogram\",\"x\":[45,28,41,62,37,36,32,44,29,19,36,39,32,48,29,34,33,49,42,27,29,35,33,30,31,32,31,20,42,31,20,33,39,41,29,30,39,24,44,32,43,30,32,27,34,29,30,33,46,28,33,47,26,58,31,37,39,33,28,28,31,43,30,29,40,41,30,46,26,57,38,38,30,68,30,35,30,49,41,38,25,29,35,34,44,34,30,26,45,39,33,39,32,65,43,42,44,44,51,35,57,32,41,30,34,29,48,43,39,43,32,33,34,27,43,35,35,36,36,30,28,27,32,32,58,30,27,27,44,44,41,49,33,34,30,41,28,35,42,31,27,38,29,27,43,55,37,33,28,36,29,30,39,25,29,41,37,30,40,60,37,44,35,32,35,27,32,37,33,39,24,28,27,36,30,38,47,32,37,44,55,41,36,31,36,42,45,36,34,43,41,41,25,26,28,28,28,33,35,39,28,31,25,42,31,42,41,30,33,31,40,31,32,48,38,34,33,35,32,39,41,28,25,37,38,36,42,48,33,46,28,36,32,36,32,40,40,32,38,29,38,62,31,28,30,34,30,40,26,41,38,34,28,21,46,35,27,34,35,57,36,37,36,32,41,26,28,31,29,28,43,29,43,35,34,22,28,30,37,28,39,34,55,39,48,28,36,44,43,36,28,27,30,31,36,36,33,38,39,26,26,52,37,41,34,31,26,35,31,30,29,32,38,35,33,31,25,44,44,30,44,33,29,31,44,29,42,35,47,48,39,26,27,35,40,34,27,34,40,47,38,48,34,45,44,43,34,51,52,33,40,38,30,44,46],\"xaxis\":\"x\",\"yaxis\":\"y\"},{\"alignmentgroup\":\"True\",\"bingroup\":\"x\",\"hovertemplate\":\"Country=Europe<br>value=%{x}<br>count=%{y}<extra></extra>\",\"legendgroup\":\"Europe\",\"marker\":{\"color\":\"#EF553B\",\"pattern\":{\"shape\":\"\"}},\"name\":\"Europe\",\"offsetgroup\":\"Europe\",\"orientation\":\"v\",\"showlegend\":true,\"type\":\"histogram\",\"x\":[36,27,26,27,36,39,32,28,29,24,35,49,26,42,42,33,41,50,36,35,33,36,27,27,38,34,27,33,40,38,36,25,37,27,29,25,36,49,26,48,50,30,42,33,36,33,48,39,34,31,38,33,47,38,63,38,31,43,34,27,37,35,37,43,38,41,49,35,37,41,26,29,39,44,48,21,44,42,26,51,23,37,36,42,39,35,28,36,27,38,35,51,39,26,36,30,42,39,32,33,30,34,35,35,28,34,29,33,51,26,43,33,39,26,36,32,38,27,27,44,36,46,45,49,31,49,50,33,33,35,41,35,44,40,52,35,42,31,39,35,54,47,40,54,34,26,40,37,41,37,46,36,31,81,43,29,26,47,29,49,41,43,27,41,37,33,45,32,33,32,34,34,39,35,40,31,32,45,40,30,37,28,37,37,49,44,27,37,68,38,39,34,34,36,40,27,39,33,29,33,35,30,34,43,43,33,41,31,31,43,31,31,29,43,34,32,44,44,46,25,39,51,44,32,41,41,46,31,50,40,36,31,32,36,40,36,24,32,28,40,33,38,34,27,35,32,35,28,34,36,34,33,29,36,50,46,37,34,34,28,39,37,38,31,38,41,28,44,25,42,34,42,34,33,35,33,43,38,56,37,31,51,40,33,33,30,33,38,26,29,33,32,36,37,31,41,34,32,41,29,37,35,35,37,42,43,39,34,38,41,35,27,42,40,30,34,42,41,29,35,34],\"xaxis\":\"x2\",\"yaxis\":\"y2\"},{\"alignmentgroup\":\"True\",\"bingroup\":\"x\",\"hovertemplate\":\"Country=Korea<br>value=%{x}<br>count=%{y}<extra></extra>\",\"legendgroup\":\"Korea\",\"marker\":{\"color\":\"#00cc96\",\"pattern\":{\"shape\":\"\"}},\"name\":\"Korea\",\"offsetgroup\":\"Korea\",\"orientation\":\"v\",\"showlegend\":true,\"type\":\"histogram\",\"x\":[30,43,40,39,45,32,37,33,42,36,31,22,44,51,51,42,34,52,37,39,32,40,44,24,44,34,40,48,33,34,40,62,35,36,57,34,28,41,41,43,49,29,38,43,26,36,48,33,50,46,44,30,29,52,48,30,40,52,26,44,36,30,32,34,30,58,36,44,56,29,52,39,32,36,26,43,31,34,48,33,56,40,38,33,57,28,38,30,36,31,37,47,57,38,35,34,36,33,30,31,25,25,33,24,43,36,45,30,41,40,50,41,58,51,31,38,26,36,40,47,39,35,35,35,33,50,27,30,36,37,31,36,32,29,54,37,39,30,31,31,39,35,35,50,71,57,36,40,42,28,29,34,34,37,50,63,58,30,29,38,44,27,33,33,45,39,28,27,48,38,44,36,46,34,30,38,43,26,43,54,32,34,30,38,23,41,44,35,32,39,35,30,38,41,30,40,28,29,46,44,31,39,38,33,41,33,27,34,29,31,40,42,41,57,42,36,57,39,32,47,45,33,52,34,35,36,28,59,43,33,31,40,29,40,32,41,27,36,29,29,50,30,35,42,51,34,35,41,61,47,40,50,46,36,43,35,39,32,42,43,34,34,48,36,32,39,22,30,45,41,40,42,28,70,38,60,37,35,33,41,43,29,33,30,45,42,40,36,39,37,56,27,36,32,32,31,38,43,46,44,43,43,35,38,53,35,38,59,45,70,40,53,31,28,29,39,34,40,43,38,34,36,29,39,34,47,46,44,44,47,35,45,25,29,32,39,29,37,27,42,31,37,40,39,40,33,31,38,31,31,34,33,55,39,38,43,33,32,35,35,38,43,31,35,31,39,40,40,38,38,31,29,43,56,42,36,40,42,35,40,32,34,43,30,32,43,45,56,43,53,42,29,40,29,33,44,30,38,41,51,39,34,54,43,29,37,39,30,41,27,33,69,58,39,32,32,39,39,33,41,41,30,56,40,35,44,35,36,46,46,61,45,30,28,29,39,38,50,37,35,46,35,43,42,26,34,41,48,29,40,34,38,42],\"xaxis\":\"x3\",\"yaxis\":\"y3\"},{\"alignmentgroup\":\"True\",\"bingroup\":\"x\",\"hovertemplate\":\"Country=Brazil<br>value=%{x}<br>count=%{y}<extra></extra>\",\"legendgroup\":\"Brazil\",\"marker\":{\"color\":\"#ab63fa\",\"pattern\":{\"shape\":\"\"}},\"name\":\"Brazil\",\"offsetgroup\":\"Brazil\",\"orientation\":\"v\",\"showlegend\":true,\"type\":\"histogram\",\"x\":[32,29,74,43,45,45,25,45,41,47,34,33,55,50,57,32,28,45,23,44,49,44,47,50,42,42,32,57,38,29,48,40,58,61,32,48,40,52,31,52,43,34,23,45,43,51,32,46,39,29,52,42,44,45,44,35,30,38,23,30,59,31,43,28,45,36,45,30,50,39,27,48,49,34,35,45,38,35,33,53,37,30,45,62,57,46,35,48,25,47,50,31,30,47,40,40,41,29,49,41,52,37,37,31,56,43,37,33,44,37,40,54,50,35,63,41,39,44,41,34,43,39,32,29,35,51,42,35,37,43,44,62,36,52,30,35,39,33,52,50,31,38,32,46,43,47],\"xaxis\":\"x4\",\"yaxis\":\"y4\"},{\"alignmentgroup\":\"True\",\"bingroup\":\"x\",\"hovertemplate\":\"Country=Turkey<br>value=%{x}<br>count=%{y}<extra></extra>\",\"legendgroup\":\"Turkey\",\"marker\":{\"color\":\"#FFA15A\",\"pattern\":{\"shape\":\"\"}},\"name\":\"Turkey\",\"offsetgroup\":\"Turkey\",\"orientation\":\"v\",\"showlegend\":true,\"type\":\"histogram\",\"x\":[39,44,36,39,42,26,36,36,30,45,42,25,34,31,43,31,41,45,33,34,37,28,33,32,31,47,46,41,45,37,31,42,32,33,45,33,29,28,35,42,38,33,40,35,34,35,25,46,42,29,28,30,47,49,32,40,26,37,42,38,37,31,30,52,28,30,31,33,48,27,43,34,49,38,34,70,35,36,34,38,26,36,55,37,36,40,32,32,32,50,36,31,29,31,31,26,35,37,30,47,39,39,38,39,34,36,32,32,38,32,32,33,33,34,21,31,33,40,39,24,37,44,43,30,31,33,54,43,39,30,38,27,34,31,42,31,29,29,40,33,50,44,52,51,29,41,40,41,50,39,34,54,45,28,34,36,22,27,38,34,51,53,42,50,42,29,43,44,47,31,46,36,31,31,37,31,39,50,46,32,35,44,41,55,38,40,43,30,38,32,31,26,41,39,44,35,38,31,36,32,31,75,39,33,24,42,43,28,25,27,41,46,27],\"xaxis\":\"x5\",\"yaxis\":\"y5\"}],                        {\"annotations\":[{\"font\":{},\"showarrow\":false,\"text\":\"Country=North America\",\"x\":0.09200000000000001,\"xanchor\":\"center\",\"xref\":\"paper\",\"y\":1.0,\"yanchor\":\"bottom\",\"yref\":\"paper\"},{\"font\":{},\"showarrow\":false,\"text\":\"Country=Europe\",\"x\":0.29600000000000004,\"xanchor\":\"center\",\"xref\":\"paper\",\"y\":1.0,\"yanchor\":\"bottom\",\"yref\":\"paper\"},{\"font\":{},\"showarrow\":false,\"text\":\"Country=Korea\",\"x\":0.5,\"xanchor\":\"center\",\"xref\":\"paper\",\"y\":1.0,\"yanchor\":\"bottom\",\"yref\":\"paper\"},{\"font\":{},\"showarrow\":false,\"text\":\"Country=Brazil\",\"x\":0.7040000000000002,\"xanchor\":\"center\",\"xref\":\"paper\",\"y\":1.0,\"yanchor\":\"bottom\",\"yref\":\"paper\"},{\"font\":{},\"showarrow\":false,\"text\":\"Country=Turkey\",\"x\":0.908,\"xanchor\":\"center\",\"xref\":\"paper\",\"y\":1.0,\"yanchor\":\"bottom\",\"yref\":\"paper\"}],\"barmode\":\"relative\",\"legend\":{\"title\":{\"text\":\"Country\"},\"tracegroupgap\":0},\"margin\":{\"t\":60},\"template\":{\"data\":{\"bar\":[{\"error_x\":{\"color\":\"#2a3f5f\"},\"error_y\":{\"color\":\"#2a3f5f\"},\"marker\":{\"line\":{\"color\":\"#E5ECF6\",\"width\":0.5},\"pattern\":{\"fillmode\":\"overlay\",\"size\":10,\"solidity\":0.2}},\"type\":\"bar\"}],\"barpolar\":[{\"marker\":{\"line\":{\"color\":\"#E5ECF6\",\"width\":0.5},\"pattern\":{\"fillmode\":\"overlay\",\"size\":10,\"solidity\":0.2}},\"type\":\"barpolar\"}],\"carpet\":[{\"aaxis\":{\"endlinecolor\":\"#2a3f5f\",\"gridcolor\":\"white\",\"linecolor\":\"white\",\"minorgridcolor\":\"white\",\"startlinecolor\":\"#2a3f5f\"},\"baxis\":{\"endlinecolor\":\"#2a3f5f\",\"gridcolor\":\"white\",\"linecolor\":\"white\",\"minorgridcolor\":\"white\",\"startlinecolor\":\"#2a3f5f\"},\"type\":\"carpet\"}],\"choropleth\":[{\"colorbar\":{\"outlinewidth\":0,\"ticks\":\"\"},\"type\":\"choropleth\"}],\"contour\":[{\"colorbar\":{\"outlinewidth\":0,\"ticks\":\"\"},\"colorscale\":[[0.0,\"#0d0887\"],[0.1111111111111111,\"#46039f\"],[0.2222222222222222,\"#7201a8\"],[0.3333333333333333,\"#9c179e\"],[0.4444444444444444,\"#bd3786\"],[0.5555555555555556,\"#d8576b\"],[0.6666666666666666,\"#ed7953\"],[0.7777777777777778,\"#fb9f3a\"],[0.8888888888888888,\"#fdca26\"],[1.0,\"#f0f921\"]],\"type\":\"contour\"}],\"contourcarpet\":[{\"colorbar\":{\"outlinewidth\":0,\"ticks\":\"\"},\"type\":\"contourcarpet\"}],\"heatmap\":[{\"colorbar\":{\"outlinewidth\":0,\"ticks\":\"\"},\"colorscale\":[[0.0,\"#0d0887\"],[0.1111111111111111,\"#46039f\"],[0.2222222222222222,\"#7201a8\"],[0.3333333333333333,\"#9c179e\"],[0.4444444444444444,\"#bd3786\"],[0.5555555555555556,\"#d8576b\"],[0.6666666666666666,\"#ed7953\"],[0.7777777777777778,\"#fb9f3a\"],[0.8888888888888888,\"#fdca26\"],[1.0,\"#f0f921\"]],\"type\":\"heatmap\"}],\"heatmapgl\":[{\"colorbar\":{\"outlinewidth\":0,\"ticks\":\"\"},\"colorscale\":[[0.0,\"#0d0887\"],[0.1111111111111111,\"#46039f\"],[0.2222222222222222,\"#7201a8\"],[0.3333333333333333,\"#9c179e\"],[0.4444444444444444,\"#bd3786\"],[0.5555555555555556,\"#d8576b\"],[0.6666666666666666,\"#ed7953\"],[0.7777777777777778,\"#fb9f3a\"],[0.8888888888888888,\"#fdca26\"],[1.0,\"#f0f921\"]],\"type\":\"heatmapgl\"}],\"histogram\":[{\"marker\":{\"pattern\":{\"fillmode\":\"overlay\",\"size\":10,\"solidity\":0.2}},\"type\":\"histogram\"}],\"histogram2d\":[{\"colorbar\":{\"outlinewidth\":0,\"ticks\":\"\"},\"colorscale\":[[0.0,\"#0d0887\"],[0.1111111111111111,\"#46039f\"],[0.2222222222222222,\"#7201a8\"],[0.3333333333333333,\"#9c179e\"],[0.4444444444444444,\"#bd3786\"],[0.5555555555555556,\"#d8576b\"],[0.6666666666666666,\"#ed7953\"],[0.7777777777777778,\"#fb9f3a\"],[0.8888888888888888,\"#fdca26\"],[1.0,\"#f0f921\"]],\"type\":\"histogram2d\"}],\"histogram2dcontour\":[{\"colorbar\":{\"outlinewidth\":0,\"ticks\":\"\"},\"colorscale\":[[0.0,\"#0d0887\"],[0.1111111111111111,\"#46039f\"],[0.2222222222222222,\"#7201a8\"],[0.3333333333333333,\"#9c179e\"],[0.4444444444444444,\"#bd3786\"],[0.5555555555555556,\"#d8576b\"],[0.6666666666666666,\"#ed7953\"],[0.7777777777777778,\"#fb9f3a\"],[0.8888888888888888,\"#fdca26\"],[1.0,\"#f0f921\"]],\"type\":\"histogram2dcontour\"}],\"mesh3d\":[{\"colorbar\":{\"outlinewidth\":0,\"ticks\":\"\"},\"type\":\"mesh3d\"}],\"parcoords\":[{\"line\":{\"colorbar\":{\"outlinewidth\":0,\"ticks\":\"\"}},\"type\":\"parcoords\"}],\"pie\":[{\"automargin\":true,\"type\":\"pie\"}],\"scatter\":[{\"marker\":{\"colorbar\":{\"outlinewidth\":0,\"ticks\":\"\"}},\"type\":\"scatter\"}],\"scatter3d\":[{\"line\":{\"colorbar\":{\"outlinewidth\":0,\"ticks\":\"\"}},\"marker\":{\"colorbar\":{\"outlinewidth\":0,\"ticks\":\"\"}},\"type\":\"scatter3d\"}],\"scattercarpet\":[{\"marker\":{\"colorbar\":{\"outlinewidth\":0,\"ticks\":\"\"}},\"type\":\"scattercarpet\"}],\"scattergeo\":[{\"marker\":{\"colorbar\":{\"outlinewidth\":0,\"ticks\":\"\"}},\"type\":\"scattergeo\"}],\"scattergl\":[{\"marker\":{\"colorbar\":{\"outlinewidth\":0,\"ticks\":\"\"}},\"type\":\"scattergl\"}],\"scattermapbox\":[{\"marker\":{\"colorbar\":{\"outlinewidth\":0,\"ticks\":\"\"}},\"type\":\"scattermapbox\"}],\"scatterpolar\":[{\"marker\":{\"colorbar\":{\"outlinewidth\":0,\"ticks\":\"\"}},\"type\":\"scatterpolar\"}],\"scatterpolargl\":[{\"marker\":{\"colorbar\":{\"outlinewidth\":0,\"ticks\":\"\"}},\"type\":\"scatterpolargl\"}],\"scatterternary\":[{\"marker\":{\"colorbar\":{\"outlinewidth\":0,\"ticks\":\"\"}},\"type\":\"scatterternary\"}],\"surface\":[{\"colorbar\":{\"outlinewidth\":0,\"ticks\":\"\"},\"colorscale\":[[0.0,\"#0d0887\"],[0.1111111111111111,\"#46039f\"],[0.2222222222222222,\"#7201a8\"],[0.3333333333333333,\"#9c179e\"],[0.4444444444444444,\"#bd3786\"],[0.5555555555555556,\"#d8576b\"],[0.6666666666666666,\"#ed7953\"],[0.7777777777777778,\"#fb9f3a\"],[0.8888888888888888,\"#fdca26\"],[1.0,\"#f0f921\"]],\"type\":\"surface\"}],\"table\":[{\"cells\":{\"fill\":{\"color\":\"#EBF0F8\"},\"line\":{\"color\":\"white\"}},\"header\":{\"fill\":{\"color\":\"#C8D4E3\"},\"line\":{\"color\":\"white\"}},\"type\":\"table\"}]},\"layout\":{\"annotationdefaults\":{\"arrowcolor\":\"#2a3f5f\",\"arrowhead\":0,\"arrowwidth\":1},\"autotypenumbers\":\"strict\",\"coloraxis\":{\"colorbar\":{\"outlinewidth\":0,\"ticks\":\"\"}},\"colorscale\":{\"diverging\":[[0,\"#8e0152\"],[0.1,\"#c51b7d\"],[0.2,\"#de77ae\"],[0.3,\"#f1b6da\"],[0.4,\"#fde0ef\"],[0.5,\"#f7f7f7\"],[0.6,\"#e6f5d0\"],[0.7,\"#b8e186\"],[0.8,\"#7fbc41\"],[0.9,\"#4d9221\"],[1,\"#276419\"]],\"sequential\":[[0.0,\"#0d0887\"],[0.1111111111111111,\"#46039f\"],[0.2222222222222222,\"#7201a8\"],[0.3333333333333333,\"#9c179e\"],[0.4444444444444444,\"#bd3786\"],[0.5555555555555556,\"#d8576b\"],[0.6666666666666666,\"#ed7953\"],[0.7777777777777778,\"#fb9f3a\"],[0.8888888888888888,\"#fdca26\"],[1.0,\"#f0f921\"]],\"sequentialminus\":[[0.0,\"#0d0887\"],[0.1111111111111111,\"#46039f\"],[0.2222222222222222,\"#7201a8\"],[0.3333333333333333,\"#9c179e\"],[0.4444444444444444,\"#bd3786\"],[0.5555555555555556,\"#d8576b\"],[0.6666666666666666,\"#ed7953\"],[0.7777777777777778,\"#fb9f3a\"],[0.8888888888888888,\"#fdca26\"],[1.0,\"#f0f921\"]]},\"colorway\":[\"#636efa\",\"#EF553B\",\"#00cc96\",\"#ab63fa\",\"#FFA15A\",\"#19d3f3\",\"#FF6692\",\"#B6E880\",\"#FF97FF\",\"#FECB52\"],\"font\":{\"color\":\"#2a3f5f\"},\"geo\":{\"bgcolor\":\"white\",\"lakecolor\":\"white\",\"landcolor\":\"#E5ECF6\",\"showlakes\":true,\"showland\":true,\"subunitcolor\":\"white\"},\"hoverlabel\":{\"align\":\"left\"},\"hovermode\":\"closest\",\"mapbox\":{\"style\":\"light\"},\"paper_bgcolor\":\"white\",\"plot_bgcolor\":\"#E5ECF6\",\"polar\":{\"angularaxis\":{\"gridcolor\":\"white\",\"linecolor\":\"white\",\"ticks\":\"\"},\"bgcolor\":\"#E5ECF6\",\"radialaxis\":{\"gridcolor\":\"white\",\"linecolor\":\"white\",\"ticks\":\"\"}},\"scene\":{\"xaxis\":{\"backgroundcolor\":\"#E5ECF6\",\"gridcolor\":\"white\",\"gridwidth\":2,\"linecolor\":\"white\",\"showbackground\":true,\"ticks\":\"\",\"zerolinecolor\":\"white\"},\"yaxis\":{\"backgroundcolor\":\"#E5ECF6\",\"gridcolor\":\"white\",\"gridwidth\":2,\"linecolor\":\"white\",\"showbackground\":true,\"ticks\":\"\",\"zerolinecolor\":\"white\"},\"zaxis\":{\"backgroundcolor\":\"#E5ECF6\",\"gridcolor\":\"white\",\"gridwidth\":2,\"linecolor\":\"white\",\"showbackground\":true,\"ticks\":\"\",\"zerolinecolor\":\"white\"}},\"shapedefaults\":{\"line\":{\"color\":\"#2a3f5f\"}},\"ternary\":{\"aaxis\":{\"gridcolor\":\"white\",\"linecolor\":\"white\",\"ticks\":\"\"},\"baxis\":{\"gridcolor\":\"white\",\"linecolor\":\"white\",\"ticks\":\"\"},\"bgcolor\":\"#E5ECF6\",\"caxis\":{\"gridcolor\":\"white\",\"linecolor\":\"white\",\"ticks\":\"\"}},\"title\":{\"x\":0.05},\"xaxis\":{\"automargin\":true,\"gridcolor\":\"white\",\"linecolor\":\"white\",\"ticks\":\"\",\"title\":{\"standoff\":15},\"zerolinecolor\":\"white\",\"zerolinewidth\":2},\"yaxis\":{\"automargin\":true,\"gridcolor\":\"white\",\"linecolor\":\"white\",\"ticks\":\"\",\"title\":{\"standoff\":15},\"zerolinecolor\":\"white\",\"zerolinewidth\":2}}},\"xaxis\":{\"anchor\":\"y\",\"domain\":[0.0,0.18400000000000002],\"title\":{\"text\":\"value\"}},\"xaxis2\":{\"anchor\":\"y2\",\"domain\":[0.20400000000000001,0.388],\"matches\":\"x\",\"title\":{\"text\":\"value\"}},\"xaxis3\":{\"anchor\":\"y3\",\"domain\":[0.40800000000000003,0.5920000000000001],\"matches\":\"x\",\"title\":{\"text\":\"value\"}},\"xaxis4\":{\"anchor\":\"y4\",\"domain\":[0.6120000000000001,0.7960000000000002],\"matches\":\"x\",\"title\":{\"text\":\"value\"}},\"xaxis5\":{\"anchor\":\"y5\",\"domain\":[0.8160000000000001,1.0],\"matches\":\"x\",\"title\":{\"text\":\"value\"}},\"yaxis\":{\"anchor\":\"x\",\"domain\":[0.0,1.0],\"title\":{\"text\":\"count\"}},\"yaxis2\":{\"anchor\":\"x2\",\"domain\":[0.0,1.0],\"matches\":\"y\",\"showticklabels\":false},\"yaxis3\":{\"anchor\":\"x3\",\"domain\":[0.0,1.0],\"matches\":\"y\",\"showticklabels\":false},\"yaxis4\":{\"anchor\":\"x4\",\"domain\":[0.0,1.0],\"matches\":\"y\",\"showticklabels\":false},\"yaxis5\":{\"anchor\":\"x5\",\"domain\":[0.0,1.0],\"matches\":\"y\",\"showticklabels\":false}},                        {\"responsive\": true}                    ).then(function(){\n",
       "                            \n",
       "var gd = document.getElementById('2ac06bef-7f2f-460f-b560-7b57f68b624a');\n",
       "var x = new MutationObserver(function (mutations, observer) {{\n",
       "        var display = window.getComputedStyle(gd).display;\n",
       "        if (!display || display === 'none') {{\n",
       "            console.log([gd, 'removed!']);\n",
       "            Plotly.purge(gd);\n",
       "            observer.disconnect();\n",
       "        }}\n",
       "}});\n",
       "\n",
       "// Listen for the removal of the full notebook cells\n",
       "var notebookContainer = gd.closest('#notebook-container');\n",
       "if (notebookContainer) {{\n",
       "    x.observe(notebookContainer, {childList: true});\n",
       "}}\n",
       "\n",
       "// Listen for the clearing of the current output cell\n",
       "var outputEl = gd.closest('.output');\n",
       "if (outputEl) {{\n",
       "    x.observe(outputEl, {childList: true});\n",
       "}}\n",
       "\n",
       "                        })                };                });            </script>        </div>"
      ]
     },
     "metadata": {},
     "output_type": "display_data"
    }
   ],
   "source": [
    "px.histogram(df_length[df_length['Year']==2016], x=['gamelength'],facet_col=\"Country\", color = \"Country\")"
   ]
  },
  {
   "cell_type": "code",
   "execution_count": 370,
   "metadata": {},
   "outputs": [
    {
     "data": {
      "application/vnd.plotly.v1+json": {
       "config": {
        "plotlyServerURL": "https://plot.ly"
       },
       "data": [
        {
         "alignmentgroup": "True",
         "bingroup": "x",
         "hovertemplate": "Country=North America<br>duration of the game (in minutes)=%{x}<br>count=%{y}<extra></extra>",
         "legendgroup": "North America",
         "marker": {
          "color": "#636efa",
          "pattern": {
           "shape": ""
          }
         },
         "name": "North America",
         "offsetgroup": "North America",
         "orientation": "v",
         "showlegend": true,
         "type": "histogram",
         "x": [
          40,
          38,
          40,
          41,
          35,
          24,
          39,
          43,
          41,
          32,
          52,
          46,
          38,
          31,
          33,
          38,
          40,
          39,
          40,
          39,
          49,
          35,
          36,
          43,
          32,
          31,
          36,
          41,
          31,
          30,
          45,
          42,
          27,
          35,
          43,
          37,
          40,
          46,
          48,
          39,
          40,
          49,
          37,
          35,
          24,
          44,
          54,
          47,
          33,
          30,
          34,
          49,
          29,
          33,
          29,
          33,
          30,
          42,
          55,
          38,
          51,
          36,
          46,
          40,
          46,
          46,
          37,
          29,
          45,
          31,
          31,
          33,
          37,
          38,
          45,
          40,
          42,
          47,
          42,
          37,
          45,
          34,
          36,
          36,
          42,
          35,
          40,
          33,
          34,
          34,
          46,
          28,
          46,
          44,
          33,
          34,
          43,
          42,
          35,
          40,
          35,
          43,
          33,
          36,
          43,
          38,
          50,
          37,
          33,
          40,
          48,
          44,
          39,
          44,
          40,
          30,
          31,
          31,
          48,
          36,
          36,
          49,
          40,
          39,
          42,
          34,
          36,
          51,
          48,
          48,
          36,
          54,
          44,
          37,
          41,
          38,
          30,
          49,
          29,
          39,
          36,
          49,
          32,
          55,
          42,
          28,
          38,
          43,
          40,
          41,
          29,
          40,
          43,
          29,
          40,
          40,
          34,
          39,
          25,
          45,
          40,
          41,
          29,
          40,
          38,
          57,
          52,
          27,
          51,
          36,
          37,
          49,
          42,
          30,
          35,
          58,
          38,
          32,
          28,
          32,
          33,
          60,
          33,
          29,
          36,
          40,
          35,
          33,
          26,
          43,
          32,
          26,
          41,
          33,
          39,
          42,
          32,
          39,
          42,
          30,
          30,
          38,
          42,
          41,
          30,
          37,
          34,
          43,
          35,
          33,
          41,
          38,
          38,
          40,
          47,
          32,
          30,
          44,
          40,
          28,
          54,
          56,
          44,
          38,
          41,
          38,
          33,
          37,
          40,
          32,
          35
         ],
         "xaxis": "x",
         "yaxis": "y"
        },
        {
         "alignmentgroup": "True",
         "bingroup": "x",
         "hovertemplate": "Country=Europe<br>duration of the game (in minutes)=%{x}<br>count=%{y}<extra></extra>",
         "legendgroup": "Europe",
         "marker": {
          "color": "#EF553B",
          "pattern": {
           "shape": ""
          }
         },
         "name": "Europe",
         "offsetgroup": "Europe",
         "orientation": "v",
         "showlegend": true,
         "type": "histogram",
         "x": [
          36,
          28,
          50,
          40,
          27,
          38,
          38,
          46,
          34,
          34,
          30,
          30,
          53,
          38,
          38,
          43,
          28,
          64,
          38,
          44,
          40,
          45,
          36,
          41,
          60,
          33,
          52,
          45,
          43,
          36,
          51,
          31,
          38,
          32,
          37,
          31,
          42,
          47,
          49,
          46,
          43,
          43,
          44,
          43,
          41,
          39,
          31,
          49,
          41,
          39,
          31,
          30,
          35,
          36,
          34,
          42,
          38,
          33,
          53,
          49,
          47,
          39,
          68,
          39,
          32,
          43,
          49,
          28,
          24,
          41,
          42,
          27,
          35,
          47,
          38,
          45,
          39,
          37,
          30,
          27,
          59,
          32,
          38,
          38,
          34,
          41,
          33,
          43,
          42,
          31,
          47,
          37,
          37,
          37,
          34,
          33,
          28,
          39,
          41,
          44,
          29,
          38,
          41,
          31,
          40,
          28,
          43,
          36,
          55,
          28,
          29,
          28,
          40,
          42,
          37,
          48,
          29,
          32,
          26,
          36,
          35,
          30,
          39,
          42,
          42,
          27,
          40,
          31,
          31,
          30,
          49,
          39,
          43,
          36,
          36,
          56,
          37,
          35,
          32,
          44,
          46,
          35,
          54,
          46,
          50,
          39,
          44,
          40,
          33,
          36,
          45,
          38,
          44,
          29,
          38,
          30,
          40,
          41,
          38,
          40,
          29,
          33,
          40,
          26,
          40,
          37,
          47,
          49,
          41,
          35,
          32,
          42,
          42,
          30,
          44,
          64,
          47,
          37,
          48,
          39,
          24,
          48,
          35,
          48,
          33,
          38,
          32,
          40,
          36,
          32,
          36,
          40,
          33,
          26,
          35,
          39,
          30,
          38,
          54,
          30,
          45,
          39,
          37,
          28,
          29,
          43,
          37,
          29,
          40,
          30,
          29,
          31,
          43,
          48,
          47,
          60,
          49,
          36,
          42,
          33,
          31,
          27,
          32,
          28,
          48,
          39,
          31,
          32,
          33,
          35,
          53,
          45
         ],
         "xaxis": "x2",
         "yaxis": "y2"
        },
        {
         "alignmentgroup": "True",
         "bingroup": "x",
         "hovertemplate": "Country=Korea<br>duration of the game (in minutes)=%{x}<br>count=%{y}<extra></extra>",
         "legendgroup": "Korea",
         "marker": {
          "color": "#00cc96",
          "pattern": {
           "shape": ""
          }
         },
         "name": "Korea",
         "offsetgroup": "Korea",
         "orientation": "v",
         "showlegend": true,
         "type": "histogram",
         "x": [
          27,
          33,
          35,
          44,
          32,
          31,
          72,
          35,
          36,
          31,
          54,
          34,
          36,
          31,
          44,
          40,
          46,
          45,
          41,
          41,
          44,
          46,
          32,
          37,
          37,
          41,
          40,
          34,
          41,
          57,
          34,
          41,
          56,
          43,
          38,
          52,
          34,
          30,
          35,
          30,
          65,
          49,
          46,
          35,
          38,
          30,
          31,
          52,
          62,
          34,
          42,
          36,
          38,
          51,
          47,
          40,
          56,
          33,
          49,
          39,
          34,
          81,
          49,
          41,
          30,
          38,
          47,
          37,
          62,
          47,
          38,
          49,
          48,
          47,
          44,
          39,
          50,
          38,
          40,
          37,
          59,
          59,
          49,
          36,
          36,
          39,
          45,
          48,
          51,
          36,
          61,
          36,
          41,
          41,
          39,
          54,
          38,
          45,
          50,
          37,
          34,
          36,
          52,
          39,
          34,
          40,
          34,
          34,
          58,
          47,
          37,
          47,
          42,
          43,
          48,
          32,
          32,
          40,
          43,
          41,
          26,
          26,
          31,
          26,
          35,
          35,
          34,
          28,
          58,
          34,
          31,
          32,
          33,
          48,
          35,
          40,
          36,
          48,
          43,
          36,
          34,
          36,
          37,
          26,
          38,
          39,
          36,
          41,
          49,
          58,
          26,
          39,
          54,
          53,
          34,
          39,
          31,
          34,
          49,
          43,
          45,
          36,
          37,
          31,
          44,
          44,
          33,
          30,
          49,
          38,
          39,
          36,
          35,
          39,
          49,
          36,
          38,
          44,
          33,
          44,
          35,
          47,
          42,
          56,
          43,
          26,
          36,
          57,
          44,
          36,
          33,
          42,
          40,
          32,
          31,
          34,
          48,
          42,
          38,
          40,
          29,
          36,
          48,
          37,
          38,
          40,
          37,
          51,
          34,
          46,
          41,
          35,
          40,
          32,
          48,
          40,
          48,
          35,
          34,
          40,
          48,
          42,
          30,
          46,
          33,
          35,
          33,
          41,
          35,
          40,
          32,
          46,
          41,
          36,
          38,
          37,
          56,
          37,
          45,
          45,
          34,
          36,
          48,
          29,
          48,
          48,
          38,
          35,
          37,
          40,
          60,
          50,
          37,
          46,
          55,
          40,
          52,
          58,
          50,
          23,
          36,
          41,
          37,
          32,
          46,
          55,
          43,
          35,
          36,
          39,
          33,
          44,
          41,
          40,
          35,
          50,
          47,
          53,
          52,
          30,
          35,
          34,
          39,
          39,
          40,
          47,
          45,
          30,
          52,
          40,
          34,
          31,
          37,
          45,
          30,
          33,
          43,
          42,
          46,
          33,
          41,
          30,
          32,
          33,
          35,
          44,
          28,
          30,
          34,
          44,
          37,
          45,
          38,
          36,
          43,
          44,
          42,
          27,
          36,
          52,
          45,
          51,
          42,
          30,
          43,
          47,
          50,
          45,
          37,
          44,
          41,
          42,
          37,
          41,
          50,
          46,
          53,
          41,
          34,
          38,
          32,
          36,
          55,
          37,
          32,
          41,
          38,
          42,
          50,
          35,
          37,
          26,
          33,
          36,
          34,
          51,
          28,
          44,
          28,
          47,
          51,
          38,
          35,
          33,
          32,
          42,
          45
         ],
         "xaxis": "x3",
         "yaxis": "y3"
        },
        {
         "alignmentgroup": "True",
         "bingroup": "x",
         "hovertemplate": "Country=Turkey<br>duration of the game (in minutes)=%{x}<br>count=%{y}<extra></extra>",
         "legendgroup": "Turkey",
         "marker": {
          "color": "#ab63fa",
          "pattern": {
           "shape": ""
          }
         },
         "name": "Turkey",
         "offsetgroup": "Turkey",
         "orientation": "v",
         "showlegend": true,
         "type": "histogram",
         "x": [
          48,
          25,
          34,
          48,
          34,
          26,
          41,
          42,
          39,
          25,
          32,
          32,
          42,
          24,
          26,
          32,
          34,
          25,
          43,
          23,
          24,
          33,
          30,
          42,
          42,
          32,
          37,
          43,
          25,
          54,
          32,
          31,
          25,
          35,
          40,
          43,
          39,
          28,
          49,
          33,
          34,
          29,
          41,
          35,
          32,
          25,
          33,
          28,
          43,
          28,
          34,
          28,
          42,
          43,
          45,
          48,
          42,
          39,
          50,
          29,
          28,
          44,
          30,
          42,
          34,
          32,
          30,
          28,
          27,
          31,
          48,
          27,
          40,
          41,
          47,
          35,
          42,
          36,
          41,
          41,
          44,
          33,
          38,
          32,
          42,
          52,
          37,
          24,
          33,
          36,
          35,
          42,
          31,
          29,
          36,
          56,
          30,
          36,
          37,
          44,
          33,
          33,
          38,
          40,
          35,
          41,
          32,
          48,
          45,
          38,
          44,
          29,
          34,
          36,
          38,
          34,
          42,
          29,
          32,
          57,
          35,
          33,
          46,
          33,
          34,
          29,
          35,
          25,
          30,
          29,
          35,
          46,
          32,
          33,
          40,
          27,
          39,
          44,
          49,
          41,
          45,
          41,
          38,
          48,
          43,
          35,
          41,
          31,
          42,
          38,
          41,
          34
         ],
         "xaxis": "x4",
         "yaxis": "y4"
        }
       ],
       "layout": {
        "annotations": [
         {
          "font": {},
          "showarrow": false,
          "text": "Country=North America",
          "x": 0.1175,
          "xanchor": "center",
          "xref": "paper",
          "y": 1,
          "yanchor": "bottom",
          "yref": "paper"
         },
         {
          "font": {},
          "showarrow": false,
          "text": "Country=Europe",
          "x": 0.3725,
          "xanchor": "center",
          "xref": "paper",
          "y": 1,
          "yanchor": "bottom",
          "yref": "paper"
         },
         {
          "font": {},
          "showarrow": false,
          "text": "Country=Korea",
          "x": 0.6275,
          "xanchor": "center",
          "xref": "paper",
          "y": 1,
          "yanchor": "bottom",
          "yref": "paper"
         },
         {
          "font": {},
          "showarrow": false,
          "text": "Country=Turkey",
          "x": 0.8824999999999998,
          "xanchor": "center",
          "xref": "paper",
          "y": 1,
          "yanchor": "bottom",
          "yref": "paper"
         }
        ],
        "barmode": "relative",
        "legend": {
         "title": {
          "text": "Country"
         },
         "tracegroupgap": 0
        },
        "margin": {
         "t": 60
        },
        "template": {
         "data": {
          "bar": [
           {
            "error_x": {
             "color": "#2a3f5f"
            },
            "error_y": {
             "color": "#2a3f5f"
            },
            "marker": {
             "line": {
              "color": "#E5ECF6",
              "width": 0.5
             },
             "pattern": {
              "fillmode": "overlay",
              "size": 10,
              "solidity": 0.2
             }
            },
            "type": "bar"
           }
          ],
          "barpolar": [
           {
            "marker": {
             "line": {
              "color": "#E5ECF6",
              "width": 0.5
             },
             "pattern": {
              "fillmode": "overlay",
              "size": 10,
              "solidity": 0.2
             }
            },
            "type": "barpolar"
           }
          ],
          "carpet": [
           {
            "aaxis": {
             "endlinecolor": "#2a3f5f",
             "gridcolor": "white",
             "linecolor": "white",
             "minorgridcolor": "white",
             "startlinecolor": "#2a3f5f"
            },
            "baxis": {
             "endlinecolor": "#2a3f5f",
             "gridcolor": "white",
             "linecolor": "white",
             "minorgridcolor": "white",
             "startlinecolor": "#2a3f5f"
            },
            "type": "carpet"
           }
          ],
          "choropleth": [
           {
            "colorbar": {
             "outlinewidth": 0,
             "ticks": ""
            },
            "type": "choropleth"
           }
          ],
          "contour": [
           {
            "colorbar": {
             "outlinewidth": 0,
             "ticks": ""
            },
            "colorscale": [
             [
              0,
              "#0d0887"
             ],
             [
              0.1111111111111111,
              "#46039f"
             ],
             [
              0.2222222222222222,
              "#7201a8"
             ],
             [
              0.3333333333333333,
              "#9c179e"
             ],
             [
              0.4444444444444444,
              "#bd3786"
             ],
             [
              0.5555555555555556,
              "#d8576b"
             ],
             [
              0.6666666666666666,
              "#ed7953"
             ],
             [
              0.7777777777777778,
              "#fb9f3a"
             ],
             [
              0.8888888888888888,
              "#fdca26"
             ],
             [
              1,
              "#f0f921"
             ]
            ],
            "type": "contour"
           }
          ],
          "contourcarpet": [
           {
            "colorbar": {
             "outlinewidth": 0,
             "ticks": ""
            },
            "type": "contourcarpet"
           }
          ],
          "heatmap": [
           {
            "colorbar": {
             "outlinewidth": 0,
             "ticks": ""
            },
            "colorscale": [
             [
              0,
              "#0d0887"
             ],
             [
              0.1111111111111111,
              "#46039f"
             ],
             [
              0.2222222222222222,
              "#7201a8"
             ],
             [
              0.3333333333333333,
              "#9c179e"
             ],
             [
              0.4444444444444444,
              "#bd3786"
             ],
             [
              0.5555555555555556,
              "#d8576b"
             ],
             [
              0.6666666666666666,
              "#ed7953"
             ],
             [
              0.7777777777777778,
              "#fb9f3a"
             ],
             [
              0.8888888888888888,
              "#fdca26"
             ],
             [
              1,
              "#f0f921"
             ]
            ],
            "type": "heatmap"
           }
          ],
          "heatmapgl": [
           {
            "colorbar": {
             "outlinewidth": 0,
             "ticks": ""
            },
            "colorscale": [
             [
              0,
              "#0d0887"
             ],
             [
              0.1111111111111111,
              "#46039f"
             ],
             [
              0.2222222222222222,
              "#7201a8"
             ],
             [
              0.3333333333333333,
              "#9c179e"
             ],
             [
              0.4444444444444444,
              "#bd3786"
             ],
             [
              0.5555555555555556,
              "#d8576b"
             ],
             [
              0.6666666666666666,
              "#ed7953"
             ],
             [
              0.7777777777777778,
              "#fb9f3a"
             ],
             [
              0.8888888888888888,
              "#fdca26"
             ],
             [
              1,
              "#f0f921"
             ]
            ],
            "type": "heatmapgl"
           }
          ],
          "histogram": [
           {
            "marker": {
             "pattern": {
              "fillmode": "overlay",
              "size": 10,
              "solidity": 0.2
             }
            },
            "type": "histogram"
           }
          ],
          "histogram2d": [
           {
            "colorbar": {
             "outlinewidth": 0,
             "ticks": ""
            },
            "colorscale": [
             [
              0,
              "#0d0887"
             ],
             [
              0.1111111111111111,
              "#46039f"
             ],
             [
              0.2222222222222222,
              "#7201a8"
             ],
             [
              0.3333333333333333,
              "#9c179e"
             ],
             [
              0.4444444444444444,
              "#bd3786"
             ],
             [
              0.5555555555555556,
              "#d8576b"
             ],
             [
              0.6666666666666666,
              "#ed7953"
             ],
             [
              0.7777777777777778,
              "#fb9f3a"
             ],
             [
              0.8888888888888888,
              "#fdca26"
             ],
             [
              1,
              "#f0f921"
             ]
            ],
            "type": "histogram2d"
           }
          ],
          "histogram2dcontour": [
           {
            "colorbar": {
             "outlinewidth": 0,
             "ticks": ""
            },
            "colorscale": [
             [
              0,
              "#0d0887"
             ],
             [
              0.1111111111111111,
              "#46039f"
             ],
             [
              0.2222222222222222,
              "#7201a8"
             ],
             [
              0.3333333333333333,
              "#9c179e"
             ],
             [
              0.4444444444444444,
              "#bd3786"
             ],
             [
              0.5555555555555556,
              "#d8576b"
             ],
             [
              0.6666666666666666,
              "#ed7953"
             ],
             [
              0.7777777777777778,
              "#fb9f3a"
             ],
             [
              0.8888888888888888,
              "#fdca26"
             ],
             [
              1,
              "#f0f921"
             ]
            ],
            "type": "histogram2dcontour"
           }
          ],
          "mesh3d": [
           {
            "colorbar": {
             "outlinewidth": 0,
             "ticks": ""
            },
            "type": "mesh3d"
           }
          ],
          "parcoords": [
           {
            "line": {
             "colorbar": {
              "outlinewidth": 0,
              "ticks": ""
             }
            },
            "type": "parcoords"
           }
          ],
          "pie": [
           {
            "automargin": true,
            "type": "pie"
           }
          ],
          "scatter": [
           {
            "marker": {
             "colorbar": {
              "outlinewidth": 0,
              "ticks": ""
             }
            },
            "type": "scatter"
           }
          ],
          "scatter3d": [
           {
            "line": {
             "colorbar": {
              "outlinewidth": 0,
              "ticks": ""
             }
            },
            "marker": {
             "colorbar": {
              "outlinewidth": 0,
              "ticks": ""
             }
            },
            "type": "scatter3d"
           }
          ],
          "scattercarpet": [
           {
            "marker": {
             "colorbar": {
              "outlinewidth": 0,
              "ticks": ""
             }
            },
            "type": "scattercarpet"
           }
          ],
          "scattergeo": [
           {
            "marker": {
             "colorbar": {
              "outlinewidth": 0,
              "ticks": ""
             }
            },
            "type": "scattergeo"
           }
          ],
          "scattergl": [
           {
            "marker": {
             "colorbar": {
              "outlinewidth": 0,
              "ticks": ""
             }
            },
            "type": "scattergl"
           }
          ],
          "scattermapbox": [
           {
            "marker": {
             "colorbar": {
              "outlinewidth": 0,
              "ticks": ""
             }
            },
            "type": "scattermapbox"
           }
          ],
          "scatterpolar": [
           {
            "marker": {
             "colorbar": {
              "outlinewidth": 0,
              "ticks": ""
             }
            },
            "type": "scatterpolar"
           }
          ],
          "scatterpolargl": [
           {
            "marker": {
             "colorbar": {
              "outlinewidth": 0,
              "ticks": ""
             }
            },
            "type": "scatterpolargl"
           }
          ],
          "scatterternary": [
           {
            "marker": {
             "colorbar": {
              "outlinewidth": 0,
              "ticks": ""
             }
            },
            "type": "scatterternary"
           }
          ],
          "surface": [
           {
            "colorbar": {
             "outlinewidth": 0,
             "ticks": ""
            },
            "colorscale": [
             [
              0,
              "#0d0887"
             ],
             [
              0.1111111111111111,
              "#46039f"
             ],
             [
              0.2222222222222222,
              "#7201a8"
             ],
             [
              0.3333333333333333,
              "#9c179e"
             ],
             [
              0.4444444444444444,
              "#bd3786"
             ],
             [
              0.5555555555555556,
              "#d8576b"
             ],
             [
              0.6666666666666666,
              "#ed7953"
             ],
             [
              0.7777777777777778,
              "#fb9f3a"
             ],
             [
              0.8888888888888888,
              "#fdca26"
             ],
             [
              1,
              "#f0f921"
             ]
            ],
            "type": "surface"
           }
          ],
          "table": [
           {
            "cells": {
             "fill": {
              "color": "#EBF0F8"
             },
             "line": {
              "color": "white"
             }
            },
            "header": {
             "fill": {
              "color": "#C8D4E3"
             },
             "line": {
              "color": "white"
             }
            },
            "type": "table"
           }
          ]
         },
         "layout": {
          "annotationdefaults": {
           "arrowcolor": "#2a3f5f",
           "arrowhead": 0,
           "arrowwidth": 1
          },
          "autotypenumbers": "strict",
          "coloraxis": {
           "colorbar": {
            "outlinewidth": 0,
            "ticks": ""
           }
          },
          "colorscale": {
           "diverging": [
            [
             0,
             "#8e0152"
            ],
            [
             0.1,
             "#c51b7d"
            ],
            [
             0.2,
             "#de77ae"
            ],
            [
             0.3,
             "#f1b6da"
            ],
            [
             0.4,
             "#fde0ef"
            ],
            [
             0.5,
             "#f7f7f7"
            ],
            [
             0.6,
             "#e6f5d0"
            ],
            [
             0.7,
             "#b8e186"
            ],
            [
             0.8,
             "#7fbc41"
            ],
            [
             0.9,
             "#4d9221"
            ],
            [
             1,
             "#276419"
            ]
           ],
           "sequential": [
            [
             0,
             "#0d0887"
            ],
            [
             0.1111111111111111,
             "#46039f"
            ],
            [
             0.2222222222222222,
             "#7201a8"
            ],
            [
             0.3333333333333333,
             "#9c179e"
            ],
            [
             0.4444444444444444,
             "#bd3786"
            ],
            [
             0.5555555555555556,
             "#d8576b"
            ],
            [
             0.6666666666666666,
             "#ed7953"
            ],
            [
             0.7777777777777778,
             "#fb9f3a"
            ],
            [
             0.8888888888888888,
             "#fdca26"
            ],
            [
             1,
             "#f0f921"
            ]
           ],
           "sequentialminus": [
            [
             0,
             "#0d0887"
            ],
            [
             0.1111111111111111,
             "#46039f"
            ],
            [
             0.2222222222222222,
             "#7201a8"
            ],
            [
             0.3333333333333333,
             "#9c179e"
            ],
            [
             0.4444444444444444,
             "#bd3786"
            ],
            [
             0.5555555555555556,
             "#d8576b"
            ],
            [
             0.6666666666666666,
             "#ed7953"
            ],
            [
             0.7777777777777778,
             "#fb9f3a"
            ],
            [
             0.8888888888888888,
             "#fdca26"
            ],
            [
             1,
             "#f0f921"
            ]
           ]
          },
          "colorway": [
           "#636efa",
           "#EF553B",
           "#00cc96",
           "#ab63fa",
           "#FFA15A",
           "#19d3f3",
           "#FF6692",
           "#B6E880",
           "#FF97FF",
           "#FECB52"
          ],
          "font": {
           "color": "#2a3f5f"
          },
          "geo": {
           "bgcolor": "white",
           "lakecolor": "white",
           "landcolor": "#E5ECF6",
           "showlakes": true,
           "showland": true,
           "subunitcolor": "white"
          },
          "hoverlabel": {
           "align": "left"
          },
          "hovermode": "closest",
          "mapbox": {
           "style": "light"
          },
          "paper_bgcolor": "white",
          "plot_bgcolor": "#E5ECF6",
          "polar": {
           "angularaxis": {
            "gridcolor": "white",
            "linecolor": "white",
            "ticks": ""
           },
           "bgcolor": "#E5ECF6",
           "radialaxis": {
            "gridcolor": "white",
            "linecolor": "white",
            "ticks": ""
           }
          },
          "scene": {
           "xaxis": {
            "backgroundcolor": "#E5ECF6",
            "gridcolor": "white",
            "gridwidth": 2,
            "linecolor": "white",
            "showbackground": true,
            "ticks": "",
            "zerolinecolor": "white"
           },
           "yaxis": {
            "backgroundcolor": "#E5ECF6",
            "gridcolor": "white",
            "gridwidth": 2,
            "linecolor": "white",
            "showbackground": true,
            "ticks": "",
            "zerolinecolor": "white"
           },
           "zaxis": {
            "backgroundcolor": "#E5ECF6",
            "gridcolor": "white",
            "gridwidth": 2,
            "linecolor": "white",
            "showbackground": true,
            "ticks": "",
            "zerolinecolor": "white"
           }
          },
          "shapedefaults": {
           "line": {
            "color": "#2a3f5f"
           }
          },
          "ternary": {
           "aaxis": {
            "gridcolor": "white",
            "linecolor": "white",
            "ticks": ""
           },
           "baxis": {
            "gridcolor": "white",
            "linecolor": "white",
            "ticks": ""
           },
           "bgcolor": "#E5ECF6",
           "caxis": {
            "gridcolor": "white",
            "linecolor": "white",
            "ticks": ""
           }
          },
          "title": {
           "x": 0.05
          },
          "xaxis": {
           "automargin": true,
           "gridcolor": "white",
           "linecolor": "white",
           "ticks": "",
           "title": {
            "standoff": 15
           },
           "zerolinecolor": "white",
           "zerolinewidth": 2
          },
          "yaxis": {
           "automargin": true,
           "gridcolor": "white",
           "linecolor": "white",
           "ticks": "",
           "title": {
            "standoff": 15
           },
           "zerolinecolor": "white",
           "zerolinewidth": 2
          }
         }
        },
        "xaxis": {
         "anchor": "y",
         "domain": [
          0,
          0.235
         ],
         "title": {
          "text": "duration of the game (in minutes)"
         }
        },
        "xaxis2": {
         "anchor": "y2",
         "domain": [
          0.255,
          0.49
         ],
         "matches": "x",
         "title": {
          "text": "duration of the game (in minutes)"
         }
        },
        "xaxis3": {
         "anchor": "y3",
         "domain": [
          0.51,
          0.745
         ],
         "matches": "x",
         "title": {
          "text": "duration of the game (in minutes)"
         }
        },
        "xaxis4": {
         "anchor": "y4",
         "domain": [
          0.7649999999999999,
          0.9999999999999999
         ],
         "matches": "x",
         "title": {
          "text": "duration of the game (in minutes)"
         }
        },
        "yaxis": {
         "anchor": "x",
         "domain": [
          0,
          1
         ],
         "title": {
          "text": "count"
         }
        },
        "yaxis2": {
         "anchor": "x2",
         "domain": [
          0,
          1
         ],
         "matches": "y",
         "showticklabels": false
        },
        "yaxis3": {
         "anchor": "x3",
         "domain": [
          0,
          1
         ],
         "matches": "y",
         "showticklabels": false
        },
        "yaxis4": {
         "anchor": "x4",
         "domain": [
          0,
          1
         ],
         "matches": "y",
         "showticklabels": false
        }
       }
      },
      "text/html": [
       "<div>                            <div id=\"b71fca64-2979-4115-96a5-95ea0bb35761\" class=\"plotly-graph-div\" style=\"height:525px; width:100%;\"></div>            <script type=\"text/javascript\">                require([\"plotly\"], function(Plotly) {                    window.PLOTLYENV=window.PLOTLYENV || {};                                    if (document.getElementById(\"b71fca64-2979-4115-96a5-95ea0bb35761\")) {                    Plotly.newPlot(                        \"b71fca64-2979-4115-96a5-95ea0bb35761\",                        [{\"alignmentgroup\":\"True\",\"bingroup\":\"x\",\"hovertemplate\":\"Country=North America<br>duration of the game (in minutes)=%{x}<br>count=%{y}<extra></extra>\",\"legendgroup\":\"North America\",\"marker\":{\"color\":\"#636efa\",\"pattern\":{\"shape\":\"\"}},\"name\":\"North America\",\"offsetgroup\":\"North America\",\"orientation\":\"v\",\"showlegend\":true,\"type\":\"histogram\",\"x\":[40,38,40,41,35,24,39,43,41,32,52,46,38,31,33,38,40,39,40,39,49,35,36,43,32,31,36,41,31,30,45,42,27,35,43,37,40,46,48,39,40,49,37,35,24,44,54,47,33,30,34,49,29,33,29,33,30,42,55,38,51,36,46,40,46,46,37,29,45,31,31,33,37,38,45,40,42,47,42,37,45,34,36,36,42,35,40,33,34,34,46,28,46,44,33,34,43,42,35,40,35,43,33,36,43,38,50,37,33,40,48,44,39,44,40,30,31,31,48,36,36,49,40,39,42,34,36,51,48,48,36,54,44,37,41,38,30,49,29,39,36,49,32,55,42,28,38,43,40,41,29,40,43,29,40,40,34,39,25,45,40,41,29,40,38,57,52,27,51,36,37,49,42,30,35,58,38,32,28,32,33,60,33,29,36,40,35,33,26,43,32,26,41,33,39,42,32,39,42,30,30,38,42,41,30,37,34,43,35,33,41,38,38,40,47,32,30,44,40,28,54,56,44,38,41,38,33,37,40,32,35],\"xaxis\":\"x\",\"yaxis\":\"y\"},{\"alignmentgroup\":\"True\",\"bingroup\":\"x\",\"hovertemplate\":\"Country=Europe<br>duration of the game (in minutes)=%{x}<br>count=%{y}<extra></extra>\",\"legendgroup\":\"Europe\",\"marker\":{\"color\":\"#EF553B\",\"pattern\":{\"shape\":\"\"}},\"name\":\"Europe\",\"offsetgroup\":\"Europe\",\"orientation\":\"v\",\"showlegend\":true,\"type\":\"histogram\",\"x\":[36,28,50,40,27,38,38,46,34,34,30,30,53,38,38,43,28,64,38,44,40,45,36,41,60,33,52,45,43,36,51,31,38,32,37,31,42,47,49,46,43,43,44,43,41,39,31,49,41,39,31,30,35,36,34,42,38,33,53,49,47,39,68,39,32,43,49,28,24,41,42,27,35,47,38,45,39,37,30,27,59,32,38,38,34,41,33,43,42,31,47,37,37,37,34,33,28,39,41,44,29,38,41,31,40,28,43,36,55,28,29,28,40,42,37,48,29,32,26,36,35,30,39,42,42,27,40,31,31,30,49,39,43,36,36,56,37,35,32,44,46,35,54,46,50,39,44,40,33,36,45,38,44,29,38,30,40,41,38,40,29,33,40,26,40,37,47,49,41,35,32,42,42,30,44,64,47,37,48,39,24,48,35,48,33,38,32,40,36,32,36,40,33,26,35,39,30,38,54,30,45,39,37,28,29,43,37,29,40,30,29,31,43,48,47,60,49,36,42,33,31,27,32,28,48,39,31,32,33,35,53,45],\"xaxis\":\"x2\",\"yaxis\":\"y2\"},{\"alignmentgroup\":\"True\",\"bingroup\":\"x\",\"hovertemplate\":\"Country=Korea<br>duration of the game (in minutes)=%{x}<br>count=%{y}<extra></extra>\",\"legendgroup\":\"Korea\",\"marker\":{\"color\":\"#00cc96\",\"pattern\":{\"shape\":\"\"}},\"name\":\"Korea\",\"offsetgroup\":\"Korea\",\"orientation\":\"v\",\"showlegend\":true,\"type\":\"histogram\",\"x\":[27,33,35,44,32,31,72,35,36,31,54,34,36,31,44,40,46,45,41,41,44,46,32,37,37,41,40,34,41,57,34,41,56,43,38,52,34,30,35,30,65,49,46,35,38,30,31,52,62,34,42,36,38,51,47,40,56,33,49,39,34,81,49,41,30,38,47,37,62,47,38,49,48,47,44,39,50,38,40,37,59,59,49,36,36,39,45,48,51,36,61,36,41,41,39,54,38,45,50,37,34,36,52,39,34,40,34,34,58,47,37,47,42,43,48,32,32,40,43,41,26,26,31,26,35,35,34,28,58,34,31,32,33,48,35,40,36,48,43,36,34,36,37,26,38,39,36,41,49,58,26,39,54,53,34,39,31,34,49,43,45,36,37,31,44,44,33,30,49,38,39,36,35,39,49,36,38,44,33,44,35,47,42,56,43,26,36,57,44,36,33,42,40,32,31,34,48,42,38,40,29,36,48,37,38,40,37,51,34,46,41,35,40,32,48,40,48,35,34,40,48,42,30,46,33,35,33,41,35,40,32,46,41,36,38,37,56,37,45,45,34,36,48,29,48,48,38,35,37,40,60,50,37,46,55,40,52,58,50,23,36,41,37,32,46,55,43,35,36,39,33,44,41,40,35,50,47,53,52,30,35,34,39,39,40,47,45,30,52,40,34,31,37,45,30,33,43,42,46,33,41,30,32,33,35,44,28,30,34,44,37,45,38,36,43,44,42,27,36,52,45,51,42,30,43,47,50,45,37,44,41,42,37,41,50,46,53,41,34,38,32,36,55,37,32,41,38,42,50,35,37,26,33,36,34,51,28,44,28,47,51,38,35,33,32,42,45],\"xaxis\":\"x3\",\"yaxis\":\"y3\"},{\"alignmentgroup\":\"True\",\"bingroup\":\"x\",\"hovertemplate\":\"Country=Turkey<br>duration of the game (in minutes)=%{x}<br>count=%{y}<extra></extra>\",\"legendgroup\":\"Turkey\",\"marker\":{\"color\":\"#ab63fa\",\"pattern\":{\"shape\":\"\"}},\"name\":\"Turkey\",\"offsetgroup\":\"Turkey\",\"orientation\":\"v\",\"showlegend\":true,\"type\":\"histogram\",\"x\":[48,25,34,48,34,26,41,42,39,25,32,32,42,24,26,32,34,25,43,23,24,33,30,42,42,32,37,43,25,54,32,31,25,35,40,43,39,28,49,33,34,29,41,35,32,25,33,28,43,28,34,28,42,43,45,48,42,39,50,29,28,44,30,42,34,32,30,28,27,31,48,27,40,41,47,35,42,36,41,41,44,33,38,32,42,52,37,24,33,36,35,42,31,29,36,56,30,36,37,44,33,33,38,40,35,41,32,48,45,38,44,29,34,36,38,34,42,29,32,57,35,33,46,33,34,29,35,25,30,29,35,46,32,33,40,27,39,44,49,41,45,41,38,48,43,35,41,31,42,38,41,34],\"xaxis\":\"x4\",\"yaxis\":\"y4\"}],                        {\"annotations\":[{\"font\":{},\"showarrow\":false,\"text\":\"Country=North America\",\"x\":0.1175,\"xanchor\":\"center\",\"xref\":\"paper\",\"y\":1.0,\"yanchor\":\"bottom\",\"yref\":\"paper\"},{\"font\":{},\"showarrow\":false,\"text\":\"Country=Europe\",\"x\":0.3725,\"xanchor\":\"center\",\"xref\":\"paper\",\"y\":1.0,\"yanchor\":\"bottom\",\"yref\":\"paper\"},{\"font\":{},\"showarrow\":false,\"text\":\"Country=Korea\",\"x\":0.6275,\"xanchor\":\"center\",\"xref\":\"paper\",\"y\":1.0,\"yanchor\":\"bottom\",\"yref\":\"paper\"},{\"font\":{},\"showarrow\":false,\"text\":\"Country=Turkey\",\"x\":0.8824999999999998,\"xanchor\":\"center\",\"xref\":\"paper\",\"y\":1.0,\"yanchor\":\"bottom\",\"yref\":\"paper\"}],\"barmode\":\"relative\",\"legend\":{\"title\":{\"text\":\"Country\"},\"tracegroupgap\":0},\"margin\":{\"t\":60},\"template\":{\"data\":{\"bar\":[{\"error_x\":{\"color\":\"#2a3f5f\"},\"error_y\":{\"color\":\"#2a3f5f\"},\"marker\":{\"line\":{\"color\":\"#E5ECF6\",\"width\":0.5},\"pattern\":{\"fillmode\":\"overlay\",\"size\":10,\"solidity\":0.2}},\"type\":\"bar\"}],\"barpolar\":[{\"marker\":{\"line\":{\"color\":\"#E5ECF6\",\"width\":0.5},\"pattern\":{\"fillmode\":\"overlay\",\"size\":10,\"solidity\":0.2}},\"type\":\"barpolar\"}],\"carpet\":[{\"aaxis\":{\"endlinecolor\":\"#2a3f5f\",\"gridcolor\":\"white\",\"linecolor\":\"white\",\"minorgridcolor\":\"white\",\"startlinecolor\":\"#2a3f5f\"},\"baxis\":{\"endlinecolor\":\"#2a3f5f\",\"gridcolor\":\"white\",\"linecolor\":\"white\",\"minorgridcolor\":\"white\",\"startlinecolor\":\"#2a3f5f\"},\"type\":\"carpet\"}],\"choropleth\":[{\"colorbar\":{\"outlinewidth\":0,\"ticks\":\"\"},\"type\":\"choropleth\"}],\"contour\":[{\"colorbar\":{\"outlinewidth\":0,\"ticks\":\"\"},\"colorscale\":[[0.0,\"#0d0887\"],[0.1111111111111111,\"#46039f\"],[0.2222222222222222,\"#7201a8\"],[0.3333333333333333,\"#9c179e\"],[0.4444444444444444,\"#bd3786\"],[0.5555555555555556,\"#d8576b\"],[0.6666666666666666,\"#ed7953\"],[0.7777777777777778,\"#fb9f3a\"],[0.8888888888888888,\"#fdca26\"],[1.0,\"#f0f921\"]],\"type\":\"contour\"}],\"contourcarpet\":[{\"colorbar\":{\"outlinewidth\":0,\"ticks\":\"\"},\"type\":\"contourcarpet\"}],\"heatmap\":[{\"colorbar\":{\"outlinewidth\":0,\"ticks\":\"\"},\"colorscale\":[[0.0,\"#0d0887\"],[0.1111111111111111,\"#46039f\"],[0.2222222222222222,\"#7201a8\"],[0.3333333333333333,\"#9c179e\"],[0.4444444444444444,\"#bd3786\"],[0.5555555555555556,\"#d8576b\"],[0.6666666666666666,\"#ed7953\"],[0.7777777777777778,\"#fb9f3a\"],[0.8888888888888888,\"#fdca26\"],[1.0,\"#f0f921\"]],\"type\":\"heatmap\"}],\"heatmapgl\":[{\"colorbar\":{\"outlinewidth\":0,\"ticks\":\"\"},\"colorscale\":[[0.0,\"#0d0887\"],[0.1111111111111111,\"#46039f\"],[0.2222222222222222,\"#7201a8\"],[0.3333333333333333,\"#9c179e\"],[0.4444444444444444,\"#bd3786\"],[0.5555555555555556,\"#d8576b\"],[0.6666666666666666,\"#ed7953\"],[0.7777777777777778,\"#fb9f3a\"],[0.8888888888888888,\"#fdca26\"],[1.0,\"#f0f921\"]],\"type\":\"heatmapgl\"}],\"histogram\":[{\"marker\":{\"pattern\":{\"fillmode\":\"overlay\",\"size\":10,\"solidity\":0.2}},\"type\":\"histogram\"}],\"histogram2d\":[{\"colorbar\":{\"outlinewidth\":0,\"ticks\":\"\"},\"colorscale\":[[0.0,\"#0d0887\"],[0.1111111111111111,\"#46039f\"],[0.2222222222222222,\"#7201a8\"],[0.3333333333333333,\"#9c179e\"],[0.4444444444444444,\"#bd3786\"],[0.5555555555555556,\"#d8576b\"],[0.6666666666666666,\"#ed7953\"],[0.7777777777777778,\"#fb9f3a\"],[0.8888888888888888,\"#fdca26\"],[1.0,\"#f0f921\"]],\"type\":\"histogram2d\"}],\"histogram2dcontour\":[{\"colorbar\":{\"outlinewidth\":0,\"ticks\":\"\"},\"colorscale\":[[0.0,\"#0d0887\"],[0.1111111111111111,\"#46039f\"],[0.2222222222222222,\"#7201a8\"],[0.3333333333333333,\"#9c179e\"],[0.4444444444444444,\"#bd3786\"],[0.5555555555555556,\"#d8576b\"],[0.6666666666666666,\"#ed7953\"],[0.7777777777777778,\"#fb9f3a\"],[0.8888888888888888,\"#fdca26\"],[1.0,\"#f0f921\"]],\"type\":\"histogram2dcontour\"}],\"mesh3d\":[{\"colorbar\":{\"outlinewidth\":0,\"ticks\":\"\"},\"type\":\"mesh3d\"}],\"parcoords\":[{\"line\":{\"colorbar\":{\"outlinewidth\":0,\"ticks\":\"\"}},\"type\":\"parcoords\"}],\"pie\":[{\"automargin\":true,\"type\":\"pie\"}],\"scatter\":[{\"marker\":{\"colorbar\":{\"outlinewidth\":0,\"ticks\":\"\"}},\"type\":\"scatter\"}],\"scatter3d\":[{\"line\":{\"colorbar\":{\"outlinewidth\":0,\"ticks\":\"\"}},\"marker\":{\"colorbar\":{\"outlinewidth\":0,\"ticks\":\"\"}},\"type\":\"scatter3d\"}],\"scattercarpet\":[{\"marker\":{\"colorbar\":{\"outlinewidth\":0,\"ticks\":\"\"}},\"type\":\"scattercarpet\"}],\"scattergeo\":[{\"marker\":{\"colorbar\":{\"outlinewidth\":0,\"ticks\":\"\"}},\"type\":\"scattergeo\"}],\"scattergl\":[{\"marker\":{\"colorbar\":{\"outlinewidth\":0,\"ticks\":\"\"}},\"type\":\"scattergl\"}],\"scattermapbox\":[{\"marker\":{\"colorbar\":{\"outlinewidth\":0,\"ticks\":\"\"}},\"type\":\"scattermapbox\"}],\"scatterpolar\":[{\"marker\":{\"colorbar\":{\"outlinewidth\":0,\"ticks\":\"\"}},\"type\":\"scatterpolar\"}],\"scatterpolargl\":[{\"marker\":{\"colorbar\":{\"outlinewidth\":0,\"ticks\":\"\"}},\"type\":\"scatterpolargl\"}],\"scatterternary\":[{\"marker\":{\"colorbar\":{\"outlinewidth\":0,\"ticks\":\"\"}},\"type\":\"scatterternary\"}],\"surface\":[{\"colorbar\":{\"outlinewidth\":0,\"ticks\":\"\"},\"colorscale\":[[0.0,\"#0d0887\"],[0.1111111111111111,\"#46039f\"],[0.2222222222222222,\"#7201a8\"],[0.3333333333333333,\"#9c179e\"],[0.4444444444444444,\"#bd3786\"],[0.5555555555555556,\"#d8576b\"],[0.6666666666666666,\"#ed7953\"],[0.7777777777777778,\"#fb9f3a\"],[0.8888888888888888,\"#fdca26\"],[1.0,\"#f0f921\"]],\"type\":\"surface\"}],\"table\":[{\"cells\":{\"fill\":{\"color\":\"#EBF0F8\"},\"line\":{\"color\":\"white\"}},\"header\":{\"fill\":{\"color\":\"#C8D4E3\"},\"line\":{\"color\":\"white\"}},\"type\":\"table\"}]},\"layout\":{\"annotationdefaults\":{\"arrowcolor\":\"#2a3f5f\",\"arrowhead\":0,\"arrowwidth\":1},\"autotypenumbers\":\"strict\",\"coloraxis\":{\"colorbar\":{\"outlinewidth\":0,\"ticks\":\"\"}},\"colorscale\":{\"diverging\":[[0,\"#8e0152\"],[0.1,\"#c51b7d\"],[0.2,\"#de77ae\"],[0.3,\"#f1b6da\"],[0.4,\"#fde0ef\"],[0.5,\"#f7f7f7\"],[0.6,\"#e6f5d0\"],[0.7,\"#b8e186\"],[0.8,\"#7fbc41\"],[0.9,\"#4d9221\"],[1,\"#276419\"]],\"sequential\":[[0.0,\"#0d0887\"],[0.1111111111111111,\"#46039f\"],[0.2222222222222222,\"#7201a8\"],[0.3333333333333333,\"#9c179e\"],[0.4444444444444444,\"#bd3786\"],[0.5555555555555556,\"#d8576b\"],[0.6666666666666666,\"#ed7953\"],[0.7777777777777778,\"#fb9f3a\"],[0.8888888888888888,\"#fdca26\"],[1.0,\"#f0f921\"]],\"sequentialminus\":[[0.0,\"#0d0887\"],[0.1111111111111111,\"#46039f\"],[0.2222222222222222,\"#7201a8\"],[0.3333333333333333,\"#9c179e\"],[0.4444444444444444,\"#bd3786\"],[0.5555555555555556,\"#d8576b\"],[0.6666666666666666,\"#ed7953\"],[0.7777777777777778,\"#fb9f3a\"],[0.8888888888888888,\"#fdca26\"],[1.0,\"#f0f921\"]]},\"colorway\":[\"#636efa\",\"#EF553B\",\"#00cc96\",\"#ab63fa\",\"#FFA15A\",\"#19d3f3\",\"#FF6692\",\"#B6E880\",\"#FF97FF\",\"#FECB52\"],\"font\":{\"color\":\"#2a3f5f\"},\"geo\":{\"bgcolor\":\"white\",\"lakecolor\":\"white\",\"landcolor\":\"#E5ECF6\",\"showlakes\":true,\"showland\":true,\"subunitcolor\":\"white\"},\"hoverlabel\":{\"align\":\"left\"},\"hovermode\":\"closest\",\"mapbox\":{\"style\":\"light\"},\"paper_bgcolor\":\"white\",\"plot_bgcolor\":\"#E5ECF6\",\"polar\":{\"angularaxis\":{\"gridcolor\":\"white\",\"linecolor\":\"white\",\"ticks\":\"\"},\"bgcolor\":\"#E5ECF6\",\"radialaxis\":{\"gridcolor\":\"white\",\"linecolor\":\"white\",\"ticks\":\"\"}},\"scene\":{\"xaxis\":{\"backgroundcolor\":\"#E5ECF6\",\"gridcolor\":\"white\",\"gridwidth\":2,\"linecolor\":\"white\",\"showbackground\":true,\"ticks\":\"\",\"zerolinecolor\":\"white\"},\"yaxis\":{\"backgroundcolor\":\"#E5ECF6\",\"gridcolor\":\"white\",\"gridwidth\":2,\"linecolor\":\"white\",\"showbackground\":true,\"ticks\":\"\",\"zerolinecolor\":\"white\"},\"zaxis\":{\"backgroundcolor\":\"#E5ECF6\",\"gridcolor\":\"white\",\"gridwidth\":2,\"linecolor\":\"white\",\"showbackground\":true,\"ticks\":\"\",\"zerolinecolor\":\"white\"}},\"shapedefaults\":{\"line\":{\"color\":\"#2a3f5f\"}},\"ternary\":{\"aaxis\":{\"gridcolor\":\"white\",\"linecolor\":\"white\",\"ticks\":\"\"},\"baxis\":{\"gridcolor\":\"white\",\"linecolor\":\"white\",\"ticks\":\"\"},\"bgcolor\":\"#E5ECF6\",\"caxis\":{\"gridcolor\":\"white\",\"linecolor\":\"white\",\"ticks\":\"\"}},\"title\":{\"x\":0.05},\"xaxis\":{\"automargin\":true,\"gridcolor\":\"white\",\"linecolor\":\"white\",\"ticks\":\"\",\"title\":{\"standoff\":15},\"zerolinecolor\":\"white\",\"zerolinewidth\":2},\"yaxis\":{\"automargin\":true,\"gridcolor\":\"white\",\"linecolor\":\"white\",\"ticks\":\"\",\"title\":{\"standoff\":15},\"zerolinecolor\":\"white\",\"zerolinewidth\":2}}},\"xaxis\":{\"anchor\":\"y\",\"domain\":[0.0,0.235],\"title\":{\"text\":\"duration of the game (in minutes)\"}},\"xaxis2\":{\"anchor\":\"y2\",\"domain\":[0.255,0.49],\"matches\":\"x\",\"title\":{\"text\":\"duration of the game (in minutes)\"}},\"xaxis3\":{\"anchor\":\"y3\",\"domain\":[0.51,0.745],\"matches\":\"x\",\"title\":{\"text\":\"duration of the game (in minutes)\"}},\"xaxis4\":{\"anchor\":\"y4\",\"domain\":[0.7649999999999999,0.9999999999999999],\"matches\":\"x\",\"title\":{\"text\":\"duration of the game (in minutes)\"}},\"yaxis\":{\"anchor\":\"x\",\"domain\":[0.0,1.0],\"title\":{\"text\":\"count\"}},\"yaxis2\":{\"anchor\":\"x2\",\"domain\":[0.0,1.0],\"matches\":\"y\",\"showticklabels\":false},\"yaxis3\":{\"anchor\":\"x3\",\"domain\":[0.0,1.0],\"matches\":\"y\",\"showticklabels\":false},\"yaxis4\":{\"anchor\":\"x4\",\"domain\":[0.0,1.0],\"matches\":\"y\",\"showticklabels\":false}},                        {\"responsive\": true}                    ).then(function(){\n",
       "                            \n",
       "var gd = document.getElementById('b71fca64-2979-4115-96a5-95ea0bb35761');\n",
       "var x = new MutationObserver(function (mutations, observer) {{\n",
       "        var display = window.getComputedStyle(gd).display;\n",
       "        if (!display || display === 'none') {{\n",
       "            console.log([gd, 'removed!']);\n",
       "            Plotly.purge(gd);\n",
       "            observer.disconnect();\n",
       "        }}\n",
       "}});\n",
       "\n",
       "// Listen for the removal of the full notebook cells\n",
       "var notebookContainer = gd.closest('#notebook-container');\n",
       "if (notebookContainer) {{\n",
       "    x.observe(notebookContainer, {childList: true});\n",
       "}}\n",
       "\n",
       "// Listen for the clearing of the current output cell\n",
       "var outputEl = gd.closest('.output');\n",
       "if (outputEl) {{\n",
       "    x.observe(outputEl, {childList: true});\n",
       "}}\n",
       "\n",
       "                        })                };                });            </script>        </div>"
      ]
     },
     "metadata": {},
     "output_type": "display_data"
    }
   ],
   "source": [
    "px.histogram(df_length[df_length['Year']==2015], \n",
    "                            x=['gamelength'],\n",
    "                            facet_col=\"Country\", \n",
    "                            color = \"Country\", \n",
    "                            labels = {'value':'duration of the game (in minutes)'})"
   ]
  },
  {
   "cell_type": "code",
   "execution_count": 371,
   "metadata": {},
   "outputs": [
    {
     "data": {
      "text/plain": [
       "array(['CJE', 'JAG', 'SKT', 'GET', 'NJE', 'IM', 'SSG', 'kt', 'ANC',\n",
       "       'SBENU', 'Longzhu', 'SSB', 'KOO', 'LZ', 'NJF', 'CJ', 'AFs', 'EMF',\n",
       "       'ROX', 'KDM', 'ESC', 'MVP', 'bbq', 'EEW', 'KZ', 'KSV', 'KT',\n",
       "       'Winners', 'Prime', 'Xenics', 'DW', 'EVR', 'SBK'], dtype=object)"
      ]
     },
     "execution_count": 371,
     "metadata": {},
     "output_type": "execute_result"
    }
   ],
   "source": [
    "df_teams = df[['League', 'blueTeamTag','bResult','rResult','redTeamTag']]\n",
    "df_na = df_teams[(df['League']=='LCK')]\n",
    "df_na['blueTeamTag'].unique()"
   ]
  },
  {
   "cell_type": "code",
   "execution_count": 372,
   "metadata": {},
   "outputs": [
    {
     "data": {
      "text/html": [
       "<div>\n",
       "<style scoped>\n",
       "    .dataframe tbody tr th:only-of-type {\n",
       "        vertical-align: middle;\n",
       "    }\n",
       "\n",
       "    .dataframe tbody tr th {\n",
       "        vertical-align: top;\n",
       "    }\n",
       "\n",
       "    .dataframe thead th {\n",
       "        text-align: right;\n",
       "    }\n",
       "</style>\n",
       "<table border=\"1\" class=\"dataframe\">\n",
       "  <thead>\n",
       "    <tr style=\"text-align: right;\">\n",
       "      <th></th>\n",
       "      <th>League</th>\n",
       "      <th>blueTeamTag</th>\n",
       "      <th>bResult</th>\n",
       "      <th>rResult</th>\n",
       "      <th>redTeamTag</th>\n",
       "    </tr>\n",
       "  </thead>\n",
       "  <tbody>\n",
       "    <tr>\n",
       "      <td>2054</td>\n",
       "      <td>LCK</td>\n",
       "      <td>CJE</td>\n",
       "      <td>1</td>\n",
       "      <td>0</td>\n",
       "      <td>JAG</td>\n",
       "    </tr>\n",
       "    <tr>\n",
       "      <td>2055</td>\n",
       "      <td>LCK</td>\n",
       "      <td>JAG</td>\n",
       "      <td>0</td>\n",
       "      <td>1</td>\n",
       "      <td>CJE</td>\n",
       "    </tr>\n",
       "    <tr>\n",
       "      <td>2056</td>\n",
       "      <td>LCK</td>\n",
       "      <td>CJE</td>\n",
       "      <td>1</td>\n",
       "      <td>0</td>\n",
       "      <td>JAG</td>\n",
       "    </tr>\n",
       "    <tr>\n",
       "      <td>2057</td>\n",
       "      <td>LCK</td>\n",
       "      <td>CJE</td>\n",
       "      <td>1</td>\n",
       "      <td>0</td>\n",
       "      <td>SKT</td>\n",
       "    </tr>\n",
       "    <tr>\n",
       "      <td>2058</td>\n",
       "      <td>LCK</td>\n",
       "      <td>SKT</td>\n",
       "      <td>0</td>\n",
       "      <td>1</td>\n",
       "      <td>CJE</td>\n",
       "    </tr>\n",
       "    <tr>\n",
       "      <td>...</td>\n",
       "      <td>...</td>\n",
       "      <td>...</td>\n",
       "      <td>...</td>\n",
       "      <td>...</td>\n",
       "      <td>...</td>\n",
       "    </tr>\n",
       "    <tr>\n",
       "      <td>7581</td>\n",
       "      <td>LCK</td>\n",
       "      <td>AFs</td>\n",
       "      <td>1</td>\n",
       "      <td>0</td>\n",
       "      <td>ROX</td>\n",
       "    </tr>\n",
       "    <tr>\n",
       "      <td>7603</td>\n",
       "      <td>LCK</td>\n",
       "      <td>bbq</td>\n",
       "      <td>1</td>\n",
       "      <td>0</td>\n",
       "      <td>JAG</td>\n",
       "    </tr>\n",
       "    <tr>\n",
       "      <td>7604</td>\n",
       "      <td>LCK</td>\n",
       "      <td>JAG</td>\n",
       "      <td>0</td>\n",
       "      <td>1</td>\n",
       "      <td>bbq</td>\n",
       "    </tr>\n",
       "    <tr>\n",
       "      <td>7605</td>\n",
       "      <td>LCK</td>\n",
       "      <td>MVP</td>\n",
       "      <td>0</td>\n",
       "      <td>1</td>\n",
       "      <td>KZ</td>\n",
       "    </tr>\n",
       "    <tr>\n",
       "      <td>7606</td>\n",
       "      <td>LCK</td>\n",
       "      <td>KZ</td>\n",
       "      <td>1</td>\n",
       "      <td>0</td>\n",
       "      <td>MVP</td>\n",
       "    </tr>\n",
       "  </tbody>\n",
       "</table>\n",
       "<p>1445 rows × 5 columns</p>\n",
       "</div>"
      ],
      "text/plain": [
       "     League blueTeamTag  bResult  rResult redTeamTag\n",
       "2054    LCK         CJE        1        0        JAG\n",
       "2055    LCK         JAG        0        1        CJE\n",
       "2056    LCK         CJE        1        0        JAG\n",
       "2057    LCK         CJE        1        0        SKT\n",
       "2058    LCK         SKT        0        1        CJE\n",
       "...     ...         ...      ...      ...        ...\n",
       "7581    LCK         AFs        1        0        ROX\n",
       "7603    LCK         bbq        1        0        JAG\n",
       "7604    LCK         JAG        0        1        bbq\n",
       "7605    LCK         MVP        0        1         KZ\n",
       "7606    LCK          KZ        1        0        MVP\n",
       "\n",
       "[1445 rows x 5 columns]"
      ]
     },
     "execution_count": 372,
     "metadata": {},
     "output_type": "execute_result"
    }
   ],
   "source": [
    "df_na"
   ]
  },
  {
   "cell_type": "code",
   "execution_count": 373,
   "metadata": {},
   "outputs": [],
   "source": [
    "NATeams = []\n",
    "\n",
    "for i in range(len(df_na)):\n",
    "    if df_na['blueTeamTag'].iloc[i] not in NATeams:\n",
    "        NATeams.append(df_na['blueTeamTag'].iloc[i])\n",
    "    if df_na['redTeamTag'].iloc[i] not in NATeams:\n",
    "        NATeams.append(df_na['redTeamTag'].iloc[i])"
   ]
  },
  {
   "cell_type": "code",
   "execution_count": 374,
   "metadata": {},
   "outputs": [],
   "source": [
    "df_eu = df_teams[(df['League']=='EULCS')]\n",
    "EUTeams = []\n",
    "\n",
    "for i in range(len(df_eu)):\n",
    "    if df_eu['blueTeamTag'].iloc[i] not in EUTeams:\n",
    "        EUTeams.append(df_eu['blueTeamTag'].iloc[i])\n",
    "    if df_eu['redTeamTag'].iloc[i] not in EUTeams:\n",
    "        EUTeams.append(df_eu['redTeamTag'].iloc[i])"
   ]
  },
  {
   "cell_type": "code",
   "execution_count": 375,
   "metadata": {},
   "outputs": [],
   "source": [
    "def League_teams(df_teams, League:str):\n",
    "    df8 = df_teams[(df_teams['League']==League)]\n",
    "    League_Teams = []\n",
    "    for i in range(len(df8)):\n",
    "        if df8['blueTeamTag'].iloc[i] not in League_Teams:\n",
    "            League_Teams.append(df8['blueTeamTag'].iloc[i])\n",
    "        if df8['redTeamTag'].iloc[i] not in League_Teams:\n",
    "            League_Teams.append(df8['redTeamTag'].iloc[i])\n",
    "    return League_Teams"
   ]
  },
  {
   "cell_type": "code",
   "execution_count": 376,
   "metadata": {},
   "outputs": [],
   "source": [
    "# NALCS : Amérique du Nord\n",
    "# LCK : Corée\n",
    "# EULCS : Europe\n",
    "# LMS : Taiwan Hong-Kong Macao\n",
    "# TCL : Turquie\n",
    "# OPL : Océanie\n",
    "# WC : World Cup\n",
    "# CBLoL : Brésil\n",
    "\n",
    "\n",
    "NA_Teams = League_teams(df_teams, 'NALCS')\n",
    "K_Teams = League_teams(df_teams, 'LCK')\n",
    "EU_Teams = League_teams(df_teams, 'EULCS')\n",
    "TU_Teams = League_teams(df_teams, 'TCL')\n",
    "BR_Teams = League_teams(df_teams, 'CBLoL')\n"
   ]
  },
  {
   "cell_type": "code",
   "execution_count": 406,
   "metadata": {},
   "outputs": [],
   "source": [
    "df_wc = df[['Address', 'League', 'Year', 'blueTeamTag','bResult','rResult','redTeamTag','gamelength']]\n",
    "df_wc = df_wc[(df['League']=='WC')]"
   ]
  },
  {
   "cell_type": "code",
   "execution_count": 407,
   "metadata": {},
   "outputs": [
    {
     "data": {
      "text/html": [
       "<div>\n",
       "<style scoped>\n",
       "    .dataframe tbody tr th:only-of-type {\n",
       "        vertical-align: middle;\n",
       "    }\n",
       "\n",
       "    .dataframe tbody tr th {\n",
       "        vertical-align: top;\n",
       "    }\n",
       "\n",
       "    .dataframe thead th {\n",
       "        text-align: right;\n",
       "    }\n",
       "</style>\n",
       "<table border=\"1\" class=\"dataframe\">\n",
       "  <thead>\n",
       "    <tr style=\"text-align: right;\">\n",
       "      <th></th>\n",
       "      <th>Address</th>\n",
       "      <th>League</th>\n",
       "      <th>Year</th>\n",
       "      <th>blueTeamTag</th>\n",
       "      <th>bResult</th>\n",
       "      <th>rResult</th>\n",
       "      <th>redTeamTag</th>\n",
       "      <th>gamelength</th>\n",
       "    </tr>\n",
       "  </thead>\n",
       "  <tbody>\n",
       "    <tr>\n",
       "      <td>6391</td>\n",
       "      <td>http://matchhistory.na.leagueoflegends.com/en/...</td>\n",
       "      <td>WC</td>\n",
       "      <td>2014</td>\n",
       "      <td>EDG</td>\n",
       "      <td>0</td>\n",
       "      <td>1</td>\n",
       "      <td>SSW</td>\n",
       "      <td>44</td>\n",
       "    </tr>\n",
       "    <tr>\n",
       "      <td>6392</td>\n",
       "      <td>http://matchhistory.na.leagueoflegends.com/en/...</td>\n",
       "      <td>WC</td>\n",
       "      <td>2014</td>\n",
       "      <td>TSM</td>\n",
       "      <td>1</td>\n",
       "      <td>0</td>\n",
       "      <td>SK</td>\n",
       "      <td>24</td>\n",
       "    </tr>\n",
       "    <tr>\n",
       "      <td>6393</td>\n",
       "      <td>http://matchhistory.na.leagueoflegends.com/en/...</td>\n",
       "      <td>WC</td>\n",
       "      <td>2014</td>\n",
       "      <td>DP</td>\n",
       "      <td>0</td>\n",
       "      <td>1</td>\n",
       "      <td>AHQ</td>\n",
       "      <td>41</td>\n",
       "    </tr>\n",
       "    <tr>\n",
       "      <td>6394</td>\n",
       "      <td>http://matchhistory.na.leagueoflegends.com/en/...</td>\n",
       "      <td>WC</td>\n",
       "      <td>2014</td>\n",
       "      <td>TPA</td>\n",
       "      <td>0</td>\n",
       "      <td>1</td>\n",
       "      <td>SHR</td>\n",
       "      <td>57</td>\n",
       "    </tr>\n",
       "    <tr>\n",
       "      <td>6395</td>\n",
       "      <td>http://matchhistory.na.leagueoflegends.com/en/...</td>\n",
       "      <td>WC</td>\n",
       "      <td>2014</td>\n",
       "      <td>SSW</td>\n",
       "      <td>1</td>\n",
       "      <td>0</td>\n",
       "      <td>AHQ</td>\n",
       "      <td>23</td>\n",
       "    </tr>\n",
       "    <tr>\n",
       "      <td>...</td>\n",
       "      <td>...</td>\n",
       "      <td>...</td>\n",
       "      <td>...</td>\n",
       "      <td>...</td>\n",
       "      <td>...</td>\n",
       "      <td>...</td>\n",
       "      <td>...</td>\n",
       "      <td>...</td>\n",
       "    </tr>\n",
       "    <tr>\n",
       "      <td>6694</td>\n",
       "      <td>http://matchhistory.na.leagueoflegends.com/en/...</td>\n",
       "      <td>WC</td>\n",
       "      <td>2017</td>\n",
       "      <td>SSG</td>\n",
       "      <td>1</td>\n",
       "      <td>0</td>\n",
       "      <td>WE</td>\n",
       "      <td>33</td>\n",
       "    </tr>\n",
       "    <tr>\n",
       "      <td>6695</td>\n",
       "      <td>http://matchhistory.na.leagueoflegends.com/en/...</td>\n",
       "      <td>WC</td>\n",
       "      <td>2017</td>\n",
       "      <td>SSG</td>\n",
       "      <td>1</td>\n",
       "      <td>0</td>\n",
       "      <td>SKT</td>\n",
       "      <td>38</td>\n",
       "    </tr>\n",
       "    <tr>\n",
       "      <td>6696</td>\n",
       "      <td>http://matchhistory.na.leagueoflegends.com/en/...</td>\n",
       "      <td>WC</td>\n",
       "      <td>2017</td>\n",
       "      <td>SSG</td>\n",
       "      <td>1</td>\n",
       "      <td>0</td>\n",
       "      <td>SKT</td>\n",
       "      <td>35</td>\n",
       "    </tr>\n",
       "    <tr>\n",
       "      <td>6697</td>\n",
       "      <td>http://matchhistory.na.leagueoflegends.com/en/...</td>\n",
       "      <td>WC</td>\n",
       "      <td>2017</td>\n",
       "      <td>SSG</td>\n",
       "      <td>1</td>\n",
       "      <td>0</td>\n",
       "      <td>SKT</td>\n",
       "      <td>41</td>\n",
       "    </tr>\n",
       "    <tr>\n",
       "      <td>7055</td>\n",
       "      <td>http://matchhistory.na.leagueoflegends.com/en/...</td>\n",
       "      <td>WC</td>\n",
       "      <td>2014</td>\n",
       "      <td>SHR</td>\n",
       "      <td>1</td>\n",
       "      <td>0</td>\n",
       "      <td>OMG</td>\n",
       "      <td>43</td>\n",
       "    </tr>\n",
       "  </tbody>\n",
       "</table>\n",
       "<p>308 rows × 8 columns</p>\n",
       "</div>"
      ],
      "text/plain": [
       "                                                Address League  Year  \\\n",
       "6391  http://matchhistory.na.leagueoflegends.com/en/...     WC  2014   \n",
       "6392  http://matchhistory.na.leagueoflegends.com/en/...     WC  2014   \n",
       "6393  http://matchhistory.na.leagueoflegends.com/en/...     WC  2014   \n",
       "6394  http://matchhistory.na.leagueoflegends.com/en/...     WC  2014   \n",
       "6395  http://matchhistory.na.leagueoflegends.com/en/...     WC  2014   \n",
       "...                                                 ...    ...   ...   \n",
       "6694  http://matchhistory.na.leagueoflegends.com/en/...     WC  2017   \n",
       "6695  http://matchhistory.na.leagueoflegends.com/en/...     WC  2017   \n",
       "6696  http://matchhistory.na.leagueoflegends.com/en/...     WC  2017   \n",
       "6697  http://matchhistory.na.leagueoflegends.com/en/...     WC  2017   \n",
       "7055  http://matchhistory.na.leagueoflegends.com/en/...     WC  2014   \n",
       "\n",
       "     blueTeamTag  bResult  rResult redTeamTag  gamelength  \n",
       "6391         EDG        0        1        SSW          44  \n",
       "6392         TSM        1        0         SK          24  \n",
       "6393          DP        0        1        AHQ          41  \n",
       "6394         TPA        0        1        SHR          57  \n",
       "6395         SSW        1        0        AHQ          23  \n",
       "...          ...      ...      ...        ...         ...  \n",
       "6694         SSG        1        0         WE          33  \n",
       "6695         SSG        1        0        SKT          38  \n",
       "6696         SSG        1        0        SKT          35  \n",
       "6697         SSG        1        0        SKT          41  \n",
       "7055         SHR        1        0        OMG          43  \n",
       "\n",
       "[308 rows x 8 columns]"
      ]
     },
     "execution_count": 407,
     "metadata": {},
     "output_type": "execute_result"
    }
   ],
   "source": [
    "df_wc"
   ]
  },
  {
   "cell_type": "code",
   "execution_count": 408,
   "metadata": {},
   "outputs": [],
   "source": [
    "def add_localisation_teams(df, initial_df):\n",
    "    \"\"\"\n",
    "    Ajoute une colonne Country, Lattitude et Longitude pour chacune des équipes du dataframe mis en paramètre.\n",
    "\n",
    "    Args:\n",
    "        df : dataframe où ajouter les colonnes.\n",
    "\n",
    "    Returns:\n",
    "        NA_app : Nombre d'apparition des équipes d'Amérique du Nord\n",
    "        K_app : Nombre d'apparition des équipes de Corée\n",
    "        EU_app : Nombre d'apparition des équipes d'Europe\n",
    "        TU_app : Nombre d'apparition des équipes de Turquie\n",
    "        BR_app : Nombre d'apparition des équipes du Brésil\n",
    "    \"\"\"\n",
    "    bCountry = []\n",
    "    bLattitude = []\n",
    "    bLongitude = []\n",
    "    rCountry = []\n",
    "    rLattitude = []\n",
    "    rLongitude = []\n",
    "\n",
    "    # Nombre d'apparition de chaque pays\n",
    "    NA_app = 0\n",
    "    K_app = 0\n",
    "    EU_app = 0\n",
    "    TU_app = 0\n",
    "    BR_app = 0\n",
    "\n",
    "    k,na,eu,br,t = get_localisation()\n",
    "    df_teams = initial_df[['League', 'blueTeamTag','bResult','rResult','redTeamTag']]\n",
    "    NA_Teams = League_teams(df_teams, 'NALCS')\n",
    "    K_Teams = League_teams(df_teams, 'LCK')\n",
    "    EU_Teams = League_teams(df_teams, 'EULCS')\n",
    "    TU_Teams = League_teams(df_teams, 'TCL')\n",
    "    BR_Teams = League_teams(df_teams, 'CBLoL')\n",
    "\n",
    "    for i in range(len(df)):\n",
    "        if df['blueTeamTag'].iloc[i] in NA_Teams:\n",
    "            bCountry.append('North America')\n",
    "            bLattitude.append(na[0])\n",
    "            bLongitude.append(na[1])\n",
    "            NA_app+=1\n",
    "        elif df['blueTeamTag'].iloc[i] in EU_Teams:\n",
    "            bCountry.append('Europe')\n",
    "            bLattitude.append(eu[0])\n",
    "            bLongitude.append(eu[1])\n",
    "            EU_app+=1\n",
    "        elif df['blueTeamTag'].iloc[i] in K_Teams:\n",
    "            bCountry.append('Korea')\n",
    "            bLattitude.append(k[0])\n",
    "            bLongitude.append(k[1])\n",
    "            K_app+=1\n",
    "        elif df['blueTeamTag'].iloc[i] in TU_Teams:\n",
    "            bCountry.append('Turkey')\n",
    "            bLattitude.append(t[0])\n",
    "            bLongitude.append(t[1])\n",
    "            TU_app+=1\n",
    "        elif df['blueTeamTag'].iloc[i] in BR_Teams:\n",
    "            bCountry.append('Brazil')\n",
    "            bLattitude.append(br[0])\n",
    "            bLongitude.append(br[1])\n",
    "            BR_app+=1\n",
    "        else:\n",
    "            bCountry.append(None)\n",
    "            bLattitude.append(None)\n",
    "            bLongitude.append(None)\n",
    "        if df['redTeamTag'].iloc[i] in NA_Teams:\n",
    "            rCountry.append('North America')\n",
    "            rLattitude.append(na[0])\n",
    "            rLongitude.append(na[1])\n",
    "            NA_app+=1\n",
    "        elif df['redTeamTag'].iloc[i] in EU_Teams:\n",
    "            rCountry.append('Europe')\n",
    "            rLattitude.append(eu[0])\n",
    "            rLongitude.append(eu[1])\n",
    "            EU_app+=1\n",
    "        elif df['redTeamTag'].iloc[i] in K_Teams:\n",
    "            rCountry.append('Korea')\n",
    "            rLattitude.append(k[0])\n",
    "            rLongitude.append(k[1])\n",
    "            K_app+=1\n",
    "        elif df['redTeamTag'].iloc[i] in TU_Teams:\n",
    "            rCountry.append('Turkey')\n",
    "            rLattitude.append(t[0])\n",
    "            rLongitude.append(t[1])\n",
    "            TU_app+=1\n",
    "        elif df['redTeamTag'].iloc[i] in BR_Teams:\n",
    "            rCountry.append('Brazil')\n",
    "            rLattitude.append(br[0])\n",
    "            rLongitude.append(br[1])\n",
    "            BR_app+=1\n",
    "        else:\n",
    "            rCountry.append(None)\n",
    "            rLattitude.append(None)\n",
    "            rLongitude.append(None)\n",
    "    \n",
    "    df.insert(df.columns.get_loc(\"blueTeamTag\")-1, \"bCountry\", bCountry)\n",
    "    df.insert(df.columns.get_loc(\"blueTeamTag\")-1, \"bLattitude\", bLattitude)\n",
    "    df.insert(df.columns.get_loc(\"blueTeamTag\")-1, \"bLongitude\", bLongitude)\n",
    "    df.insert(df.columns.get_loc(\"redTeamTag\")+1, \"rLongitude\", rLongitude)\n",
    "    df.insert(df.columns.get_loc(\"redTeamTag\")+1, \"rLattitude\", rLattitude)\n",
    "    df.insert(df.columns.get_loc(\"redTeamTag\")+1, \"rCountry\", rCountry)\n",
    "\n",
    "    return NA_app,K_app,EU_app,TU_app,BR_app"
   ]
  },
  {
   "cell_type": "code",
   "execution_count": 409,
   "metadata": {},
   "outputs": [],
   "source": [
    "na_games, k_games, eu_games, tu_games, br_games = add_localisation_teams(df_wc, df)"
   ]
  },
  {
   "cell_type": "code",
   "execution_count": 410,
   "metadata": {},
   "outputs": [
    {
     "data": {
      "text/html": [
       "<div>\n",
       "<style scoped>\n",
       "    .dataframe tbody tr th:only-of-type {\n",
       "        vertical-align: middle;\n",
       "    }\n",
       "\n",
       "    .dataframe tbody tr th {\n",
       "        vertical-align: top;\n",
       "    }\n",
       "\n",
       "    .dataframe thead th {\n",
       "        text-align: right;\n",
       "    }\n",
       "</style>\n",
       "<table border=\"1\" class=\"dataframe\">\n",
       "  <thead>\n",
       "    <tr style=\"text-align: right;\">\n",
       "      <th></th>\n",
       "      <th>Address</th>\n",
       "      <th>League</th>\n",
       "      <th>bCountry</th>\n",
       "      <th>bLattitude</th>\n",
       "      <th>bLongitude</th>\n",
       "      <th>Year</th>\n",
       "      <th>blueTeamTag</th>\n",
       "      <th>bResult</th>\n",
       "      <th>rResult</th>\n",
       "      <th>redTeamTag</th>\n",
       "      <th>rCountry</th>\n",
       "      <th>rLattitude</th>\n",
       "      <th>rLongitude</th>\n",
       "      <th>gamelength</th>\n",
       "    </tr>\n",
       "  </thead>\n",
       "  <tbody>\n",
       "    <tr>\n",
       "      <td>6391</td>\n",
       "      <td>http://matchhistory.na.leagueoflegends.com/en/...</td>\n",
       "      <td>WC</td>\n",
       "      <td>None</td>\n",
       "      <td>NaN</td>\n",
       "      <td>NaN</td>\n",
       "      <td>2014</td>\n",
       "      <td>EDG</td>\n",
       "      <td>0</td>\n",
       "      <td>1</td>\n",
       "      <td>SSW</td>\n",
       "      <td>None</td>\n",
       "      <td>NaN</td>\n",
       "      <td>NaN</td>\n",
       "      <td>44</td>\n",
       "    </tr>\n",
       "    <tr>\n",
       "      <td>6392</td>\n",
       "      <td>http://matchhistory.na.leagueoflegends.com/en/...</td>\n",
       "      <td>WC</td>\n",
       "      <td>North America</td>\n",
       "      <td>51.000000</td>\n",
       "      <td>-109.000000</td>\n",
       "      <td>2014</td>\n",
       "      <td>TSM</td>\n",
       "      <td>1</td>\n",
       "      <td>0</td>\n",
       "      <td>SK</td>\n",
       "      <td>Europe</td>\n",
       "      <td>51.0</td>\n",
       "      <td>10.0</td>\n",
       "      <td>24</td>\n",
       "    </tr>\n",
       "    <tr>\n",
       "      <td>6393</td>\n",
       "      <td>http://matchhistory.na.leagueoflegends.com/en/...</td>\n",
       "      <td>WC</td>\n",
       "      <td>Turkey</td>\n",
       "      <td>38.959759</td>\n",
       "      <td>34.924965</td>\n",
       "      <td>2014</td>\n",
       "      <td>DP</td>\n",
       "      <td>0</td>\n",
       "      <td>1</td>\n",
       "      <td>AHQ</td>\n",
       "      <td>None</td>\n",
       "      <td>NaN</td>\n",
       "      <td>NaN</td>\n",
       "      <td>41</td>\n",
       "    </tr>\n",
       "    <tr>\n",
       "      <td>6394</td>\n",
       "      <td>http://matchhistory.na.leagueoflegends.com/en/...</td>\n",
       "      <td>WC</td>\n",
       "      <td>None</td>\n",
       "      <td>NaN</td>\n",
       "      <td>NaN</td>\n",
       "      <td>2014</td>\n",
       "      <td>TPA</td>\n",
       "      <td>0</td>\n",
       "      <td>1</td>\n",
       "      <td>SHR</td>\n",
       "      <td>None</td>\n",
       "      <td>NaN</td>\n",
       "      <td>NaN</td>\n",
       "      <td>57</td>\n",
       "    </tr>\n",
       "    <tr>\n",
       "      <td>6395</td>\n",
       "      <td>http://matchhistory.na.leagueoflegends.com/en/...</td>\n",
       "      <td>WC</td>\n",
       "      <td>None</td>\n",
       "      <td>NaN</td>\n",
       "      <td>NaN</td>\n",
       "      <td>2014</td>\n",
       "      <td>SSW</td>\n",
       "      <td>1</td>\n",
       "      <td>0</td>\n",
       "      <td>AHQ</td>\n",
       "      <td>None</td>\n",
       "      <td>NaN</td>\n",
       "      <td>NaN</td>\n",
       "      <td>23</td>\n",
       "    </tr>\n",
       "  </tbody>\n",
       "</table>\n",
       "</div>"
      ],
      "text/plain": [
       "                                                Address League       bCountry  \\\n",
       "6391  http://matchhistory.na.leagueoflegends.com/en/...     WC           None   \n",
       "6392  http://matchhistory.na.leagueoflegends.com/en/...     WC  North America   \n",
       "6393  http://matchhistory.na.leagueoflegends.com/en/...     WC         Turkey   \n",
       "6394  http://matchhistory.na.leagueoflegends.com/en/...     WC           None   \n",
       "6395  http://matchhistory.na.leagueoflegends.com/en/...     WC           None   \n",
       "\n",
       "      bLattitude  bLongitude  Year blueTeamTag  bResult  rResult redTeamTag  \\\n",
       "6391         NaN         NaN  2014         EDG        0        1        SSW   \n",
       "6392   51.000000 -109.000000  2014         TSM        1        0         SK   \n",
       "6393   38.959759   34.924965  2014          DP        0        1        AHQ   \n",
       "6394         NaN         NaN  2014         TPA        0        1        SHR   \n",
       "6395         NaN         NaN  2014         SSW        1        0        AHQ   \n",
       "\n",
       "     rCountry  rLattitude  rLongitude  gamelength  \n",
       "6391     None         NaN         NaN          44  \n",
       "6392   Europe        51.0        10.0          24  \n",
       "6393     None         NaN         NaN          41  \n",
       "6394     None         NaN         NaN          57  \n",
       "6395     None         NaN         NaN          23  "
      ]
     },
     "execution_count": 410,
     "metadata": {},
     "output_type": "execute_result"
    }
   ],
   "source": [
    "df_wc.head()"
   ]
  },
  {
   "cell_type": "code",
   "execution_count": 411,
   "metadata": {},
   "outputs": [],
   "source": [
    "def filterNoneType(lis):\n",
    "    lis2 = []\n",
    "    for l in lis: #filter out NoneType\n",
    "        if type(l) == str:\n",
    "            lis2.append(l)\n",
    "    return lis2"
   ]
  },
  {
   "cell_type": "code",
   "execution_count": 412,
   "metadata": {},
   "outputs": [
    {
     "data": {
      "text/plain": [
       "[nan, 51.0000002, 38.9597594, 51.0, 36.638392, -10.3333333]"
      ]
     },
     "execution_count": 412,
     "metadata": {},
     "output_type": "execute_result"
    }
   ],
   "source": [
    "list(df_wc['bLattitude'].unique())"
   ]
  },
  {
   "cell_type": "code",
   "execution_count": 414,
   "metadata": {},
   "outputs": [
    {
     "name": "stdout",
     "output_type": "stream",
     "text": [
      "['North America', 'Turkey', 'Europe', 'Korea', 'Brazil']\n"
     ]
    }
   ],
   "source": [
    "print(filterNoneType(list(df_wc['bCountry'].unique())))\n"
   ]
  },
  {
   "cell_type": "code",
   "execution_count": 416,
   "metadata": {},
   "outputs": [
    {
     "name": "stdout",
     "output_type": "stream",
     "text": [
      "[51.0000002, 38.9597594, 51.0, 36.638392, -10.3333333]\n"
     ]
    }
   ],
   "source": [
    "import math\n",
    "liste = [x for x in df_wc['bLattitude'].unique() if math.isnan(x) == False]\n",
    "print(liste)"
   ]
  },
  {
   "cell_type": "code",
   "execution_count": 425,
   "metadata": {},
   "outputs": [
    {
     "name": "stdout",
     "output_type": "stream",
     "text": [
      "[86, 12, 98, 159, 18]\n"
     ]
    }
   ],
   "source": [
    "countries = filterNoneType(list(df_wc['bCountry'].unique()))\n",
    "lats = [x for x in df_wc['bLattitude'].unique() if math.isnan(x) == False]\n",
    "longs = [x for x in df_wc['bLongitude'].unique() if math.isnan(x) == False]\n",
    "games = [na_games,tu_games,eu_games,k_games,br_games]\n",
    "print(str(games))"
   ]
  },
  {
   "cell_type": "code",
   "execution_count": 424,
   "metadata": {},
   "outputs": [],
   "source": [
    "coords = (48.8398094,2.5840685)\n",
    "\n",
    "map = folium.Map(location=coords, zoom_start=2)\n",
    "\n",
    "for i in range(len(countries)):\n",
    "    folium.CircleMarker(\n",
    "        location = (lats[i], longs[i]),\n",
    "        radius = games[i]/2,\n",
    "        color = 'crimson',\n",
    "        fill = True,\n",
    "        fill_color = 'crimson',\n",
    "        tooltip = str(games[i])\n",
    "    ).add_to(map)\n",
    "map.save(outfile='map.html')"
   ]
  },
  {
   "cell_type": "code",
   "execution_count": null,
   "metadata": {},
   "outputs": [],
   "source": []
  }
 ],
 "metadata": {
  "interpreter": {
   "hash": "b3ba2566441a7c06988d0923437866b63cedc61552a5af99d1f4fb67d367b25f"
  },
  "kernelspec": {
   "display_name": "Python 3",
   "language": "python",
   "name": "python3"
  },
  "language_info": {
   "codemirror_mode": {
    "name": "ipython",
    "version": 3
   },
   "file_extension": ".py",
   "mimetype": "text/x-python",
   "name": "python",
   "nbconvert_exporter": "python",
   "pygments_lexer": "ipython3",
   "version": "3.7.4"
  }
 },
 "nbformat": 4,
 "nbformat_minor": 2
}
