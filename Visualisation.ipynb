{
 "cells": [
  {
   "cell_type": "code",
   "execution_count": 2,
   "metadata": {},
   "outputs": [],
   "source": [
    "import kaggle\n",
    "import pandas as pd"
   ]
  },
  {
   "cell_type": "code",
   "execution_count": 3,
   "metadata": {},
   "outputs": [],
   "source": [
    "df = pd.read_csv(\"Data/LeagueofLegends.csv\")"
   ]
  },
  {
   "cell_type": "code",
   "execution_count": 4,
   "metadata": {},
   "outputs": [
    {
     "data": {
      "text/html": [
       "<div>\n",
       "<style scoped>\n",
       "    .dataframe tbody tr th:only-of-type {\n",
       "        vertical-align: middle;\n",
       "    }\n",
       "\n",
       "    .dataframe tbody tr th {\n",
       "        vertical-align: top;\n",
       "    }\n",
       "\n",
       "    .dataframe thead th {\n",
       "        text-align: right;\n",
       "    }\n",
       "</style>\n",
       "<table border=\"1\" class=\"dataframe\">\n",
       "  <thead>\n",
       "    <tr style=\"text-align: right;\">\n",
       "      <th></th>\n",
       "      <th>League</th>\n",
       "      <th>Year</th>\n",
       "      <th>Season</th>\n",
       "      <th>Type</th>\n",
       "      <th>blueTeamTag</th>\n",
       "      <th>bResult</th>\n",
       "      <th>rResult</th>\n",
       "      <th>redTeamTag</th>\n",
       "      <th>gamelength</th>\n",
       "      <th>golddiff</th>\n",
       "      <th>...</th>\n",
       "      <th>redMiddleChamp</th>\n",
       "      <th>goldredMiddle</th>\n",
       "      <th>redADC</th>\n",
       "      <th>redADCChamp</th>\n",
       "      <th>goldredADC</th>\n",
       "      <th>redSupport</th>\n",
       "      <th>redSupportChamp</th>\n",
       "      <th>goldredSupport</th>\n",
       "      <th>redBans</th>\n",
       "      <th>Address</th>\n",
       "    </tr>\n",
       "  </thead>\n",
       "  <tbody>\n",
       "    <tr>\n",
       "      <td>0</td>\n",
       "      <td>NALCS</td>\n",
       "      <td>2015</td>\n",
       "      <td>Spring</td>\n",
       "      <td>Season</td>\n",
       "      <td>TSM</td>\n",
       "      <td>1</td>\n",
       "      <td>0</td>\n",
       "      <td>C9</td>\n",
       "      <td>40</td>\n",
       "      <td>[0, 0, -14, -65, -268, -431, -488, -789, -494,...</td>\n",
       "      <td>...</td>\n",
       "      <td>Fizz</td>\n",
       "      <td>[475, 475, 552, 842, 1178, 1378, 1635, 1949, 2...</td>\n",
       "      <td>Sneaky</td>\n",
       "      <td>Sivir</td>\n",
       "      <td>[475, 475, 532, 762, 1097, 1469, 1726, 2112, 2...</td>\n",
       "      <td>LemonNation</td>\n",
       "      <td>Thresh</td>\n",
       "      <td>[515, 515, 577, 722, 911, 1042, 1194, 1370, 14...</td>\n",
       "      <td>['Tristana', 'Leblanc', 'Nidalee']</td>\n",
       "      <td>http://matchhistory.na.leagueoflegends.com/en/...</td>\n",
       "    </tr>\n",
       "    <tr>\n",
       "      <td>1</td>\n",
       "      <td>NALCS</td>\n",
       "      <td>2015</td>\n",
       "      <td>Spring</td>\n",
       "      <td>Season</td>\n",
       "      <td>CST</td>\n",
       "      <td>0</td>\n",
       "      <td>1</td>\n",
       "      <td>DIG</td>\n",
       "      <td>38</td>\n",
       "      <td>[0, 0, -26, -18, 147, 237, -152, 18, 88, -242,...</td>\n",
       "      <td>...</td>\n",
       "      <td>Azir</td>\n",
       "      <td>[475, 475, 552, 786, 1097, 1389, 1660, 1955, 2...</td>\n",
       "      <td>CoreJJ</td>\n",
       "      <td>Corki</td>\n",
       "      <td>[475, 475, 532, 868, 1220, 1445, 1732, 1979, 2...</td>\n",
       "      <td>KiWiKiD</td>\n",
       "      <td>Annie</td>\n",
       "      <td>[515, 515, 583, 752, 900, 1066, 1236, 1417, 15...</td>\n",
       "      <td>['RekSai', 'Janna', 'Leblanc']</td>\n",
       "      <td>http://matchhistory.na.leagueoflegends.com/en/...</td>\n",
       "    </tr>\n",
       "    <tr>\n",
       "      <td>2</td>\n",
       "      <td>NALCS</td>\n",
       "      <td>2015</td>\n",
       "      <td>Spring</td>\n",
       "      <td>Season</td>\n",
       "      <td>WFX</td>\n",
       "      <td>1</td>\n",
       "      <td>0</td>\n",
       "      <td>GV</td>\n",
       "      <td>40</td>\n",
       "      <td>[0, 0, 10, -60, 34, 37, 589, 1064, 1258, 913, ...</td>\n",
       "      <td>...</td>\n",
       "      <td>Azir</td>\n",
       "      <td>[475, 475, 533, 801, 1006, 1233, 1385, 1720, 1...</td>\n",
       "      <td>Cop</td>\n",
       "      <td>Corki</td>\n",
       "      <td>[475, 475, 533, 781, 1085, 1398, 1782, 1957, 2...</td>\n",
       "      <td>BunnyFuFuu</td>\n",
       "      <td>Janna</td>\n",
       "      <td>[515, 515, 584, 721, 858, 1002, 1168, 1303, 14...</td>\n",
       "      <td>['Leblanc', 'Zed', 'RekSai']</td>\n",
       "      <td>http://matchhistory.na.leagueoflegends.com/en/...</td>\n",
       "    </tr>\n",
       "    <tr>\n",
       "      <td>3</td>\n",
       "      <td>NALCS</td>\n",
       "      <td>2015</td>\n",
       "      <td>Spring</td>\n",
       "      <td>Season</td>\n",
       "      <td>TIP</td>\n",
       "      <td>0</td>\n",
       "      <td>1</td>\n",
       "      <td>TL</td>\n",
       "      <td>41</td>\n",
       "      <td>[0, 0, -15, 25, 228, -6, -243, 175, -346, 16, ...</td>\n",
       "      <td>...</td>\n",
       "      <td>Lulu</td>\n",
       "      <td>[475, 475, 532, 771, 1046, 1288, 1534, 1776, 2...</td>\n",
       "      <td>KEITH</td>\n",
       "      <td>KogMaw</td>\n",
       "      <td>[475, 475, 532, 766, 1161, 1438, 1776, 1936, 2...</td>\n",
       "      <td>Xpecial</td>\n",
       "      <td>Janna</td>\n",
       "      <td>[515, 515, 583, 721, 870, 1059, 1205, 1342, 15...</td>\n",
       "      <td>['RekSai', 'Rumble', 'LeeSin']</td>\n",
       "      <td>http://matchhistory.na.leagueoflegends.com/en/...</td>\n",
       "    </tr>\n",
       "    <tr>\n",
       "      <td>4</td>\n",
       "      <td>NALCS</td>\n",
       "      <td>2015</td>\n",
       "      <td>Spring</td>\n",
       "      <td>Season</td>\n",
       "      <td>CLG</td>\n",
       "      <td>1</td>\n",
       "      <td>0</td>\n",
       "      <td>T8</td>\n",
       "      <td>35</td>\n",
       "      <td>[40, 40, 44, -36, 113, 158, -121, -191, 23, 20...</td>\n",
       "      <td>...</td>\n",
       "      <td>Lulu</td>\n",
       "      <td>[475, 475, 532, 807, 1042, 1338, 1646, 1951, 2...</td>\n",
       "      <td>Maplestreet8</td>\n",
       "      <td>Corki</td>\n",
       "      <td>[475, 475, 532, 792, 1187, 1488, 1832, 2136, 2...</td>\n",
       "      <td>Dodo8</td>\n",
       "      <td>Annie</td>\n",
       "      <td>[475, 475, 538, 671, 817, 948, 1104, 1240, 136...</td>\n",
       "      <td>['Rumble', 'Sivir', 'Rengar']</td>\n",
       "      <td>http://matchhistory.na.leagueoflegends.com/en/...</td>\n",
       "    </tr>\n",
       "  </tbody>\n",
       "</table>\n",
       "<p>5 rows × 57 columns</p>\n",
       "</div>"
      ],
      "text/plain": [
       "  League  Year  Season    Type blueTeamTag  bResult  rResult redTeamTag  \\\n",
       "0  NALCS  2015  Spring  Season         TSM        1        0         C9   \n",
       "1  NALCS  2015  Spring  Season         CST        0        1        DIG   \n",
       "2  NALCS  2015  Spring  Season         WFX        1        0         GV   \n",
       "3  NALCS  2015  Spring  Season         TIP        0        1         TL   \n",
       "4  NALCS  2015  Spring  Season         CLG        1        0         T8   \n",
       "\n",
       "   gamelength                                           golddiff  ...  \\\n",
       "0          40  [0, 0, -14, -65, -268, -431, -488, -789, -494,...  ...   \n",
       "1          38  [0, 0, -26, -18, 147, 237, -152, 18, 88, -242,...  ...   \n",
       "2          40  [0, 0, 10, -60, 34, 37, 589, 1064, 1258, 913, ...  ...   \n",
       "3          41  [0, 0, -15, 25, 228, -6, -243, 175, -346, 16, ...  ...   \n",
       "4          35  [40, 40, 44, -36, 113, 158, -121, -191, 23, 20...  ...   \n",
       "\n",
       "  redMiddleChamp                                      goldredMiddle  \\\n",
       "0           Fizz  [475, 475, 552, 842, 1178, 1378, 1635, 1949, 2...   \n",
       "1           Azir  [475, 475, 552, 786, 1097, 1389, 1660, 1955, 2...   \n",
       "2           Azir  [475, 475, 533, 801, 1006, 1233, 1385, 1720, 1...   \n",
       "3           Lulu  [475, 475, 532, 771, 1046, 1288, 1534, 1776, 2...   \n",
       "4           Lulu  [475, 475, 532, 807, 1042, 1338, 1646, 1951, 2...   \n",
       "\n",
       "         redADC redADCChamp  \\\n",
       "0        Sneaky       Sivir   \n",
       "1        CoreJJ       Corki   \n",
       "2           Cop       Corki   \n",
       "3         KEITH      KogMaw   \n",
       "4  Maplestreet8       Corki   \n",
       "\n",
       "                                          goldredADC   redSupport  \\\n",
       "0  [475, 475, 532, 762, 1097, 1469, 1726, 2112, 2...  LemonNation   \n",
       "1  [475, 475, 532, 868, 1220, 1445, 1732, 1979, 2...      KiWiKiD   \n",
       "2  [475, 475, 533, 781, 1085, 1398, 1782, 1957, 2...   BunnyFuFuu   \n",
       "3  [475, 475, 532, 766, 1161, 1438, 1776, 1936, 2...      Xpecial   \n",
       "4  [475, 475, 532, 792, 1187, 1488, 1832, 2136, 2...        Dodo8   \n",
       "\n",
       "  redSupportChamp                                     goldredSupport  \\\n",
       "0          Thresh  [515, 515, 577, 722, 911, 1042, 1194, 1370, 14...   \n",
       "1           Annie  [515, 515, 583, 752, 900, 1066, 1236, 1417, 15...   \n",
       "2           Janna  [515, 515, 584, 721, 858, 1002, 1168, 1303, 14...   \n",
       "3           Janna  [515, 515, 583, 721, 870, 1059, 1205, 1342, 15...   \n",
       "4           Annie  [475, 475, 538, 671, 817, 948, 1104, 1240, 136...   \n",
       "\n",
       "                              redBans  \\\n",
       "0  ['Tristana', 'Leblanc', 'Nidalee']   \n",
       "1      ['RekSai', 'Janna', 'Leblanc']   \n",
       "2        ['Leblanc', 'Zed', 'RekSai']   \n",
       "3      ['RekSai', 'Rumble', 'LeeSin']   \n",
       "4       ['Rumble', 'Sivir', 'Rengar']   \n",
       "\n",
       "                                             Address  \n",
       "0  http://matchhistory.na.leagueoflegends.com/en/...  \n",
       "1  http://matchhistory.na.leagueoflegends.com/en/...  \n",
       "2  http://matchhistory.na.leagueoflegends.com/en/...  \n",
       "3  http://matchhistory.na.leagueoflegends.com/en/...  \n",
       "4  http://matchhistory.na.leagueoflegends.com/en/...  \n",
       "\n",
       "[5 rows x 57 columns]"
      ]
     },
     "execution_count": 4,
     "metadata": {},
     "output_type": "execute_result"
    }
   ],
   "source": [
    "df.head()"
   ]
  },
  {
   "cell_type": "code",
   "execution_count": 5,
   "metadata": {},
   "outputs": [
    {
     "data": {
      "text/plain": [
       "(7620, 57)"
      ]
     },
     "execution_count": 5,
     "metadata": {},
     "output_type": "execute_result"
    }
   ],
   "source": [
    "df.shape"
   ]
  },
  {
   "cell_type": "code",
   "execution_count": 6,
   "metadata": {},
   "outputs": [
    {
     "data": {
      "text/plain": [
       "array(['Spring', 'Summer'], dtype=object)"
      ]
     },
     "execution_count": 6,
     "metadata": {},
     "output_type": "execute_result"
    }
   ],
   "source": [
    "df['Season'].unique()"
   ]
  },
  {
   "cell_type": "code",
   "execution_count": 7,
   "metadata": {},
   "outputs": [
    {
     "data": {
      "text/plain": [
       "array(['NALCS', 'EULCS', 'LCK', 'LMS', 'CBLoL', 'TCL', 'OPL', 'CLS',\n",
       "       'LLN', 'LJL', 'LCL', 'WC', 'MSI', 'IEM', 'RR'], dtype=object)"
      ]
     },
     "execution_count": 7,
     "metadata": {},
     "output_type": "execute_result"
    }
   ],
   "source": [
    "df['League'].unique()"
   ]
  },
  {
   "cell_type": "code",
   "execution_count": 8,
   "metadata": {},
   "outputs": [
    {
     "data": {
      "text/plain": [
       "array(['TSM', 'CST', 'WFX', 'TIP', 'CLG', 'DIG', 'TL', 'C9', 'T8', 'GV',\n",
       "       'TDK', 'NME', 'REN', 'FOX', 'IMT', 'NRG', 'NV', 'APX', 'P1', 'FLY',\n",
       "       'EL', 'GIA', 'CW', 'SK', 'GMB', 'MYM', 'ROC', 'FNC', 'UOL', 'H2K',\n",
       "       'OG', 'SPY', 'VIT', 'G2', 'S04', 'MSF', 'NIP', 'MM', 'CJE', 'JAG',\n",
       "       'SKT', 'GET', 'NJE', 'IM', 'SSG', 'kt', 'ANC', 'SBENU', 'Longzhu',\n",
       "       'SSB', 'KOO', 'LZ', 'NJF', 'CJ', 'AFs', 'EMF', 'ROX', 'KDM', 'ESC',\n",
       "       'MVP', 'bbq', 'EEW', 'ahq', 'Crew', 'TPA', 'LOG', 'DLY', 'MSE',\n",
       "       'NGU', 'DoR', 'HKES', 'yoeFW', nan, 'LGS', 'as', 'HKE', 'FW',\n",
       "       'Mac', 'AS', 'M17', 'CGE', 'XG', 'JT', 'TM', 'FB', 'WS', 'RG',\n",
       "       'HKA', 'AHQ', 'PNG', 'ITZ', 'CNB', 'OPK', 'VFK', 'KBM', 'RED',\n",
       "       'g3x', 'BGG', 'KST', 'REM', 'TSW', 'PRG', 'ONE', 'BJK', 'TT', 'A',\n",
       "       'ZONE', 'HWA', 'NR1', 'DP', 'BPI', 'OHM', 'CREW', 'SUP', 'AUR',\n",
       "       'CLK', 'CRW', 'GS', 'GAL', 'P3P', 'INF', 'DW', 'LGC', 'SIN', 'TRI',\n",
       "       'CHF', 'HLN', 'AV', 'AE', 'X5', 'RGC', 'ISG', 'HAF', 'FG', 'RBT',\n",
       "       'LK', 'KLG', 'B2K', 'PDS', 'IFG', 'JTH', 'LYN', 'D9', 'ZTG', 'GG',\n",
       "       'SCW', '7h', 'USG', 'DFM', 'RPG', 'CRJ', 'BE', 'SZ', 'RJ', 'BC',\n",
       "       'HR', 'DF', 'VEG', 'JST', 'VS', 'EMP', 'ANX', 'M19', 'VP', 'JSA',\n",
       "       'EDG', 'SSW', 'SHR', 'LMQ', 'NWS', 'OMG', 'ALL', 'IG', 'BKT', 'KT',\n",
       "       'LGD', 'RNG', 'GAM', 'WE', 'QG', 'H2k', 'INTZ', 'JTM', 'GlA',\n",
       "       'MSK', 'ASC', '100', 'CG', 'KZ', 'KSV', 'ORD', 'TTC', 'BMR', 'MAD',\n",
       "       'VK', 'YC', 'OPT', 'GGS', 'CA', 'EG', 'COL', 'F5', 'ZEN', 'CLB',\n",
       "       'COW', 'MKZ', 'PRO', 'FIS', 'NTR', 'FSN', 'SKP', 'MIL', 'MC', 'CF',\n",
       "       'TS', 'TRC', 'FAC', 'SPA', 'DD', 'MOU', 'IMG', 'TLA', 'C9C', 'GCU',\n",
       "       'EUN', 'HMA', 'FNA', 'MFA', 'Winners', 'Prime', 'Xenics', 'EVR',\n",
       "       'SBK', 'FH', 'WOR', 'NH', 'TY', '17A', 'AF', 'DH', 'AFR', 'GRX',\n",
       "       'RBE'], dtype=object)"
      ]
     },
     "execution_count": 8,
     "metadata": {},
     "output_type": "execute_result"
    }
   ],
   "source": [
    "df['blueTeamTag'].unique()"
   ]
  },
  {
   "cell_type": "code",
   "execution_count": 9,
   "metadata": {},
   "outputs": [
    {
     "data": {
      "text/plain": [
       "Season           5653\n",
       "Playoffs          775\n",
       "International     658\n",
       "Promotion         391\n",
       "Regional          143\n",
       "Name: Type, dtype: int64"
      ]
     },
     "execution_count": 9,
     "metadata": {},
     "output_type": "execute_result"
    }
   ],
   "source": [
    "df['Type'].value_counts()"
   ]
  },
  {
   "cell_type": "code",
   "execution_count": 10,
   "metadata": {},
   "outputs": [
    {
     "data": {
      "text/plain": [
       "LCK      1445\n",
       "NALCS    1272\n",
       "EULCS    1099\n",
       "LMS       778\n",
       "TCL       653\n",
       "OPL       458\n",
       "WC        308\n",
       "CBLoL     301\n",
       "LCL       281\n",
       "LJL       258\n",
       "LLN       242\n",
       "CLS       175\n",
       "IEM       138\n",
       "MSI       111\n",
       "RR        101\n",
       "Name: League, dtype: int64"
      ]
     },
     "execution_count": 10,
     "metadata": {},
     "output_type": "execute_result"
    }
   ],
   "source": [
    "df['League'].value_counts()"
   ]
  },
  {
   "cell_type": "code",
   "execution_count": 11,
   "metadata": {},
   "outputs": [
    {
     "data": {
      "text/plain": [
       "37.01259842519685"
      ]
     },
     "execution_count": 11,
     "metadata": {},
     "output_type": "execute_result"
    }
   ],
   "source": [
    "df['gamelength'].mean()"
   ]
  },
  {
   "cell_type": "code",
   "execution_count": 12,
   "metadata": {},
   "outputs": [
    {
     "data": {
      "text/plain": [
       "Index(['League', 'Year', 'Season', 'Type', 'blueTeamTag', 'bResult', 'rResult',\n",
       "       'redTeamTag', 'gamelength', 'golddiff', 'goldblue', 'bKills', 'bTowers',\n",
       "       'bInhibs', 'bDragons', 'bBarons', 'bHeralds', 'goldred', 'rKills',\n",
       "       'rTowers', 'rInhibs', 'rDragons', 'rBarons', 'rHeralds', 'blueTop',\n",
       "       'blueTopChamp', 'goldblueTop', 'blueJungle', 'blueJungleChamp',\n",
       "       'goldblueJungle', 'blueMiddle', 'blueMiddleChamp', 'goldblueMiddle',\n",
       "       'blueADC', 'blueADCChamp', 'goldblueADC', 'blueSupport',\n",
       "       'blueSupportChamp', 'goldblueSupport', 'blueBans', 'redTop',\n",
       "       'redTopChamp', 'goldredTop', 'redJungle', 'redJungleChamp',\n",
       "       'goldredJungle', 'redMiddle', 'redMiddleChamp', 'goldredMiddle',\n",
       "       'redADC', 'redADCChamp', 'goldredADC', 'redSupport', 'redSupportChamp',\n",
       "       'goldredSupport', 'redBans', 'Address'],\n",
       "      dtype='object')"
      ]
     },
     "execution_count": 12,
     "metadata": {},
     "output_type": "execute_result"
    }
   ],
   "source": [
    "df.columns"
   ]
  },
  {
   "cell_type": "code",
   "execution_count": 13,
   "metadata": {},
   "outputs": [],
   "source": [
    "df2 = df.drop('Address', 1)"
   ]
  },
  {
   "cell_type": "code",
   "execution_count": 14,
   "metadata": {},
   "outputs": [
    {
     "data": {
      "text/plain": [
       "Index(['League', 'Year', 'Season', 'Type', 'blueTeamTag', 'bResult', 'rResult',\n",
       "       'redTeamTag', 'gamelength', 'golddiff', 'goldblue', 'bKills', 'bTowers',\n",
       "       'bInhibs', 'bDragons', 'bBarons', 'bHeralds', 'goldred', 'rKills',\n",
       "       'rTowers', 'rInhibs', 'rDragons', 'rBarons', 'rHeralds', 'blueTop',\n",
       "       'blueTopChamp', 'goldblueTop', 'blueJungle', 'blueJungleChamp',\n",
       "       'goldblueJungle', 'blueMiddle', 'blueMiddleChamp', 'goldblueMiddle',\n",
       "       'blueADC', 'blueADCChamp', 'goldblueADC', 'blueSupport',\n",
       "       'blueSupportChamp', 'goldblueSupport', 'blueBans', 'redTop',\n",
       "       'redTopChamp', 'goldredTop', 'redJungle', 'redJungleChamp',\n",
       "       'goldredJungle', 'redMiddle', 'redMiddleChamp', 'goldredMiddle',\n",
       "       'redADC', 'redADCChamp', 'goldredADC', 'redSupport', 'redSupportChamp',\n",
       "       'goldredSupport', 'redBans'],\n",
       "      dtype='object')"
      ]
     },
     "execution_count": 14,
     "metadata": {},
     "output_type": "execute_result"
    }
   ],
   "source": [
    "df2.columns"
   ]
  },
  {
   "cell_type": "code",
   "execution_count": 15,
   "metadata": {},
   "outputs": [
    {
     "data": {
      "text/html": [
       "<div>\n",
       "<style scoped>\n",
       "    .dataframe tbody tr th:only-of-type {\n",
       "        vertical-align: middle;\n",
       "    }\n",
       "\n",
       "    .dataframe tbody tr th {\n",
       "        vertical-align: top;\n",
       "    }\n",
       "\n",
       "    .dataframe thead th {\n",
       "        text-align: right;\n",
       "    }\n",
       "</style>\n",
       "<table border=\"1\" class=\"dataframe\">\n",
       "  <thead>\n",
       "    <tr style=\"text-align: right;\">\n",
       "      <th></th>\n",
       "      <th>League</th>\n",
       "      <th>Year</th>\n",
       "      <th>Season</th>\n",
       "      <th>Type</th>\n",
       "      <th>blueTeamTag</th>\n",
       "      <th>bResult</th>\n",
       "      <th>rResult</th>\n",
       "      <th>redTeamTag</th>\n",
       "      <th>gamelength</th>\n",
       "      <th>golddiff</th>\n",
       "      <th>...</th>\n",
       "      <th>redMiddleChamp</th>\n",
       "      <th>goldredMiddle</th>\n",
       "      <th>redADC</th>\n",
       "      <th>redADCChamp</th>\n",
       "      <th>goldredADC</th>\n",
       "      <th>redSupport</th>\n",
       "      <th>redSupportChamp</th>\n",
       "      <th>goldredSupport</th>\n",
       "      <th>redBans</th>\n",
       "      <th>Address</th>\n",
       "    </tr>\n",
       "  </thead>\n",
       "  <tbody>\n",
       "    <tr>\n",
       "      <td>0</td>\n",
       "      <td>NALCS</td>\n",
       "      <td>2015</td>\n",
       "      <td>Spring</td>\n",
       "      <td>Season</td>\n",
       "      <td>TSM</td>\n",
       "      <td>1</td>\n",
       "      <td>0</td>\n",
       "      <td>C9</td>\n",
       "      <td>40</td>\n",
       "      <td>[0, 0, -14, -65, -268, -431, -488, -789, -494,...</td>\n",
       "      <td>...</td>\n",
       "      <td>Fizz</td>\n",
       "      <td>[475, 475, 552, 842, 1178, 1378, 1635, 1949, 2...</td>\n",
       "      <td>Sneaky</td>\n",
       "      <td>Sivir</td>\n",
       "      <td>[475, 475, 532, 762, 1097, 1469, 1726, 2112, 2...</td>\n",
       "      <td>LemonNation</td>\n",
       "      <td>Thresh</td>\n",
       "      <td>[515, 515, 577, 722, 911, 1042, 1194, 1370, 14...</td>\n",
       "      <td>['Tristana', 'Leblanc', 'Nidalee']</td>\n",
       "      <td>http://matchhistory.na.leagueoflegends.com/en/...</td>\n",
       "    </tr>\n",
       "    <tr>\n",
       "      <td>1</td>\n",
       "      <td>NALCS</td>\n",
       "      <td>2015</td>\n",
       "      <td>Spring</td>\n",
       "      <td>Season</td>\n",
       "      <td>CST</td>\n",
       "      <td>0</td>\n",
       "      <td>1</td>\n",
       "      <td>DIG</td>\n",
       "      <td>38</td>\n",
       "      <td>[0, 0, -26, -18, 147, 237, -152, 18, 88, -242,...</td>\n",
       "      <td>...</td>\n",
       "      <td>Azir</td>\n",
       "      <td>[475, 475, 552, 786, 1097, 1389, 1660, 1955, 2...</td>\n",
       "      <td>CoreJJ</td>\n",
       "      <td>Corki</td>\n",
       "      <td>[475, 475, 532, 868, 1220, 1445, 1732, 1979, 2...</td>\n",
       "      <td>KiWiKiD</td>\n",
       "      <td>Annie</td>\n",
       "      <td>[515, 515, 583, 752, 900, 1066, 1236, 1417, 15...</td>\n",
       "      <td>['RekSai', 'Janna', 'Leblanc']</td>\n",
       "      <td>http://matchhistory.na.leagueoflegends.com/en/...</td>\n",
       "    </tr>\n",
       "    <tr>\n",
       "      <td>2</td>\n",
       "      <td>NALCS</td>\n",
       "      <td>2015</td>\n",
       "      <td>Spring</td>\n",
       "      <td>Season</td>\n",
       "      <td>WFX</td>\n",
       "      <td>1</td>\n",
       "      <td>0</td>\n",
       "      <td>GV</td>\n",
       "      <td>40</td>\n",
       "      <td>[0, 0, 10, -60, 34, 37, 589, 1064, 1258, 913, ...</td>\n",
       "      <td>...</td>\n",
       "      <td>Azir</td>\n",
       "      <td>[475, 475, 533, 801, 1006, 1233, 1385, 1720, 1...</td>\n",
       "      <td>Cop</td>\n",
       "      <td>Corki</td>\n",
       "      <td>[475, 475, 533, 781, 1085, 1398, 1782, 1957, 2...</td>\n",
       "      <td>BunnyFuFuu</td>\n",
       "      <td>Janna</td>\n",
       "      <td>[515, 515, 584, 721, 858, 1002, 1168, 1303, 14...</td>\n",
       "      <td>['Leblanc', 'Zed', 'RekSai']</td>\n",
       "      <td>http://matchhistory.na.leagueoflegends.com/en/...</td>\n",
       "    </tr>\n",
       "    <tr>\n",
       "      <td>3</td>\n",
       "      <td>NALCS</td>\n",
       "      <td>2015</td>\n",
       "      <td>Spring</td>\n",
       "      <td>Season</td>\n",
       "      <td>TIP</td>\n",
       "      <td>0</td>\n",
       "      <td>1</td>\n",
       "      <td>TL</td>\n",
       "      <td>41</td>\n",
       "      <td>[0, 0, -15, 25, 228, -6, -243, 175, -346, 16, ...</td>\n",
       "      <td>...</td>\n",
       "      <td>Lulu</td>\n",
       "      <td>[475, 475, 532, 771, 1046, 1288, 1534, 1776, 2...</td>\n",
       "      <td>KEITH</td>\n",
       "      <td>KogMaw</td>\n",
       "      <td>[475, 475, 532, 766, 1161, 1438, 1776, 1936, 2...</td>\n",
       "      <td>Xpecial</td>\n",
       "      <td>Janna</td>\n",
       "      <td>[515, 515, 583, 721, 870, 1059, 1205, 1342, 15...</td>\n",
       "      <td>['RekSai', 'Rumble', 'LeeSin']</td>\n",
       "      <td>http://matchhistory.na.leagueoflegends.com/en/...</td>\n",
       "    </tr>\n",
       "    <tr>\n",
       "      <td>4</td>\n",
       "      <td>NALCS</td>\n",
       "      <td>2015</td>\n",
       "      <td>Spring</td>\n",
       "      <td>Season</td>\n",
       "      <td>CLG</td>\n",
       "      <td>1</td>\n",
       "      <td>0</td>\n",
       "      <td>T8</td>\n",
       "      <td>35</td>\n",
       "      <td>[40, 40, 44, -36, 113, 158, -121, -191, 23, 20...</td>\n",
       "      <td>...</td>\n",
       "      <td>Lulu</td>\n",
       "      <td>[475, 475, 532, 807, 1042, 1338, 1646, 1951, 2...</td>\n",
       "      <td>Maplestreet8</td>\n",
       "      <td>Corki</td>\n",
       "      <td>[475, 475, 532, 792, 1187, 1488, 1832, 2136, 2...</td>\n",
       "      <td>Dodo8</td>\n",
       "      <td>Annie</td>\n",
       "      <td>[475, 475, 538, 671, 817, 948, 1104, 1240, 136...</td>\n",
       "      <td>['Rumble', 'Sivir', 'Rengar']</td>\n",
       "      <td>http://matchhistory.na.leagueoflegends.com/en/...</td>\n",
       "    </tr>\n",
       "  </tbody>\n",
       "</table>\n",
       "<p>5 rows × 57 columns</p>\n",
       "</div>"
      ],
      "text/plain": [
       "  League  Year  Season    Type blueTeamTag  bResult  rResult redTeamTag  \\\n",
       "0  NALCS  2015  Spring  Season         TSM        1        0         C9   \n",
       "1  NALCS  2015  Spring  Season         CST        0        1        DIG   \n",
       "2  NALCS  2015  Spring  Season         WFX        1        0         GV   \n",
       "3  NALCS  2015  Spring  Season         TIP        0        1         TL   \n",
       "4  NALCS  2015  Spring  Season         CLG        1        0         T8   \n",
       "\n",
       "   gamelength                                           golddiff  ...  \\\n",
       "0          40  [0, 0, -14, -65, -268, -431, -488, -789, -494,...  ...   \n",
       "1          38  [0, 0, -26, -18, 147, 237, -152, 18, 88, -242,...  ...   \n",
       "2          40  [0, 0, 10, -60, 34, 37, 589, 1064, 1258, 913, ...  ...   \n",
       "3          41  [0, 0, -15, 25, 228, -6, -243, 175, -346, 16, ...  ...   \n",
       "4          35  [40, 40, 44, -36, 113, 158, -121, -191, 23, 20...  ...   \n",
       "\n",
       "  redMiddleChamp                                      goldredMiddle  \\\n",
       "0           Fizz  [475, 475, 552, 842, 1178, 1378, 1635, 1949, 2...   \n",
       "1           Azir  [475, 475, 552, 786, 1097, 1389, 1660, 1955, 2...   \n",
       "2           Azir  [475, 475, 533, 801, 1006, 1233, 1385, 1720, 1...   \n",
       "3           Lulu  [475, 475, 532, 771, 1046, 1288, 1534, 1776, 2...   \n",
       "4           Lulu  [475, 475, 532, 807, 1042, 1338, 1646, 1951, 2...   \n",
       "\n",
       "         redADC redADCChamp  \\\n",
       "0        Sneaky       Sivir   \n",
       "1        CoreJJ       Corki   \n",
       "2           Cop       Corki   \n",
       "3         KEITH      KogMaw   \n",
       "4  Maplestreet8       Corki   \n",
       "\n",
       "                                          goldredADC   redSupport  \\\n",
       "0  [475, 475, 532, 762, 1097, 1469, 1726, 2112, 2...  LemonNation   \n",
       "1  [475, 475, 532, 868, 1220, 1445, 1732, 1979, 2...      KiWiKiD   \n",
       "2  [475, 475, 533, 781, 1085, 1398, 1782, 1957, 2...   BunnyFuFuu   \n",
       "3  [475, 475, 532, 766, 1161, 1438, 1776, 1936, 2...      Xpecial   \n",
       "4  [475, 475, 532, 792, 1187, 1488, 1832, 2136, 2...        Dodo8   \n",
       "\n",
       "  redSupportChamp                                     goldredSupport  \\\n",
       "0          Thresh  [515, 515, 577, 722, 911, 1042, 1194, 1370, 14...   \n",
       "1           Annie  [515, 515, 583, 752, 900, 1066, 1236, 1417, 15...   \n",
       "2           Janna  [515, 515, 584, 721, 858, 1002, 1168, 1303, 14...   \n",
       "3           Janna  [515, 515, 583, 721, 870, 1059, 1205, 1342, 15...   \n",
       "4           Annie  [475, 475, 538, 671, 817, 948, 1104, 1240, 136...   \n",
       "\n",
       "                              redBans  \\\n",
       "0  ['Tristana', 'Leblanc', 'Nidalee']   \n",
       "1      ['RekSai', 'Janna', 'Leblanc']   \n",
       "2        ['Leblanc', 'Zed', 'RekSai']   \n",
       "3      ['RekSai', 'Rumble', 'LeeSin']   \n",
       "4       ['Rumble', 'Sivir', 'Rengar']   \n",
       "\n",
       "                                             Address  \n",
       "0  http://matchhistory.na.leagueoflegends.com/en/...  \n",
       "1  http://matchhistory.na.leagueoflegends.com/en/...  \n",
       "2  http://matchhistory.na.leagueoflegends.com/en/...  \n",
       "3  http://matchhistory.na.leagueoflegends.com/en/...  \n",
       "4  http://matchhistory.na.leagueoflegends.com/en/...  \n",
       "\n",
       "[5 rows x 57 columns]"
      ]
     },
     "execution_count": 15,
     "metadata": {},
     "output_type": "execute_result"
    }
   ],
   "source": [
    "df.head()"
   ]
  },
  {
   "cell_type": "code",
   "execution_count": 16,
   "metadata": {},
   "outputs": [],
   "source": [
    "df2 = df[['League', 'Type','blueTeamTag','bResult','rResult','redTeamTag','gamelength','golddiff']]"
   ]
  },
  {
   "cell_type": "code",
   "execution_count": 17,
   "metadata": {},
   "outputs": [
    {
     "data": {
      "text/plain": [
       "Index(['League', 'Type', 'blueTeamTag', 'bResult', 'rResult', 'redTeamTag',\n",
       "       'gamelength', 'golddiff'],\n",
       "      dtype='object')"
      ]
     },
     "execution_count": 17,
     "metadata": {},
     "output_type": "execute_result"
    }
   ],
   "source": [
    "df2.columns"
   ]
  },
  {
   "cell_type": "code",
   "execution_count": 18,
   "metadata": {},
   "outputs": [
    {
     "data": {
      "text/plain": [
       "(7620, 8)"
      ]
     },
     "execution_count": 18,
     "metadata": {},
     "output_type": "execute_result"
    }
   ],
   "source": [
    "df2.shape"
   ]
  },
  {
   "cell_type": "code",
   "execution_count": 19,
   "metadata": {},
   "outputs": [
    {
     "data": {
      "text/html": [
       "<div>\n",
       "<style scoped>\n",
       "    .dataframe tbody tr th:only-of-type {\n",
       "        vertical-align: middle;\n",
       "    }\n",
       "\n",
       "    .dataframe tbody tr th {\n",
       "        vertical-align: top;\n",
       "    }\n",
       "\n",
       "    .dataframe thead th {\n",
       "        text-align: right;\n",
       "    }\n",
       "</style>\n",
       "<table border=\"1\" class=\"dataframe\">\n",
       "  <thead>\n",
       "    <tr style=\"text-align: right;\">\n",
       "      <th></th>\n",
       "      <th>League</th>\n",
       "      <th>Type</th>\n",
       "      <th>blueTeamTag</th>\n",
       "      <th>bResult</th>\n",
       "      <th>rResult</th>\n",
       "      <th>redTeamTag</th>\n",
       "      <th>gamelength</th>\n",
       "      <th>golddiff</th>\n",
       "    </tr>\n",
       "  </thead>\n",
       "  <tbody>\n",
       "    <tr>\n",
       "      <td>0</td>\n",
       "      <td>NALCS</td>\n",
       "      <td>Season</td>\n",
       "      <td>TSM</td>\n",
       "      <td>1</td>\n",
       "      <td>0</td>\n",
       "      <td>C9</td>\n",
       "      <td>40</td>\n",
       "      <td>[0, 0, -14, -65, -268, -431, -488, -789, -494,...</td>\n",
       "    </tr>\n",
       "    <tr>\n",
       "      <td>1</td>\n",
       "      <td>NALCS</td>\n",
       "      <td>Season</td>\n",
       "      <td>CST</td>\n",
       "      <td>0</td>\n",
       "      <td>1</td>\n",
       "      <td>DIG</td>\n",
       "      <td>38</td>\n",
       "      <td>[0, 0, -26, -18, 147, 237, -152, 18, 88, -242,...</td>\n",
       "    </tr>\n",
       "    <tr>\n",
       "      <td>2</td>\n",
       "      <td>NALCS</td>\n",
       "      <td>Season</td>\n",
       "      <td>WFX</td>\n",
       "      <td>1</td>\n",
       "      <td>0</td>\n",
       "      <td>GV</td>\n",
       "      <td>40</td>\n",
       "      <td>[0, 0, 10, -60, 34, 37, 589, 1064, 1258, 913, ...</td>\n",
       "    </tr>\n",
       "    <tr>\n",
       "      <td>3</td>\n",
       "      <td>NALCS</td>\n",
       "      <td>Season</td>\n",
       "      <td>TIP</td>\n",
       "      <td>0</td>\n",
       "      <td>1</td>\n",
       "      <td>TL</td>\n",
       "      <td>41</td>\n",
       "      <td>[0, 0, -15, 25, 228, -6, -243, 175, -346, 16, ...</td>\n",
       "    </tr>\n",
       "    <tr>\n",
       "      <td>4</td>\n",
       "      <td>NALCS</td>\n",
       "      <td>Season</td>\n",
       "      <td>CLG</td>\n",
       "      <td>1</td>\n",
       "      <td>0</td>\n",
       "      <td>T8</td>\n",
       "      <td>35</td>\n",
       "      <td>[40, 40, 44, -36, 113, 158, -121, -191, 23, 20...</td>\n",
       "    </tr>\n",
       "  </tbody>\n",
       "</table>\n",
       "</div>"
      ],
      "text/plain": [
       "  League    Type blueTeamTag  bResult  rResult redTeamTag  gamelength  \\\n",
       "0  NALCS  Season         TSM        1        0         C9          40   \n",
       "1  NALCS  Season         CST        0        1        DIG          38   \n",
       "2  NALCS  Season         WFX        1        0         GV          40   \n",
       "3  NALCS  Season         TIP        0        1         TL          41   \n",
       "4  NALCS  Season         CLG        1        0         T8          35   \n",
       "\n",
       "                                            golddiff  \n",
       "0  [0, 0, -14, -65, -268, -431, -488, -789, -494,...  \n",
       "1  [0, 0, -26, -18, 147, 237, -152, 18, 88, -242,...  \n",
       "2  [0, 0, 10, -60, 34, 37, 589, 1064, 1258, 913, ...  \n",
       "3  [0, 0, -15, 25, 228, -6, -243, 175, -346, 16, ...  \n",
       "4  [40, 40, 44, -36, 113, 158, -121, -191, 23, 20...  "
      ]
     },
     "execution_count": 19,
     "metadata": {},
     "output_type": "execute_result"
    }
   ],
   "source": [
    "df2.head()"
   ]
  },
  {
   "cell_type": "code",
   "execution_count": 20,
   "metadata": {},
   "outputs": [
    {
     "data": {
      "text/plain": [
       "37.01259842519685"
      ]
     },
     "execution_count": 20,
     "metadata": {},
     "output_type": "execute_result"
    }
   ],
   "source": [
    "df2['gamelength'].mean()"
   ]
  },
  {
   "cell_type": "code",
   "execution_count": 21,
   "metadata": {},
   "outputs": [
    {
     "data": {
      "text/plain": [
       "League         object\n",
       "Type           object\n",
       "blueTeamTag    object\n",
       "bResult         int64\n",
       "rResult         int64\n",
       "redTeamTag     object\n",
       "gamelength      int64\n",
       "golddiff       object\n",
       "dtype: object"
      ]
     },
     "execution_count": 21,
     "metadata": {},
     "output_type": "execute_result"
    }
   ],
   "source": [
    "df2.dtypes"
   ]
  },
  {
   "cell_type": "code",
   "execution_count": 22,
   "metadata": {},
   "outputs": [
    {
     "data": {
      "text/plain": [
       "LCK      1445\n",
       "NALCS    1272\n",
       "EULCS    1099\n",
       "LMS       778\n",
       "TCL       653\n",
       "OPL       458\n",
       "WC        308\n",
       "CBLoL     301\n",
       "LCL       281\n",
       "LJL       258\n",
       "LLN       242\n",
       "CLS       175\n",
       "IEM       138\n",
       "MSI       111\n",
       "RR        101\n",
       "Name: League, dtype: int64"
      ]
     },
     "execution_count": 22,
     "metadata": {},
     "output_type": "execute_result"
    }
   ],
   "source": [
    "df['League'].value_counts()"
   ]
  },
  {
   "cell_type": "code",
   "execution_count": 23,
   "metadata": {},
   "outputs": [],
   "source": [
    "# NALCS : Amérique du Nord\n",
    "# LCK : Corée\n",
    "# EULCS : Europe\n",
    "# LMS : Taiwan Hong-Kong Macao\n",
    "# TCL : Turquie\n",
    "# OPL : Océanie\n",
    "# WC : Worlds\n",
    "# CBLoL : Brésil\n",
    "\n",
    "df2 = df[['League', 'Type','blueTeamTag','bResult','rResult','redTeamTag','gamelength','golddiff']]\n",
    "\n",
    "s=df2[(df2['League'] == 'NALCS') | \n",
    "      (df2['League'] == 'LCK') | \n",
    "      (df2['League'] == 'EULCS') |\n",
    "      (df2['League'] == 'TCL') |\n",
    "      (df2['League'] == 'CBLoL')]"
   ]
  },
  {
   "cell_type": "code",
   "execution_count": 24,
   "metadata": {},
   "outputs": [
    {
     "data": {
      "text/html": [
       "<div>\n",
       "<style scoped>\n",
       "    .dataframe tbody tr th:only-of-type {\n",
       "        vertical-align: middle;\n",
       "    }\n",
       "\n",
       "    .dataframe tbody tr th {\n",
       "        vertical-align: top;\n",
       "    }\n",
       "\n",
       "    .dataframe thead th {\n",
       "        text-align: right;\n",
       "    }\n",
       "</style>\n",
       "<table border=\"1\" class=\"dataframe\">\n",
       "  <thead>\n",
       "    <tr style=\"text-align: right;\">\n",
       "      <th></th>\n",
       "      <th>League</th>\n",
       "      <th>Type</th>\n",
       "      <th>blueTeamTag</th>\n",
       "      <th>bResult</th>\n",
       "      <th>rResult</th>\n",
       "      <th>redTeamTag</th>\n",
       "      <th>gamelength</th>\n",
       "      <th>golddiff</th>\n",
       "    </tr>\n",
       "  </thead>\n",
       "  <tbody>\n",
       "    <tr>\n",
       "      <td>0</td>\n",
       "      <td>NALCS</td>\n",
       "      <td>Season</td>\n",
       "      <td>TSM</td>\n",
       "      <td>1</td>\n",
       "      <td>0</td>\n",
       "      <td>C9</td>\n",
       "      <td>40</td>\n",
       "      <td>[0, 0, -14, -65, -268, -431, -488, -789, -494,...</td>\n",
       "    </tr>\n",
       "    <tr>\n",
       "      <td>1</td>\n",
       "      <td>NALCS</td>\n",
       "      <td>Season</td>\n",
       "      <td>CST</td>\n",
       "      <td>0</td>\n",
       "      <td>1</td>\n",
       "      <td>DIG</td>\n",
       "      <td>38</td>\n",
       "      <td>[0, 0, -26, -18, 147, 237, -152, 18, 88, -242,...</td>\n",
       "    </tr>\n",
       "    <tr>\n",
       "      <td>2</td>\n",
       "      <td>NALCS</td>\n",
       "      <td>Season</td>\n",
       "      <td>WFX</td>\n",
       "      <td>1</td>\n",
       "      <td>0</td>\n",
       "      <td>GV</td>\n",
       "      <td>40</td>\n",
       "      <td>[0, 0, 10, -60, 34, 37, 589, 1064, 1258, 913, ...</td>\n",
       "    </tr>\n",
       "    <tr>\n",
       "      <td>3</td>\n",
       "      <td>NALCS</td>\n",
       "      <td>Season</td>\n",
       "      <td>TIP</td>\n",
       "      <td>0</td>\n",
       "      <td>1</td>\n",
       "      <td>TL</td>\n",
       "      <td>41</td>\n",
       "      <td>[0, 0, -15, 25, 228, -6, -243, 175, -346, 16, ...</td>\n",
       "    </tr>\n",
       "    <tr>\n",
       "      <td>4</td>\n",
       "      <td>NALCS</td>\n",
       "      <td>Season</td>\n",
       "      <td>CLG</td>\n",
       "      <td>1</td>\n",
       "      <td>0</td>\n",
       "      <td>T8</td>\n",
       "      <td>35</td>\n",
       "      <td>[40, 40, 44, -36, 113, 158, -121, -191, 23, 20...</td>\n",
       "    </tr>\n",
       "    <tr>\n",
       "      <td>...</td>\n",
       "      <td>...</td>\n",
       "      <td>...</td>\n",
       "      <td>...</td>\n",
       "      <td>...</td>\n",
       "      <td>...</td>\n",
       "      <td>...</td>\n",
       "      <td>...</td>\n",
       "      <td>...</td>\n",
       "    </tr>\n",
       "    <tr>\n",
       "      <td>7612</td>\n",
       "      <td>CBLoL</td>\n",
       "      <td>Season</td>\n",
       "      <td>PNG</td>\n",
       "      <td>1</td>\n",
       "      <td>0</td>\n",
       "      <td>KBM</td>\n",
       "      <td>34</td>\n",
       "      <td>[0, 0, 34, -152, -422, -182, -367, -123, 165, ...</td>\n",
       "    </tr>\n",
       "    <tr>\n",
       "      <td>7613</td>\n",
       "      <td>CBLoL</td>\n",
       "      <td>Season</td>\n",
       "      <td>KBM</td>\n",
       "      <td>1</td>\n",
       "      <td>0</td>\n",
       "      <td>PNG</td>\n",
       "      <td>30</td>\n",
       "      <td>[0, 0, 37, 305, 716, 529, 739, 646, 1005, 1084...</td>\n",
       "    </tr>\n",
       "    <tr>\n",
       "      <td>7614</td>\n",
       "      <td>TCL</td>\n",
       "      <td>Season</td>\n",
       "      <td>AUR</td>\n",
       "      <td>0</td>\n",
       "      <td>1</td>\n",
       "      <td>RBE</td>\n",
       "      <td>36</td>\n",
       "      <td>[0, -8, -187, -37, -92, -164, -229, -424, -256...</td>\n",
       "    </tr>\n",
       "    <tr>\n",
       "      <td>7615</td>\n",
       "      <td>TCL</td>\n",
       "      <td>Season</td>\n",
       "      <td>YC</td>\n",
       "      <td>0</td>\n",
       "      <td>1</td>\n",
       "      <td>SUP</td>\n",
       "      <td>34</td>\n",
       "      <td>[0, 0, -18, -95, 45, -87, -117, 199, 126, 92, ...</td>\n",
       "    </tr>\n",
       "    <tr>\n",
       "      <td>7616</td>\n",
       "      <td>TCL</td>\n",
       "      <td>Season</td>\n",
       "      <td>GAL</td>\n",
       "      <td>0</td>\n",
       "      <td>1</td>\n",
       "      <td>DP</td>\n",
       "      <td>39</td>\n",
       "      <td>[0, 0, -86, -39, -207, -349, -60, -140, 187, -...</td>\n",
       "    </tr>\n",
       "  </tbody>\n",
       "</table>\n",
       "<p>4770 rows × 8 columns</p>\n",
       "</div>"
      ],
      "text/plain": [
       "     League    Type blueTeamTag  bResult  rResult redTeamTag  gamelength  \\\n",
       "0     NALCS  Season         TSM        1        0         C9          40   \n",
       "1     NALCS  Season         CST        0        1        DIG          38   \n",
       "2     NALCS  Season         WFX        1        0         GV          40   \n",
       "3     NALCS  Season         TIP        0        1         TL          41   \n",
       "4     NALCS  Season         CLG        1        0         T8          35   \n",
       "...     ...     ...         ...      ...      ...        ...         ...   \n",
       "7612  CBLoL  Season         PNG        1        0        KBM          34   \n",
       "7613  CBLoL  Season         KBM        1        0        PNG          30   \n",
       "7614    TCL  Season         AUR        0        1        RBE          36   \n",
       "7615    TCL  Season          YC        0        1        SUP          34   \n",
       "7616    TCL  Season         GAL        0        1         DP          39   \n",
       "\n",
       "                                               golddiff  \n",
       "0     [0, 0, -14, -65, -268, -431, -488, -789, -494,...  \n",
       "1     [0, 0, -26, -18, 147, 237, -152, 18, 88, -242,...  \n",
       "2     [0, 0, 10, -60, 34, 37, 589, 1064, 1258, 913, ...  \n",
       "3     [0, 0, -15, 25, 228, -6, -243, 175, -346, 16, ...  \n",
       "4     [40, 40, 44, -36, 113, 158, -121, -191, 23, 20...  \n",
       "...                                                 ...  \n",
       "7612  [0, 0, 34, -152, -422, -182, -367, -123, 165, ...  \n",
       "7613  [0, 0, 37, 305, 716, 529, 739, 646, 1005, 1084...  \n",
       "7614  [0, -8, -187, -37, -92, -164, -229, -424, -256...  \n",
       "7615  [0, 0, -18, -95, 45, -87, -117, 199, 126, 92, ...  \n",
       "7616  [0, 0, -86, -39, -207, -349, -60, -140, 187, -...  \n",
       "\n",
       "[4770 rows x 8 columns]"
      ]
     },
     "execution_count": 24,
     "metadata": {},
     "output_type": "execute_result"
    }
   ],
   "source": [
    "s"
   ]
  },
  {
   "cell_type": "code",
   "execution_count": 25,
   "metadata": {},
   "outputs": [
    {
     "data": {
      "text/plain": [
       "array(['NALCS', 'EULCS', 'LCK', 'CBLoL', 'TCL'], dtype=object)"
      ]
     },
     "execution_count": 25,
     "metadata": {},
     "output_type": "execute_result"
    }
   ],
   "source": [
    "s['League'].unique()"
   ]
  },
  {
   "cell_type": "code",
   "execution_count": 26,
   "metadata": {},
   "outputs": [
    {
     "data": {
      "text/plain": [
       "array(['Season', 'Playoffs', 'Regional', 'Promotion'], dtype=object)"
      ]
     },
     "execution_count": 26,
     "metadata": {},
     "output_type": "execute_result"
    }
   ],
   "source": [
    "s['Type'].unique()"
   ]
  },
  {
   "cell_type": "code",
   "execution_count": 27,
   "metadata": {},
   "outputs": [],
   "source": [
    "x= s[(s['Type'] != 'Regional') & (s['Type'] != 'Promotion')]"
   ]
  },
  {
   "cell_type": "code",
   "execution_count": 28,
   "metadata": {},
   "outputs": [
    {
     "data": {
      "text/plain": [
       "array(['Season', 'Playoffs'], dtype=object)"
      ]
     },
     "execution_count": 28,
     "metadata": {},
     "output_type": "execute_result"
    }
   ],
   "source": [
    "x['Type'].unique()"
   ]
  },
  {
   "cell_type": "code",
   "execution_count": 29,
   "metadata": {},
   "outputs": [
    {
     "data": {
      "text/html": [
       "<div>\n",
       "<style scoped>\n",
       "    .dataframe tbody tr th:only-of-type {\n",
       "        vertical-align: middle;\n",
       "    }\n",
       "\n",
       "    .dataframe tbody tr th {\n",
       "        vertical-align: top;\n",
       "    }\n",
       "\n",
       "    .dataframe thead th {\n",
       "        text-align: right;\n",
       "    }\n",
       "</style>\n",
       "<table border=\"1\" class=\"dataframe\">\n",
       "  <thead>\n",
       "    <tr style=\"text-align: right;\">\n",
       "      <th></th>\n",
       "      <th>League</th>\n",
       "      <th>Type</th>\n",
       "      <th>blueTeamTag</th>\n",
       "      <th>bResult</th>\n",
       "      <th>rResult</th>\n",
       "      <th>redTeamTag</th>\n",
       "      <th>gamelength</th>\n",
       "      <th>golddiff</th>\n",
       "    </tr>\n",
       "  </thead>\n",
       "  <tbody>\n",
       "    <tr>\n",
       "      <td>0</td>\n",
       "      <td>NALCS</td>\n",
       "      <td>Season</td>\n",
       "      <td>TSM</td>\n",
       "      <td>1</td>\n",
       "      <td>0</td>\n",
       "      <td>C9</td>\n",
       "      <td>40</td>\n",
       "      <td>[0, 0, -14, -65, -268, -431, -488, -789, -494,...</td>\n",
       "    </tr>\n",
       "    <tr>\n",
       "      <td>1</td>\n",
       "      <td>NALCS</td>\n",
       "      <td>Season</td>\n",
       "      <td>CST</td>\n",
       "      <td>0</td>\n",
       "      <td>1</td>\n",
       "      <td>DIG</td>\n",
       "      <td>38</td>\n",
       "      <td>[0, 0, -26, -18, 147, 237, -152, 18, 88, -242,...</td>\n",
       "    </tr>\n",
       "    <tr>\n",
       "      <td>2</td>\n",
       "      <td>NALCS</td>\n",
       "      <td>Season</td>\n",
       "      <td>WFX</td>\n",
       "      <td>1</td>\n",
       "      <td>0</td>\n",
       "      <td>GV</td>\n",
       "      <td>40</td>\n",
       "      <td>[0, 0, 10, -60, 34, 37, 589, 1064, 1258, 913, ...</td>\n",
       "    </tr>\n",
       "    <tr>\n",
       "      <td>3</td>\n",
       "      <td>NALCS</td>\n",
       "      <td>Season</td>\n",
       "      <td>TIP</td>\n",
       "      <td>0</td>\n",
       "      <td>1</td>\n",
       "      <td>TL</td>\n",
       "      <td>41</td>\n",
       "      <td>[0, 0, -15, 25, 228, -6, -243, 175, -346, 16, ...</td>\n",
       "    </tr>\n",
       "    <tr>\n",
       "      <td>4</td>\n",
       "      <td>NALCS</td>\n",
       "      <td>Season</td>\n",
       "      <td>CLG</td>\n",
       "      <td>1</td>\n",
       "      <td>0</td>\n",
       "      <td>T8</td>\n",
       "      <td>35</td>\n",
       "      <td>[40, 40, 44, -36, 113, 158, -121, -191, 23, 20...</td>\n",
       "    </tr>\n",
       "    <tr>\n",
       "      <td>...</td>\n",
       "      <td>...</td>\n",
       "      <td>...</td>\n",
       "      <td>...</td>\n",
       "      <td>...</td>\n",
       "      <td>...</td>\n",
       "      <td>...</td>\n",
       "      <td>...</td>\n",
       "      <td>...</td>\n",
       "    </tr>\n",
       "    <tr>\n",
       "      <td>7612</td>\n",
       "      <td>CBLoL</td>\n",
       "      <td>Season</td>\n",
       "      <td>PNG</td>\n",
       "      <td>1</td>\n",
       "      <td>0</td>\n",
       "      <td>KBM</td>\n",
       "      <td>34</td>\n",
       "      <td>[0, 0, 34, -152, -422, -182, -367, -123, 165, ...</td>\n",
       "    </tr>\n",
       "    <tr>\n",
       "      <td>7613</td>\n",
       "      <td>CBLoL</td>\n",
       "      <td>Season</td>\n",
       "      <td>KBM</td>\n",
       "      <td>1</td>\n",
       "      <td>0</td>\n",
       "      <td>PNG</td>\n",
       "      <td>30</td>\n",
       "      <td>[0, 0, 37, 305, 716, 529, 739, 646, 1005, 1084...</td>\n",
       "    </tr>\n",
       "    <tr>\n",
       "      <td>7614</td>\n",
       "      <td>TCL</td>\n",
       "      <td>Season</td>\n",
       "      <td>AUR</td>\n",
       "      <td>0</td>\n",
       "      <td>1</td>\n",
       "      <td>RBE</td>\n",
       "      <td>36</td>\n",
       "      <td>[0, -8, -187, -37, -92, -164, -229, -424, -256...</td>\n",
       "    </tr>\n",
       "    <tr>\n",
       "      <td>7615</td>\n",
       "      <td>TCL</td>\n",
       "      <td>Season</td>\n",
       "      <td>YC</td>\n",
       "      <td>0</td>\n",
       "      <td>1</td>\n",
       "      <td>SUP</td>\n",
       "      <td>34</td>\n",
       "      <td>[0, 0, -18, -95, 45, -87, -117, 199, 126, 92, ...</td>\n",
       "    </tr>\n",
       "    <tr>\n",
       "      <td>7616</td>\n",
       "      <td>TCL</td>\n",
       "      <td>Season</td>\n",
       "      <td>GAL</td>\n",
       "      <td>0</td>\n",
       "      <td>1</td>\n",
       "      <td>DP</td>\n",
       "      <td>39</td>\n",
       "      <td>[0, 0, -86, -39, -207, -349, -60, -140, 187, -...</td>\n",
       "    </tr>\n",
       "  </tbody>\n",
       "</table>\n",
       "<p>4315 rows × 8 columns</p>\n",
       "</div>"
      ],
      "text/plain": [
       "     League    Type blueTeamTag  bResult  rResult redTeamTag  gamelength  \\\n",
       "0     NALCS  Season         TSM        1        0         C9          40   \n",
       "1     NALCS  Season         CST        0        1        DIG          38   \n",
       "2     NALCS  Season         WFX        1        0         GV          40   \n",
       "3     NALCS  Season         TIP        0        1         TL          41   \n",
       "4     NALCS  Season         CLG        1        0         T8          35   \n",
       "...     ...     ...         ...      ...      ...        ...         ...   \n",
       "7612  CBLoL  Season         PNG        1        0        KBM          34   \n",
       "7613  CBLoL  Season         KBM        1        0        PNG          30   \n",
       "7614    TCL  Season         AUR        0        1        RBE          36   \n",
       "7615    TCL  Season          YC        0        1        SUP          34   \n",
       "7616    TCL  Season         GAL        0        1         DP          39   \n",
       "\n",
       "                                               golddiff  \n",
       "0     [0, 0, -14, -65, -268, -431, -488, -789, -494,...  \n",
       "1     [0, 0, -26, -18, 147, 237, -152, 18, 88, -242,...  \n",
       "2     [0, 0, 10, -60, 34, 37, 589, 1064, 1258, 913, ...  \n",
       "3     [0, 0, -15, 25, 228, -6, -243, 175, -346, 16, ...  \n",
       "4     [40, 40, 44, -36, 113, 158, -121, -191, 23, 20...  \n",
       "...                                                 ...  \n",
       "7612  [0, 0, 34, -152, -422, -182, -367, -123, 165, ...  \n",
       "7613  [0, 0, 37, 305, 716, 529, 739, 646, 1005, 1084...  \n",
       "7614  [0, -8, -187, -37, -92, -164, -229, -424, -256...  \n",
       "7615  [0, 0, -18, -95, 45, -87, -117, 199, 126, 92, ...  \n",
       "7616  [0, 0, -86, -39, -207, -349, -60, -140, 187, -...  \n",
       "\n",
       "[4315 rows x 8 columns]"
      ]
     },
     "execution_count": 29,
     "metadata": {},
     "output_type": "execute_result"
    }
   ],
   "source": [
    "x"
   ]
  },
  {
   "cell_type": "code",
   "execution_count": 30,
   "metadata": {},
   "outputs": [
    {
     "data": {
      "text/plain": [
       "kt       154\n",
       "SKT      140\n",
       "SSG      131\n",
       "JAG      128\n",
       "CLG      125\n",
       "        ... \n",
       "CG         2\n",
       "VK         2\n",
       "OPT        2\n",
       "SBENU      1\n",
       "RBE        1\n",
       "Name: blueTeamTag, Length: 104, dtype: int64"
      ]
     },
     "execution_count": 30,
     "metadata": {},
     "output_type": "execute_result"
    }
   ],
   "source": [
    "x['blueTeamTag'].value_counts()"
   ]
  },
  {
   "cell_type": "code",
   "execution_count": 31,
   "metadata": {},
   "outputs": [
    {
     "data": {
      "text/plain": [
       "SKT      149\n",
       "kt       139\n",
       "JAG      134\n",
       "TSM      129\n",
       "SSG      125\n",
       "        ... \n",
       "CG         2\n",
       "100        1\n",
       "SBENU      1\n",
       "YC         1\n",
       "GGS        1\n",
       "Name: redTeamTag, Length: 104, dtype: int64"
      ]
     },
     "execution_count": 31,
     "metadata": {},
     "output_type": "execute_result"
    }
   ],
   "source": [
    "x['redTeamTag'].value_counts()"
   ]
  },
  {
   "cell_type": "code",
   "execution_count": 32,
   "metadata": {},
   "outputs": [
    {
     "name": "stderr",
     "output_type": "stream",
     "text": [
      "C:\\ProgramData\\Anaconda3\\lib\\site-packages\\pandas\\core\\indexing.py:205: SettingWithCopyWarning: \n",
      "A value is trying to be set on a copy of a slice from a DataFrame\n",
      "\n",
      "See the caveats in the documentation: http://pandas.pydata.org/pandas-docs/stable/user_guide/indexing.html#returning-a-view-versus-a-copy\n",
      "  self._setitem_with_indexer(indexer, value)\n"
     ]
    }
   ],
   "source": [
    "x.loc['redTeamTag'] = x['redTeamTag'].astype(object)"
   ]
  },
  {
   "cell_type": "code",
   "execution_count": 34,
   "metadata": {},
   "outputs": [
    {
     "ename": "TypeError",
     "evalue": "'numpy.dtype' object is not callable",
     "output_type": "error",
     "traceback": [
      "\u001b[1;31m---------------------------------------------------------------------------\u001b[0m",
      "\u001b[1;31mTypeError\u001b[0m                                 Traceback (most recent call last)",
      "\u001b[1;32m<ipython-input-34-52db7a004db0>\u001b[0m in \u001b[0;36m<module>\u001b[1;34m\u001b[0m\n\u001b[1;32m----> 1\u001b[1;33m \u001b[0mx\u001b[0m\u001b[1;33m[\u001b[0m\u001b[1;34m'redTeamTag'\u001b[0m\u001b[1;33m]\u001b[0m\u001b[1;33m.\u001b[0m\u001b[0mdtype\u001b[0m\u001b[1;33m(\u001b[0m\u001b[1;33m)\u001b[0m\u001b[1;33m\u001b[0m\u001b[1;33m\u001b[0m\u001b[0m\n\u001b[0m",
      "\u001b[1;31mTypeError\u001b[0m: 'numpy.dtype' object is not callable"
     ]
    }
   ],
   "source": [
    "x['redTeamTag'].dtype()"
   ]
  },
  {
   "cell_type": "code",
   "execution_count": null,
   "metadata": {},
   "outputs": [],
   "source": []
  }
 ],
 "metadata": {
  "kernelspec": {
   "display_name": "Python 3",
   "language": "python",
   "name": "python3"
  },
  "language_info": {
   "codemirror_mode": {
    "name": "ipython",
    "version": 3
   },
   "file_extension": ".py",
   "mimetype": "text/x-python",
   "name": "python",
   "nbconvert_exporter": "python",
   "pygments_lexer": "ipython3",
   "version": "3.7.4"
  }
 },
 "nbformat": 4,
 "nbformat_minor": 2
}
